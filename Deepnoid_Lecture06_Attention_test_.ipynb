{
  "nbformat": 4,
  "nbformat_minor": 0,
  "metadata": {
    "colab": {
      "name": "lesson11 실습과제",
      "provenance": [],
      "collapsed_sections": [],
      "include_colab_link": true
    },
    "kernelspec": {
      "display_name": "Python 3",
      "language": "python",
      "name": "python3"
    },
    "language_info": {
      "codemirror_mode": {
        "name": "ipython",
        "version": 3
      },
      "file_extension": ".py",
      "mimetype": "text/x-python",
      "name": "python",
      "nbconvert_exporter": "python",
      "pygments_lexer": "ipython3",
      "version": "3.7.0"
    },
    "accelerator": "GPU"
  },
  "cells": [
    {
      "cell_type": "markdown",
      "metadata": {
        "id": "view-in-github",
        "colab_type": "text"
      },
      "source": [
        "<a href=\"https://colab.research.google.com/github/Pyeonseohee/Deeplearning/blob/main/Deepnoid_Lecture06_Attention_test_.ipynb\" target=\"_parent\"><img src=\"https://colab.research.google.com/assets/colab-badge.svg\" alt=\"Open In Colab\"/></a>"
      ]
    },
    {
      "cell_type": "markdown",
      "metadata": {
        "id": "LcAZ8zomJrSR"
      },
      "source": [
        "# Character-level recurrent sequence-to-sequence model\n",
        "\n",
        "**Author:** [fchollet](https://twitter.com/fchollet)<br>\n",
        "**Date created:** 2017/09/29<br>\n",
        "**Last modified:** 2020/04/26<br>\n",
        "**Description:** Character-level recurrent sequence-to-sequence model."
      ]
    },
    {
      "cell_type": "markdown",
      "metadata": {
        "id": "257N4kwzJrSV"
      },
      "source": [
        "## Introduction\n",
        "\n",
        "This example demonstrates how to implement a basic character-level\n",
        "recurrent sequence-to-sequence model. We apply it to translating\n",
        "short English sentences into short French sentences,\n",
        "character-by-character. Note that it is fairly unusual to\n",
        "do character-level machine translation, as word-level\n",
        "models are more common in this domain.\n",
        "\n",
        "**Summary of the algorithm**\n",
        "\n",
        "- We start with input sequences from a domain (e.g. English sentences)\n",
        "    and corresponding target sequences from another domain\n",
        "    (e.g. French sentences).\n",
        "- An encoder LSTM turns input sequences to 2 state vectors\n",
        "    (we keep the last LSTM state and discard the outputs).\n",
        "- A decoder LSTM is trained to turn the target sequences into\n",
        "    the same sequence but offset by one timestep in the future,\n",
        "    a training process called \"teacher forcing\" in this context.\n",
        "    It uses as initial state the state vectors from the encoder.\n",
        "    Effectively, the decoder learns to generate `targets[t+1...]`\n",
        "    given `targets[...t]`, conditioned on the input sequence.\n",
        "- In inference mode, when we want to decode unknown input sequences, we:\n",
        "    - Encode the input sequence into state vectors\n",
        "    - Start with a target sequence of size 1\n",
        "        (just the start-of-sequence character)\n",
        "    - Feed the state vectors and 1-char target sequence\n",
        "        to the decoder to produce predictions for the next character\n",
        "    - Sample the next character using these predictions\n",
        "        (we simply use argmax).\n",
        "    - Append the sampled character to the target sequence\n",
        "    - Repeat until we generate the end-of-sequence character or we\n",
        "        hit the character limit.\n"
      ]
    },
    {
      "cell_type": "markdown",
      "metadata": {
        "id": "pVLHxPzgJrSW"
      },
      "source": [
        "## Setup\n"
      ]
    },
    {
      "cell_type": "code",
      "metadata": {
        "id": "2_BXrklgJrSW"
      },
      "source": [
        "import numpy as np\n",
        "import tensorflow as tf\n",
        "from tensorflow import keras"
      ],
      "execution_count": 1,
      "outputs": []
    },
    {
      "cell_type": "markdown",
      "metadata": {
        "id": "LANGSJxMJrSW"
      },
      "source": [
        "## Download the data\n"
      ]
    },
    {
      "cell_type": "code",
      "metadata": {
        "id": "1NtL9XafJrSX",
        "colab": {
          "base_uri": "https://localhost:8080/"
        },
        "outputId": "f2278f11-c251-428e-be53-cde79e616612"
      },
      "source": [
        "!!curl -O http://www.manythings.org/anki/fra-eng.zip\n",
        "!!unzip fra-eng.zip\n",
        "\n",
        "# Vectorize the data.\n",
        "data_path = \"fra.txt\"\n",
        "latent_dim = 256  # Latent dimensionality of the encoding space.\n",
        "num_samples = 10000  # Number of samples to train on.\n",
        "\n",
        "input_texts = []\n",
        "target_texts = []\n",
        "input_characters = set()\n",
        "target_characters = set()\n",
        "with open(data_path, \"r\", encoding=\"utf-8\") as f:\n",
        "    lines = f.read().split(\"\\n\")\n",
        "for line in lines[: min(num_samples, len(lines) - 1)]:\n",
        "    input_text, target_text, _ = line.split(\"\\t\")\n",
        "    # We use \"tab\" as the \"start sequence\" character\n",
        "    # for the targets, and \"\\n\" as \"end sequence\" character.\n",
        "    target_text = \"\\t\" + target_text + \"\\n\"\n",
        "    input_texts.append(input_text)\n",
        "    target_texts.append(target_text)\n",
        "    for char in input_text:\n",
        "        if char not in input_characters:\n",
        "            input_characters.add(char)\n",
        "    for char in target_text:\n",
        "        if char not in target_characters:\n",
        "            target_characters.add(char)\n",
        "\n",
        "input_characters = sorted(list(input_characters))\n",
        "target_characters = sorted(list(target_characters))\n",
        "num_encoder_tokens = len(input_characters)\n",
        "num_decoder_tokens = len(target_characters)\n",
        "max_encoder_seq_length = max([len(txt) for txt in input_texts])\n",
        "max_decoder_seq_length = max([len(txt) for txt in target_texts])\n",
        "\n",
        "print(\"Number of samples:\", len(input_texts))\n",
        "print(\"Number of unique input tokens:\", num_encoder_tokens)\n",
        "print(\"Number of unique output tokens:\", num_decoder_tokens)\n",
        "print(\"Max sequence length for inputs:\", max_encoder_seq_length)\n",
        "print(\"Max sequence length for outputs:\", max_decoder_seq_length)\n",
        "\n",
        "input_token_index = dict([(char, i) for i, char in enumerate(input_characters)])\n",
        "target_token_index = dict([(char, i) for i, char in enumerate(target_characters)])\n",
        "\n",
        "encoder_input_data = np.zeros(\n",
        "    (len(input_texts), max_encoder_seq_length, num_encoder_tokens), dtype=\"float32\"\n",
        ")\n",
        "decoder_input_data = np.zeros(\n",
        "    (len(input_texts), max_decoder_seq_length, num_decoder_tokens), dtype=\"float32\"\n",
        ")\n",
        "decoder_target_data = np.zeros(\n",
        "    (len(input_texts), max_decoder_seq_length, num_decoder_tokens), dtype=\"float32\"\n",
        ")\n",
        "\n",
        "for i, (input_text, target_text) in enumerate(zip(input_texts, target_texts)):\n",
        "    for t, char in enumerate(input_text):\n",
        "        encoder_input_data[i, t, input_token_index[char]] = 1.0\n",
        "    encoder_input_data[i, t + 1 :, input_token_index[\" \"]] = 1.0\n",
        "    for t, char in enumerate(target_text):\n",
        "        # decoder_target_data is ahead of decoder_input_data by one timestep\n",
        "        decoder_input_data[i, t, target_token_index[char]] = 1.0\n",
        "        if t > 0:\n",
        "            # decoder_target_data will be ahead by one timestep\n",
        "            # and will not include the start character.\n",
        "            decoder_target_data[i, t - 1, target_token_index[char]] = 1.0\n",
        "    decoder_input_data[i, t + 1 :, target_token_index[\" \"]] = 1.0\n",
        "    decoder_target_data[i, t:, target_token_index[\" \"]] = 1.0\n",
        "\n"
      ],
      "execution_count": 2,
      "outputs": [
        {
          "output_type": "stream",
          "text": [
            "Number of samples: 10000\n",
            "Number of unique input tokens: 71\n",
            "Number of unique output tokens: 93\n",
            "Max sequence length for inputs: 15\n",
            "Max sequence length for outputs: 59\n"
          ],
          "name": "stdout"
        }
      ]
    },
    {
      "cell_type": "markdown",
      "metadata": {
        "id": "WK1Yqbj-JrSY"
      },
      "source": [
        "## Build the model\n"
      ]
    },
    {
      "cell_type": "code",
      "metadata": {
        "id": "WzLggwTmJrSY"
      },
      "source": [
        "# Define an input sequence and process it.\n",
        "encoder_inputs = keras.Input(shape=(None, num_encoder_tokens))\n",
        "encoder = keras.layers.LSTM(latent_dim, return_state = True)\n",
        "encoder_outputs, state_h, state_c = encoder(encoder_inputs)\n",
        "\n",
        "# We discard `encoder_outputs` and only keep the states.\n",
        "encoder_states = [state_h, state_c]\n",
        "\n",
        "# Set up the decoder, using `encoder_states` as initial state.\n",
        "decoder_inputs = keras.Input(shape=(None, num_decoder_tokens))\n",
        "\n",
        "# We set up our decoder to return full output sequences,\n",
        "# and to return internal states as well. We don't use the\n",
        "# return states in the training model, but we will use them in inference.\n",
        "decoder_lstm = keras.layers.LSTM(latent_dim, return_sequences = True, return_state = True)\n",
        "decoder_outputs, _, _ = decoder_lstm(decoder_inputs, initial_state=encoder_states)\n",
        "decoder_dense = keras.layers.Dense(num_decoder_tokens, activation = 'softmax')\n",
        "decoder_outputs = decoder_dense(decoder_outputs)\n",
        "\n",
        "# Define the model that will turn\n",
        "# `encoder_input_data` & `decoder_input_data` into `decoder_target_data`\n",
        "model = keras.Model([encoder_inputs, decoder_inputs], decoder_outputs)"
      ],
      "execution_count": 5,
      "outputs": []
    },
    {
      "cell_type": "markdown",
      "metadata": {
        "id": "1mh_eCp9JrSY"
      },
      "source": [
        "## Train the model\n"
      ]
    },
    {
      "cell_type": "code",
      "metadata": {
        "id": "9BYd4UjwJrSZ",
        "colab": {
          "base_uri": "https://localhost:8080/"
        },
        "outputId": "4ccaeb9c-9236-4724-da38-9a223db7ef38"
      },
      "source": [
        "batch_size = 64  # Batch size for training.\n",
        "epochs = 100  # Number of epochs to train for.\n",
        "\n",
        "model.compile(\n",
        "    optimizer=\"rmsprop\", loss=\"categorical_crossentropy\", metrics=[\"accuracy\"]\n",
        ")\n",
        "model.fit(\n",
        "    [encoder_input_data, decoder_input_data],\n",
        "    decoder_target_data,\n",
        "    batch_size=batch_size,\n",
        "    epochs=epochs,\n",
        "    validation_split=0.2,\n",
        ")\n",
        "# Save model\n",
        "model.save(\"s2s\")\n"
      ],
      "execution_count": 6,
      "outputs": [
        {
          "output_type": "stream",
          "text": [
            "Epoch 1/100\n",
            "125/125 [==============================] - 11s 19ms/step - loss: 1.5000 - accuracy: 0.7049 - val_loss: 1.0308 - val_accuracy: 0.7143\n",
            "Epoch 2/100\n",
            "125/125 [==============================] - 1s 12ms/step - loss: 0.8719 - accuracy: 0.7652 - val_loss: 0.8421 - val_accuracy: 0.7632\n",
            "Epoch 3/100\n",
            "125/125 [==============================] - 1s 12ms/step - loss: 0.6993 - accuracy: 0.8100 - val_loss: 0.6988 - val_accuracy: 0.7955\n",
            "Epoch 4/100\n",
            "125/125 [==============================] - 1s 12ms/step - loss: 0.5834 - accuracy: 0.8315 - val_loss: 0.6256 - val_accuracy: 0.8172\n",
            "Epoch 5/100\n",
            "125/125 [==============================] - 1s 12ms/step - loss: 0.5282 - accuracy: 0.8456 - val_loss: 0.6094 - val_accuracy: 0.8212\n",
            "Epoch 6/100\n",
            "125/125 [==============================] - 1s 12ms/step - loss: 0.4917 - accuracy: 0.8555 - val_loss: 0.5611 - val_accuracy: 0.8367\n",
            "Epoch 7/100\n",
            "125/125 [==============================] - 1s 12ms/step - loss: 0.4620 - accuracy: 0.8635 - val_loss: 0.5366 - val_accuracy: 0.8431\n",
            "Epoch 8/100\n",
            "125/125 [==============================] - 1s 12ms/step - loss: 0.4380 - accuracy: 0.8695 - val_loss: 0.5202 - val_accuracy: 0.8480\n",
            "Epoch 9/100\n",
            "125/125 [==============================] - 1s 12ms/step - loss: 0.4203 - accuracy: 0.8752 - val_loss: 0.5075 - val_accuracy: 0.8496\n",
            "Epoch 10/100\n",
            "125/125 [==============================] - 1s 12ms/step - loss: 0.4027 - accuracy: 0.8796 - val_loss: 0.4946 - val_accuracy: 0.8558\n",
            "Epoch 11/100\n",
            "125/125 [==============================] - 2s 12ms/step - loss: 0.3823 - accuracy: 0.8853 - val_loss: 0.4824 - val_accuracy: 0.8593\n",
            "Epoch 12/100\n",
            "125/125 [==============================] - 1s 12ms/step - loss: 0.3677 - accuracy: 0.8896 - val_loss: 0.4807 - val_accuracy: 0.8585\n",
            "Epoch 13/100\n",
            "125/125 [==============================] - 1s 12ms/step - loss: 0.3538 - accuracy: 0.8939 - val_loss: 0.4757 - val_accuracy: 0.8607\n",
            "Epoch 14/100\n",
            "125/125 [==============================] - 1s 12ms/step - loss: 0.3391 - accuracy: 0.8974 - val_loss: 0.4679 - val_accuracy: 0.8629\n",
            "Epoch 15/100\n",
            "125/125 [==============================] - 2s 12ms/step - loss: 0.3230 - accuracy: 0.9027 - val_loss: 0.4619 - val_accuracy: 0.8653\n",
            "Epoch 16/100\n",
            "125/125 [==============================] - 2s 12ms/step - loss: 0.3144 - accuracy: 0.9049 - val_loss: 0.4566 - val_accuracy: 0.8676\n",
            "Epoch 17/100\n",
            "125/125 [==============================] - 1s 12ms/step - loss: 0.3017 - accuracy: 0.9087 - val_loss: 0.4512 - val_accuracy: 0.8699\n",
            "Epoch 18/100\n",
            "125/125 [==============================] - 2s 12ms/step - loss: 0.2917 - accuracy: 0.9119 - val_loss: 0.4536 - val_accuracy: 0.8688\n",
            "Epoch 19/100\n",
            "125/125 [==============================] - 1s 12ms/step - loss: 0.2797 - accuracy: 0.9152 - val_loss: 0.4472 - val_accuracy: 0.8721\n",
            "Epoch 20/100\n",
            "125/125 [==============================] - 2s 12ms/step - loss: 0.2706 - accuracy: 0.9185 - val_loss: 0.4545 - val_accuracy: 0.8707\n",
            "Epoch 21/100\n",
            "125/125 [==============================] - 2s 13ms/step - loss: 0.2593 - accuracy: 0.9215 - val_loss: 0.4545 - val_accuracy: 0.8710\n",
            "Epoch 22/100\n",
            "125/125 [==============================] - 2s 12ms/step - loss: 0.2492 - accuracy: 0.9245 - val_loss: 0.4522 - val_accuracy: 0.8720\n",
            "Epoch 23/100\n",
            "125/125 [==============================] - 2s 12ms/step - loss: 0.2393 - accuracy: 0.9279 - val_loss: 0.4531 - val_accuracy: 0.8729\n",
            "Epoch 24/100\n",
            "125/125 [==============================] - 2s 12ms/step - loss: 0.2351 - accuracy: 0.9289 - val_loss: 0.4545 - val_accuracy: 0.8738\n",
            "Epoch 25/100\n",
            "125/125 [==============================] - 2s 12ms/step - loss: 0.2248 - accuracy: 0.9318 - val_loss: 0.4601 - val_accuracy: 0.8731\n",
            "Epoch 26/100\n",
            "125/125 [==============================] - 2s 13ms/step - loss: 0.2163 - accuracy: 0.9342 - val_loss: 0.4581 - val_accuracy: 0.8747\n",
            "Epoch 27/100\n",
            "125/125 [==============================] - 2s 12ms/step - loss: 0.2089 - accuracy: 0.9363 - val_loss: 0.4621 - val_accuracy: 0.8741\n",
            "Epoch 28/100\n",
            "125/125 [==============================] - 2s 12ms/step - loss: 0.2012 - accuracy: 0.9385 - val_loss: 0.4637 - val_accuracy: 0.8747\n",
            "Epoch 29/100\n",
            "125/125 [==============================] - 2s 12ms/step - loss: 0.1970 - accuracy: 0.9405 - val_loss: 0.4678 - val_accuracy: 0.8746\n",
            "Epoch 30/100\n",
            "125/125 [==============================] - 2s 12ms/step - loss: 0.1883 - accuracy: 0.9427 - val_loss: 0.4716 - val_accuracy: 0.8735\n",
            "Epoch 31/100\n",
            "125/125 [==============================] - 1s 12ms/step - loss: 0.1851 - accuracy: 0.9434 - val_loss: 0.4782 - val_accuracy: 0.8734\n",
            "Epoch 32/100\n",
            "125/125 [==============================] - 2s 12ms/step - loss: 0.1770 - accuracy: 0.9463 - val_loss: 0.4795 - val_accuracy: 0.8738\n",
            "Epoch 33/100\n",
            "125/125 [==============================] - 2s 12ms/step - loss: 0.1711 - accuracy: 0.9477 - val_loss: 0.4881 - val_accuracy: 0.8730\n",
            "Epoch 34/100\n",
            "125/125 [==============================] - 2s 12ms/step - loss: 0.1653 - accuracy: 0.9494 - val_loss: 0.4902 - val_accuracy: 0.8745\n",
            "Epoch 35/100\n",
            "125/125 [==============================] - 2s 12ms/step - loss: 0.1608 - accuracy: 0.9509 - val_loss: 0.4942 - val_accuracy: 0.8738\n",
            "Epoch 36/100\n",
            "125/125 [==============================] - 2s 12ms/step - loss: 0.1554 - accuracy: 0.9526 - val_loss: 0.5006 - val_accuracy: 0.8737\n",
            "Epoch 37/100\n",
            "125/125 [==============================] - 2s 12ms/step - loss: 0.1524 - accuracy: 0.9531 - val_loss: 0.5020 - val_accuracy: 0.8746\n",
            "Epoch 38/100\n",
            "125/125 [==============================] - 2s 12ms/step - loss: 0.1478 - accuracy: 0.9549 - val_loss: 0.5112 - val_accuracy: 0.8726\n",
            "Epoch 39/100\n",
            "125/125 [==============================] - 2s 12ms/step - loss: 0.1431 - accuracy: 0.9563 - val_loss: 0.5119 - val_accuracy: 0.8738\n",
            "Epoch 40/100\n",
            "125/125 [==============================] - 2s 12ms/step - loss: 0.1385 - accuracy: 0.9577 - val_loss: 0.5163 - val_accuracy: 0.8732\n",
            "Epoch 41/100\n",
            "125/125 [==============================] - 2s 12ms/step - loss: 0.1334 - accuracy: 0.9592 - val_loss: 0.5242 - val_accuracy: 0.8730\n",
            "Epoch 42/100\n",
            "125/125 [==============================] - 2s 12ms/step - loss: 0.1291 - accuracy: 0.9606 - val_loss: 0.5246 - val_accuracy: 0.8734\n",
            "Epoch 43/100\n",
            "125/125 [==============================] - 2s 12ms/step - loss: 0.1260 - accuracy: 0.9613 - val_loss: 0.5325 - val_accuracy: 0.8730\n",
            "Epoch 44/100\n",
            "125/125 [==============================] - 2s 12ms/step - loss: 0.1238 - accuracy: 0.9622 - val_loss: 0.5378 - val_accuracy: 0.8733\n",
            "Epoch 45/100\n",
            "125/125 [==============================] - 1s 12ms/step - loss: 0.1192 - accuracy: 0.9635 - val_loss: 0.5495 - val_accuracy: 0.8724\n",
            "Epoch 46/100\n",
            "125/125 [==============================] - 2s 12ms/step - loss: 0.1175 - accuracy: 0.9638 - val_loss: 0.5457 - val_accuracy: 0.8734\n",
            "Epoch 47/100\n",
            "125/125 [==============================] - 2s 12ms/step - loss: 0.1137 - accuracy: 0.9650 - val_loss: 0.5530 - val_accuracy: 0.8734\n",
            "Epoch 48/100\n",
            "125/125 [==============================] - 2s 13ms/step - loss: 0.1098 - accuracy: 0.9663 - val_loss: 0.5533 - val_accuracy: 0.8735\n",
            "Epoch 49/100\n",
            "125/125 [==============================] - 2s 12ms/step - loss: 0.1071 - accuracy: 0.9668 - val_loss: 0.5675 - val_accuracy: 0.8722\n",
            "Epoch 50/100\n",
            "125/125 [==============================] - 2s 12ms/step - loss: 0.1041 - accuracy: 0.9683 - val_loss: 0.5663 - val_accuracy: 0.8726\n",
            "Epoch 51/100\n",
            "125/125 [==============================] - 2s 12ms/step - loss: 0.1010 - accuracy: 0.9690 - val_loss: 0.5746 - val_accuracy: 0.8724\n",
            "Epoch 52/100\n",
            "125/125 [==============================] - 2s 12ms/step - loss: 0.0991 - accuracy: 0.9696 - val_loss: 0.5779 - val_accuracy: 0.8730\n",
            "Epoch 53/100\n",
            "125/125 [==============================] - 2s 12ms/step - loss: 0.0958 - accuracy: 0.9699 - val_loss: 0.5849 - val_accuracy: 0.8720\n",
            "Epoch 54/100\n",
            "125/125 [==============================] - 2s 12ms/step - loss: 0.0941 - accuracy: 0.9709 - val_loss: 0.5821 - val_accuracy: 0.8724\n",
            "Epoch 55/100\n",
            "125/125 [==============================] - 2s 12ms/step - loss: 0.0915 - accuracy: 0.9714 - val_loss: 0.6001 - val_accuracy: 0.8714\n",
            "Epoch 56/100\n",
            "125/125 [==============================] - 2s 12ms/step - loss: 0.0906 - accuracy: 0.9719 - val_loss: 0.6004 - val_accuracy: 0.8718\n",
            "Epoch 57/100\n",
            "125/125 [==============================] - 2s 12ms/step - loss: 0.0864 - accuracy: 0.9728 - val_loss: 0.6028 - val_accuracy: 0.8719\n",
            "Epoch 58/100\n",
            "125/125 [==============================] - 2s 12ms/step - loss: 0.0855 - accuracy: 0.9733 - val_loss: 0.6043 - val_accuracy: 0.8730\n",
            "Epoch 59/100\n",
            "125/125 [==============================] - 2s 12ms/step - loss: 0.0830 - accuracy: 0.9736 - val_loss: 0.6105 - val_accuracy: 0.8711\n",
            "Epoch 60/100\n",
            "125/125 [==============================] - 2s 13ms/step - loss: 0.0810 - accuracy: 0.9745 - val_loss: 0.6179 - val_accuracy: 0.8722\n",
            "Epoch 61/100\n",
            "125/125 [==============================] - 2s 12ms/step - loss: 0.0792 - accuracy: 0.9751 - val_loss: 0.6235 - val_accuracy: 0.8711\n",
            "Epoch 62/100\n",
            "125/125 [==============================] - 2s 13ms/step - loss: 0.0777 - accuracy: 0.9752 - val_loss: 0.6288 - val_accuracy: 0.8711\n",
            "Epoch 63/100\n",
            "125/125 [==============================] - 2s 12ms/step - loss: 0.0758 - accuracy: 0.9760 - val_loss: 0.6285 - val_accuracy: 0.8714\n",
            "Epoch 64/100\n",
            "125/125 [==============================] - 2s 12ms/step - loss: 0.0743 - accuracy: 0.9761 - val_loss: 0.6366 - val_accuracy: 0.8708\n",
            "Epoch 65/100\n",
            "125/125 [==============================] - 2s 12ms/step - loss: 0.0727 - accuracy: 0.9769 - val_loss: 0.6417 - val_accuracy: 0.8715\n",
            "Epoch 66/100\n",
            "125/125 [==============================] - 2s 12ms/step - loss: 0.0718 - accuracy: 0.9771 - val_loss: 0.6417 - val_accuracy: 0.8727\n",
            "Epoch 67/100\n",
            "125/125 [==============================] - 2s 13ms/step - loss: 0.0694 - accuracy: 0.9777 - val_loss: 0.6465 - val_accuracy: 0.8721\n",
            "Epoch 68/100\n",
            "125/125 [==============================] - 2s 12ms/step - loss: 0.0685 - accuracy: 0.9782 - val_loss: 0.6498 - val_accuracy: 0.8718\n",
            "Epoch 69/100\n",
            "125/125 [==============================] - 2s 12ms/step - loss: 0.0673 - accuracy: 0.9782 - val_loss: 0.6633 - val_accuracy: 0.8709\n",
            "Epoch 70/100\n",
            "125/125 [==============================] - 2s 12ms/step - loss: 0.0652 - accuracy: 0.9786 - val_loss: 0.6633 - val_accuracy: 0.8712\n",
            "Epoch 71/100\n",
            "125/125 [==============================] - 2s 12ms/step - loss: 0.0629 - accuracy: 0.9798 - val_loss: 0.6732 - val_accuracy: 0.8708\n",
            "Epoch 72/100\n",
            "125/125 [==============================] - 2s 13ms/step - loss: 0.0631 - accuracy: 0.9793 - val_loss: 0.6773 - val_accuracy: 0.8706\n",
            "Epoch 73/100\n",
            "125/125 [==============================] - 2s 13ms/step - loss: 0.0618 - accuracy: 0.9798 - val_loss: 0.6781 - val_accuracy: 0.8709\n",
            "Epoch 74/100\n",
            "125/125 [==============================] - 2s 13ms/step - loss: 0.0604 - accuracy: 0.9800 - val_loss: 0.6873 - val_accuracy: 0.8702\n",
            "Epoch 75/100\n",
            "125/125 [==============================] - 2s 12ms/step - loss: 0.0592 - accuracy: 0.9806 - val_loss: 0.6821 - val_accuracy: 0.8730\n",
            "Epoch 76/100\n",
            "125/125 [==============================] - 2s 12ms/step - loss: 0.0577 - accuracy: 0.9810 - val_loss: 0.6882 - val_accuracy: 0.8704\n",
            "Epoch 77/100\n",
            "125/125 [==============================] - 2s 12ms/step - loss: 0.0568 - accuracy: 0.9809 - val_loss: 0.6879 - val_accuracy: 0.8714\n",
            "Epoch 78/100\n",
            "125/125 [==============================] - 2s 13ms/step - loss: 0.0560 - accuracy: 0.9815 - val_loss: 0.6973 - val_accuracy: 0.8706\n",
            "Epoch 79/100\n",
            "125/125 [==============================] - 2s 12ms/step - loss: 0.0551 - accuracy: 0.9819 - val_loss: 0.6998 - val_accuracy: 0.8707\n",
            "Epoch 80/100\n",
            "125/125 [==============================] - 2s 13ms/step - loss: 0.0544 - accuracy: 0.9817 - val_loss: 0.7106 - val_accuracy: 0.8712\n",
            "Epoch 81/100\n",
            "125/125 [==============================] - 2s 12ms/step - loss: 0.0532 - accuracy: 0.9822 - val_loss: 0.7107 - val_accuracy: 0.8710\n",
            "Epoch 82/100\n",
            "125/125 [==============================] - 2s 13ms/step - loss: 0.0524 - accuracy: 0.9823 - val_loss: 0.7113 - val_accuracy: 0.8710\n",
            "Epoch 83/100\n",
            "125/125 [==============================] - 2s 13ms/step - loss: 0.0516 - accuracy: 0.9827 - val_loss: 0.7112 - val_accuracy: 0.8708\n",
            "Epoch 84/100\n",
            "125/125 [==============================] - 2s 12ms/step - loss: 0.0509 - accuracy: 0.9828 - val_loss: 0.7135 - val_accuracy: 0.8705\n",
            "Epoch 85/100\n",
            "125/125 [==============================] - 2s 13ms/step - loss: 0.0492 - accuracy: 0.9835 - val_loss: 0.7293 - val_accuracy: 0.8693\n",
            "Epoch 86/100\n",
            "125/125 [==============================] - 2s 13ms/step - loss: 0.0491 - accuracy: 0.9832 - val_loss: 0.7346 - val_accuracy: 0.8703\n",
            "Epoch 87/100\n",
            "125/125 [==============================] - 2s 12ms/step - loss: 0.0486 - accuracy: 0.9834 - val_loss: 0.7347 - val_accuracy: 0.8698\n",
            "Epoch 88/100\n",
            "125/125 [==============================] - 2s 13ms/step - loss: 0.0473 - accuracy: 0.9840 - val_loss: 0.7354 - val_accuracy: 0.8695\n",
            "Epoch 89/100\n",
            "125/125 [==============================] - 2s 12ms/step - loss: 0.0469 - accuracy: 0.9838 - val_loss: 0.7350 - val_accuracy: 0.8701\n",
            "Epoch 90/100\n",
            "125/125 [==============================] - 2s 12ms/step - loss: 0.0459 - accuracy: 0.9844 - val_loss: 0.7348 - val_accuracy: 0.8709\n",
            "Epoch 91/100\n",
            "125/125 [==============================] - 2s 13ms/step - loss: 0.0457 - accuracy: 0.9843 - val_loss: 0.7463 - val_accuracy: 0.8698\n",
            "Epoch 92/100\n",
            "125/125 [==============================] - 2s 12ms/step - loss: 0.0451 - accuracy: 0.9844 - val_loss: 0.7434 - val_accuracy: 0.8697\n",
            "Epoch 93/100\n",
            "125/125 [==============================] - 2s 12ms/step - loss: 0.0439 - accuracy: 0.9849 - val_loss: 0.7449 - val_accuracy: 0.8706\n",
            "Epoch 94/100\n",
            "125/125 [==============================] - 2s 12ms/step - loss: 0.0433 - accuracy: 0.9851 - val_loss: 0.7610 - val_accuracy: 0.8688\n",
            "Epoch 95/100\n",
            "125/125 [==============================] - 2s 13ms/step - loss: 0.0436 - accuracy: 0.9851 - val_loss: 0.7574 - val_accuracy: 0.8694\n",
            "Epoch 96/100\n",
            "125/125 [==============================] - 2s 13ms/step - loss: 0.0425 - accuracy: 0.9851 - val_loss: 0.7628 - val_accuracy: 0.8698\n",
            "Epoch 97/100\n",
            "125/125 [==============================] - 2s 12ms/step - loss: 0.0421 - accuracy: 0.9851 - val_loss: 0.7672 - val_accuracy: 0.8696\n",
            "Epoch 98/100\n",
            "125/125 [==============================] - 2s 12ms/step - loss: 0.0415 - accuracy: 0.9856 - val_loss: 0.7727 - val_accuracy: 0.8690\n",
            "Epoch 99/100\n",
            "125/125 [==============================] - 2s 12ms/step - loss: 0.0409 - accuracy: 0.9856 - val_loss: 0.7742 - val_accuracy: 0.8695\n",
            "Epoch 100/100\n",
            "125/125 [==============================] - 2s 12ms/step - loss: 0.0409 - accuracy: 0.9857 - val_loss: 0.7670 - val_accuracy: 0.8708\n"
          ],
          "name": "stdout"
        },
        {
          "output_type": "stream",
          "text": [
            "WARNING:absl:Found untraced functions such as lstm_cell_2_layer_call_fn, lstm_cell_2_layer_call_and_return_conditional_losses, lstm_cell_3_layer_call_fn, lstm_cell_3_layer_call_and_return_conditional_losses, lstm_cell_2_layer_call_fn while saving (showing 5 of 10). These functions will not be directly callable after loading.\n",
            "WARNING:absl:Found untraced functions such as lstm_cell_2_layer_call_fn, lstm_cell_2_layer_call_and_return_conditional_losses, lstm_cell_3_layer_call_fn, lstm_cell_3_layer_call_and_return_conditional_losses, lstm_cell_2_layer_call_fn while saving (showing 5 of 10). These functions will not be directly callable after loading.\n"
          ],
          "name": "stderr"
        },
        {
          "output_type": "stream",
          "text": [
            "INFO:tensorflow:Assets written to: s2s/assets\n"
          ],
          "name": "stdout"
        },
        {
          "output_type": "stream",
          "text": [
            "INFO:tensorflow:Assets written to: s2s/assets\n"
          ],
          "name": "stderr"
        }
      ]
    },
    {
      "cell_type": "markdown",
      "metadata": {
        "id": "mEJ1zSwsJrSZ"
      },
      "source": [
        "## Run inference (sampling)\n",
        "\n",
        "1. encode input and retrieve initial decoder state\n",
        "2. run one step of decoder with this initial state\n",
        "and a \"start of sequence\" token as target.\n",
        "Output will be the next target token.\n",
        "3. Repeat with the current target token and current states\n"
      ]
    },
    {
      "cell_type": "code",
      "metadata": {
        "id": "Km3xHupPJrSZ",
        "outputId": "70cc0a6a-54e8-45b9-9367-707fddd97d7f",
        "colab": {
          "base_uri": "https://localhost:8080/",
          "height": 438
        }
      },
      "source": [
        "# Define sampling models\n",
        "# Restore the model and construct the encoder and decoder.\n",
        "model = keras.models.load_model(\"s2s\")\n",
        "\n",
        "encoder_inputs = model.input[0]  # input_1\n",
        "encoder_outputs, state_h_enc, state_c_enc = model.layers[2].output  # lstm_1\n",
        "encoder_states = [state_h_enc, state_c_enc]\n",
        "encoder_model = keras.Model(encoder_inputs, encoder_states)\n",
        "\n",
        "decoder_inputs = model.input[1]  # input_2\n",
        "decoder_state_input_h = keras.Input(shape=(latent_dim,), name=\"input_3\")\n",
        "decoder_state_input_c = keras.Input(shape=(latent_dim,), name=\"input_4\")\n",
        "decoder_states_inputs = [decoder_state_input_h, decoder_state_input_c]\n",
        "decoder_lstm = model.layers[3]\n",
        "decoder_outputs, state_h_dec, state_c_dec = decoder_lstm(\n",
        "    decoder_inputs, initial_state=decoder_states_inputs\n",
        ")\n",
        "decoder_states = [state_h_dec, state_c_dec]\n",
        "decoder_dense = model.layers[4]\n",
        "decoder_outputs = decoder_dense(decoder_outputs)\n",
        "decoder_model = keras.Model(\n",
        "    [decoder_inputs] + decoder_states_inputs, [decoder_outputs] + decoder_states\n",
        ")\n",
        "\n",
        "# Reverse-lookup token index to decode sequences back to\n",
        "# something readable.\n",
        "reverse_input_char_index = dict((i, char) for char, i in input_token_index.items())\n",
        "reverse_target_char_index = dict((i, char) for char, i in target_token_index.items())\n",
        "\n",
        "\n",
        "def decode_sequence(input_seq):\n",
        "    # Encode the input as state vectors.\n",
        "    states_value = encoder_model.predict(input_seq)\n",
        "\n",
        "    # Generate empty target sequence of length 1.\n",
        "    target_seq = np.zeros((1, 1, num_decoder_tokens))\n",
        "    # Populate the first character of target sequence with the start character.\n",
        "    target_seq[0, 0, target_token_index[\"\\t\"]] = 1.0\n",
        "\n",
        "    # Sampling loop for a batch of sequences\n",
        "    # (to simplify, here we assume a batch of size 1).\n",
        "    stop_condition = False\n",
        "    decoded_sentence = \"\"\n",
        "    while not stop_condition:\n",
        "        output_tokens, h, c = decoder_model.predict([target_seq] + states_value)\n",
        "\n",
        "        # Sample a token\n",
        "        sampled_token_index = np.argmax(output_tokens[0, -1, :])\n",
        "        sampled_char = reverse_target_char_index[sampled_token_index]\n",
        "        decoded_sentence += sampled_char\n",
        "\n",
        "        # Exit condition: either hit max length\n",
        "        # or find stop character.\n",
        "        if sampled_char == \"\\n\" or len(decoded_sentence) > max_decoder_seq_length:\n",
        "            stop_condition = True\n",
        "\n",
        "        # Update the target sequence (of length 1).\n",
        "        target_seq = np.zeros((1, 1, num_decoder_tokens))\n",
        "        target_seq[0, 0, sampled_token_index] = 1.0\n",
        "\n",
        "        # Update states\n",
        "        states_value = [h, c]\n",
        "    return decoded_sentence\n",
        "\n",
        "for seq_index in range(20):\n",
        "    # Take one sequence (part of the training set)\n",
        "    # for trying out decoding.\n",
        "    input_seq = encoder_input_data[seq_index : seq_index + 1]\n",
        "    decoded_sentence = decode_sequence(input_seq)\n",
        "    print(\"-\")\n",
        "    print(\"Input sentence:\", input_texts[seq_index])\n",
        "    print(\"Decoded sentence:\", decoded_sentence)"
      ],
      "execution_count": 7,
      "outputs": [
        {
          "output_type": "error",
          "ename": "ValueError",
          "evalue": "ignored",
          "traceback": [
            "\u001b[0;31m---------------------------------------------------------------------------\u001b[0m",
            "\u001b[0;31mValueError\u001b[0m                                Traceback (most recent call last)",
            "\u001b[0;32m<ipython-input-7-4e6f287e2b29>\u001b[0m in \u001b[0;36m<module>\u001b[0;34m()\u001b[0m\n\u001b[1;32m     20\u001b[0m \u001b[0mdecoder_outputs\u001b[0m \u001b[0;34m=\u001b[0m \u001b[0mdecoder_dense\u001b[0m\u001b[0;34m(\u001b[0m\u001b[0mdecoder_outputs\u001b[0m\u001b[0;34m)\u001b[0m\u001b[0;34m\u001b[0m\u001b[0;34m\u001b[0m\u001b[0m\n\u001b[1;32m     21\u001b[0m decoder_model = keras.Model(\n\u001b[0;32m---> 22\u001b[0;31m     \u001b[0;34m[\u001b[0m\u001b[0mdecoder_inputs\u001b[0m\u001b[0;34m]\u001b[0m \u001b[0;34m+\u001b[0m \u001b[0mdecoder_states_inputs\u001b[0m\u001b[0;34m,\u001b[0m \u001b[0;34m[\u001b[0m\u001b[0mdecoder_outputs\u001b[0m\u001b[0;34m]\u001b[0m \u001b[0;34m+\u001b[0m \u001b[0mdecoder_states\u001b[0m\u001b[0;34m\u001b[0m\u001b[0;34m\u001b[0m\u001b[0m\n\u001b[0m\u001b[1;32m     23\u001b[0m )\n\u001b[1;32m     24\u001b[0m \u001b[0;34m\u001b[0m\u001b[0m\n",
            "\u001b[0;32m/usr/local/lib/python3.6/dist-packages/tensorflow/python/training/tracking/base.py\u001b[0m in \u001b[0;36m_method_wrapper\u001b[0;34m(self, *args, **kwargs)\u001b[0m\n\u001b[1;32m    515\u001b[0m     \u001b[0mself\u001b[0m\u001b[0;34m.\u001b[0m\u001b[0m_self_setattr_tracking\u001b[0m \u001b[0;34m=\u001b[0m \u001b[0;32mFalse\u001b[0m  \u001b[0;31m# pylint: disable=protected-access\u001b[0m\u001b[0;34m\u001b[0m\u001b[0;34m\u001b[0m\u001b[0m\n\u001b[1;32m    516\u001b[0m     \u001b[0;32mtry\u001b[0m\u001b[0;34m:\u001b[0m\u001b[0;34m\u001b[0m\u001b[0;34m\u001b[0m\u001b[0m\n\u001b[0;32m--> 517\u001b[0;31m       \u001b[0mresult\u001b[0m \u001b[0;34m=\u001b[0m \u001b[0mmethod\u001b[0m\u001b[0;34m(\u001b[0m\u001b[0mself\u001b[0m\u001b[0;34m,\u001b[0m \u001b[0;34m*\u001b[0m\u001b[0margs\u001b[0m\u001b[0;34m,\u001b[0m \u001b[0;34m**\u001b[0m\u001b[0mkwargs\u001b[0m\u001b[0;34m)\u001b[0m\u001b[0;34m\u001b[0m\u001b[0;34m\u001b[0m\u001b[0m\n\u001b[0m\u001b[1;32m    518\u001b[0m     \u001b[0;32mfinally\u001b[0m\u001b[0;34m:\u001b[0m\u001b[0;34m\u001b[0m\u001b[0;34m\u001b[0m\u001b[0m\n\u001b[1;32m    519\u001b[0m       \u001b[0mself\u001b[0m\u001b[0;34m.\u001b[0m\u001b[0m_self_setattr_tracking\u001b[0m \u001b[0;34m=\u001b[0m \u001b[0mprevious_value\u001b[0m  \u001b[0;31m# pylint: disable=protected-access\u001b[0m\u001b[0;34m\u001b[0m\u001b[0;34m\u001b[0m\u001b[0m\n",
            "\u001b[0;32m/usr/local/lib/python3.6/dist-packages/tensorflow/python/keras/engine/functional.py\u001b[0m in \u001b[0;36m__init__\u001b[0;34m(self, inputs, outputs, name, trainable, **kwargs)\u001b[0m\n\u001b[1;32m    118\u001b[0m     \u001b[0mgeneric_utils\u001b[0m\u001b[0;34m.\u001b[0m\u001b[0mvalidate_kwargs\u001b[0m\u001b[0;34m(\u001b[0m\u001b[0mkwargs\u001b[0m\u001b[0;34m,\u001b[0m \u001b[0;34m{\u001b[0m\u001b[0;34m}\u001b[0m\u001b[0;34m)\u001b[0m\u001b[0;34m\u001b[0m\u001b[0;34m\u001b[0m\u001b[0m\n\u001b[1;32m    119\u001b[0m     \u001b[0msuper\u001b[0m\u001b[0;34m(\u001b[0m\u001b[0mFunctional\u001b[0m\u001b[0;34m,\u001b[0m \u001b[0mself\u001b[0m\u001b[0;34m)\u001b[0m\u001b[0;34m.\u001b[0m\u001b[0m__init__\u001b[0m\u001b[0;34m(\u001b[0m\u001b[0mname\u001b[0m\u001b[0;34m=\u001b[0m\u001b[0mname\u001b[0m\u001b[0;34m,\u001b[0m \u001b[0mtrainable\u001b[0m\u001b[0;34m=\u001b[0m\u001b[0mtrainable\u001b[0m\u001b[0;34m)\u001b[0m\u001b[0;34m\u001b[0m\u001b[0;34m\u001b[0m\u001b[0m\n\u001b[0;32m--> 120\u001b[0;31m     \u001b[0mself\u001b[0m\u001b[0;34m.\u001b[0m\u001b[0m_init_graph_network\u001b[0m\u001b[0;34m(\u001b[0m\u001b[0minputs\u001b[0m\u001b[0;34m,\u001b[0m \u001b[0moutputs\u001b[0m\u001b[0;34m)\u001b[0m\u001b[0;34m\u001b[0m\u001b[0;34m\u001b[0m\u001b[0m\n\u001b[0m\u001b[1;32m    121\u001b[0m \u001b[0;34m\u001b[0m\u001b[0m\n\u001b[1;32m    122\u001b[0m   \u001b[0;34m@\u001b[0m\u001b[0mtrackable\u001b[0m\u001b[0;34m.\u001b[0m\u001b[0mno_automatic_dependency_tracking\u001b[0m\u001b[0;34m\u001b[0m\u001b[0;34m\u001b[0m\u001b[0m\n",
            "\u001b[0;32m/usr/local/lib/python3.6/dist-packages/tensorflow/python/training/tracking/base.py\u001b[0m in \u001b[0;36m_method_wrapper\u001b[0;34m(self, *args, **kwargs)\u001b[0m\n\u001b[1;32m    515\u001b[0m     \u001b[0mself\u001b[0m\u001b[0;34m.\u001b[0m\u001b[0m_self_setattr_tracking\u001b[0m \u001b[0;34m=\u001b[0m \u001b[0;32mFalse\u001b[0m  \u001b[0;31m# pylint: disable=protected-access\u001b[0m\u001b[0;34m\u001b[0m\u001b[0;34m\u001b[0m\u001b[0m\n\u001b[1;32m    516\u001b[0m     \u001b[0;32mtry\u001b[0m\u001b[0;34m:\u001b[0m\u001b[0;34m\u001b[0m\u001b[0;34m\u001b[0m\u001b[0m\n\u001b[0;32m--> 517\u001b[0;31m       \u001b[0mresult\u001b[0m \u001b[0;34m=\u001b[0m \u001b[0mmethod\u001b[0m\u001b[0;34m(\u001b[0m\u001b[0mself\u001b[0m\u001b[0;34m,\u001b[0m \u001b[0;34m*\u001b[0m\u001b[0margs\u001b[0m\u001b[0;34m,\u001b[0m \u001b[0;34m**\u001b[0m\u001b[0mkwargs\u001b[0m\u001b[0;34m)\u001b[0m\u001b[0;34m\u001b[0m\u001b[0;34m\u001b[0m\u001b[0m\n\u001b[0m\u001b[1;32m    518\u001b[0m     \u001b[0;32mfinally\u001b[0m\u001b[0;34m:\u001b[0m\u001b[0;34m\u001b[0m\u001b[0;34m\u001b[0m\u001b[0m\n\u001b[1;32m    519\u001b[0m       \u001b[0mself\u001b[0m\u001b[0;34m.\u001b[0m\u001b[0m_self_setattr_tracking\u001b[0m \u001b[0;34m=\u001b[0m \u001b[0mprevious_value\u001b[0m  \u001b[0;31m# pylint: disable=protected-access\u001b[0m\u001b[0;34m\u001b[0m\u001b[0;34m\u001b[0m\u001b[0m\n",
            "\u001b[0;32m/usr/local/lib/python3.6/dist-packages/tensorflow/python/keras/engine/functional.py\u001b[0m in \u001b[0;36m_init_graph_network\u001b[0;34m(self, inputs, outputs)\u001b[0m\n\u001b[1;32m    202\u001b[0m     \u001b[0;31m# Keep track of the network's nodes and layers.\u001b[0m\u001b[0;34m\u001b[0m\u001b[0;34m\u001b[0m\u001b[0;34m\u001b[0m\u001b[0m\n\u001b[1;32m    203\u001b[0m     nodes, nodes_by_depth, layers, _ = _map_graph_network(\n\u001b[0;32m--> 204\u001b[0;31m         self.inputs, self.outputs)\n\u001b[0m\u001b[1;32m    205\u001b[0m     \u001b[0mself\u001b[0m\u001b[0;34m.\u001b[0m\u001b[0m_network_nodes\u001b[0m \u001b[0;34m=\u001b[0m \u001b[0mnodes\u001b[0m\u001b[0;34m\u001b[0m\u001b[0;34m\u001b[0m\u001b[0m\n\u001b[1;32m    206\u001b[0m     \u001b[0mself\u001b[0m\u001b[0;34m.\u001b[0m\u001b[0m_nodes_by_depth\u001b[0m \u001b[0;34m=\u001b[0m \u001b[0mnodes_by_depth\u001b[0m\u001b[0;34m\u001b[0m\u001b[0;34m\u001b[0m\u001b[0m\n",
            "\u001b[0;32m/usr/local/lib/python3.6/dist-packages/tensorflow/python/keras/engine/functional.py\u001b[0m in \u001b[0;36m_map_graph_network\u001b[0;34m(inputs, outputs)\u001b[0m\n\u001b[1;32m    999\u001b[0m     \u001b[0;32mif\u001b[0m \u001b[0mall_names\u001b[0m\u001b[0;34m.\u001b[0m\u001b[0mcount\u001b[0m\u001b[0;34m(\u001b[0m\u001b[0mname\u001b[0m\u001b[0;34m)\u001b[0m \u001b[0;34m!=\u001b[0m \u001b[0;36m1\u001b[0m\u001b[0;34m:\u001b[0m\u001b[0;34m\u001b[0m\u001b[0;34m\u001b[0m\u001b[0m\n\u001b[1;32m   1000\u001b[0m       raise ValueError('The name \"' + name + '\" is used ' +\n\u001b[0;32m-> 1001\u001b[0;31m                        \u001b[0mstr\u001b[0m\u001b[0;34m(\u001b[0m\u001b[0mall_names\u001b[0m\u001b[0;34m.\u001b[0m\u001b[0mcount\u001b[0m\u001b[0;34m(\u001b[0m\u001b[0mname\u001b[0m\u001b[0;34m)\u001b[0m\u001b[0;34m)\u001b[0m \u001b[0;34m+\u001b[0m \u001b[0;34m' times in the model. '\u001b[0m\u001b[0;34m\u001b[0m\u001b[0;34m\u001b[0m\u001b[0m\n\u001b[0m\u001b[1;32m   1002\u001b[0m                        'All layer names should be unique.')\n\u001b[1;32m   1003\u001b[0m   \u001b[0;32mreturn\u001b[0m \u001b[0mnetwork_nodes\u001b[0m\u001b[0;34m,\u001b[0m \u001b[0mnodes_by_depth\u001b[0m\u001b[0;34m,\u001b[0m \u001b[0mlayers\u001b[0m\u001b[0;34m,\u001b[0m \u001b[0mlayers_by_depth\u001b[0m\u001b[0;34m\u001b[0m\u001b[0;34m\u001b[0m\u001b[0m\n",
            "\u001b[0;31mValueError\u001b[0m: The name \"input_4\" is used 2 times in the model. All layer names should be unique."
          ]
        }
      ]
    }
  ]
}