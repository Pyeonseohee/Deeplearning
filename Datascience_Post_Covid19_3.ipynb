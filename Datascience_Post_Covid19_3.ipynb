{
  "nbformat": 4,
  "nbformat_minor": 0,
  "metadata": {
    "colab": {
      "name": "Datascience_Post_Covid19_3.ipynb",
      "provenance": [],
      "mount_file_id": "https://github.com/Pyeonseohee/Deeplearning/blob/main/Datascience_Post_Covid19_3.ipynb",
      "authorship_tag": "ABX9TyPhOFuDZvk+jb5GJI6RdGpi",
      "include_colab_link": true
    },
    "kernelspec": {
      "name": "python3",
      "display_name": "Python 3"
    },
    "language_info": {
      "name": "python"
    }
  },
  "cells": [
    {
      "cell_type": "markdown",
      "metadata": {
        "id": "view-in-github",
        "colab_type": "text"
      },
      "source": [
        "<a href=\"https://colab.research.google.com/github/Pyeonseohee/Deeplearning/blob/main/Datascience_Post_Covid19_3.ipynb\" target=\"_parent\"><img src=\"https://colab.research.google.com/assets/colab-badge.svg\" alt=\"Open In Colab\"/></a>"
      ]
    },
    {
      "cell_type": "markdown",
      "metadata": {
        "id": "mxZ0MV0QErYC"
      },
      "source": [
        "# POST - COVID19 데이터 시각화 경진대회\n",
        "\n",
        "* 가설 2: 정책이 격상될 수록 코로나 키워드 검색량이 많아질 것이다."
      ]
    },
    {
      "cell_type": "markdown",
      "metadata": {
        "id": "fK7fWwBNE2bU"
      },
      "source": [
        "필요한 library 불러오기"
      ]
    },
    {
      "cell_type": "code",
      "metadata": {
        "id": "1fdHe_0dt4aN"
      },
      "source": [
        "import pandas as pd\n",
        "from pandas import Series, DataFrame\n",
        "import datetime\n",
        "import matplotlib.pyplot as plt"
      ],
      "execution_count": 45,
      "outputs": []
    },
    {
      "cell_type": "markdown",
      "metadata": {
        "id": "tzMbZJ6JE6Sj"
      },
      "source": [
        "kaggle의 searchtrend data pandas로 불러오기"
      ]
    },
    {
      "cell_type": "code",
      "metadata": {
        "colab": {
          "base_uri": "https://localhost:8080/",
          "height": 195
        },
        "id": "TCY2nTPnuFwg",
        "outputId": "494dd573-8e5a-4253-c0d3-c1dffa32d682"
      },
      "source": [
        "trend = pd.read_csv('/content/drive/MyDrive/Post_Covid19/SearchTrend.csv')\n",
        "trend.head()"
      ],
      "execution_count": 46,
      "outputs": [
        {
          "output_type": "execute_result",
          "data": {
            "text/html": [
              "<div>\n",
              "<style scoped>\n",
              "    .dataframe tbody tr th:only-of-type {\n",
              "        vertical-align: middle;\n",
              "    }\n",
              "\n",
              "    .dataframe tbody tr th {\n",
              "        vertical-align: top;\n",
              "    }\n",
              "\n",
              "    .dataframe thead th {\n",
              "        text-align: right;\n",
              "    }\n",
              "</style>\n",
              "<table border=\"1\" class=\"dataframe\">\n",
              "  <thead>\n",
              "    <tr style=\"text-align: right;\">\n",
              "      <th></th>\n",
              "      <th>date</th>\n",
              "      <th>cold</th>\n",
              "      <th>flu</th>\n",
              "      <th>pneumonia</th>\n",
              "      <th>coronavirus</th>\n",
              "    </tr>\n",
              "  </thead>\n",
              "  <tbody>\n",
              "    <tr>\n",
              "      <th>0</th>\n",
              "      <td>2016-01-01</td>\n",
              "      <td>0.11663</td>\n",
              "      <td>0.05590</td>\n",
              "      <td>0.15726</td>\n",
              "      <td>0.00736</td>\n",
              "    </tr>\n",
              "    <tr>\n",
              "      <th>1</th>\n",
              "      <td>2016-01-02</td>\n",
              "      <td>0.13372</td>\n",
              "      <td>0.17135</td>\n",
              "      <td>0.20826</td>\n",
              "      <td>0.00890</td>\n",
              "    </tr>\n",
              "    <tr>\n",
              "      <th>2</th>\n",
              "      <td>2016-01-03</td>\n",
              "      <td>0.14917</td>\n",
              "      <td>0.22317</td>\n",
              "      <td>0.19326</td>\n",
              "      <td>0.00845</td>\n",
              "    </tr>\n",
              "    <tr>\n",
              "      <th>3</th>\n",
              "      <td>2016-01-04</td>\n",
              "      <td>0.17463</td>\n",
              "      <td>0.18626</td>\n",
              "      <td>0.29008</td>\n",
              "      <td>0.01145</td>\n",
              "    </tr>\n",
              "    <tr>\n",
              "      <th>4</th>\n",
              "      <td>2016-01-05</td>\n",
              "      <td>0.17226</td>\n",
              "      <td>0.15072</td>\n",
              "      <td>0.24562</td>\n",
              "      <td>0.01381</td>\n",
              "    </tr>\n",
              "  </tbody>\n",
              "</table>\n",
              "</div>"
            ],
            "text/plain": [
              "         date     cold      flu  pneumonia  coronavirus\n",
              "0  2016-01-01  0.11663  0.05590    0.15726      0.00736\n",
              "1  2016-01-02  0.13372  0.17135    0.20826      0.00890\n",
              "2  2016-01-03  0.14917  0.22317    0.19326      0.00845\n",
              "3  2016-01-04  0.17463  0.18626    0.29008      0.01145\n",
              "4  2016-01-05  0.17226  0.15072    0.24562      0.01381"
            ]
          },
          "metadata": {
            "tags": []
          },
          "execution_count": 46
        }
      ]
    },
    {
      "cell_type": "markdown",
      "metadata": {
        "id": "ybmLDvtpGSq2"
      },
      "source": [
        "정책 실행날짜와 실행내용이 담겨있는 policy 파일 불러오기"
      ]
    },
    {
      "cell_type": "code",
      "metadata": {
        "colab": {
          "base_uri": "https://localhost:8080/",
          "height": 195
        },
        "id": "Vejw-RezvB1U",
        "outputId": "b1a5bb8e-0720-4d41-91ea-0b743af29644"
      },
      "source": [
        "policy = pd.read_csv('/content/drive/MyDrive/Post_Covid19/Policy.csv')\n",
        "policy.head()"
      ],
      "execution_count": 47,
      "outputs": [
        {
          "output_type": "execute_result",
          "data": {
            "text/html": [
              "<div>\n",
              "<style scoped>\n",
              "    .dataframe tbody tr th:only-of-type {\n",
              "        vertical-align: middle;\n",
              "    }\n",
              "\n",
              "    .dataframe tbody tr th {\n",
              "        vertical-align: top;\n",
              "    }\n",
              "\n",
              "    .dataframe thead th {\n",
              "        text-align: right;\n",
              "    }\n",
              "</style>\n",
              "<table border=\"1\" class=\"dataframe\">\n",
              "  <thead>\n",
              "    <tr style=\"text-align: right;\">\n",
              "      <th></th>\n",
              "      <th>policy_id</th>\n",
              "      <th>country</th>\n",
              "      <th>type</th>\n",
              "      <th>gov_policy</th>\n",
              "      <th>detail</th>\n",
              "      <th>start_date</th>\n",
              "      <th>end_date</th>\n",
              "    </tr>\n",
              "  </thead>\n",
              "  <tbody>\n",
              "    <tr>\n",
              "      <th>0</th>\n",
              "      <td>1</td>\n",
              "      <td>Korea</td>\n",
              "      <td>Alert</td>\n",
              "      <td>Infectious Disease Alert Level</td>\n",
              "      <td>Level 1 (Blue)</td>\n",
              "      <td>2020-01-03</td>\n",
              "      <td>2020-01-19</td>\n",
              "    </tr>\n",
              "    <tr>\n",
              "      <th>1</th>\n",
              "      <td>2</td>\n",
              "      <td>Korea</td>\n",
              "      <td>Alert</td>\n",
              "      <td>Infectious Disease Alert Level</td>\n",
              "      <td>Level 2 (Yellow)</td>\n",
              "      <td>2020-01-20</td>\n",
              "      <td>2020-01-27</td>\n",
              "    </tr>\n",
              "    <tr>\n",
              "      <th>2</th>\n",
              "      <td>3</td>\n",
              "      <td>Korea</td>\n",
              "      <td>Alert</td>\n",
              "      <td>Infectious Disease Alert Level</td>\n",
              "      <td>Level 3 (Orange)</td>\n",
              "      <td>2020-01-28</td>\n",
              "      <td>2020-02-22</td>\n",
              "    </tr>\n",
              "    <tr>\n",
              "      <th>3</th>\n",
              "      <td>4</td>\n",
              "      <td>Korea</td>\n",
              "      <td>Alert</td>\n",
              "      <td>Infectious Disease Alert Level</td>\n",
              "      <td>Level 4 (Red)</td>\n",
              "      <td>2020-02-23</td>\n",
              "      <td>NaN</td>\n",
              "    </tr>\n",
              "    <tr>\n",
              "      <th>4</th>\n",
              "      <td>5</td>\n",
              "      <td>Korea</td>\n",
              "      <td>Immigration</td>\n",
              "      <td>Special Immigration Procedure</td>\n",
              "      <td>from China</td>\n",
              "      <td>2020-02-04</td>\n",
              "      <td>NaN</td>\n",
              "    </tr>\n",
              "  </tbody>\n",
              "</table>\n",
              "</div>"
            ],
            "text/plain": [
              "   policy_id country         type  ...            detail  start_date    end_date\n",
              "0          1   Korea        Alert  ...    Level 1 (Blue)  2020-01-03  2020-01-19\n",
              "1          2   Korea        Alert  ...  Level 2 (Yellow)  2020-01-20  2020-01-27\n",
              "2          3   Korea        Alert  ...  Level 3 (Orange)  2020-01-28  2020-02-22\n",
              "3          4   Korea        Alert  ...     Level 4 (Red)  2020-02-23         NaN\n",
              "4          5   Korea  Immigration  ...        from China  2020-02-04         NaN\n",
              "\n",
              "[5 rows x 7 columns]"
            ]
          },
          "metadata": {
            "tags": []
          },
          "execution_count": 47
        }
      ]
    },
    {
      "cell_type": "code",
      "metadata": {
        "colab": {
          "base_uri": "https://localhost:8080/"
        },
        "id": "77cxRjWGjPG0",
        "outputId": "3064f6cf-53f5-42c0-9393-62652e615491"
      },
      "source": [
        "policy.values"
      ],
      "execution_count": 48,
      "outputs": [
        {
          "output_type": "execute_result",
          "data": {
            "text/plain": [
              "array([[1, 'Korea', 'Alert', 'Infectious Disease Alert Level',\n",
              "        'Level 1 (Blue)', '2020-01-03', '2020-01-19'],\n",
              "       [2, 'Korea', 'Alert', 'Infectious Disease Alert Level',\n",
              "        'Level 2 (Yellow)', '2020-01-20', '2020-01-27'],\n",
              "       [3, 'Korea', 'Alert', 'Infectious Disease Alert Level',\n",
              "        'Level 3 (Orange)', '2020-01-28', '2020-02-22'],\n",
              "       [4, 'Korea', 'Alert', 'Infectious Disease Alert Level',\n",
              "        'Level 4 (Red)', '2020-02-23', nan],\n",
              "       [5, 'Korea', 'Immigration', 'Special Immigration Procedure',\n",
              "        'from China', '2020-02-04', nan],\n",
              "       [6, 'Korea', 'Immigration', 'Special Immigration Procedure',\n",
              "        'from Hong Kong', '2020-02-12', nan],\n",
              "       [7, 'Korea', 'Immigration', 'Special Immigration Procedure',\n",
              "        'from Macau', '2020-02-12', nan],\n",
              "       [8, 'Korea', 'Immigration', 'Special Immigration Procedure',\n",
              "        'from Japan', '2020-03-09', nan],\n",
              "       [9, 'Korea', 'Immigration', 'Special Immigration Procedure',\n",
              "        'from Italy', '2020-03-12', nan],\n",
              "       [10, 'Korea', 'Immigration', 'Special Immigration Procedure',\n",
              "        'from Iran', '2020-03-12', nan],\n",
              "       [11, 'Korea', 'Immigration', 'Special Immigration Procedure',\n",
              "        'from France', '2020-03-15', nan],\n",
              "       [12, 'Korea', 'Immigration', 'Special Immigration Procedure',\n",
              "        'from Germany', '2020-03-15', nan],\n",
              "       [13, 'Korea', 'Immigration', 'Special Immigration Procedure',\n",
              "        'from Spain', '2020-03-15', nan],\n",
              "       [14, 'Korea', 'Immigration', 'Special Immigration Procedure',\n",
              "        'from U.K.', '2020-03-15', nan],\n",
              "       [15, 'Korea', 'Immigration', 'Special Immigration Procedure',\n",
              "        'from Netherlands', '2020-03-15', nan],\n",
              "       [16, 'Korea', 'Immigration', 'Special Immigration Procedure',\n",
              "        'from Europe', '2020-03-16', nan],\n",
              "       [17, 'Korea', 'Immigration', 'Special Immigration Procedure',\n",
              "        'from all the countries', '2020-03-19', nan],\n",
              "       [18, 'Korea', 'Immigration', 'Mandatory 14-day Self-Quarantine',\n",
              "        'from all the countries', '2020-04-01', nan],\n",
              "       [19, 'Korea', 'Immigration',\n",
              "        'Mandatory Self-Quarantine & Diagonostic Tests', 'from U.S.',\n",
              "        '2020-04-13', nan],\n",
              "       [20, 'Korea', 'Health',\n",
              "        'Emergency Use Authorization of Diagnostic Kit', '1st EUA',\n",
              "        '2020-02-04', nan],\n",
              "       [21, 'Korea', 'Health',\n",
              "        'Emergency Use Authorization of Diagnostic Kit', '2nd EUA',\n",
              "        '2020-02-12', nan],\n",
              "       [22, 'Korea', 'Health',\n",
              "        'Emergency Use Authorization of Diagnostic Kit', '3rd EUA',\n",
              "        '2020-02-27', nan],\n",
              "       [23, 'Korea', 'Health',\n",
              "        'Emergency Use Authorization of Diagnostic Kit', '4th EUA',\n",
              "        '2020-02-27', nan],\n",
              "       [24, 'Korea', 'Health',\n",
              "        'Emergency Use Authorization of Diagnostic Kit', '5th EUA',\n",
              "        '2020-03-13', nan],\n",
              "       [25, 'Korea', 'Health', 'Drive-Through Screening Center',\n",
              "        'by Local Government', '2020-02-26', nan],\n",
              "       [26, 'Korea', 'Health', 'Drive-Through Screening Center',\n",
              "        'Standard Operating Procedures', '2020-03-04', nan],\n",
              "       [27, 'Korea', 'Health', 'Mask Distribution', 'Public-Sale',\n",
              "        '2020-02-27', nan],\n",
              "       [28, 'Korea', 'Health', 'Mask Distribution',\n",
              "        '5-day Rotation System', '2020-03-09', nan],\n",
              "       [29, 'Korea', 'Social', 'Social Distancing Campaign', 'Strong',\n",
              "        '2020-02-29', '2020-03-21'],\n",
              "       [30, 'Korea', 'Social', 'Social Distancing Campaign', 'Strong',\n",
              "        '2020-03-22', '2020-04-19'],\n",
              "       [31, 'Korea', 'Social', 'Social Distancing Campaign', 'Weak',\n",
              "        '2020-04-20', '2020-05-05'],\n",
              "       [32, 'Korea', 'Social', 'Social Distancing Campaign', 'Weak(1st)',\n",
              "        '2020-05-06', nan],\n",
              "       [33, 'Korea', 'Social', 'Thanks to Challenge korea',\n",
              "        'Relay Cheer Campaign in SNS', '2020-04-16', nan],\n",
              "       [34, 'Korea', 'Education', 'School Closure',\n",
              "        'Daycare Center for Children', '2020-03-02', nan],\n",
              "       [35, 'Korea', 'Education', 'School Opening Delay', 'Kindergarten',\n",
              "        '2020-03-02', '2020-04-06'],\n",
              "       [36, 'Korea', 'Education', 'School Opening Delay', 'High School',\n",
              "        '2020-03-02', '2020-04-06'],\n",
              "       [37, 'Korea', 'Education', 'School Opening Delay',\n",
              "        'Middle School', '2020-03-02', '2020-04-06'],\n",
              "       [38, 'Korea', 'Education', 'School Opening Delay',\n",
              "        'Elementary School', '2020-03-02', '2020-04-06'],\n",
              "       [39, 'Korea', 'Education', 'School Opening with Online Class',\n",
              "        'High School (3rd grade)', '2020-04-09', '2020-05-20'],\n",
              "       [40, 'Korea', 'Education', 'School Opening with Online Class',\n",
              "        'High School (2nd grade)', '2020-04-16', '2020-05-27'],\n",
              "       [41, 'Korea', 'Education', 'School Opening with Online Class',\n",
              "        'High School (1st grade)', '2020-04-16', '2020-06-03'],\n",
              "       [42, 'Korea', 'Education', 'School Opening with Online Class',\n",
              "        'Middle School (3rd grade)', '2020-04-09', '2020-05-27'],\n",
              "       [43, 'Korea', 'Education', 'School Opening with Online Class',\n",
              "        'Middle School (2nd grade)', '2020-04-16', '2020-06-03'],\n",
              "       [44, 'Korea', 'Education', 'School Opening with Online Class',\n",
              "        'Middle School (1st grade)', '2020-04-16', '2020-06-08'],\n",
              "       [45, 'Korea', 'Education', 'School Opening with Online Class',\n",
              "        'Elementary School (5th ~ 6th grade)', '2020-04-16',\n",
              "        '2020-06-08'],\n",
              "       [46, 'Korea', 'Education', 'School Opening with Online Class',\n",
              "        'Elementary School (4th grade)', '2020-04-16', '2020-06-03'],\n",
              "       [47, 'Korea', 'Education', 'School Opening with Online Class',\n",
              "        'Elementary School (3rd grade)', '2020-04-20', '2020-06-03'],\n",
              "       [48, 'Korea', 'Education', 'School Opening with Online Class',\n",
              "        'Elementary School (1st ~ 2nd grade)', '2020-04-20',\n",
              "        '2020-05-27'],\n",
              "       [49, 'Korea', 'Technology', 'Open Data ', 'Patients Information',\n",
              "        '2020-01-20', nan],\n",
              "       [50, 'Korea', 'Technology', 'Open API',\n",
              "        'Public Mask Sales Information', '2020-03-08', nan],\n",
              "       [51, 'Korea', 'Technology', 'Self-Diagnosis App', nan,\n",
              "        '2020-02-12', nan],\n",
              "       [52, 'Korea', 'Technology',\n",
              "        'Self-Quarantine Safety Protection App', nan, '2020-03-07', nan],\n",
              "       [53, 'Korea', 'Technology', 'Electronic Wristbands',\n",
              "        'on people who violate self-quarantine measures', '2020-04-27',\n",
              "        nan],\n",
              "       [54, 'Korea', 'Administrative', 'Close bars and clubs',\n",
              "        'administrative order to close bars and clubs', '2020-05-08',\n",
              "        '2020-06-07'],\n",
              "       [55, 'Korea', 'Administrative',\n",
              "        'local government Administrative orders',\n",
              "        'Gathering limited administrative orders for nursing homes, nursing homes, elderly day care centers and mental hospitals used by vulnerable groups',\n",
              "        '2020-05-16', nan],\n",
              "       [56, 'Korea', 'Administrative', 'Close karaoke',\n",
              "        'Ban on gathering for 2 weeks for all karaoke and coin karaoke',\n",
              "        '2020-05-21', '2020-06-03'],\n",
              "       [57, 'Korea', 'Transformation', 'Logistics center',\n",
              "        'On-site inspection of major logistics facilities such as courier terminals and warehouses',\n",
              "        '2020-05-29', '2020-06-11'],\n",
              "       [58, 'Korea', 'Transformation', 'Wearing of masks',\n",
              "        'Mandatory wearing of passenger mask domestic, international teminal in the airport',\n",
              "        '2020-05-27', nan],\n",
              "       [59, 'Korea', 'Transformation', 'Wearing of masks',\n",
              "        'Drivers such as buses and taxis can refuse to ride passengers without masks',\n",
              "        '2020-05-26', nan],\n",
              "       [60, 'Korea', 'Technology', 'KI-Pass: Korea Internet - Pass',\n",
              "        'new quick response (QR) code system this week to log visitors at high-risk entertainment facilities, restaurants and churches in a bid to track coronavirus cases and prevent further spread of the disease',\n",
              "        '2020-06-10', nan],\n",
              "       [61, 'Korea', 'Health', 'Extends Tightened Quarantine Measures ',\n",
              "        \"Gov't Extends Tightened Quarantine Measures in Seoul Metro Area\",\n",
              "        '2020-05-28', '2020-06-14']], dtype=object)"
            ]
          },
          "metadata": {
            "tags": []
          },
          "execution_count": 48
        }
      ]
    },
    {
      "cell_type": "code",
      "metadata": {
        "colab": {
          "base_uri": "https://localhost:8080/"
        },
        "id": "jE8upSIxizoi",
        "outputId": "7293c224-87af-4687-b0e9-9e371824d948"
      },
      "source": [
        "trend.shape"
      ],
      "execution_count": 49,
      "outputs": [
        {
          "output_type": "execute_result",
          "data": {
            "text/plain": [
              "(1642, 5)"
            ]
          },
          "metadata": {
            "tags": []
          },
          "execution_count": 49
        }
      ]
    },
    {
      "cell_type": "code",
      "metadata": {
        "colab": {
          "base_uri": "https://localhost:8080/"
        },
        "id": "YyTa2SH3i0zV",
        "outputId": "8734c45b-791e-40c2-8b5b-3afb749fef3d"
      },
      "source": [
        "trend.iloc[1641]"
      ],
      "execution_count": 50,
      "outputs": [
        {
          "output_type": "execute_result",
          "data": {
            "text/plain": [
              "date           2020-06-29\n",
              "cold              0.14263\n",
              "flu               0.04308\n",
              "pneumonia         0.11254\n",
              "coronavirus       2.41501\n",
              "Name: 1641, dtype: object"
            ]
          },
          "metadata": {
            "tags": []
          },
          "execution_count": 50
        }
      ]
    },
    {
      "cell_type": "code",
      "metadata": {
        "colab": {
          "base_uri": "https://localhost:8080/"
        },
        "id": "N9U1GfwMi37d",
        "outputId": "145e895a-9230-4638-e5ca-06b434f73375"
      },
      "source": [
        "trend.iloc[1400]"
      ],
      "execution_count": 51,
      "outputs": [
        {
          "output_type": "execute_result",
          "data": {
            "text/plain": [
              "date           2019-11-01\n",
              "cold              0.12054\n",
              "flu               0.24426\n",
              "pneumonia         0.24899\n",
              "coronavirus       0.00772\n",
              "Name: 1400, dtype: object"
            ]
          },
          "metadata": {
            "tags": []
          },
          "execution_count": 51
        }
      ]
    },
    {
      "cell_type": "markdown",
      "metadata": {
        "id": "u4FraOf-FDys"
      },
      "source": [
        "trend dataframe의 날짜 열의 data type 확인"
      ]
    },
    {
      "cell_type": "code",
      "metadata": {
        "colab": {
          "base_uri": "https://localhost:8080/"
        },
        "id": "wYn4G8nkjFDa",
        "outputId": "5a0633b0-9d30-4784-99f3-f827d82d2924"
      },
      "source": [
        "type(trend['date'][0])"
      ],
      "execution_count": 52,
      "outputs": [
        {
          "output_type": "execute_result",
          "data": {
            "text/plain": [
              "str"
            ]
          },
          "metadata": {
            "tags": []
          },
          "execution_count": 52
        }
      ]
    },
    {
      "cell_type": "markdown",
      "metadata": {
        "id": "3-aUPyzqFLNq"
      },
      "source": [
        "datetime type으로 바꿔주기."
      ]
    },
    {
      "cell_type": "code",
      "metadata": {
        "id": "9R4u--lon1Cl"
      },
      "source": [
        "trend['date'] = pd.to_datetime(trend['date'])"
      ],
      "execution_count": 53,
      "outputs": []
    },
    {
      "cell_type": "markdown",
      "metadata": {
        "id": "ebr2sQcLFj1A"
      },
      "source": [
        "true와 false값을 저장할 T/F 열 추가"
      ]
    },
    {
      "cell_type": "code",
      "metadata": {
        "colab": {
          "base_uri": "https://localhost:8080/",
          "height": 195
        },
        "id": "bIAMN2XUtX10",
        "outputId": "0a77e95f-9043-454d-e529-64d0ed92dace"
      },
      "source": [
        "trend = DataFrame(trend, columns = ['date', 'cold', 'flu', 'pneumonia', 'coronavirus', 'T/F'])\n",
        "trend.head()"
      ],
      "execution_count": 54,
      "outputs": [
        {
          "output_type": "execute_result",
          "data": {
            "text/html": [
              "<div>\n",
              "<style scoped>\n",
              "    .dataframe tbody tr th:only-of-type {\n",
              "        vertical-align: middle;\n",
              "    }\n",
              "\n",
              "    .dataframe tbody tr th {\n",
              "        vertical-align: top;\n",
              "    }\n",
              "\n",
              "    .dataframe thead th {\n",
              "        text-align: right;\n",
              "    }\n",
              "</style>\n",
              "<table border=\"1\" class=\"dataframe\">\n",
              "  <thead>\n",
              "    <tr style=\"text-align: right;\">\n",
              "      <th></th>\n",
              "      <th>date</th>\n",
              "      <th>cold</th>\n",
              "      <th>flu</th>\n",
              "      <th>pneumonia</th>\n",
              "      <th>coronavirus</th>\n",
              "      <th>T/F</th>\n",
              "    </tr>\n",
              "  </thead>\n",
              "  <tbody>\n",
              "    <tr>\n",
              "      <th>0</th>\n",
              "      <td>2016-01-01</td>\n",
              "      <td>0.11663</td>\n",
              "      <td>0.05590</td>\n",
              "      <td>0.15726</td>\n",
              "      <td>0.00736</td>\n",
              "      <td>NaN</td>\n",
              "    </tr>\n",
              "    <tr>\n",
              "      <th>1</th>\n",
              "      <td>2016-01-02</td>\n",
              "      <td>0.13372</td>\n",
              "      <td>0.17135</td>\n",
              "      <td>0.20826</td>\n",
              "      <td>0.00890</td>\n",
              "      <td>NaN</td>\n",
              "    </tr>\n",
              "    <tr>\n",
              "      <th>2</th>\n",
              "      <td>2016-01-03</td>\n",
              "      <td>0.14917</td>\n",
              "      <td>0.22317</td>\n",
              "      <td>0.19326</td>\n",
              "      <td>0.00845</td>\n",
              "      <td>NaN</td>\n",
              "    </tr>\n",
              "    <tr>\n",
              "      <th>3</th>\n",
              "      <td>2016-01-04</td>\n",
              "      <td>0.17463</td>\n",
              "      <td>0.18626</td>\n",
              "      <td>0.29008</td>\n",
              "      <td>0.01145</td>\n",
              "      <td>NaN</td>\n",
              "    </tr>\n",
              "    <tr>\n",
              "      <th>4</th>\n",
              "      <td>2016-01-05</td>\n",
              "      <td>0.17226</td>\n",
              "      <td>0.15072</td>\n",
              "      <td>0.24562</td>\n",
              "      <td>0.01381</td>\n",
              "      <td>NaN</td>\n",
              "    </tr>\n",
              "  </tbody>\n",
              "</table>\n",
              "</div>"
            ],
            "text/plain": [
              "        date     cold      flu  pneumonia  coronavirus  T/F\n",
              "0 2016-01-01  0.11663  0.05590    0.15726      0.00736  NaN\n",
              "1 2016-01-02  0.13372  0.17135    0.20826      0.00890  NaN\n",
              "2 2016-01-03  0.14917  0.22317    0.19326      0.00845  NaN\n",
              "3 2016-01-04  0.17463  0.18626    0.29008      0.01145  NaN\n",
              "4 2016-01-05  0.17226  0.15072    0.24562      0.01381  NaN"
            ]
          },
          "metadata": {
            "tags": []
          },
          "execution_count": 54
        }
      ]
    },
    {
      "cell_type": "markdown",
      "metadata": {
        "id": "Y2Ds0a9FFPxC"
      },
      "source": [
        "trend file에 2016부터의 자료가 있으므로 2019년 11월쯤의 자료만 모아보기"
      ]
    },
    {
      "cell_type": "code",
      "metadata": {
        "colab": {
          "base_uri": "https://localhost:8080/",
          "height": 402
        },
        "id": "2j7BKuMJvH4d",
        "outputId": "5f66d4e1-9d9d-4e7e-865d-55796892fb48"
      },
      "source": [
        "trend['T/F'] = trend.date > pd.to_datetime('2019-10-31')\n",
        "trend.loc[1400:]"
      ],
      "execution_count": 55,
      "outputs": [
        {
          "output_type": "execute_result",
          "data": {
            "text/html": [
              "<div>\n",
              "<style scoped>\n",
              "    .dataframe tbody tr th:only-of-type {\n",
              "        vertical-align: middle;\n",
              "    }\n",
              "\n",
              "    .dataframe tbody tr th {\n",
              "        vertical-align: top;\n",
              "    }\n",
              "\n",
              "    .dataframe thead th {\n",
              "        text-align: right;\n",
              "    }\n",
              "</style>\n",
              "<table border=\"1\" class=\"dataframe\">\n",
              "  <thead>\n",
              "    <tr style=\"text-align: right;\">\n",
              "      <th></th>\n",
              "      <th>date</th>\n",
              "      <th>cold</th>\n",
              "      <th>flu</th>\n",
              "      <th>pneumonia</th>\n",
              "      <th>coronavirus</th>\n",
              "      <th>T/F</th>\n",
              "    </tr>\n",
              "  </thead>\n",
              "  <tbody>\n",
              "    <tr>\n",
              "      <th>1400</th>\n",
              "      <td>2019-11-01</td>\n",
              "      <td>0.12054</td>\n",
              "      <td>0.24426</td>\n",
              "      <td>0.24899</td>\n",
              "      <td>0.00772</td>\n",
              "      <td>True</td>\n",
              "    </tr>\n",
              "    <tr>\n",
              "      <th>1401</th>\n",
              "      <td>2019-11-02</td>\n",
              "      <td>0.10226</td>\n",
              "      <td>0.19917</td>\n",
              "      <td>0.20190</td>\n",
              "      <td>0.00872</td>\n",
              "      <td>True</td>\n",
              "    </tr>\n",
              "    <tr>\n",
              "      <th>1402</th>\n",
              "      <td>2019-11-03</td>\n",
              "      <td>0.11099</td>\n",
              "      <td>0.18735</td>\n",
              "      <td>0.18690</td>\n",
              "      <td>0.00590</td>\n",
              "      <td>True</td>\n",
              "    </tr>\n",
              "    <tr>\n",
              "      <th>1403</th>\n",
              "      <td>2019-11-04</td>\n",
              "      <td>0.14917</td>\n",
              "      <td>0.27926</td>\n",
              "      <td>0.31999</td>\n",
              "      <td>0.00754</td>\n",
              "      <td>True</td>\n",
              "    </tr>\n",
              "    <tr>\n",
              "      <th>1404</th>\n",
              "      <td>2019-11-05</td>\n",
              "      <td>0.15617</td>\n",
              "      <td>0.27090</td>\n",
              "      <td>0.30717</td>\n",
              "      <td>0.01272</td>\n",
              "      <td>True</td>\n",
              "    </tr>\n",
              "    <tr>\n",
              "      <th>...</th>\n",
              "      <td>...</td>\n",
              "      <td>...</td>\n",
              "      <td>...</td>\n",
              "      <td>...</td>\n",
              "      <td>...</td>\n",
              "      <td>...</td>\n",
              "    </tr>\n",
              "    <tr>\n",
              "      <th>1637</th>\n",
              "      <td>2020-06-25</td>\n",
              "      <td>0.12072</td>\n",
              "      <td>0.04190</td>\n",
              "      <td>0.11936</td>\n",
              "      <td>2.16993</td>\n",
              "      <td>True</td>\n",
              "    </tr>\n",
              "    <tr>\n",
              "      <th>1638</th>\n",
              "      <td>2020-06-26</td>\n",
              "      <td>0.11381</td>\n",
              "      <td>0.03027</td>\n",
              "      <td>0.11317</td>\n",
              "      <td>2.15139</td>\n",
              "      <td>True</td>\n",
              "    </tr>\n",
              "    <tr>\n",
              "      <th>1639</th>\n",
              "      <td>2020-06-27</td>\n",
              "      <td>0.10554</td>\n",
              "      <td>0.02136</td>\n",
              "      <td>0.08354</td>\n",
              "      <td>1.96848</td>\n",
              "      <td>True</td>\n",
              "    </tr>\n",
              "    <tr>\n",
              "      <th>1640</th>\n",
              "      <td>2020-06-28</td>\n",
              "      <td>0.12563</td>\n",
              "      <td>0.02872</td>\n",
              "      <td>0.08072</td>\n",
              "      <td>2.19720</td>\n",
              "      <td>True</td>\n",
              "    </tr>\n",
              "    <tr>\n",
              "      <th>1641</th>\n",
              "      <td>2020-06-29</td>\n",
              "      <td>0.14263</td>\n",
              "      <td>0.04308</td>\n",
              "      <td>0.11254</td>\n",
              "      <td>2.41501</td>\n",
              "      <td>True</td>\n",
              "    </tr>\n",
              "  </tbody>\n",
              "</table>\n",
              "<p>242 rows × 6 columns</p>\n",
              "</div>"
            ],
            "text/plain": [
              "           date     cold      flu  pneumonia  coronavirus   T/F\n",
              "1400 2019-11-01  0.12054  0.24426    0.24899      0.00772  True\n",
              "1401 2019-11-02  0.10226  0.19917    0.20190      0.00872  True\n",
              "1402 2019-11-03  0.11099  0.18735    0.18690      0.00590  True\n",
              "1403 2019-11-04  0.14917  0.27926    0.31999      0.00754  True\n",
              "1404 2019-11-05  0.15617  0.27090    0.30717      0.01272  True\n",
              "...         ...      ...      ...        ...          ...   ...\n",
              "1637 2020-06-25  0.12072  0.04190    0.11936      2.16993  True\n",
              "1638 2020-06-26  0.11381  0.03027    0.11317      2.15139  True\n",
              "1639 2020-06-27  0.10554  0.02136    0.08354      1.96848  True\n",
              "1640 2020-06-28  0.12563  0.02872    0.08072      2.19720  True\n",
              "1641 2020-06-29  0.14263  0.04308    0.11254      2.41501  True\n",
              "\n",
              "[242 rows x 6 columns]"
            ]
          },
          "metadata": {
            "tags": []
          },
          "execution_count": 55
        }
      ]
    },
    {
      "cell_type": "code",
      "metadata": {
        "id": "fjN01kBUv0IR"
      },
      "source": [
        "droped = trend[trend['T/F'] == False].index\n",
        "trend = trend.drop(droped)"
      ],
      "execution_count": 56,
      "outputs": []
    },
    {
      "cell_type": "code",
      "metadata": {
        "colab": {
          "base_uri": "https://localhost:8080/",
          "height": 195
        },
        "id": "RcSBiMfmvjAq",
        "outputId": "e4b84107-6c7b-4492-9de5-f23077018c81"
      },
      "source": [
        "trend.head()"
      ],
      "execution_count": 57,
      "outputs": [
        {
          "output_type": "execute_result",
          "data": {
            "text/html": [
              "<div>\n",
              "<style scoped>\n",
              "    .dataframe tbody tr th:only-of-type {\n",
              "        vertical-align: middle;\n",
              "    }\n",
              "\n",
              "    .dataframe tbody tr th {\n",
              "        vertical-align: top;\n",
              "    }\n",
              "\n",
              "    .dataframe thead th {\n",
              "        text-align: right;\n",
              "    }\n",
              "</style>\n",
              "<table border=\"1\" class=\"dataframe\">\n",
              "  <thead>\n",
              "    <tr style=\"text-align: right;\">\n",
              "      <th></th>\n",
              "      <th>date</th>\n",
              "      <th>cold</th>\n",
              "      <th>flu</th>\n",
              "      <th>pneumonia</th>\n",
              "      <th>coronavirus</th>\n",
              "      <th>T/F</th>\n",
              "    </tr>\n",
              "  </thead>\n",
              "  <tbody>\n",
              "    <tr>\n",
              "      <th>1400</th>\n",
              "      <td>2019-11-01</td>\n",
              "      <td>0.12054</td>\n",
              "      <td>0.24426</td>\n",
              "      <td>0.24899</td>\n",
              "      <td>0.00772</td>\n",
              "      <td>True</td>\n",
              "    </tr>\n",
              "    <tr>\n",
              "      <th>1401</th>\n",
              "      <td>2019-11-02</td>\n",
              "      <td>0.10226</td>\n",
              "      <td>0.19917</td>\n",
              "      <td>0.20190</td>\n",
              "      <td>0.00872</td>\n",
              "      <td>True</td>\n",
              "    </tr>\n",
              "    <tr>\n",
              "      <th>1402</th>\n",
              "      <td>2019-11-03</td>\n",
              "      <td>0.11099</td>\n",
              "      <td>0.18735</td>\n",
              "      <td>0.18690</td>\n",
              "      <td>0.00590</td>\n",
              "      <td>True</td>\n",
              "    </tr>\n",
              "    <tr>\n",
              "      <th>1403</th>\n",
              "      <td>2019-11-04</td>\n",
              "      <td>0.14917</td>\n",
              "      <td>0.27926</td>\n",
              "      <td>0.31999</td>\n",
              "      <td>0.00754</td>\n",
              "      <td>True</td>\n",
              "    </tr>\n",
              "    <tr>\n",
              "      <th>1404</th>\n",
              "      <td>2019-11-05</td>\n",
              "      <td>0.15617</td>\n",
              "      <td>0.27090</td>\n",
              "      <td>0.30717</td>\n",
              "      <td>0.01272</td>\n",
              "      <td>True</td>\n",
              "    </tr>\n",
              "  </tbody>\n",
              "</table>\n",
              "</div>"
            ],
            "text/plain": [
              "           date     cold      flu  pneumonia  coronavirus   T/F\n",
              "1400 2019-11-01  0.12054  0.24426    0.24899      0.00772  True\n",
              "1401 2019-11-02  0.10226  0.19917    0.20190      0.00872  True\n",
              "1402 2019-11-03  0.11099  0.18735    0.18690      0.00590  True\n",
              "1403 2019-11-04  0.14917  0.27926    0.31999      0.00754  True\n",
              "1404 2019-11-05  0.15617  0.27090    0.30717      0.01272  True"
            ]
          },
          "metadata": {
            "tags": []
          },
          "execution_count": 57
        }
      ]
    },
    {
      "cell_type": "code",
      "metadata": {
        "colab": {
          "base_uri": "https://localhost:8080/",
          "height": 225
        },
        "id": "pCgCDR5_wvzW",
        "outputId": "53005ca0-485f-4715-a35f-8af82f7576da"
      },
      "source": [
        "trend.index = trend['date']\n",
        "trend.head()"
      ],
      "execution_count": 58,
      "outputs": [
        {
          "output_type": "execute_result",
          "data": {
            "text/html": [
              "<div>\n",
              "<style scoped>\n",
              "    .dataframe tbody tr th:only-of-type {\n",
              "        vertical-align: middle;\n",
              "    }\n",
              "\n",
              "    .dataframe tbody tr th {\n",
              "        vertical-align: top;\n",
              "    }\n",
              "\n",
              "    .dataframe thead th {\n",
              "        text-align: right;\n",
              "    }\n",
              "</style>\n",
              "<table border=\"1\" class=\"dataframe\">\n",
              "  <thead>\n",
              "    <tr style=\"text-align: right;\">\n",
              "      <th></th>\n",
              "      <th>date</th>\n",
              "      <th>cold</th>\n",
              "      <th>flu</th>\n",
              "      <th>pneumonia</th>\n",
              "      <th>coronavirus</th>\n",
              "      <th>T/F</th>\n",
              "    </tr>\n",
              "    <tr>\n",
              "      <th>date</th>\n",
              "      <th></th>\n",
              "      <th></th>\n",
              "      <th></th>\n",
              "      <th></th>\n",
              "      <th></th>\n",
              "      <th></th>\n",
              "    </tr>\n",
              "  </thead>\n",
              "  <tbody>\n",
              "    <tr>\n",
              "      <th>2019-11-01</th>\n",
              "      <td>2019-11-01</td>\n",
              "      <td>0.12054</td>\n",
              "      <td>0.24426</td>\n",
              "      <td>0.24899</td>\n",
              "      <td>0.00772</td>\n",
              "      <td>True</td>\n",
              "    </tr>\n",
              "    <tr>\n",
              "      <th>2019-11-02</th>\n",
              "      <td>2019-11-02</td>\n",
              "      <td>0.10226</td>\n",
              "      <td>0.19917</td>\n",
              "      <td>0.20190</td>\n",
              "      <td>0.00872</td>\n",
              "      <td>True</td>\n",
              "    </tr>\n",
              "    <tr>\n",
              "      <th>2019-11-03</th>\n",
              "      <td>2019-11-03</td>\n",
              "      <td>0.11099</td>\n",
              "      <td>0.18735</td>\n",
              "      <td>0.18690</td>\n",
              "      <td>0.00590</td>\n",
              "      <td>True</td>\n",
              "    </tr>\n",
              "    <tr>\n",
              "      <th>2019-11-04</th>\n",
              "      <td>2019-11-04</td>\n",
              "      <td>0.14917</td>\n",
              "      <td>0.27926</td>\n",
              "      <td>0.31999</td>\n",
              "      <td>0.00754</td>\n",
              "      <td>True</td>\n",
              "    </tr>\n",
              "    <tr>\n",
              "      <th>2019-11-05</th>\n",
              "      <td>2019-11-05</td>\n",
              "      <td>0.15617</td>\n",
              "      <td>0.27090</td>\n",
              "      <td>0.30717</td>\n",
              "      <td>0.01272</td>\n",
              "      <td>True</td>\n",
              "    </tr>\n",
              "  </tbody>\n",
              "</table>\n",
              "</div>"
            ],
            "text/plain": [
              "                 date     cold      flu  pneumonia  coronavirus   T/F\n",
              "date                                                                 \n",
              "2019-11-01 2019-11-01  0.12054  0.24426    0.24899      0.00772  True\n",
              "2019-11-02 2019-11-02  0.10226  0.19917    0.20190      0.00872  True\n",
              "2019-11-03 2019-11-03  0.11099  0.18735    0.18690      0.00590  True\n",
              "2019-11-04 2019-11-04  0.14917  0.27926    0.31999      0.00754  True\n",
              "2019-11-05 2019-11-05  0.15617  0.27090    0.30717      0.01272  True"
            ]
          },
          "metadata": {
            "tags": []
          },
          "execution_count": 58
        }
      ]
    },
    {
      "cell_type": "markdown",
      "metadata": {
        "id": "gspySrsPGHHQ"
      },
      "source": [
        "사회적 거리두기 단계에 따른 searchtrend 살펴보기"
      ]
    },
    {
      "cell_type": "code",
      "metadata": {
        "colab": {
          "base_uri": "https://localhost:8080/",
          "height": 363
        },
        "id": "mMXl_1A5tpDp",
        "outputId": "2dcdca9a-9193-4904-c67f-00858a1a1ec4"
      },
      "source": [
        "trend['coronavirus'].plot(figsize=(20,5))\n",
        "plt.axvline(x='2020-02-29', ymin=0.0, ymax=1.0, color='red')\n",
        "plt.axvline(x='2020-03-22', ymin=0.0, ymax=1.0, color='orange')\n",
        "plt.axvline(x='2020-04-20', ymin=0.0, ymax=1.0, color='yellow')\n",
        "plt.axvline(x='2020-05-06', ymin=0.0, ymax=1.0, color='green')"
      ],
      "execution_count": 59,
      "outputs": [
        {
          "output_type": "execute_result",
          "data": {
            "text/plain": [
              "<matplotlib.lines.Line2D at 0x7fc3814a4250>"
            ]
          },
          "metadata": {
            "tags": []
          },
          "execution_count": 59
        },
        {
          "output_type": "display_data",
          "data": {
            "image/png": "[encoded data removed]",
            "text/plain": [
              "<Figure size 1440x360 with 1 Axes>"
            ]
          },
          "metadata": {
            "tags": [],
            "needs_background": "light"
          }
        }
      ]
    },
    {
      "cell_type": "code",
      "metadata": {
        "colab": {
          "base_uri": "https://localhost:8080/",
          "height": 363
        },
        "id": "-VdK81rJwp9c",
        "outputId": "d3d7eef3-f878-4f61-cf3c-0a6b6f5d5b4a"
      },
      "source": [
        "trend['cold'].plot(figsize=(20,5))\n",
        "plt.axvline(x='2020-02-29', ymin=0.0, ymax=1.0, color='red')\n",
        "plt.axvline(x='2020-03-22', ymin=0.0, ymax=1.0, color='orange')\n",
        "plt.axvline(x='2020-04-20', ymin=0.0, ymax=1.0, color='yellow')\n",
        "plt.axvline(x='2020-05-06', ymin=0.0, ymax=1.0, color='green')"
      ],
      "execution_count": 60,
      "outputs": [
        {
          "output_type": "execute_result",
          "data": {
            "text/plain": [
              "<matplotlib.lines.Line2D at 0x7fc3813ed510>"
            ]
          },
          "metadata": {
            "tags": []
          },
          "execution_count": 60
        },
        {
          "output_type": "display_data",
          "data": {
            "image/png": "[encoded data removed]",
            "text/plain": [
              "<Figure size 1440x360 with 1 Axes>"
            ]
          },
          "metadata": {
            "tags": [],
            "needs_background": "light"
          }
        }
      ]
    },
    {
      "cell_type": "code",
      "metadata": {
        "colab": {
          "base_uri": "https://localhost:8080/",
          "height": 363
        },
        "id": "xSaR9urjoBUJ",
        "outputId": "ce305354-47ff-4288-c831-044e7cfaabbc"
      },
      "source": [
        "trend['flu'].plot(figsize=(20,5))\n",
        "plt.axvline(x='2020-02-29', ymin=0.0, ymax=1.0, color='red')\n",
        "plt.axvline(x='2020-03-22', ymin=0.0, ymax=1.0, color='orange')\n",
        "plt.axvline(x='2020-04-20', ymin=0.0, ymax=1.0, color='yellow')\n",
        "plt.axvline(x='2020-05-06', ymin=0.0, ymax=1.0, color='green')"
      ],
      "execution_count": 61,
      "outputs": [
        {
          "output_type": "execute_result",
          "data": {
            "text/plain": [
              "<matplotlib.lines.Line2D at 0x7fc3812da890>"
            ]
          },
          "metadata": {
            "tags": []
          },
          "execution_count": 61
        },
        {
          "output_type": "display_data",
          "data": {
            "image/png": "[encoded data removed]",
            "text/plain": [
              "<Figure size 1440x360 with 1 Axes>"
            ]
          },
          "metadata": {
            "tags": [],
            "needs_background": "light"
          }
        }
      ]
    },
    {
      "cell_type": "markdown",
      "metadata": {
        "id": "1pTaaXiqGDWx"
      },
      "source": [
        "전염 경보 레벨에 따른 searchtrend 변화"
      ]
    },
    {
      "cell_type": "code",
      "metadata": {
        "id": "uWlujrx_iiMT",
        "outputId": "03c3e3d5-53a7-416e-8c8f-94b36463729d",
        "colab": {
          "base_uri": "https://localhost:8080/",
          "height": 363
        }
      },
      "source": [
        "trend['coronavirus'].plot(figsize=(20,5))\n",
        "plt.axvline(x='2020-01-03', ymin=0.0, ymax=1.0, color='green')\n",
        "plt.axvline(x='2020-01-20', ymin=0.0, ymax=1.0, color='yellow')\n",
        "plt.axvline(x='2020-01-28', ymin=0.0, ymax=1.0, color='orange')\n",
        "plt.axvline(x='2020-02-23', ymin=0.0, ymax=1.0, color='red')"
      ],
      "execution_count": 62,
      "outputs": [
        {
          "output_type": "execute_result",
          "data": {
            "text/plain": [
              "<matplotlib.lines.Line2D at 0x7fc381236110>"
            ]
          },
          "metadata": {
            "tags": []
          },
          "execution_count": 62
        },
        {
          "output_type": "display_data",
          "data": {
            "image/png": "[encoded data removed]",
            "text/plain": [
              "<Figure size 1440x360 with 1 Axes>"
            ]
          },
          "metadata": {
            "tags": [],
            "needs_background": "light"
          }
        }
      ]
    },
    {
      "cell_type": "code",
      "metadata": {
        "colab": {
          "base_uri": "https://localhost:8080/",
          "height": 363
        },
        "id": "1mLYNKwY7G2V",
        "outputId": "a43447a0-37f5-414e-adf1-0eb2230065a9"
      },
      "source": [
        "trend['cold'].plot(figsize=(20,5))\n",
        "plt.axvline(x='2020-01-03', ymin=0.0, ymax=1.0, color='green')\n",
        "plt.axvline(x='2020-01-20', ymin=0.0, ymax=1.0, color='yellow')\n",
        "plt.axvline(x='2020-01-28', ymin=0.0, ymax=1.0, color='orange')\n",
        "plt.axvline(x='2020-02-23', ymin=0.0, ymax=1.0, color='red')"
      ],
      "execution_count": 63,
      "outputs": [
        {
          "output_type": "execute_result",
          "data": {
            "text/plain": [
              "<matplotlib.lines.Line2D at 0x7fc381112e50>"
            ]
          },
          "metadata": {
            "tags": []
          },
          "execution_count": 63
        },
        {
          "output_type": "display_data",
          "data": {
            "image/png": "[encoded data removed]",
            "text/plain": [
              "<Figure size 1440x360 with 1 Axes>"
            ]
          },
          "metadata": {
            "tags": [],
            "needs_background": "light"
          }
        }
      ]
    },
    {
      "cell_type": "code",
      "metadata": {
        "colab": {
          "base_uri": "https://localhost:8080/",
          "height": 363
        },
        "id": "v8Zxk5Kx7ZBs",
        "outputId": "b9a9a8cf-4e8d-4622-cb60-14d622944476"
      },
      "source": [
        "trend['flu'].plot(figsize=(20,5))\n",
        "plt.axvline(x='2020-01-03', ymin=0.0, ymax=1.0, color='green')\n",
        "plt.axvline(x='2020-01-20', ymin=0.0, ymax=1.0, color='yellow')\n",
        "plt.axvline(x='2020-01-28', ymin=0.0, ymax=1.0, color='orange')\n",
        "plt.axvline(x='2020-02-23', ymin=0.0, ymax=1.0, color='red')"
      ],
      "execution_count": 64,
      "outputs": [
        {
          "output_type": "execute_result",
          "data": {
            "text/plain": [
              "<matplotlib.lines.Line2D at 0x7fc381077190>"
            ]
          },
          "metadata": {
            "tags": []
          },
          "execution_count": 64
        },
        {
          "output_type": "display_data",
          "data": {
            "image/png": "[encoded data removed]",
            "text/plain": [
              "<Figure size 1440x360 with 1 Axes>"
            ]
          },
          "metadata": {
            "tags": [],
            "needs_background": "light"
          }
        }
      ]
    },
    {
      "cell_type": "markdown",
      "metadata": {
        "id": "nZ8FvLZSGdy6"
      },
      "source": [
        "search trend 간의 상관계수(corr) 확인하기"
      ]
    },
    {
      "cell_type": "code",
      "metadata": {
        "colab": {
          "base_uri": "https://localhost:8080/",
          "height": 195
        },
        "id": "Ht8RWPVw7bvE",
        "outputId": "8606c90a-3156-4713-d724-15b7ac746e7e"
      },
      "source": [
        "trend.corr()"
      ],
      "execution_count": 65,
      "outputs": [
        {
          "output_type": "execute_result",
          "data": {
            "text/html": [
              "<div>\n",
              "<style scoped>\n",
              "    .dataframe tbody tr th:only-of-type {\n",
              "        vertical-align: middle;\n",
              "    }\n",
              "\n",
              "    .dataframe tbody tr th {\n",
              "        vertical-align: top;\n",
              "    }\n",
              "\n",
              "    .dataframe thead th {\n",
              "        text-align: right;\n",
              "    }\n",
              "</style>\n",
              "<table border=\"1\" class=\"dataframe\">\n",
              "  <thead>\n",
              "    <tr style=\"text-align: right;\">\n",
              "      <th></th>\n",
              "      <th>cold</th>\n",
              "      <th>flu</th>\n",
              "      <th>pneumonia</th>\n",
              "      <th>coronavirus</th>\n",
              "      <th>T/F</th>\n",
              "    </tr>\n",
              "  </thead>\n",
              "  <tbody>\n",
              "    <tr>\n",
              "      <th>cold</th>\n",
              "      <td>1.000000</td>\n",
              "      <td>0.067614</td>\n",
              "      <td>0.218791</td>\n",
              "      <td>0.684278</td>\n",
              "      <td>NaN</td>\n",
              "    </tr>\n",
              "    <tr>\n",
              "      <th>flu</th>\n",
              "      <td>0.067614</td>\n",
              "      <td>1.000000</td>\n",
              "      <td>0.429369</td>\n",
              "      <td>0.065522</td>\n",
              "      <td>NaN</td>\n",
              "    </tr>\n",
              "    <tr>\n",
              "      <th>pneumonia</th>\n",
              "      <td>0.218791</td>\n",
              "      <td>0.429369</td>\n",
              "      <td>1.000000</td>\n",
              "      <td>0.412048</td>\n",
              "      <td>NaN</td>\n",
              "    </tr>\n",
              "    <tr>\n",
              "      <th>coronavirus</th>\n",
              "      <td>0.684278</td>\n",
              "      <td>0.065522</td>\n",
              "      <td>0.412048</td>\n",
              "      <td>1.000000</td>\n",
              "      <td>NaN</td>\n",
              "    </tr>\n",
              "    <tr>\n",
              "      <th>T/F</th>\n",
              "      <td>NaN</td>\n",
              "      <td>NaN</td>\n",
              "      <td>NaN</td>\n",
              "      <td>NaN</td>\n",
              "      <td>NaN</td>\n",
              "    </tr>\n",
              "  </tbody>\n",
              "</table>\n",
              "</div>"
            ],
            "text/plain": [
              "                 cold       flu  pneumonia  coronavirus  T/F\n",
              "cold         1.000000  0.067614   0.218791     0.684278  NaN\n",
              "flu          0.067614  1.000000   0.429369     0.065522  NaN\n",
              "pneumonia    0.218791  0.429369   1.000000     0.412048  NaN\n",
              "coronavirus  0.684278  0.065522   0.412048     1.000000  NaN\n",
              "T/F               NaN       NaN        NaN          NaN  NaN"
            ]
          },
          "metadata": {
            "tags": []
          },
          "execution_count": 65
        }
      ]
    },
    {
      "cell_type": "markdown",
      "metadata": {
        "id": "1omN9nxzjpgp"
      },
      "source": [
        "누적 확진자 수가 기록된 Time.csv 파일 불러오기"
      ]
    },
    {
      "cell_type": "code",
      "metadata": {
        "colab": {
          "base_uri": "https://localhost:8080/",
          "height": 195
        },
        "id": "yguxhfPmnqMk",
        "outputId": "efa89e57-4de9-4083-dea1-70574cd3c359"
      },
      "source": [
        "confirmed = pd.read_csv('/content/drive/MyDrive/Post_Covid19/Time.csv', usecols = ['date', 'confirmed'])\n",
        "confirmed.head()"
      ],
      "execution_count": 109,
      "outputs": [
        {
          "output_type": "execute_result",
          "data": {
            "text/html": [
              "<div>\n",
              "<style scoped>\n",
              "    .dataframe tbody tr th:only-of-type {\n",
              "        vertical-align: middle;\n",
              "    }\n",
              "\n",
              "    .dataframe tbody tr th {\n",
              "        vertical-align: top;\n",
              "    }\n",
              "\n",
              "    .dataframe thead th {\n",
              "        text-align: right;\n",
              "    }\n",
              "</style>\n",
              "<table border=\"1\" class=\"dataframe\">\n",
              "  <thead>\n",
              "    <tr style=\"text-align: right;\">\n",
              "      <th></th>\n",
              "      <th>date</th>\n",
              "      <th>confirmed</th>\n",
              "    </tr>\n",
              "  </thead>\n",
              "  <tbody>\n",
              "    <tr>\n",
              "      <th>0</th>\n",
              "      <td>2020-01-20</td>\n",
              "      <td>1</td>\n",
              "    </tr>\n",
              "    <tr>\n",
              "      <th>1</th>\n",
              "      <td>2020-01-21</td>\n",
              "      <td>1</td>\n",
              "    </tr>\n",
              "    <tr>\n",
              "      <th>2</th>\n",
              "      <td>2020-01-22</td>\n",
              "      <td>1</td>\n",
              "    </tr>\n",
              "    <tr>\n",
              "      <th>3</th>\n",
              "      <td>2020-01-23</td>\n",
              "      <td>1</td>\n",
              "    </tr>\n",
              "    <tr>\n",
              "      <th>4</th>\n",
              "      <td>2020-01-24</td>\n",
              "      <td>2</td>\n",
              "    </tr>\n",
              "  </tbody>\n",
              "</table>\n",
              "</div>"
            ],
            "text/plain": [
              "         date  confirmed\n",
              "0  2020-01-20          1\n",
              "1  2020-01-21          1\n",
              "2  2020-01-22          1\n",
              "3  2020-01-23          1\n",
              "4  2020-01-24          2"
            ]
          },
          "metadata": {
            "tags": []
          },
          "execution_count": 109
        }
      ]
    },
    {
      "cell_type": "markdown",
      "metadata": {
        "id": "oSlUTpCejgSO"
      },
      "source": [
        "누적 확진자 수 데이터에서 일일 확진자 수 데이터 구하기"
      ]
    },
    {
      "cell_type": "code",
      "metadata": {
        "id": "Q3c60nd98cLx"
      },
      "source": [
        "confirmed=confirmed.sort_values(['date'],ascending=False)\n",
        "confirmed=confirmed.reset_index()\n",
        "confirmed=confirmed.drop(['index'],axis=1)\n",
        "\n",
        "dict_case=[]\n",
        "for i in range(len(confirmed)-1):\n",
        "    dict_case.append(confirmed['confirmed'][i]-confirmed['confirmed'][i+1])\n",
        "dict_case.append(1)\n",
        "\n",
        "confirmed['daily']=dict_case\n",
        "confirmed=confirmed.sort_values(['date'],ascending=True)\n",
        "confirmed=confirmed.reset_index()\n",
        "confirmede=confirmed.drop(['index'],axis=1)"
      ],
      "execution_count": 110,
      "outputs": []
    },
    {
      "cell_type": "code",
      "metadata": {
        "colab": {
          "base_uri": "https://localhost:8080/",
          "height": 195
        },
        "id": "fUktG2Lznmn4",
        "outputId": "7ae58893-83c4-4c2c-9bb4-1c8a38158aa7"
      },
      "source": [
        "confirmed.head()"
      ],
      "execution_count": 111,
      "outputs": [
        {
          "output_type": "execute_result",
          "data": {
            "text/html": [
              "<div>\n",
              "<style scoped>\n",
              "    .dataframe tbody tr th:only-of-type {\n",
              "        vertical-align: middle;\n",
              "    }\n",
              "\n",
              "    .dataframe tbody tr th {\n",
              "        vertical-align: top;\n",
              "    }\n",
              "\n",
              "    .dataframe thead th {\n",
              "        text-align: right;\n",
              "    }\n",
              "</style>\n",
              "<table border=\"1\" class=\"dataframe\">\n",
              "  <thead>\n",
              "    <tr style=\"text-align: right;\">\n",
              "      <th></th>\n",
              "      <th>index</th>\n",
              "      <th>date</th>\n",
              "      <th>confirmed</th>\n",
              "      <th>daily</th>\n",
              "    </tr>\n",
              "  </thead>\n",
              "  <tbody>\n",
              "    <tr>\n",
              "      <th>0</th>\n",
              "      <td>162</td>\n",
              "      <td>2020-01-20</td>\n",
              "      <td>1</td>\n",
              "      <td>1</td>\n",
              "    </tr>\n",
              "    <tr>\n",
              "      <th>1</th>\n",
              "      <td>161</td>\n",
              "      <td>2020-01-21</td>\n",
              "      <td>1</td>\n",
              "      <td>0</td>\n",
              "    </tr>\n",
              "    <tr>\n",
              "      <th>2</th>\n",
              "      <td>160</td>\n",
              "      <td>2020-01-22</td>\n",
              "      <td>1</td>\n",
              "      <td>0</td>\n",
              "    </tr>\n",
              "    <tr>\n",
              "      <th>3</th>\n",
              "      <td>159</td>\n",
              "      <td>2020-01-23</td>\n",
              "      <td>1</td>\n",
              "      <td>0</td>\n",
              "    </tr>\n",
              "    <tr>\n",
              "      <th>4</th>\n",
              "      <td>158</td>\n",
              "      <td>2020-01-24</td>\n",
              "      <td>2</td>\n",
              "      <td>1</td>\n",
              "    </tr>\n",
              "  </tbody>\n",
              "</table>\n",
              "</div>"
            ],
            "text/plain": [
              "   index        date  confirmed  daily\n",
              "0    162  2020-01-20          1      1\n",
              "1    161  2020-01-21          1      0\n",
              "2    160  2020-01-22          1      0\n",
              "3    159  2020-01-23          1      0\n",
              "4    158  2020-01-24          2      1"
            ]
          },
          "metadata": {
            "tags": []
          },
          "execution_count": 111
        }
      ]
    },
    {
      "cell_type": "code",
      "metadata": {
        "colab": {
          "base_uri": "https://localhost:8080/"
        },
        "id": "xl6iwqX0CCCp",
        "outputId": "c0ab9371-d6f9-402d-debd-1cd0680beb2d"
      },
      "source": [
        "type(confirmed['date'][0])"
      ],
      "execution_count": 112,
      "outputs": [
        {
          "output_type": "execute_result",
          "data": {
            "text/plain": [
              "str"
            ]
          },
          "metadata": {
            "tags": []
          },
          "execution_count": 112
        }
      ]
    },
    {
      "cell_type": "code",
      "metadata": {
        "colab": {
          "base_uri": "https://localhost:8080/"
        },
        "id": "wSjnUmL3CDsL",
        "outputId": "7f13d308-11e6-4346-e432-05cdb7eda1e3"
      },
      "source": [
        "confirmed['date'] = pd.to_datetime(confirmed['date'])\n",
        "type(confirmed['date'][0])"
      ],
      "execution_count": 113,
      "outputs": [
        {
          "output_type": "execute_result",
          "data": {
            "text/plain": [
              "pandas._libs.tslibs.timestamps.Timestamp"
            ]
          },
          "metadata": {
            "tags": []
          },
          "execution_count": 113
        }
      ]
    },
    {
      "cell_type": "code",
      "metadata": {
        "colab": {
          "base_uri": "https://localhost:8080/",
          "height": 225
        },
        "id": "Y3cYoyiVCN1R",
        "outputId": "bc2580ac-2884-4931-c312-f179109225bf"
      },
      "source": [
        "confirmed.index = confirmed['date']\n",
        "confirmed.head()"
      ],
      "execution_count": 114,
      "outputs": [
        {
          "output_type": "execute_result",
          "data": {
            "text/html": [
              "<div>\n",
              "<style scoped>\n",
              "    .dataframe tbody tr th:only-of-type {\n",
              "        vertical-align: middle;\n",
              "    }\n",
              "\n",
              "    .dataframe tbody tr th {\n",
              "        vertical-align: top;\n",
              "    }\n",
              "\n",
              "    .dataframe thead th {\n",
              "        text-align: right;\n",
              "    }\n",
              "</style>\n",
              "<table border=\"1\" class=\"dataframe\">\n",
              "  <thead>\n",
              "    <tr style=\"text-align: right;\">\n",
              "      <th></th>\n",
              "      <th>index</th>\n",
              "      <th>date</th>\n",
              "      <th>confirmed</th>\n",
              "      <th>daily</th>\n",
              "    </tr>\n",
              "    <tr>\n",
              "      <th>date</th>\n",
              "      <th></th>\n",
              "      <th></th>\n",
              "      <th></th>\n",
              "      <th></th>\n",
              "    </tr>\n",
              "  </thead>\n",
              "  <tbody>\n",
              "    <tr>\n",
              "      <th>2020-01-20</th>\n",
              "      <td>162</td>\n",
              "      <td>2020-01-20</td>\n",
              "      <td>1</td>\n",
              "      <td>1</td>\n",
              "    </tr>\n",
              "    <tr>\n",
              "      <th>2020-01-21</th>\n",
              "      <td>161</td>\n",
              "      <td>2020-01-21</td>\n",
              "      <td>1</td>\n",
              "      <td>0</td>\n",
              "    </tr>\n",
              "    <tr>\n",
              "      <th>2020-01-22</th>\n",
              "      <td>160</td>\n",
              "      <td>2020-01-22</td>\n",
              "      <td>1</td>\n",
              "      <td>0</td>\n",
              "    </tr>\n",
              "    <tr>\n",
              "      <th>2020-01-23</th>\n",
              "      <td>159</td>\n",
              "      <td>2020-01-23</td>\n",
              "      <td>1</td>\n",
              "      <td>0</td>\n",
              "    </tr>\n",
              "    <tr>\n",
              "      <th>2020-01-24</th>\n",
              "      <td>158</td>\n",
              "      <td>2020-01-24</td>\n",
              "      <td>2</td>\n",
              "      <td>1</td>\n",
              "    </tr>\n",
              "  </tbody>\n",
              "</table>\n",
              "</div>"
            ],
            "text/plain": [
              "            index       date  confirmed  daily\n",
              "date                                          \n",
              "2020-01-20    162 2020-01-20          1      1\n",
              "2020-01-21    161 2020-01-21          1      0\n",
              "2020-01-22    160 2020-01-22          1      0\n",
              "2020-01-23    159 2020-01-23          1      0\n",
              "2020-01-24    158 2020-01-24          2      1"
            ]
          },
          "metadata": {
            "tags": []
          },
          "execution_count": 114
        }
      ]
    },
    {
      "cell_type": "code",
      "metadata": {
        "colab": {
          "base_uri": "https://localhost:8080/",
          "height": 225
        },
        "id": "1Qu9zJxddHQ0",
        "outputId": "80bf8032-7c81-4163-e0da-b690a5887363"
      },
      "source": [
        "confirmed.drop(columns = ['index', 'date','confirmed'], inplace =True)\n",
        "confirmed.head()"
      ],
      "execution_count": 72,
      "outputs": [
        {
          "output_type": "execute_result",
          "data": {
            "text/html": [
              "<div>\n",
              "<style scoped>\n",
              "    .dataframe tbody tr th:only-of-type {\n",
              "        vertical-align: middle;\n",
              "    }\n",
              "\n",
              "    .dataframe tbody tr th {\n",
              "        vertical-align: top;\n",
              "    }\n",
              "\n",
              "    .dataframe thead th {\n",
              "        text-align: right;\n",
              "    }\n",
              "</style>\n",
              "<table border=\"1\" class=\"dataframe\">\n",
              "  <thead>\n",
              "    <tr style=\"text-align: right;\">\n",
              "      <th></th>\n",
              "      <th>daily</th>\n",
              "    </tr>\n",
              "    <tr>\n",
              "      <th>date</th>\n",
              "      <th></th>\n",
              "    </tr>\n",
              "  </thead>\n",
              "  <tbody>\n",
              "    <tr>\n",
              "      <th>2020-01-20</th>\n",
              "      <td>1</td>\n",
              "    </tr>\n",
              "    <tr>\n",
              "      <th>2020-01-21</th>\n",
              "      <td>0</td>\n",
              "    </tr>\n",
              "    <tr>\n",
              "      <th>2020-01-22</th>\n",
              "      <td>0</td>\n",
              "    </tr>\n",
              "    <tr>\n",
              "      <th>2020-01-23</th>\n",
              "      <td>0</td>\n",
              "    </tr>\n",
              "    <tr>\n",
              "      <th>2020-01-24</th>\n",
              "      <td>1</td>\n",
              "    </tr>\n",
              "  </tbody>\n",
              "</table>\n",
              "</div>"
            ],
            "text/plain": [
              "            daily\n",
              "date             \n",
              "2020-01-20      1\n",
              "2020-01-21      0\n",
              "2020-01-22      0\n",
              "2020-01-23      0\n",
              "2020-01-24      1"
            ]
          },
          "metadata": {
            "tags": []
          },
          "execution_count": 72
        }
      ]
    },
    {
      "cell_type": "markdown",
      "metadata": {
        "id": "QTHlIQOHn-Jr"
      },
      "source": [
        "일일 확진자 시각화"
      ]
    },
    {
      "cell_type": "code",
      "metadata": {
        "colab": {
          "base_uri": "https://localhost:8080/",
          "height": 592
        },
        "id": "ZSeIGimdHvyu",
        "outputId": "e0bb7847-dbae-46f7-dd24-6d926860dea2"
      },
      "source": [
        "plt.bar(confirmed['date'], confirmed['daily'])\n",
        "plt.rcParams['figure.figsize'] = [20,5]\n",
        "plt.show()"
      ],
      "execution_count": 129,
      "outputs": [
        {
          "output_type": "display_data",
          "data": {
            "image/png": "[encoded data removed]",
            "text/plain": [
              "<Figure size 1440x720 with 1 Axes>"
            ]
          },
          "metadata": {
            "tags": [],
            "needs_background": "light"
          }
        }
      ]
    },
    {
      "cell_type": "code",
      "metadata": {
        "id": "ce0cTCYXiLdl",
        "outputId": "0dc547d9-9605-4acf-94b0-c998d8d8e7a2",
        "colab": {
          "base_uri": "https://localhost:8080/",
          "height": 225
        }
      },
      "source": [
        "new = pd.merge(confirmed, trend, left_index = True, right_index = True)\n",
        "new.head()"
      ],
      "execution_count": 76,
      "outputs": [
        {
          "output_type": "execute_result",
          "data": {
            "text/html": [
              "<div>\n",
              "<style scoped>\n",
              "    .dataframe tbody tr th:only-of-type {\n",
              "        vertical-align: middle;\n",
              "    }\n",
              "\n",
              "    .dataframe tbody tr th {\n",
              "        vertical-align: top;\n",
              "    }\n",
              "\n",
              "    .dataframe thead th {\n",
              "        text-align: right;\n",
              "    }\n",
              "</style>\n",
              "<table border=\"1\" class=\"dataframe\">\n",
              "  <thead>\n",
              "    <tr style=\"text-align: right;\">\n",
              "      <th></th>\n",
              "      <th>daily</th>\n",
              "      <th>date</th>\n",
              "      <th>cold</th>\n",
              "      <th>flu</th>\n",
              "      <th>pneumonia</th>\n",
              "      <th>coronavirus</th>\n",
              "      <th>T/F</th>\n",
              "    </tr>\n",
              "    <tr>\n",
              "      <th>date</th>\n",
              "      <th></th>\n",
              "      <th></th>\n",
              "      <th></th>\n",
              "      <th></th>\n",
              "      <th></th>\n",
              "      <th></th>\n",
              "      <th></th>\n",
              "    </tr>\n",
              "  </thead>\n",
              "  <tbody>\n",
              "    <tr>\n",
              "      <th>2020-01-20</th>\n",
              "      <td>1</td>\n",
              "      <td>2020-01-20</td>\n",
              "      <td>0.19217</td>\n",
              "      <td>0.70343</td>\n",
              "      <td>3.63716</td>\n",
              "      <td>20.69610</td>\n",
              "      <td>True</td>\n",
              "    </tr>\n",
              "    <tr>\n",
              "      <th>2020-01-21</th>\n",
              "      <td>0</td>\n",
              "      <td>2020-01-21</td>\n",
              "      <td>0.22462</td>\n",
              "      <td>0.59789</td>\n",
              "      <td>4.31987</td>\n",
              "      <td>35.33284</td>\n",
              "      <td>True</td>\n",
              "    </tr>\n",
              "    <tr>\n",
              "      <th>2020-01-22</th>\n",
              "      <td>0</td>\n",
              "      <td>2020-01-22</td>\n",
              "      <td>0.23808</td>\n",
              "      <td>0.56661</td>\n",
              "      <td>3.66416</td>\n",
              "      <td>29.74474</td>\n",
              "      <td>True</td>\n",
              "    </tr>\n",
              "    <tr>\n",
              "      <th>2020-01-23</th>\n",
              "      <td>0</td>\n",
              "      <td>2020-01-23</td>\n",
              "      <td>0.30308</td>\n",
              "      <td>0.55625</td>\n",
              "      <td>3.18035</td>\n",
              "      <td>100.00000</td>\n",
              "      <td>True</td>\n",
              "    </tr>\n",
              "    <tr>\n",
              "      <th>2020-01-24</th>\n",
              "      <td>1</td>\n",
              "      <td>2020-01-24</td>\n",
              "      <td>0.34689</td>\n",
              "      <td>0.40226</td>\n",
              "      <td>2.48156</td>\n",
              "      <td>86.11541</td>\n",
              "      <td>True</td>\n",
              "    </tr>\n",
              "  </tbody>\n",
              "</table>\n",
              "</div>"
            ],
            "text/plain": [
              "            daily       date     cold      flu  pneumonia  coronavirus   T/F\n",
              "date                                                                        \n",
              "2020-01-20      1 2020-01-20  0.19217  0.70343    3.63716     20.69610  True\n",
              "2020-01-21      0 2020-01-21  0.22462  0.59789    4.31987     35.33284  True\n",
              "2020-01-22      0 2020-01-22  0.23808  0.56661    3.66416     29.74474  True\n",
              "2020-01-23      0 2020-01-23  0.30308  0.55625    3.18035    100.00000  True\n",
              "2020-01-24      1 2020-01-24  0.34689  0.40226    2.48156     86.11541  True"
            ]
          },
          "metadata": {
            "tags": []
          },
          "execution_count": 76
        }
      ]
    },
    {
      "cell_type": "code",
      "metadata": {
        "id": "ZCLX6XLmicgj",
        "outputId": "bf5a050c-c803-4b3b-db41-4704b1b406bb",
        "colab": {
          "base_uri": "https://localhost:8080/"
        }
      },
      "source": [
        "new['daily'].corr(new['coronavirus'])"
      ],
      "execution_count": 77,
      "outputs": [
        {
          "output_type": "execute_result",
          "data": {
            "text/plain": [
              "0.4085281663390897"
            ]
          },
          "metadata": {
            "tags": []
          },
          "execution_count": 77
        }
      ]
    },
    {
      "cell_type": "markdown",
      "metadata": {
        "id": "WNPTnnVAiu4i"
      },
      "source": [
        "# 결론: searchtrend와 정책 격상과의 관계-> 격상 당시에는 증가하지만, 그 이후로는 익숙해져 searchtrend가 급격히 감소한다.\n",
        "\n",
        "# 또한 searchtrend는 일일 확진자 수와 양의 상관관계를 보인다."
      ]
    }
  ]
}