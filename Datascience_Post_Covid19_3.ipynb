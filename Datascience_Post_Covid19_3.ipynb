{
  "nbformat": 4,
  "nbformat_minor": 0,
  "metadata": {
    "colab": {
      "name": "Datascience_Post_Covid19_3.ipynb",
      "provenance": [],
      "mount_file_id": "https://github.com/Pyeonseohee/Deeplearning/blob/main/Datascience_Post_Covid19_3.ipynb",
      "authorship_tag": "ABX9TyPtd9JVxKrh0l02nd35f6Hm",
      "include_colab_link": true
    },
    "kernelspec": {
      "name": "python3",
      "display_name": "Python 3"
    },
    "language_info": {
      "name": "python"
    }
  },
  "cells": [
    {
      "cell_type": "markdown",
      "metadata": {
        "id": "view-in-github",
        "colab_type": "text"
      },
      "source": [
        "<a href=\"https://colab.research.google.com/github/Pyeonseohee/Deeplearning/blob/main/Datascience_Post_Covid19_3.ipynb\" target=\"_parent\"><img src=\"https://colab.research.google.com/assets/colab-badge.svg\" alt=\"Open In Colab\"/></a>"
      ]
    },
    {
      "cell_type": "markdown",
      "metadata": {
        "id": "mxZ0MV0QErYC"
      },
      "source": [
        "# POST - COVID19 데이터 시각화 경진대회\n",
        "\n",
        "* 가설 2: 정책이 격상될 수록 코로나 키워드 검색량이 많아질 것이다."
      ]
    },
    {
      "cell_type": "markdown",
      "metadata": {
        "id": "fK7fWwBNE2bU"
      },
      "source": [
        "필요한 library 불러오기"
      ]
    },
    {
      "cell_type": "code",
      "metadata": {
        "id": "1fdHe_0dt4aN"
      },
      "source": [
        "import pandas as pd\n",
        "from pandas import Series, DataFrame\n",
        "import datetime\n",
        "import matplotlib.pyplot as plt"
      ],
      "execution_count": 2,
      "outputs": []
    },
    {
      "cell_type": "markdown",
      "metadata": {
        "id": "tzMbZJ6JE6Sj"
      },
      "source": [
        "kaggel의 searchtrend data pandas로 불러오기"
      ]
    },
    {
      "cell_type": "code",
      "metadata": {
        "colab": {
          "base_uri": "https://localhost:8080/",
          "height": 195
        },
        "id": "TCY2nTPnuFwg",
        "outputId": "041dfa14-0086-49c8-a5fb-eb5e735d3ed4"
      },
      "source": [
        "trend = pd.read_csv('/content/drive/MyDrive/Post_Covid19/SearchTrend.csv')\n",
        "trend.head()"
      ],
      "execution_count": 3,
      "outputs": [
        {
          "output_type": "execute_result",
          "data": {
            "text/html": [
              "<div>\n",
              "<style scoped>\n",
              "    .dataframe tbody tr th:only-of-type {\n",
              "        vertical-align: middle;\n",
              "    }\n",
              "\n",
              "    .dataframe tbody tr th {\n",
              "        vertical-align: top;\n",
              "    }\n",
              "\n",
              "    .dataframe thead th {\n",
              "        text-align: right;\n",
              "    }\n",
              "</style>\n",
              "<table border=\"1\" class=\"dataframe\">\n",
              "  <thead>\n",
              "    <tr style=\"text-align: right;\">\n",
              "      <th></th>\n",
              "      <th>date</th>\n",
              "      <th>cold</th>\n",
              "      <th>flu</th>\n",
              "      <th>pneumonia</th>\n",
              "      <th>coronavirus</th>\n",
              "    </tr>\n",
              "  </thead>\n",
              "  <tbody>\n",
              "    <tr>\n",
              "      <th>0</th>\n",
              "      <td>2016-01-01</td>\n",
              "      <td>0.11663</td>\n",
              "      <td>0.05590</td>\n",
              "      <td>0.15726</td>\n",
              "      <td>0.00736</td>\n",
              "    </tr>\n",
              "    <tr>\n",
              "      <th>1</th>\n",
              "      <td>2016-01-02</td>\n",
              "      <td>0.13372</td>\n",
              "      <td>0.17135</td>\n",
              "      <td>0.20826</td>\n",
              "      <td>0.00890</td>\n",
              "    </tr>\n",
              "    <tr>\n",
              "      <th>2</th>\n",
              "      <td>2016-01-03</td>\n",
              "      <td>0.14917</td>\n",
              "      <td>0.22317</td>\n",
              "      <td>0.19326</td>\n",
              "      <td>0.00845</td>\n",
              "    </tr>\n",
              "    <tr>\n",
              "      <th>3</th>\n",
              "      <td>2016-01-04</td>\n",
              "      <td>0.17463</td>\n",
              "      <td>0.18626</td>\n",
              "      <td>0.29008</td>\n",
              "      <td>0.01145</td>\n",
              "    </tr>\n",
              "    <tr>\n",
              "      <th>4</th>\n",
              "      <td>2016-01-05</td>\n",
              "      <td>0.17226</td>\n",
              "      <td>0.15072</td>\n",
              "      <td>0.24562</td>\n",
              "      <td>0.01381</td>\n",
              "    </tr>\n",
              "  </tbody>\n",
              "</table>\n",
              "</div>"
            ],
            "text/plain": [
              "         date     cold      flu  pneumonia  coronavirus\n",
              "0  2016-01-01  0.11663  0.05590    0.15726      0.00736\n",
              "1  2016-01-02  0.13372  0.17135    0.20826      0.00890\n",
              "2  2016-01-03  0.14917  0.22317    0.19326      0.00845\n",
              "3  2016-01-04  0.17463  0.18626    0.29008      0.01145\n",
              "4  2016-01-05  0.17226  0.15072    0.24562      0.01381"
            ]
          },
          "metadata": {
            "tags": []
          },
          "execution_count": 3
        }
      ]
    },
    {
      "cell_type": "markdown",
      "metadata": {
        "id": "ybmLDvtpGSq2"
      },
      "source": [
        "정책 실행날짜와 실행내용이 담겨있는 policy 파일 불러오기"
      ]
    },
    {
      "cell_type": "code",
      "metadata": {
        "colab": {
          "base_uri": "https://localhost:8080/",
          "height": 195
        },
        "id": "Vejw-RezvB1U",
        "outputId": "a196b94b-59fc-460d-b142-6e4f6de75896"
      },
      "source": [
        "policy = pd.read_csv('/content/drive/MyDrive/Post_Covid19/Policy.csv')\n",
        "policy.head()"
      ],
      "execution_count": 20,
      "outputs": [
        {
          "output_type": "execute_result",
          "data": {
            "text/html": [
              "<div>\n",
              "<style scoped>\n",
              "    .dataframe tbody tr th:only-of-type {\n",
              "        vertical-align: middle;\n",
              "    }\n",
              "\n",
              "    .dataframe tbody tr th {\n",
              "        vertical-align: top;\n",
              "    }\n",
              "\n",
              "    .dataframe thead th {\n",
              "        text-align: right;\n",
              "    }\n",
              "</style>\n",
              "<table border=\"1\" class=\"dataframe\">\n",
              "  <thead>\n",
              "    <tr style=\"text-align: right;\">\n",
              "      <th></th>\n",
              "      <th>policy_id</th>\n",
              "      <th>country</th>\n",
              "      <th>type</th>\n",
              "      <th>gov_policy</th>\n",
              "      <th>detail</th>\n",
              "      <th>start_date</th>\n",
              "      <th>end_date</th>\n",
              "    </tr>\n",
              "  </thead>\n",
              "  <tbody>\n",
              "    <tr>\n",
              "      <th>0</th>\n",
              "      <td>1</td>\n",
              "      <td>Korea</td>\n",
              "      <td>Alert</td>\n",
              "      <td>Infectious Disease Alert Level</td>\n",
              "      <td>Level 1 (Blue)</td>\n",
              "      <td>2020-01-03</td>\n",
              "      <td>2020-01-19</td>\n",
              "    </tr>\n",
              "    <tr>\n",
              "      <th>1</th>\n",
              "      <td>2</td>\n",
              "      <td>Korea</td>\n",
              "      <td>Alert</td>\n",
              "      <td>Infectious Disease Alert Level</td>\n",
              "      <td>Level 2 (Yellow)</td>\n",
              "      <td>2020-01-20</td>\n",
              "      <td>2020-01-27</td>\n",
              "    </tr>\n",
              "    <tr>\n",
              "      <th>2</th>\n",
              "      <td>3</td>\n",
              "      <td>Korea</td>\n",
              "      <td>Alert</td>\n",
              "      <td>Infectious Disease Alert Level</td>\n",
              "      <td>Level 3 (Orange)</td>\n",
              "      <td>2020-01-28</td>\n",
              "      <td>2020-02-22</td>\n",
              "    </tr>\n",
              "    <tr>\n",
              "      <th>3</th>\n",
              "      <td>4</td>\n",
              "      <td>Korea</td>\n",
              "      <td>Alert</td>\n",
              "      <td>Infectious Disease Alert Level</td>\n",
              "      <td>Level 4 (Red)</td>\n",
              "      <td>2020-02-23</td>\n",
              "      <td>NaN</td>\n",
              "    </tr>\n",
              "    <tr>\n",
              "      <th>4</th>\n",
              "      <td>5</td>\n",
              "      <td>Korea</td>\n",
              "      <td>Immigration</td>\n",
              "      <td>Special Immigration Procedure</td>\n",
              "      <td>from China</td>\n",
              "      <td>2020-02-04</td>\n",
              "      <td>NaN</td>\n",
              "    </tr>\n",
              "  </tbody>\n",
              "</table>\n",
              "</div>"
            ],
            "text/plain": [
              "   policy_id country         type  ...            detail  start_date    end_date\n",
              "0          1   Korea        Alert  ...    Level 1 (Blue)  2020-01-03  2020-01-19\n",
              "1          2   Korea        Alert  ...  Level 2 (Yellow)  2020-01-20  2020-01-27\n",
              "2          3   Korea        Alert  ...  Level 3 (Orange)  2020-01-28  2020-02-22\n",
              "3          4   Korea        Alert  ...     Level 4 (Red)  2020-02-23         NaN\n",
              "4          5   Korea  Immigration  ...        from China  2020-02-04         NaN\n",
              "\n",
              "[5 rows x 7 columns]"
            ]
          },
          "metadata": {
            "tags": []
          },
          "execution_count": 20
        }
      ]
    },
    {
      "cell_type": "code",
      "metadata": {
        "colab": {
          "base_uri": "https://localhost:8080/"
        },
        "id": "77cxRjWGjPG0",
        "outputId": "cf8cc76b-ce37-403c-bbd6-976b66ecbe06"
      },
      "source": [
        "policy.values"
      ],
      "execution_count": 21,
      "outputs": [
        {
          "output_type": "execute_result",
          "data": {
            "text/plain": [
              "array([[1, 'Korea', 'Alert', 'Infectious Disease Alert Level',\n",
              "        'Level 1 (Blue)', '2020-01-03', '2020-01-19'],\n",
              "       [2, 'Korea', 'Alert', 'Infectious Disease Alert Level',\n",
              "        'Level 2 (Yellow)', '2020-01-20', '2020-01-27'],\n",
              "       [3, 'Korea', 'Alert', 'Infectious Disease Alert Level',\n",
              "        'Level 3 (Orange)', '2020-01-28', '2020-02-22'],\n",
              "       [4, 'Korea', 'Alert', 'Infectious Disease Alert Level',\n",
              "        'Level 4 (Red)', '2020-02-23', nan],\n",
              "       [5, 'Korea', 'Immigration', 'Special Immigration Procedure',\n",
              "        'from China', '2020-02-04', nan],\n",
              "       [6, 'Korea', 'Immigration', 'Special Immigration Procedure',\n",
              "        'from Hong Kong', '2020-02-12', nan],\n",
              "       [7, 'Korea', 'Immigration', 'Special Immigration Procedure',\n",
              "        'from Macau', '2020-02-12', nan],\n",
              "       [8, 'Korea', 'Immigration', 'Special Immigration Procedure',\n",
              "        'from Japan', '2020-03-09', nan],\n",
              "       [9, 'Korea', 'Immigration', 'Special Immigration Procedure',\n",
              "        'from Italy', '2020-03-12', nan],\n",
              "       [10, 'Korea', 'Immigration', 'Special Immigration Procedure',\n",
              "        'from Iran', '2020-03-12', nan],\n",
              "       [11, 'Korea', 'Immigration', 'Special Immigration Procedure',\n",
              "        'from France', '2020-03-15', nan],\n",
              "       [12, 'Korea', 'Immigration', 'Special Immigration Procedure',\n",
              "        'from Germany', '2020-03-15', nan],\n",
              "       [13, 'Korea', 'Immigration', 'Special Immigration Procedure',\n",
              "        'from Spain', '2020-03-15', nan],\n",
              "       [14, 'Korea', 'Immigration', 'Special Immigration Procedure',\n",
              "        'from U.K.', '2020-03-15', nan],\n",
              "       [15, 'Korea', 'Immigration', 'Special Immigration Procedure',\n",
              "        'from Netherlands', '2020-03-15', nan],\n",
              "       [16, 'Korea', 'Immigration', 'Special Immigration Procedure',\n",
              "        'from Europe', '2020-03-16', nan],\n",
              "       [17, 'Korea', 'Immigration', 'Special Immigration Procedure',\n",
              "        'from all the countries', '2020-03-19', nan],\n",
              "       [18, 'Korea', 'Immigration', 'Mandatory 14-day Self-Quarantine',\n",
              "        'from all the countries', '2020-04-01', nan],\n",
              "       [19, 'Korea', 'Immigration',\n",
              "        'Mandatory Self-Quarantine & Diagonostic Tests', 'from U.S.',\n",
              "        '2020-04-13', nan],\n",
              "       [20, 'Korea', 'Health',\n",
              "        'Emergency Use Authorization of Diagnostic Kit', '1st EUA',\n",
              "        '2020-02-04', nan],\n",
              "       [21, 'Korea', 'Health',\n",
              "        'Emergency Use Authorization of Diagnostic Kit', '2nd EUA',\n",
              "        '2020-02-12', nan],\n",
              "       [22, 'Korea', 'Health',\n",
              "        'Emergency Use Authorization of Diagnostic Kit', '3rd EUA',\n",
              "        '2020-02-27', nan],\n",
              "       [23, 'Korea', 'Health',\n",
              "        'Emergency Use Authorization of Diagnostic Kit', '4th EUA',\n",
              "        '2020-02-27', nan],\n",
              "       [24, 'Korea', 'Health',\n",
              "        'Emergency Use Authorization of Diagnostic Kit', '5th EUA',\n",
              "        '2020-03-13', nan],\n",
              "       [25, 'Korea', 'Health', 'Drive-Through Screening Center',\n",
              "        'by Local Government', '2020-02-26', nan],\n",
              "       [26, 'Korea', 'Health', 'Drive-Through Screening Center',\n",
              "        'Standard Operating Procedures', '2020-03-04', nan],\n",
              "       [27, 'Korea', 'Health', 'Mask Distribution', 'Public-Sale',\n",
              "        '2020-02-27', nan],\n",
              "       [28, 'Korea', 'Health', 'Mask Distribution',\n",
              "        '5-day Rotation System', '2020-03-09', nan],\n",
              "       [29, 'Korea', 'Social', 'Social Distancing Campaign', 'Strong',\n",
              "        '2020-02-29', '2020-03-21'],\n",
              "       [30, 'Korea', 'Social', 'Social Distancing Campaign', 'Strong',\n",
              "        '2020-03-22', '2020-04-19'],\n",
              "       [31, 'Korea', 'Social', 'Social Distancing Campaign', 'Weak',\n",
              "        '2020-04-20', '2020-05-05'],\n",
              "       [32, 'Korea', 'Social', 'Social Distancing Campaign', 'Weak(1st)',\n",
              "        '2020-05-06', nan],\n",
              "       [33, 'Korea', 'Social', 'Thanks to Challenge korea',\n",
              "        'Relay Cheer Campaign in SNS', '2020-04-16', nan],\n",
              "       [34, 'Korea', 'Education', 'School Closure',\n",
              "        'Daycare Center for Children', '2020-03-02', nan],\n",
              "       [35, 'Korea', 'Education', 'School Opening Delay', 'Kindergarten',\n",
              "        '2020-03-02', '2020-04-06'],\n",
              "       [36, 'Korea', 'Education', 'School Opening Delay', 'High School',\n",
              "        '2020-03-02', '2020-04-06'],\n",
              "       [37, 'Korea', 'Education', 'School Opening Delay',\n",
              "        'Middle School', '2020-03-02', '2020-04-06'],\n",
              "       [38, 'Korea', 'Education', 'School Opening Delay',\n",
              "        'Elementary School', '2020-03-02', '2020-04-06'],\n",
              "       [39, 'Korea', 'Education', 'School Opening with Online Class',\n",
              "        'High School (3rd grade)', '2020-04-09', '2020-05-20'],\n",
              "       [40, 'Korea', 'Education', 'School Opening with Online Class',\n",
              "        'High School (2nd grade)', '2020-04-16', '2020-05-27'],\n",
              "       [41, 'Korea', 'Education', 'School Opening with Online Class',\n",
              "        'High School (1st grade)', '2020-04-16', '2020-06-03'],\n",
              "       [42, 'Korea', 'Education', 'School Opening with Online Class',\n",
              "        'Middle School (3rd grade)', '2020-04-09', '2020-05-27'],\n",
              "       [43, 'Korea', 'Education', 'School Opening with Online Class',\n",
              "        'Middle School (2nd grade)', '2020-04-16', '2020-06-03'],\n",
              "       [44, 'Korea', 'Education', 'School Opening with Online Class',\n",
              "        'Middle School (1st grade)', '2020-04-16', '2020-06-08'],\n",
              "       [45, 'Korea', 'Education', 'School Opening with Online Class',\n",
              "        'Elementary School (5th ~ 6th grade)', '2020-04-16',\n",
              "        '2020-06-08'],\n",
              "       [46, 'Korea', 'Education', 'School Opening with Online Class',\n",
              "        'Elementary School (4th grade)', '2020-04-16', '2020-06-03'],\n",
              "       [47, 'Korea', 'Education', 'School Opening with Online Class',\n",
              "        'Elementary School (3rd grade)', '2020-04-20', '2020-06-03'],\n",
              "       [48, 'Korea', 'Education', 'School Opening with Online Class',\n",
              "        'Elementary School (1st ~ 2nd grade)', '2020-04-20',\n",
              "        '2020-05-27'],\n",
              "       [49, 'Korea', 'Technology', 'Open Data ', 'Patients Information',\n",
              "        '2020-01-20', nan],\n",
              "       [50, 'Korea', 'Technology', 'Open API',\n",
              "        'Public Mask Sales Information', '2020-03-08', nan],\n",
              "       [51, 'Korea', 'Technology', 'Self-Diagnosis App', nan,\n",
              "        '2020-02-12', nan],\n",
              "       [52, 'Korea', 'Technology',\n",
              "        'Self-Quarantine Safety Protection App', nan, '2020-03-07', nan],\n",
              "       [53, 'Korea', 'Technology', 'Electronic Wristbands',\n",
              "        'on people who violate self-quarantine measures', '2020-04-27',\n",
              "        nan],\n",
              "       [54, 'Korea', 'Administrative', 'Close bars and clubs',\n",
              "        'administrative order to close bars and clubs', '2020-05-08',\n",
              "        '2020-06-07'],\n",
              "       [55, 'Korea', 'Administrative',\n",
              "        'local government Administrative orders',\n",
              "        'Gathering limited administrative orders for nursing homes, nursing homes, elderly day care centers and mental hospitals used by vulnerable groups',\n",
              "        '2020-05-16', nan],\n",
              "       [56, 'Korea', 'Administrative', 'Close karaoke',\n",
              "        'Ban on gathering for 2 weeks for all karaoke and coin karaoke',\n",
              "        '2020-05-21', '2020-06-03'],\n",
              "       [57, 'Korea', 'Transformation', 'Logistics center',\n",
              "        'On-site inspection of major logistics facilities such as courier terminals and warehouses',\n",
              "        '2020-05-29', '2020-06-11'],\n",
              "       [58, 'Korea', 'Transformation', 'Wearing of masks',\n",
              "        'Mandatory wearing of passenger mask domestic, international teminal in the airport',\n",
              "        '2020-05-27', nan],\n",
              "       [59, 'Korea', 'Transformation', 'Wearing of masks',\n",
              "        'Drivers such as buses and taxis can refuse to ride passengers without masks',\n",
              "        '2020-05-26', nan],\n",
              "       [60, 'Korea', 'Technology', 'KI-Pass: Korea Internet - Pass',\n",
              "        'new quick response (QR) code system this week to log visitors at high-risk entertainment facilities, restaurants and churches in a bid to track coronavirus cases and prevent further spread of the disease',\n",
              "        '2020-06-10', nan],\n",
              "       [61, 'Korea', 'Health', 'Extends Tightened Quarantine Measures ',\n",
              "        \"Gov't Extends Tightened Quarantine Measures in Seoul Metro Area\",\n",
              "        '2020-05-28', '2020-06-14']], dtype=object)"
            ]
          },
          "metadata": {
            "tags": []
          },
          "execution_count": 21
        }
      ]
    },
    {
      "cell_type": "code",
      "metadata": {
        "colab": {
          "base_uri": "https://localhost:8080/"
        },
        "id": "jE8upSIxizoi",
        "outputId": "99044711-8a08-4bca-8546-c30bde5203b8"
      },
      "source": [
        "trend.shape"
      ],
      "execution_count": 4,
      "outputs": [
        {
          "output_type": "execute_result",
          "data": {
            "text/plain": [
              "(1642, 5)"
            ]
          },
          "metadata": {
            "tags": []
          },
          "execution_count": 4
        }
      ]
    },
    {
      "cell_type": "code",
      "metadata": {
        "colab": {
          "base_uri": "https://localhost:8080/"
        },
        "id": "YyTa2SH3i0zV",
        "outputId": "dd9bc9fd-05aa-478e-8cf1-89f57c06b352"
      },
      "source": [
        "trend.iloc[1641]"
      ],
      "execution_count": 5,
      "outputs": [
        {
          "output_type": "execute_result",
          "data": {
            "text/plain": [
              "date           2020-06-29\n",
              "cold              0.14263\n",
              "flu               0.04308\n",
              "pneumonia         0.11254\n",
              "coronavirus       2.41501\n",
              "Name: 1641, dtype: object"
            ]
          },
          "metadata": {
            "tags": []
          },
          "execution_count": 5
        }
      ]
    },
    {
      "cell_type": "code",
      "metadata": {
        "colab": {
          "base_uri": "https://localhost:8080/"
        },
        "id": "N9U1GfwMi37d",
        "outputId": "caf1c259-ca9a-4224-9efc-1854c1ca9350"
      },
      "source": [
        "trend.iloc[1400]"
      ],
      "execution_count": 6,
      "outputs": [
        {
          "output_type": "execute_result",
          "data": {
            "text/plain": [
              "date           2019-11-01\n",
              "cold              0.12054\n",
              "flu               0.24426\n",
              "pneumonia         0.24899\n",
              "coronavirus       0.00772\n",
              "Name: 1400, dtype: object"
            ]
          },
          "metadata": {
            "tags": []
          },
          "execution_count": 6
        }
      ]
    },
    {
      "cell_type": "markdown",
      "metadata": {
        "id": "u4FraOf-FDys"
      },
      "source": [
        "trend dataframe의 날짜 열의 data type 확인"
      ]
    },
    {
      "cell_type": "code",
      "metadata": {
        "colab": {
          "base_uri": "https://localhost:8080/"
        },
        "id": "wYn4G8nkjFDa",
        "outputId": "de2a0b54-eb42-43d5-fe34-77dafaff5bfd"
      },
      "source": [
        "type(trend['date'][0])"
      ],
      "execution_count": 7,
      "outputs": [
        {
          "output_type": "execute_result",
          "data": {
            "text/plain": [
              "str"
            ]
          },
          "metadata": {
            "tags": []
          },
          "execution_count": 7
        }
      ]
    },
    {
      "cell_type": "markdown",
      "metadata": {
        "id": "3-aUPyzqFLNq"
      },
      "source": [
        "datetime type으로 바꿔주기."
      ]
    },
    {
      "cell_type": "code",
      "metadata": {
        "id": "9R4u--lon1Cl"
      },
      "source": [
        "trend['date'] = pd.to_datetime(trend['date'])"
      ],
      "execution_count": 8,
      "outputs": []
    },
    {
      "cell_type": "markdown",
      "metadata": {
        "id": "ebr2sQcLFj1A"
      },
      "source": [
        "true와 false값을 저장할 T/F 열 추가"
      ]
    },
    {
      "cell_type": "code",
      "metadata": {
        "colab": {
          "base_uri": "https://localhost:8080/",
          "height": 195
        },
        "id": "bIAMN2XUtX10",
        "outputId": "95ab9c85-5327-41c1-9c8a-42888a1a2229"
      },
      "source": [
        "trend = DataFrame(trend, columns = ['date', 'cold', 'flu', 'pneumonia', 'coronavirus', 'T/F'])\n",
        "trend.head()"
      ],
      "execution_count": 10,
      "outputs": [
        {
          "output_type": "execute_result",
          "data": {
            "text/html": [
              "<div>\n",
              "<style scoped>\n",
              "    .dataframe tbody tr th:only-of-type {\n",
              "        vertical-align: middle;\n",
              "    }\n",
              "\n",
              "    .dataframe tbody tr th {\n",
              "        vertical-align: top;\n",
              "    }\n",
              "\n",
              "    .dataframe thead th {\n",
              "        text-align: right;\n",
              "    }\n",
              "</style>\n",
              "<table border=\"1\" class=\"dataframe\">\n",
              "  <thead>\n",
              "    <tr style=\"text-align: right;\">\n",
              "      <th></th>\n",
              "      <th>date</th>\n",
              "      <th>cold</th>\n",
              "      <th>flu</th>\n",
              "      <th>pneumonia</th>\n",
              "      <th>coronavirus</th>\n",
              "      <th>T/F</th>\n",
              "    </tr>\n",
              "  </thead>\n",
              "  <tbody>\n",
              "    <tr>\n",
              "      <th>0</th>\n",
              "      <td>2016-01-01</td>\n",
              "      <td>0.11663</td>\n",
              "      <td>0.05590</td>\n",
              "      <td>0.15726</td>\n",
              "      <td>0.00736</td>\n",
              "      <td>NaN</td>\n",
              "    </tr>\n",
              "    <tr>\n",
              "      <th>1</th>\n",
              "      <td>2016-01-02</td>\n",
              "      <td>0.13372</td>\n",
              "      <td>0.17135</td>\n",
              "      <td>0.20826</td>\n",
              "      <td>0.00890</td>\n",
              "      <td>NaN</td>\n",
              "    </tr>\n",
              "    <tr>\n",
              "      <th>2</th>\n",
              "      <td>2016-01-03</td>\n",
              "      <td>0.14917</td>\n",
              "      <td>0.22317</td>\n",
              "      <td>0.19326</td>\n",
              "      <td>0.00845</td>\n",
              "      <td>NaN</td>\n",
              "    </tr>\n",
              "    <tr>\n",
              "      <th>3</th>\n",
              "      <td>2016-01-04</td>\n",
              "      <td>0.17463</td>\n",
              "      <td>0.18626</td>\n",
              "      <td>0.29008</td>\n",
              "      <td>0.01145</td>\n",
              "      <td>NaN</td>\n",
              "    </tr>\n",
              "    <tr>\n",
              "      <th>4</th>\n",
              "      <td>2016-01-05</td>\n",
              "      <td>0.17226</td>\n",
              "      <td>0.15072</td>\n",
              "      <td>0.24562</td>\n",
              "      <td>0.01381</td>\n",
              "      <td>NaN</td>\n",
              "    </tr>\n",
              "  </tbody>\n",
              "</table>\n",
              "</div>"
            ],
            "text/plain": [
              "        date     cold      flu  pneumonia  coronavirus  T/F\n",
              "0 2016-01-01  0.11663  0.05590    0.15726      0.00736  NaN\n",
              "1 2016-01-02  0.13372  0.17135    0.20826      0.00890  NaN\n",
              "2 2016-01-03  0.14917  0.22317    0.19326      0.00845  NaN\n",
              "3 2016-01-04  0.17463  0.18626    0.29008      0.01145  NaN\n",
              "4 2016-01-05  0.17226  0.15072    0.24562      0.01381  NaN"
            ]
          },
          "metadata": {
            "tags": []
          },
          "execution_count": 10
        }
      ]
    },
    {
      "cell_type": "markdown",
      "metadata": {
        "id": "Y2Ds0a9FFPxC"
      },
      "source": [
        "trend file에 2016부터의 자료가 있으므로 2019년 11월쯤의 자료만 모아보기"
      ]
    },
    {
      "cell_type": "code",
      "metadata": {
        "colab": {
          "base_uri": "https://localhost:8080/",
          "height": 402
        },
        "id": "2j7BKuMJvH4d",
        "outputId": "cc0ca5e5-1d43-4816-c408-cca91ec73ed6"
      },
      "source": [
        "trend['T/F'] = trend.date > pd.to_datetime('2019-10-31')\n",
        "trend.loc[1400:]"
      ],
      "execution_count": 11,
      "outputs": [
        {
          "output_type": "execute_result",
          "data": {
            "text/html": [
              "<div>\n",
              "<style scoped>\n",
              "    .dataframe tbody tr th:only-of-type {\n",
              "        vertical-align: middle;\n",
              "    }\n",
              "\n",
              "    .dataframe tbody tr th {\n",
              "        vertical-align: top;\n",
              "    }\n",
              "\n",
              "    .dataframe thead th {\n",
              "        text-align: right;\n",
              "    }\n",
              "</style>\n",
              "<table border=\"1\" class=\"dataframe\">\n",
              "  <thead>\n",
              "    <tr style=\"text-align: right;\">\n",
              "      <th></th>\n",
              "      <th>date</th>\n",
              "      <th>cold</th>\n",
              "      <th>flu</th>\n",
              "      <th>pneumonia</th>\n",
              "      <th>coronavirus</th>\n",
              "      <th>T/F</th>\n",
              "    </tr>\n",
              "  </thead>\n",
              "  <tbody>\n",
              "    <tr>\n",
              "      <th>1400</th>\n",
              "      <td>2019-11-01</td>\n",
              "      <td>0.12054</td>\n",
              "      <td>0.24426</td>\n",
              "      <td>0.24899</td>\n",
              "      <td>0.00772</td>\n",
              "      <td>True</td>\n",
              "    </tr>\n",
              "    <tr>\n",
              "      <th>1401</th>\n",
              "      <td>2019-11-02</td>\n",
              "      <td>0.10226</td>\n",
              "      <td>0.19917</td>\n",
              "      <td>0.20190</td>\n",
              "      <td>0.00872</td>\n",
              "      <td>True</td>\n",
              "    </tr>\n",
              "    <tr>\n",
              "      <th>1402</th>\n",
              "      <td>2019-11-03</td>\n",
              "      <td>0.11099</td>\n",
              "      <td>0.18735</td>\n",
              "      <td>0.18690</td>\n",
              "      <td>0.00590</td>\n",
              "      <td>True</td>\n",
              "    </tr>\n",
              "    <tr>\n",
              "      <th>1403</th>\n",
              "      <td>2019-11-04</td>\n",
              "      <td>0.14917</td>\n",
              "      <td>0.27926</td>\n",
              "      <td>0.31999</td>\n",
              "      <td>0.00754</td>\n",
              "      <td>True</td>\n",
              "    </tr>\n",
              "    <tr>\n",
              "      <th>1404</th>\n",
              "      <td>2019-11-05</td>\n",
              "      <td>0.15617</td>\n",
              "      <td>0.27090</td>\n",
              "      <td>0.30717</td>\n",
              "      <td>0.01272</td>\n",
              "      <td>True</td>\n",
              "    </tr>\n",
              "    <tr>\n",
              "      <th>...</th>\n",
              "      <td>...</td>\n",
              "      <td>...</td>\n",
              "      <td>...</td>\n",
              "      <td>...</td>\n",
              "      <td>...</td>\n",
              "      <td>...</td>\n",
              "    </tr>\n",
              "    <tr>\n",
              "      <th>1637</th>\n",
              "      <td>2020-06-25</td>\n",
              "      <td>0.12072</td>\n",
              "      <td>0.04190</td>\n",
              "      <td>0.11936</td>\n",
              "      <td>2.16993</td>\n",
              "      <td>True</td>\n",
              "    </tr>\n",
              "    <tr>\n",
              "      <th>1638</th>\n",
              "      <td>2020-06-26</td>\n",
              "      <td>0.11381</td>\n",
              "      <td>0.03027</td>\n",
              "      <td>0.11317</td>\n",
              "      <td>2.15139</td>\n",
              "      <td>True</td>\n",
              "    </tr>\n",
              "    <tr>\n",
              "      <th>1639</th>\n",
              "      <td>2020-06-27</td>\n",
              "      <td>0.10554</td>\n",
              "      <td>0.02136</td>\n",
              "      <td>0.08354</td>\n",
              "      <td>1.96848</td>\n",
              "      <td>True</td>\n",
              "    </tr>\n",
              "    <tr>\n",
              "      <th>1640</th>\n",
              "      <td>2020-06-28</td>\n",
              "      <td>0.12563</td>\n",
              "      <td>0.02872</td>\n",
              "      <td>0.08072</td>\n",
              "      <td>2.19720</td>\n",
              "      <td>True</td>\n",
              "    </tr>\n",
              "    <tr>\n",
              "      <th>1641</th>\n",
              "      <td>2020-06-29</td>\n",
              "      <td>0.14263</td>\n",
              "      <td>0.04308</td>\n",
              "      <td>0.11254</td>\n",
              "      <td>2.41501</td>\n",
              "      <td>True</td>\n",
              "    </tr>\n",
              "  </tbody>\n",
              "</table>\n",
              "<p>242 rows × 6 columns</p>\n",
              "</div>"
            ],
            "text/plain": [
              "           date     cold      flu  pneumonia  coronavirus   T/F\n",
              "1400 2019-11-01  0.12054  0.24426    0.24899      0.00772  True\n",
              "1401 2019-11-02  0.10226  0.19917    0.20190      0.00872  True\n",
              "1402 2019-11-03  0.11099  0.18735    0.18690      0.00590  True\n",
              "1403 2019-11-04  0.14917  0.27926    0.31999      0.00754  True\n",
              "1404 2019-11-05  0.15617  0.27090    0.30717      0.01272  True\n",
              "...         ...      ...      ...        ...          ...   ...\n",
              "1637 2020-06-25  0.12072  0.04190    0.11936      2.16993  True\n",
              "1638 2020-06-26  0.11381  0.03027    0.11317      2.15139  True\n",
              "1639 2020-06-27  0.10554  0.02136    0.08354      1.96848  True\n",
              "1640 2020-06-28  0.12563  0.02872    0.08072      2.19720  True\n",
              "1641 2020-06-29  0.14263  0.04308    0.11254      2.41501  True\n",
              "\n",
              "[242 rows x 6 columns]"
            ]
          },
          "metadata": {
            "tags": []
          },
          "execution_count": 11
        }
      ]
    },
    {
      "cell_type": "code",
      "metadata": {
        "id": "fjN01kBUv0IR"
      },
      "source": [
        "droped = trend[trend['T/F'] == False].index\n",
        "trend = trend.drop(droped)"
      ],
      "execution_count": 12,
      "outputs": []
    },
    {
      "cell_type": "code",
      "metadata": {
        "colab": {
          "base_uri": "https://localhost:8080/",
          "height": 195
        },
        "id": "RcSBiMfmvjAq",
        "outputId": "f611c085-ee52-410d-fdb2-57708865f4ec"
      },
      "source": [
        "trend.head()"
      ],
      "execution_count": 13,
      "outputs": [
        {
          "output_type": "execute_result",
          "data": {
            "text/html": [
              "<div>\n",
              "<style scoped>\n",
              "    .dataframe tbody tr th:only-of-type {\n",
              "        vertical-align: middle;\n",
              "    }\n",
              "\n",
              "    .dataframe tbody tr th {\n",
              "        vertical-align: top;\n",
              "    }\n",
              "\n",
              "    .dataframe thead th {\n",
              "        text-align: right;\n",
              "    }\n",
              "</style>\n",
              "<table border=\"1\" class=\"dataframe\">\n",
              "  <thead>\n",
              "    <tr style=\"text-align: right;\">\n",
              "      <th></th>\n",
              "      <th>date</th>\n",
              "      <th>cold</th>\n",
              "      <th>flu</th>\n",
              "      <th>pneumonia</th>\n",
              "      <th>coronavirus</th>\n",
              "      <th>T/F</th>\n",
              "    </tr>\n",
              "  </thead>\n",
              "  <tbody>\n",
              "    <tr>\n",
              "      <th>1400</th>\n",
              "      <td>2019-11-01</td>\n",
              "      <td>0.12054</td>\n",
              "      <td>0.24426</td>\n",
              "      <td>0.24899</td>\n",
              "      <td>0.00772</td>\n",
              "      <td>True</td>\n",
              "    </tr>\n",
              "    <tr>\n",
              "      <th>1401</th>\n",
              "      <td>2019-11-02</td>\n",
              "      <td>0.10226</td>\n",
              "      <td>0.19917</td>\n",
              "      <td>0.20190</td>\n",
              "      <td>0.00872</td>\n",
              "      <td>True</td>\n",
              "    </tr>\n",
              "    <tr>\n",
              "      <th>1402</th>\n",
              "      <td>2019-11-03</td>\n",
              "      <td>0.11099</td>\n",
              "      <td>0.18735</td>\n",
              "      <td>0.18690</td>\n",
              "      <td>0.00590</td>\n",
              "      <td>True</td>\n",
              "    </tr>\n",
              "    <tr>\n",
              "      <th>1403</th>\n",
              "      <td>2019-11-04</td>\n",
              "      <td>0.14917</td>\n",
              "      <td>0.27926</td>\n",
              "      <td>0.31999</td>\n",
              "      <td>0.00754</td>\n",
              "      <td>True</td>\n",
              "    </tr>\n",
              "    <tr>\n",
              "      <th>1404</th>\n",
              "      <td>2019-11-05</td>\n",
              "      <td>0.15617</td>\n",
              "      <td>0.27090</td>\n",
              "      <td>0.30717</td>\n",
              "      <td>0.01272</td>\n",
              "      <td>True</td>\n",
              "    </tr>\n",
              "  </tbody>\n",
              "</table>\n",
              "</div>"
            ],
            "text/plain": [
              "           date     cold      flu  pneumonia  coronavirus   T/F\n",
              "1400 2019-11-01  0.12054  0.24426    0.24899      0.00772  True\n",
              "1401 2019-11-02  0.10226  0.19917    0.20190      0.00872  True\n",
              "1402 2019-11-03  0.11099  0.18735    0.18690      0.00590  True\n",
              "1403 2019-11-04  0.14917  0.27926    0.31999      0.00754  True\n",
              "1404 2019-11-05  0.15617  0.27090    0.30717      0.01272  True"
            ]
          },
          "metadata": {
            "tags": []
          },
          "execution_count": 13
        }
      ]
    },
    {
      "cell_type": "code",
      "metadata": {
        "colab": {
          "base_uri": "https://localhost:8080/",
          "height": 225
        },
        "id": "pCgCDR5_wvzW",
        "outputId": "b1482080-91f2-4824-f926-74fe6a964e81"
      },
      "source": [
        "trend.index = trend['date']\n",
        "trend.head()"
      ],
      "execution_count": 14,
      "outputs": [
        {
          "output_type": "execute_result",
          "data": {
            "text/html": [
              "<div>\n",
              "<style scoped>\n",
              "    .dataframe tbody tr th:only-of-type {\n",
              "        vertical-align: middle;\n",
              "    }\n",
              "\n",
              "    .dataframe tbody tr th {\n",
              "        vertical-align: top;\n",
              "    }\n",
              "\n",
              "    .dataframe thead th {\n",
              "        text-align: right;\n",
              "    }\n",
              "</style>\n",
              "<table border=\"1\" class=\"dataframe\">\n",
              "  <thead>\n",
              "    <tr style=\"text-align: right;\">\n",
              "      <th></th>\n",
              "      <th>date</th>\n",
              "      <th>cold</th>\n",
              "      <th>flu</th>\n",
              "      <th>pneumonia</th>\n",
              "      <th>coronavirus</th>\n",
              "      <th>T/F</th>\n",
              "    </tr>\n",
              "    <tr>\n",
              "      <th>date</th>\n",
              "      <th></th>\n",
              "      <th></th>\n",
              "      <th></th>\n",
              "      <th></th>\n",
              "      <th></th>\n",
              "      <th></th>\n",
              "    </tr>\n",
              "  </thead>\n",
              "  <tbody>\n",
              "    <tr>\n",
              "      <th>2019-11-01</th>\n",
              "      <td>2019-11-01</td>\n",
              "      <td>0.12054</td>\n",
              "      <td>0.24426</td>\n",
              "      <td>0.24899</td>\n",
              "      <td>0.00772</td>\n",
              "      <td>True</td>\n",
              "    </tr>\n",
              "    <tr>\n",
              "      <th>2019-11-02</th>\n",
              "      <td>2019-11-02</td>\n",
              "      <td>0.10226</td>\n",
              "      <td>0.19917</td>\n",
              "      <td>0.20190</td>\n",
              "      <td>0.00872</td>\n",
              "      <td>True</td>\n",
              "    </tr>\n",
              "    <tr>\n",
              "      <th>2019-11-03</th>\n",
              "      <td>2019-11-03</td>\n",
              "      <td>0.11099</td>\n",
              "      <td>0.18735</td>\n",
              "      <td>0.18690</td>\n",
              "      <td>0.00590</td>\n",
              "      <td>True</td>\n",
              "    </tr>\n",
              "    <tr>\n",
              "      <th>2019-11-04</th>\n",
              "      <td>2019-11-04</td>\n",
              "      <td>0.14917</td>\n",
              "      <td>0.27926</td>\n",
              "      <td>0.31999</td>\n",
              "      <td>0.00754</td>\n",
              "      <td>True</td>\n",
              "    </tr>\n",
              "    <tr>\n",
              "      <th>2019-11-05</th>\n",
              "      <td>2019-11-05</td>\n",
              "      <td>0.15617</td>\n",
              "      <td>0.27090</td>\n",
              "      <td>0.30717</td>\n",
              "      <td>0.01272</td>\n",
              "      <td>True</td>\n",
              "    </tr>\n",
              "  </tbody>\n",
              "</table>\n",
              "</div>"
            ],
            "text/plain": [
              "                 date     cold      flu  pneumonia  coronavirus   T/F\n",
              "date                                                                 \n",
              "2019-11-01 2019-11-01  0.12054  0.24426    0.24899      0.00772  True\n",
              "2019-11-02 2019-11-02  0.10226  0.19917    0.20190      0.00872  True\n",
              "2019-11-03 2019-11-03  0.11099  0.18735    0.18690      0.00590  True\n",
              "2019-11-04 2019-11-04  0.14917  0.27926    0.31999      0.00754  True\n",
              "2019-11-05 2019-11-05  0.15617  0.27090    0.30717      0.01272  True"
            ]
          },
          "metadata": {
            "tags": []
          },
          "execution_count": 14
        }
      ]
    },
    {
      "cell_type": "markdown",
      "metadata": {
        "id": "gspySrsPGHHQ"
      },
      "source": [
        "사회적 거리두기 단계에 따른 searchtrend 살펴보기"
      ]
    },
    {
      "cell_type": "code",
      "metadata": {
        "colab": {
          "base_uri": "https://localhost:8080/",
          "height": 351
        },
        "id": "mMXl_1A5tpDp",
        "outputId": "b1b8ff1c-00a5-42be-a50f-2b17df19cd99"
      },
      "source": [
        "trend['coronavirus'].plot(figsize=(20,5))\n",
        "plt.axvline(x='2020-02-29', ymin=0.0, ymax=1.0, color='red')\n",
        "plt.axvline(x='2020-03-22', ymin=0.0, ymax=1.0, color='orange')\n",
        "plt.axvline(x='2020-04-20', ymin=0.0, ymax=1.0, color='yellow')\n",
        "plt.axvline(x='2020-05-06', ymin=0.0, ymax=1.0, color='green')"
      ],
      "execution_count": 16,
      "outputs": [
        {
          "output_type": "execute_result",
          "data": {
            "text/plain": [
              "<matplotlib.lines.Line2D at 0x7fc389404d50>"
            ]
          },
          "metadata": {
            "tags": []
          },
          "execution_count": 16
        },
        {
          "output_type": "display_data",
          "data": {
            "image/png": "[encoded data removed]",
            "text/plain": [
              "<Figure size 1440x360 with 1 Axes>"
            ]
          },
          "metadata": {
            "tags": [],
            "needs_background": "light"
          }
        }
      ]
    },
    {
      "cell_type": "code",
      "metadata": {
        "colab": {
          "base_uri": "https://localhost:8080/",
          "height": 355
        },
        "id": "-VdK81rJwp9c",
        "outputId": "4c96a8c2-cf9d-4162-9e2a-0d17269da1b2"
      },
      "source": [
        "trend['cold'].plot(figsize=(20,5))\n",
        "plt.axvline(x='2020-02-29', ymin=0.0, ymax=1.0, color='red')\n",
        "plt.axvline(x='2020-03-22', ymin=0.0, ymax=1.0, color='orange')\n",
        "plt.axvline(x='2020-04-20', ymin=0.0, ymax=1.0, color='yellow')\n",
        "plt.axvline(x='2020-05-06', ymin=0.0, ymax=1.0, color='green')"
      ],
      "execution_count": 17,
      "outputs": [
        {
          "output_type": "execute_result",
          "data": {
            "text/plain": [
              "<matplotlib.lines.Line2D at 0x7fc3892f1750>"
            ]
          },
          "metadata": {
            "tags": []
          },
          "execution_count": 17
        },
        {
          "output_type": "display_data",
          "data": {
            "image/png": "[encoded data removed]",
            "text/plain": [
              "<Figure size 1440x360 with 1 Axes>"
            ]
          },
          "metadata": {
            "tags": [],
            "needs_background": "light"
          }
        }
      ]
    },
    {
      "cell_type": "code",
      "metadata": {
        "colab": {
          "base_uri": "https://localhost:8080/",
          "height": 352
        },
        "id": "xSaR9urjoBUJ",
        "outputId": "880a1cde-ce52-4697-ac91-d3a8ab921ba3"
      },
      "source": [
        "trend['flu'].plot(figsize=(20,5))\n",
        "plt.axvline(x='2020-02-29', ymin=0.0, ymax=1.0, color='red')\n",
        "plt.axvline(x='2020-03-22', ymin=0.0, ymax=1.0, color='orange')\n",
        "plt.axvline(x='2020-04-20', ymin=0.0, ymax=1.0, color='yellow')\n",
        "plt.axvline(x='2020-05-06', ymin=0.0, ymax=1.0, color='green')"
      ],
      "execution_count": 18,
      "outputs": [
        {
          "output_type": "execute_result",
          "data": {
            "text/plain": [
              "<matplotlib.lines.Line2D at 0x7fc3891dab10>"
            ]
          },
          "metadata": {
            "tags": []
          },
          "execution_count": 18
        },
        {
          "output_type": "display_data",
          "data": {
            "image/png": "[encoded data removed]",
            "text/plain": [
              "<Figure size 1440x360 with 1 Axes>"
            ]
          },
          "metadata": {
            "tags": [],
            "needs_background": "light"
          }
        }
      ]
    },
    {
      "cell_type": "code",
      "metadata": {
        "colab": {
          "base_uri": "https://localhost:8080/",
          "height": 353
        },
        "id": "bDuznSLCn0I_",
        "outputId": "fc6f08a1-b680-4ad4-970e-d958a60f0f11"
      },
      "source": [
        "trend['pneumonia'].plot(figsize=(20,5))\n",
        "plt.axvline(x='2020-02-29', ymin=0.0, ymax=1.0, color='red')\n",
        "plt.axvline(x='2020-03-22', ymin=0.0, ymax=1.0, color='orange')\n",
        "plt.axvline(x='2020-04-20', ymin=0.0, ymax=1.0, color='yellow')\n",
        "plt.axvline(x='2020-05-06', ymin=0.0, ymax=1.0, color='green')"
      ],
      "execution_count": 19,
      "outputs": [
        {
          "output_type": "execute_result",
          "data": {
            "text/plain": [
              "<matplotlib.lines.Line2D at 0x7fc3891283d0>"
            ]
          },
          "metadata": {
            "tags": []
          },
          "execution_count": 19
        },
        {
          "output_type": "display_data",
          "data": {
            "image/png": "[encoded data removed]",
            "text/plain": [
              "<Figure size 1440x360 with 1 Axes>"
            ]
          },
          "metadata": {
            "tags": [],
            "needs_background": "light"
          }
        }
      ]
    },
    {
      "cell_type": "markdown",
      "metadata": {
        "id": "1pTaaXiqGDWx"
      },
      "source": [
        "전염 경보 레벨에 따른 searchtrend 변화"
      ]
    },
    {
      "cell_type": "code",
      "metadata": {
        "colab": {
          "base_uri": "https://localhost:8080/",
          "height": 347
        },
        "id": "_gSP8o_T66Og",
        "outputId": "077c1bcb-3987-4ec3-c1d4-5621ca6a756a"
      },
      "source": [
        "trend['coronavirus'].plot(figsize=(20,5))\n",
        "plt.axvline(x='2020-01-03', ymin=0.0, ymax=1.0, color='green')\n",
        "plt.axvline(x='2020-01-20', ymin=0.0, ymax=1.0, color='yellow')\n",
        "plt.axvline(x='2020-01-28', ymin=0.0, ymax=1.0, color='orange')\n",
        "plt.axvline(x='2020-02-23', ymin=0.0, ymax=1.0, color='red')\n",
        "plt.xlabel('Date')\n",
        "plt.ylabel('Search rate')"
      ],
      "execution_count": 23,
      "outputs": [
        {
          "output_type": "execute_result",
          "data": {
            "text/plain": [
              "Text(0, 0.5, 'Search rate')"
            ]
          },
          "metadata": {
            "tags": []
          },
          "execution_count": 23
        },
        {
          "output_type": "display_data",
          "data": {
            "image/png": "[encoded data removed]",
            "text/plain": [
              "<Figure size 1440x360 with 1 Axes>"
            ]
          },
          "metadata": {
            "tags": [],
            "needs_background": "light"
          }
        }
      ]
    },
    {
      "cell_type": "code",
      "metadata": {
        "colab": {
          "base_uri": "https://localhost:8080/",
          "height": 355
        },
        "id": "1mLYNKwY7G2V",
        "outputId": "1091d0a9-8bda-47bf-c336-1693445f692f"
      },
      "source": [
        "trend['cold'].plot(figsize=(20,5))\n",
        "plt.axvline(x='2020-01-03', ymin=0.0, ymax=1.0, color='green')\n",
        "plt.axvline(x='2020-01-20', ymin=0.0, ymax=1.0, color='yellow')\n",
        "plt.axvline(x='2020-01-28', ymin=0.0, ymax=1.0, color='orange')\n",
        "plt.axvline(x='2020-02-23', ymin=0.0, ymax=1.0, color='red')"
      ],
      "execution_count": 24,
      "outputs": [
        {
          "output_type": "execute_result",
          "data": {
            "text/plain": [
              "<matplotlib.lines.Line2D at 0x7fc388ed4810>"
            ]
          },
          "metadata": {
            "tags": []
          },
          "execution_count": 24
        },
        {
          "output_type": "display_data",
          "data": {
            "image/png": "[encoded data removed]",
            "text/plain": [
              "<Figure size 1440x360 with 1 Axes>"
            ]
          },
          "metadata": {
            "tags": [],
            "needs_background": "light"
          }
        }
      ]
    },
    {
      "cell_type": "code",
      "metadata": {
        "colab": {
          "base_uri": "https://localhost:8080/",
          "height": 352
        },
        "id": "v8Zxk5Kx7ZBs",
        "outputId": "2659a1b2-73a1-40dd-85d8-82a8e8fbc948"
      },
      "source": [
        "trend['flu'].plot(figsize=(20,5))\n",
        "plt.axvline(x='2020-01-03', ymin=0.0, ymax=1.0, color='green')\n",
        "plt.axvline(x='2020-01-20', ymin=0.0, ymax=1.0, color='yellow')\n",
        "plt.axvline(x='2020-01-28', ymin=0.0, ymax=1.0, color='orange')\n",
        "plt.axvline(x='2020-02-23', ymin=0.0, ymax=1.0, color='red')"
      ],
      "execution_count": 25,
      "outputs": [
        {
          "output_type": "execute_result",
          "data": {
            "text/plain": [
              "<matplotlib.lines.Line2D at 0x7fc388dc3250>"
            ]
          },
          "metadata": {
            "tags": []
          },
          "execution_count": 25
        },
        {
          "output_type": "display_data",
          "data": {
            "image/png": "[encoded data removed]",
            "text/plain": [
              "<Figure size 1440x360 with 1 Axes>"
            ]
          },
          "metadata": {
            "tags": [],
            "needs_background": "light"
          }
        }
      ]
    },
    {
      "cell_type": "code",
      "metadata": {
        "colab": {
          "base_uri": "https://localhost:8080/",
          "height": 353
        },
        "id": "up_Tnvcu7a2L",
        "outputId": "5a799942-29c4-4a3d-8055-33d9cc77420a"
      },
      "source": [
        "trend['pneumonia'].plot(figsize=(20,5))\n",
        "plt.axvline(x='2020-01-03', ymin=0.0, ymax=1.0, color='green')\n",
        "plt.axvline(x='2020-01-20', ymin=0.0, ymax=1.0, color='yellow')\n",
        "plt.axvline(x='2020-01-28', ymin=0.0, ymax=1.0, color='orange')\n",
        "plt.axvline(x='2020-02-23', ymin=0.0, ymax=1.0, color='red')"
      ],
      "execution_count": 26,
      "outputs": [
        {
          "output_type": "execute_result",
          "data": {
            "text/plain": [
              "<matplotlib.lines.Line2D at 0x7fc388d0e590>"
            ]
          },
          "metadata": {
            "tags": []
          },
          "execution_count": 26
        },
        {
          "output_type": "display_data",
          "data": {
            "image/png": "[encoded data removed]",
            "text/plain": [
              "<Figure size 1440x360 with 1 Axes>"
            ]
          },
          "metadata": {
            "tags": [],
            "needs_background": "light"
          }
        }
      ]
    },
    {
      "cell_type": "markdown",
      "metadata": {
        "id": "nZ8FvLZSGdy6"
      },
      "source": [
        "search trend 간의 상관계수(corr) 확인하기"
      ]
    },
    {
      "cell_type": "code",
      "metadata": {
        "colab": {
          "base_uri": "https://localhost:8080/",
          "height": 195
        },
        "id": "Ht8RWPVw7bvE",
        "outputId": "28ee9d37-d13c-413b-aea5-0f8c11166006"
      },
      "source": [
        "trend.corr()"
      ],
      "execution_count": null,
      "outputs": [
        {
          "output_type": "execute_result",
          "data": {
            "text/html": [
              "<div>\n",
              "<style scoped>\n",
              "    .dataframe tbody tr th:only-of-type {\n",
              "        vertical-align: middle;\n",
              "    }\n",
              "\n",
              "    .dataframe tbody tr th {\n",
              "        vertical-align: top;\n",
              "    }\n",
              "\n",
              "    .dataframe thead th {\n",
              "        text-align: right;\n",
              "    }\n",
              "</style>\n",
              "<table border=\"1\" class=\"dataframe\">\n",
              "  <thead>\n",
              "    <tr style=\"text-align: right;\">\n",
              "      <th></th>\n",
              "      <th>cold</th>\n",
              "      <th>flu</th>\n",
              "      <th>pneumonia</th>\n",
              "      <th>coronavirus</th>\n",
              "      <th>T/F</th>\n",
              "    </tr>\n",
              "  </thead>\n",
              "  <tbody>\n",
              "    <tr>\n",
              "      <th>cold</th>\n",
              "      <td>1.000000</td>\n",
              "      <td>0.067614</td>\n",
              "      <td>0.218791</td>\n",
              "      <td>0.684278</td>\n",
              "      <td>NaN</td>\n",
              "    </tr>\n",
              "    <tr>\n",
              "      <th>flu</th>\n",
              "      <td>0.067614</td>\n",
              "      <td>1.000000</td>\n",
              "      <td>0.429369</td>\n",
              "      <td>0.065522</td>\n",
              "      <td>NaN</td>\n",
              "    </tr>\n",
              "    <tr>\n",
              "      <th>pneumonia</th>\n",
              "      <td>0.218791</td>\n",
              "      <td>0.429369</td>\n",
              "      <td>1.000000</td>\n",
              "      <td>0.412048</td>\n",
              "      <td>NaN</td>\n",
              "    </tr>\n",
              "    <tr>\n",
              "      <th>coronavirus</th>\n",
              "      <td>0.684278</td>\n",
              "      <td>0.065522</td>\n",
              "      <td>0.412048</td>\n",
              "      <td>1.000000</td>\n",
              "      <td>NaN</td>\n",
              "    </tr>\n",
              "    <tr>\n",
              "      <th>T/F</th>\n",
              "      <td>NaN</td>\n",
              "      <td>NaN</td>\n",
              "      <td>NaN</td>\n",
              "      <td>NaN</td>\n",
              "      <td>NaN</td>\n",
              "    </tr>\n",
              "  </tbody>\n",
              "</table>\n",
              "</div>"
            ],
            "text/plain": [
              "                 cold       flu  pneumonia  coronavirus  T/F\n",
              "cold         1.000000  0.067614   0.218791     0.684278  NaN\n",
              "flu          0.067614  1.000000   0.429369     0.065522  NaN\n",
              "pneumonia    0.218791  0.429369   1.000000     0.412048  NaN\n",
              "coronavirus  0.684278  0.065522   0.412048     1.000000  NaN\n",
              "T/F               NaN       NaN        NaN          NaN  NaN"
            ]
          },
          "metadata": {
            "tags": []
          },
          "execution_count": 21
        }
      ]
    },
    {
      "cell_type": "code",
      "metadata": {
        "colab": {
          "base_uri": "https://localhost:8080/",
          "height": 195
        },
        "id": "yguxhfPmnqMk",
        "outputId": "1f273d35-e054-442e-a8ed-3365272757ee"
      },
      "source": [
        "confirmed = pd.read_csv('/content/drive/MyDrive/Post_Covid19/Time.csv', usecols = ['date', 'confirmed'])\n",
        "confirmed.head()"
      ],
      "execution_count": 27,
      "outputs": [
        {
          "output_type": "execute_result",
          "data": {
            "text/html": [
              "<div>\n",
              "<style scoped>\n",
              "    .dataframe tbody tr th:only-of-type {\n",
              "        vertical-align: middle;\n",
              "    }\n",
              "\n",
              "    .dataframe tbody tr th {\n",
              "        vertical-align: top;\n",
              "    }\n",
              "\n",
              "    .dataframe thead th {\n",
              "        text-align: right;\n",
              "    }\n",
              "</style>\n",
              "<table border=\"1\" class=\"dataframe\">\n",
              "  <thead>\n",
              "    <tr style=\"text-align: right;\">\n",
              "      <th></th>\n",
              "      <th>date</th>\n",
              "      <th>confirmed</th>\n",
              "    </tr>\n",
              "  </thead>\n",
              "  <tbody>\n",
              "    <tr>\n",
              "      <th>0</th>\n",
              "      <td>2020-01-20</td>\n",
              "      <td>1</td>\n",
              "    </tr>\n",
              "    <tr>\n",
              "      <th>1</th>\n",
              "      <td>2020-01-21</td>\n",
              "      <td>1</td>\n",
              "    </tr>\n",
              "    <tr>\n",
              "      <th>2</th>\n",
              "      <td>2020-01-22</td>\n",
              "      <td>1</td>\n",
              "    </tr>\n",
              "    <tr>\n",
              "      <th>3</th>\n",
              "      <td>2020-01-23</td>\n",
              "      <td>1</td>\n",
              "    </tr>\n",
              "    <tr>\n",
              "      <th>4</th>\n",
              "      <td>2020-01-24</td>\n",
              "      <td>2</td>\n",
              "    </tr>\n",
              "  </tbody>\n",
              "</table>\n",
              "</div>"
            ],
            "text/plain": [
              "         date  confirmed\n",
              "0  2020-01-20          1\n",
              "1  2020-01-21          1\n",
              "2  2020-01-22          1\n",
              "3  2020-01-23          1\n",
              "4  2020-01-24          2"
            ]
          },
          "metadata": {
            "tags": []
          },
          "execution_count": 27
        }
      ]
    },
    {
      "cell_type": "code",
      "metadata": {
        "id": "Q3c60nd98cLx"
      },
      "source": [
        "confirmed=confirmed.sort_values(['date'],ascending=False)\n",
        "confirmed=confirmed.reset_index()\n",
        "confirmed=confirmed.drop(['index'],axis=1)\n",
        "\n",
        "dict_case=[]\n",
        "for i in range(len(confirmed)-1):\n",
        "    dict_case.append(confirmed['confirmed'][i]-confirmed['confirmed'][i+1])\n",
        "dict_case.append(1)\n",
        "\n",
        "confirmed['daily']=dict_case\n",
        "confirmed=confirmed.sort_values(['date'],ascending=True)\n",
        "confirmed=confirmed.reset_index()\n",
        "confirmede=confirmed.drop(['index'],axis=1)"
      ],
      "execution_count": 28,
      "outputs": []
    },
    {
      "cell_type": "code",
      "metadata": {
        "colab": {
          "base_uri": "https://localhost:8080/",
          "height": 195
        },
        "id": "fUktG2Lznmn4",
        "outputId": "9f9e9a80-ca95-4658-d438-3864cc3679c6"
      },
      "source": [
        "confirmed.head()"
      ],
      "execution_count": 29,
      "outputs": [
        {
          "output_type": "execute_result",
          "data": {
            "text/html": [
              "<div>\n",
              "<style scoped>\n",
              "    .dataframe tbody tr th:only-of-type {\n",
              "        vertical-align: middle;\n",
              "    }\n",
              "\n",
              "    .dataframe tbody tr th {\n",
              "        vertical-align: top;\n",
              "    }\n",
              "\n",
              "    .dataframe thead th {\n",
              "        text-align: right;\n",
              "    }\n",
              "</style>\n",
              "<table border=\"1\" class=\"dataframe\">\n",
              "  <thead>\n",
              "    <tr style=\"text-align: right;\">\n",
              "      <th></th>\n",
              "      <th>index</th>\n",
              "      <th>date</th>\n",
              "      <th>confirmed</th>\n",
              "      <th>daily</th>\n",
              "    </tr>\n",
              "  </thead>\n",
              "  <tbody>\n",
              "    <tr>\n",
              "      <th>0</th>\n",
              "      <td>162</td>\n",
              "      <td>2020-01-20</td>\n",
              "      <td>1</td>\n",
              "      <td>1</td>\n",
              "    </tr>\n",
              "    <tr>\n",
              "      <th>1</th>\n",
              "      <td>161</td>\n",
              "      <td>2020-01-21</td>\n",
              "      <td>1</td>\n",
              "      <td>0</td>\n",
              "    </tr>\n",
              "    <tr>\n",
              "      <th>2</th>\n",
              "      <td>160</td>\n",
              "      <td>2020-01-22</td>\n",
              "      <td>1</td>\n",
              "      <td>0</td>\n",
              "    </tr>\n",
              "    <tr>\n",
              "      <th>3</th>\n",
              "      <td>159</td>\n",
              "      <td>2020-01-23</td>\n",
              "      <td>1</td>\n",
              "      <td>0</td>\n",
              "    </tr>\n",
              "    <tr>\n",
              "      <th>4</th>\n",
              "      <td>158</td>\n",
              "      <td>2020-01-24</td>\n",
              "      <td>2</td>\n",
              "      <td>1</td>\n",
              "    </tr>\n",
              "  </tbody>\n",
              "</table>\n",
              "</div>"
            ],
            "text/plain": [
              "   index        date  confirmed  daily\n",
              "0    162  2020-01-20          1      1\n",
              "1    161  2020-01-21          1      0\n",
              "2    160  2020-01-22          1      0\n",
              "3    159  2020-01-23          1      0\n",
              "4    158  2020-01-24          2      1"
            ]
          },
          "metadata": {
            "tags": []
          },
          "execution_count": 29
        }
      ]
    },
    {
      "cell_type": "code",
      "metadata": {
        "colab": {
          "base_uri": "https://localhost:8080/"
        },
        "id": "xl6iwqX0CCCp",
        "outputId": "a022ce66-2ae1-4e80-9556-d36cbab1255d"
      },
      "source": [
        "type(confirmed['date'][0])"
      ],
      "execution_count": 30,
      "outputs": [
        {
          "output_type": "execute_result",
          "data": {
            "text/plain": [
              "str"
            ]
          },
          "metadata": {
            "tags": []
          },
          "execution_count": 30
        }
      ]
    },
    {
      "cell_type": "code",
      "metadata": {
        "colab": {
          "base_uri": "https://localhost:8080/"
        },
        "id": "wSjnUmL3CDsL",
        "outputId": "32109aca-85b5-453e-d29f-c67ff903aaf6"
      },
      "source": [
        "confirmed['date'] = pd.to_datetime(confirmed['date'])\n",
        "type(confirmed['date'][0])"
      ],
      "execution_count": 31,
      "outputs": [
        {
          "output_type": "execute_result",
          "data": {
            "text/plain": [
              "pandas._libs.tslibs.timestamps.Timestamp"
            ]
          },
          "metadata": {
            "tags": []
          },
          "execution_count": 31
        }
      ]
    },
    {
      "cell_type": "code",
      "metadata": {
        "colab": {
          "base_uri": "https://localhost:8080/",
          "height": 225
        },
        "id": "Y3cYoyiVCN1R",
        "outputId": "db3abfaf-69db-44fa-87ee-07db771a9a49"
      },
      "source": [
        "confirmed.index = confirmed['date']\n",
        "confirmed.head()"
      ],
      "execution_count": 32,
      "outputs": [
        {
          "output_type": "execute_result",
          "data": {
            "text/html": [
              "<div>\n",
              "<style scoped>\n",
              "    .dataframe tbody tr th:only-of-type {\n",
              "        vertical-align: middle;\n",
              "    }\n",
              "\n",
              "    .dataframe tbody tr th {\n",
              "        vertical-align: top;\n",
              "    }\n",
              "\n",
              "    .dataframe thead th {\n",
              "        text-align: right;\n",
              "    }\n",
              "</style>\n",
              "<table border=\"1\" class=\"dataframe\">\n",
              "  <thead>\n",
              "    <tr style=\"text-align: right;\">\n",
              "      <th></th>\n",
              "      <th>index</th>\n",
              "      <th>date</th>\n",
              "      <th>confirmed</th>\n",
              "      <th>daily</th>\n",
              "    </tr>\n",
              "    <tr>\n",
              "      <th>date</th>\n",
              "      <th></th>\n",
              "      <th></th>\n",
              "      <th></th>\n",
              "      <th></th>\n",
              "    </tr>\n",
              "  </thead>\n",
              "  <tbody>\n",
              "    <tr>\n",
              "      <th>2020-01-20</th>\n",
              "      <td>162</td>\n",
              "      <td>2020-01-20</td>\n",
              "      <td>1</td>\n",
              "      <td>1</td>\n",
              "    </tr>\n",
              "    <tr>\n",
              "      <th>2020-01-21</th>\n",
              "      <td>161</td>\n",
              "      <td>2020-01-21</td>\n",
              "      <td>1</td>\n",
              "      <td>0</td>\n",
              "    </tr>\n",
              "    <tr>\n",
              "      <th>2020-01-22</th>\n",
              "      <td>160</td>\n",
              "      <td>2020-01-22</td>\n",
              "      <td>1</td>\n",
              "      <td>0</td>\n",
              "    </tr>\n",
              "    <tr>\n",
              "      <th>2020-01-23</th>\n",
              "      <td>159</td>\n",
              "      <td>2020-01-23</td>\n",
              "      <td>1</td>\n",
              "      <td>0</td>\n",
              "    </tr>\n",
              "    <tr>\n",
              "      <th>2020-01-24</th>\n",
              "      <td>158</td>\n",
              "      <td>2020-01-24</td>\n",
              "      <td>2</td>\n",
              "      <td>1</td>\n",
              "    </tr>\n",
              "  </tbody>\n",
              "</table>\n",
              "</div>"
            ],
            "text/plain": [
              "            index       date  confirmed  daily\n",
              "date                                          \n",
              "2020-01-20    162 2020-01-20          1      1\n",
              "2020-01-21    161 2020-01-21          1      0\n",
              "2020-01-22    160 2020-01-22          1      0\n",
              "2020-01-23    159 2020-01-23          1      0\n",
              "2020-01-24    158 2020-01-24          2      1"
            ]
          },
          "metadata": {
            "tags": []
          },
          "execution_count": 32
        }
      ]
    },
    {
      "cell_type": "code",
      "metadata": {
        "colab": {
          "base_uri": "https://localhost:8080/",
          "height": 225
        },
        "id": "1Qu9zJxddHQ0",
        "outputId": "e13e3f82-d637-4b5e-bc61-65b7ec9abd4c"
      },
      "source": [
        "confirmed.drop(columns = ['index', 'date','confirmed'], inplace =True)\n",
        "confirmed.head()"
      ],
      "execution_count": 33,
      "outputs": [
        {
          "output_type": "execute_result",
          "data": {
            "text/html": [
              "<div>\n",
              "<style scoped>\n",
              "    .dataframe tbody tr th:only-of-type {\n",
              "        vertical-align: middle;\n",
              "    }\n",
              "\n",
              "    .dataframe tbody tr th {\n",
              "        vertical-align: top;\n",
              "    }\n",
              "\n",
              "    .dataframe thead th {\n",
              "        text-align: right;\n",
              "    }\n",
              "</style>\n",
              "<table border=\"1\" class=\"dataframe\">\n",
              "  <thead>\n",
              "    <tr style=\"text-align: right;\">\n",
              "      <th></th>\n",
              "      <th>daily</th>\n",
              "    </tr>\n",
              "    <tr>\n",
              "      <th>date</th>\n",
              "      <th></th>\n",
              "    </tr>\n",
              "  </thead>\n",
              "  <tbody>\n",
              "    <tr>\n",
              "      <th>2020-01-20</th>\n",
              "      <td>1</td>\n",
              "    </tr>\n",
              "    <tr>\n",
              "      <th>2020-01-21</th>\n",
              "      <td>0</td>\n",
              "    </tr>\n",
              "    <tr>\n",
              "      <th>2020-01-22</th>\n",
              "      <td>0</td>\n",
              "    </tr>\n",
              "    <tr>\n",
              "      <th>2020-01-23</th>\n",
              "      <td>0</td>\n",
              "    </tr>\n",
              "    <tr>\n",
              "      <th>2020-01-24</th>\n",
              "      <td>1</td>\n",
              "    </tr>\n",
              "  </tbody>\n",
              "</table>\n",
              "</div>"
            ],
            "text/plain": [
              "            daily\n",
              "date             \n",
              "2020-01-20      1\n",
              "2020-01-21      0\n",
              "2020-01-22      0\n",
              "2020-01-23      0\n",
              "2020-01-24      1"
            ]
          },
          "metadata": {
            "tags": []
          },
          "execution_count": 33
        }
      ]
    },
    {
      "cell_type": "code",
      "metadata": {
        "id": "ZSeIGimdHvyu",
        "outputId": "31d09d38-f402-4b2b-d81c-4abac72483bc",
        "colab": {
          "base_uri": "https://localhost:8080/",
          "height": 542
        }
      },
      "source": [
        "import plotly.express as px\n",
        "fig=px.bar(confirmed,x=confirmed.index,y='daily')\n",
        "fig.update_layout(\n",
        "    title={\n",
        "        'text': \"확진자 추이(전국)\",\n",
        "        'y':1,\n",
        "        'x':0.5,\n",
        "        'xanchor': 'center',\n",
        "        'yanchor': 'top'})\n",
        "fig.show()"
      ],
      "execution_count": 35,
      "outputs": [
        {
          "output_type": "display_data",
          "data": {
            "text/html": [
              "<html>\n",
              "<head><meta charset=\"utf-8\" /></head>\n",
              "<body>\n",
              "    <div>\n",
              "            <script src=\"https://cdnjs.cloudflare.com/ajax/libs/mathjax/2.7.5/MathJax.js?config=TeX-AMS-MML_SVG\"></script><script type=\"text/javascript\">if (window.MathJax) {MathJax.Hub.Config({SVG: {font: \"STIX-Web\"}});}</script>\n",
              "                <script type=\"text/javascript\">window.PlotlyConfig = {MathJaxConfig: 'local'};</script>\n",
              "        <script src=\"https://cdn.plot.ly/plotly-latest.min.js\"></script>    \n",
              "            <div id=\"06f6ef2a-be29-4aa8-865a-0edbc66d4eda\" class=\"plotly-graph-div\" style=\"height:525px; width:100%;\"></div>\n",
              "            <script type=\"text/javascript\">\n",
              "                \n",
              "                    window.PLOTLYENV=window.PLOTLYENV || {};\n",
              "                    \n",
              "                if (document.getElementById(\"06f6ef2a-be29-4aa8-865a-0edbc66d4eda\")) {\n",
              "                    Plotly.newPlot(\n",
              "                        '06f6ef2a-be29-4aa8-865a-0edbc66d4eda',\n",
              "                        [{\"alignmentgroup\": \"True\", \"hoverlabel\": {\"namelength\": 0}, \"hovertemplate\": \"x=%{x}<br>daily=%{y}\", \"legendgroup\": \"\", \"marker\": {\"color\": \"#636efa\"}, \"name\": \"\", \"offsetgroup\": \"\", \"orientation\": \"v\", \"showlegend\": false, \"textposition\": \"auto\", \"type\": \"bar\", \"x\": [\"2020-01-20T00:00:00\", \"2020-01-21T00:00:00\", \"2020-01-22T00:00:00\", \"2020-01-23T00:00:00\", \"2020-01-24T00:00:00\", \"2020-01-25T00:00:00\", \"2020-01-26T00:00:00\", \"2020-01-27T00:00:00\", \"2020-01-28T00:00:00\", \"2020-01-29T00:00:00\", \"2020-01-30T00:00:00\", \"2020-01-31T00:00:00\", \"2020-02-01T00:00:00\", \"2020-02-02T00:00:00\", \"2020-02-03T00:00:00\", \"2020-02-04T00:00:00\", \"2020-02-05T00:00:00\", \"2020-02-06T00:00:00\", \"2020-02-07T00:00:00\", \"2020-02-08T00:00:00\", \"2020-02-09T00:00:00\", \"2020-02-10T00:00:00\", \"2020-02-11T00:00:00\", \"2020-02-12T00:00:00\", \"2020-02-13T00:00:00\", \"2020-02-14T00:00:00\", \"2020-02-15T00:00:00\", \"2020-02-16T00:00:00\", \"2020-02-17T00:00:00\", \"2020-02-18T00:00:00\", \"2020-02-19T00:00:00\", \"2020-02-20T00:00:00\", \"2020-02-21T00:00:00\", \"2020-02-22T00:00:00\", \"2020-02-23T00:00:00\", \"2020-02-24T00:00:00\", \"2020-02-25T00:00:00\", \"2020-02-26T00:00:00\", \"2020-02-27T00:00:00\", \"2020-02-28T00:00:00\", \"2020-02-29T00:00:00\", \"2020-03-01T00:00:00\", \"2020-03-02T00:00:00\", \"2020-03-03T00:00:00\", \"2020-03-04T00:00:00\", \"2020-03-05T00:00:00\", \"2020-03-06T00:00:00\", \"2020-03-07T00:00:00\", \"2020-03-08T00:00:00\", \"2020-03-09T00:00:00\", \"2020-03-10T00:00:00\", \"2020-03-11T00:00:00\", \"2020-03-12T00:00:00\", \"2020-03-13T00:00:00\", \"2020-03-14T00:00:00\", \"2020-03-15T00:00:00\", \"2020-03-16T00:00:00\", \"2020-03-17T00:00:00\", \"2020-03-18T00:00:00\", \"2020-03-19T00:00:00\", \"2020-03-20T00:00:00\", \"2020-03-21T00:00:00\", \"2020-03-22T00:00:00\", \"2020-03-23T00:00:00\", \"2020-03-24T00:00:00\", \"2020-03-25T00:00:00\", \"2020-03-26T00:00:00\", \"2020-03-27T00:00:00\", \"2020-03-28T00:00:00\", \"2020-03-29T00:00:00\", \"2020-03-30T00:00:00\", \"2020-03-31T00:00:00\", \"2020-04-01T00:00:00\", \"2020-04-02T00:00:00\", \"2020-04-03T00:00:00\", \"2020-04-04T00:00:00\", \"2020-04-05T00:00:00\", \"2020-04-06T00:00:00\", \"2020-04-07T00:00:00\", \"2020-04-08T00:00:00\", \"2020-04-09T00:00:00\", \"2020-04-10T00:00:00\", \"2020-04-11T00:00:00\", \"2020-04-12T00:00:00\", \"2020-04-13T00:00:00\", \"2020-04-14T00:00:00\", \"2020-04-15T00:00:00\", \"2020-04-16T00:00:00\", \"2020-04-17T00:00:00\", \"2020-04-18T00:00:00\", \"2020-04-19T00:00:00\", \"2020-04-20T00:00:00\", \"2020-04-21T00:00:00\", \"2020-04-22T00:00:00\", \"2020-04-23T00:00:00\", \"2020-04-24T00:00:00\", \"2020-04-25T00:00:00\", \"2020-04-26T00:00:00\", \"2020-04-27T00:00:00\", \"2020-04-28T00:00:00\", \"2020-04-29T00:00:00\", \"2020-04-30T00:00:00\", \"2020-05-01T00:00:00\", \"2020-05-02T00:00:00\", \"2020-05-03T00:00:00\", \"2020-05-04T00:00:00\", \"2020-05-05T00:00:00\", \"2020-05-06T00:00:00\", \"2020-05-07T00:00:00\", \"2020-05-08T00:00:00\", \"2020-05-09T00:00:00\", \"2020-05-10T00:00:00\", \"2020-05-11T00:00:00\", \"2020-05-12T00:00:00\", \"2020-05-13T00:00:00\", \"2020-05-14T00:00:00\", \"2020-05-15T00:00:00\", \"2020-05-16T00:00:00\", \"2020-05-17T00:00:00\", \"2020-05-18T00:00:00\", \"2020-05-19T00:00:00\", \"2020-05-20T00:00:00\", \"2020-05-21T00:00:00\", \"2020-05-22T00:00:00\", \"2020-05-23T00:00:00\", \"2020-05-24T00:00:00\", \"2020-05-25T00:00:00\", \"2020-05-26T00:00:00\", \"2020-05-27T00:00:00\", \"2020-05-28T00:00:00\", \"2020-05-29T00:00:00\", \"2020-05-30T00:00:00\", \"2020-05-31T00:00:00\", \"2020-06-01T00:00:00\", \"2020-06-02T00:00:00\", \"2020-06-03T00:00:00\", \"2020-06-04T00:00:00\", \"2020-06-05T00:00:00\", \"2020-06-06T00:00:00\", \"2020-06-07T00:00:00\", \"2020-06-08T00:00:00\", \"2020-06-09T00:00:00\", \"2020-06-10T00:00:00\", \"2020-06-11T00:00:00\", \"2020-06-12T00:00:00\", \"2020-06-13T00:00:00\", \"2020-06-14T00:00:00\", \"2020-06-15T00:00:00\", \"2020-06-16T00:00:00\", \"2020-06-17T00:00:00\", \"2020-06-18T00:00:00\", \"2020-06-19T00:00:00\", \"2020-06-20T00:00:00\", \"2020-06-21T00:00:00\", \"2020-06-22T00:00:00\", \"2020-06-23T00:00:00\", \"2020-06-24T00:00:00\", \"2020-06-25T00:00:00\", \"2020-06-26T00:00:00\", \"2020-06-27T00:00:00\", \"2020-06-28T00:00:00\", \"2020-06-29T00:00:00\", \"2020-06-30T00:00:00\"], \"xaxis\": \"x\", \"y\": [1, 0, 0, 0, 1, 0, 1, 1, 0, 0, 2, 5, 1, 3, 0, 1, 2, 5, 1, 0, 3, 0, 1, 0, 0, 0, 0, 1, 1, 1, 20, 53, 100, 229, 169, 231, 144, 284, 505, 571, 813, 586, 476, 600, 516, 438, 518, 483, 367, 248, 131, 242, 114, 110, 107, 40, 110, 84, 93, 152, 87, 147, 98, 64, 76, 100, 104, 91, 146, 105, 78, 125, 101, 89, 86, 94, 81, 47, 47, 53, 39, 27, 30, 32, 25, 27, 27, 22, 22, 18, 8, 13, 9, 11, 8, 6, 10, 10, 10, 14, 9, 4, 9, 6, 13, 8, 3, 2, 4, 12, 18, 34, 35, 27, 26, 29, 27, 19, 13, 15, 13, 32, 12, 20, 23, 25, 16, 19, 40, 79, 58, 39, 27, 35, 38, 49, 39, 39, 51, 57, 38, 38, 50, 45, 56, 48, 34, 36, 34, 43, 59, 49, 67, 48, 17, 46, 51, 28, 39, 51, 62, 42, 43], \"yaxis\": \"y\"}],\n",
              "                        {\"barmode\": \"relative\", \"legend\": {\"tracegroupgap\": 0}, \"margin\": {\"t\": 60}, \"template\": {\"data\": {\"bar\": [{\"error_x\": {\"color\": \"#2a3f5f\"}, \"error_y\": {\"color\": \"#2a3f5f\"}, \"marker\": {\"line\": {\"color\": \"#E5ECF6\", \"width\": 0.5}}, \"type\": \"bar\"}], \"barpolar\": [{\"marker\": {\"line\": {\"color\": \"#E5ECF6\", \"width\": 0.5}}, \"type\": \"barpolar\"}], \"carpet\": [{\"aaxis\": {\"endlinecolor\": \"#2a3f5f\", \"gridcolor\": \"white\", \"linecolor\": \"white\", \"minorgridcolor\": \"white\", \"startlinecolor\": \"#2a3f5f\"}, \"baxis\": {\"endlinecolor\": \"#2a3f5f\", \"gridcolor\": \"white\", \"linecolor\": \"white\", \"minorgridcolor\": \"white\", \"startlinecolor\": \"#2a3f5f\"}, \"type\": \"carpet\"}], \"choropleth\": [{\"colorbar\": {\"outlinewidth\": 0, \"ticks\": \"\"}, \"type\": \"choropleth\"}], \"contour\": [{\"colorbar\": {\"outlinewidth\": 0, \"ticks\": \"\"}, \"colorscale\": [[0.0, \"#0d0887\"], [0.1111111111111111, \"#46039f\"], [0.2222222222222222, \"#7201a8\"], [0.3333333333333333, \"#9c179e\"], [0.4444444444444444, \"#bd3786\"], [0.5555555555555556, \"#d8576b\"], [0.6666666666666666, \"#ed7953\"], [0.7777777777777778, \"#fb9f3a\"], [0.8888888888888888, \"#fdca26\"], [1.0, \"#f0f921\"]], \"type\": \"contour\"}], \"contourcarpet\": [{\"colorbar\": {\"outlinewidth\": 0, \"ticks\": \"\"}, \"type\": \"contourcarpet\"}], \"heatmap\": [{\"colorbar\": {\"outlinewidth\": 0, \"ticks\": \"\"}, \"colorscale\": [[0.0, \"#0d0887\"], [0.1111111111111111, \"#46039f\"], [0.2222222222222222, \"#7201a8\"], [0.3333333333333333, \"#9c179e\"], [0.4444444444444444, \"#bd3786\"], [0.5555555555555556, \"#d8576b\"], [0.6666666666666666, \"#ed7953\"], [0.7777777777777778, \"#fb9f3a\"], [0.8888888888888888, \"#fdca26\"], [1.0, \"#f0f921\"]], \"type\": \"heatmap\"}], \"heatmapgl\": [{\"colorbar\": {\"outlinewidth\": 0, \"ticks\": \"\"}, \"colorscale\": [[0.0, \"#0d0887\"], [0.1111111111111111, \"#46039f\"], [0.2222222222222222, \"#7201a8\"], [0.3333333333333333, \"#9c179e\"], [0.4444444444444444, \"#bd3786\"], [0.5555555555555556, \"#d8576b\"], [0.6666666666666666, \"#ed7953\"], [0.7777777777777778, \"#fb9f3a\"], [0.8888888888888888, \"#fdca26\"], [1.0, \"#f0f921\"]], \"type\": \"heatmapgl\"}], \"histogram\": [{\"marker\": {\"colorbar\": {\"outlinewidth\": 0, \"ticks\": \"\"}}, \"type\": \"histogram\"}], \"histogram2d\": [{\"colorbar\": {\"outlinewidth\": 0, \"ticks\": \"\"}, \"colorscale\": [[0.0, \"#0d0887\"], [0.1111111111111111, \"#46039f\"], [0.2222222222222222, \"#7201a8\"], [0.3333333333333333, \"#9c179e\"], [0.4444444444444444, \"#bd3786\"], [0.5555555555555556, \"#d8576b\"], [0.6666666666666666, \"#ed7953\"], [0.7777777777777778, \"#fb9f3a\"], [0.8888888888888888, \"#fdca26\"], [1.0, \"#f0f921\"]], \"type\": \"histogram2d\"}], \"histogram2dcontour\": [{\"colorbar\": {\"outlinewidth\": 0, \"ticks\": \"\"}, \"colorscale\": [[0.0, \"#0d0887\"], [0.1111111111111111, \"#46039f\"], [0.2222222222222222, \"#7201a8\"], [0.3333333333333333, \"#9c179e\"], [0.4444444444444444, \"#bd3786\"], [0.5555555555555556, \"#d8576b\"], [0.6666666666666666, \"#ed7953\"], [0.7777777777777778, \"#fb9f3a\"], [0.8888888888888888, \"#fdca26\"], [1.0, \"#f0f921\"]], \"type\": \"histogram2dcontour\"}], \"mesh3d\": [{\"colorbar\": {\"outlinewidth\": 0, \"ticks\": \"\"}, \"type\": \"mesh3d\"}], \"parcoords\": [{\"line\": {\"colorbar\": {\"outlinewidth\": 0, \"ticks\": \"\"}}, \"type\": \"parcoords\"}], \"pie\": [{\"automargin\": true, \"type\": \"pie\"}], \"scatter\": [{\"marker\": {\"colorbar\": {\"outlinewidth\": 0, \"ticks\": \"\"}}, \"type\": \"scatter\"}], \"scatter3d\": [{\"line\": {\"colorbar\": {\"outlinewidth\": 0, \"ticks\": \"\"}}, \"marker\": {\"colorbar\": {\"outlinewidth\": 0, \"ticks\": \"\"}}, \"type\": \"scatter3d\"}], \"scattercarpet\": [{\"marker\": {\"colorbar\": {\"outlinewidth\": 0, \"ticks\": \"\"}}, \"type\": \"scattercarpet\"}], \"scattergeo\": [{\"marker\": {\"colorbar\": {\"outlinewidth\": 0, \"ticks\": \"\"}}, \"type\": \"scattergeo\"}], \"scattergl\": [{\"marker\": {\"colorbar\": {\"outlinewidth\": 0, \"ticks\": \"\"}}, \"type\": \"scattergl\"}], \"scattermapbox\": [{\"marker\": {\"colorbar\": {\"outlinewidth\": 0, \"ticks\": \"\"}}, \"type\": \"scattermapbox\"}], \"scatterpolar\": [{\"marker\": {\"colorbar\": {\"outlinewidth\": 0, \"ticks\": \"\"}}, \"type\": \"scatterpolar\"}], \"scatterpolargl\": [{\"marker\": {\"colorbar\": {\"outlinewidth\": 0, \"ticks\": \"\"}}, \"type\": \"scatterpolargl\"}], \"scatterternary\": [{\"marker\": {\"colorbar\": {\"outlinewidth\": 0, \"ticks\": \"\"}}, \"type\": \"scatterternary\"}], \"surface\": [{\"colorbar\": {\"outlinewidth\": 0, \"ticks\": \"\"}, \"colorscale\": [[0.0, \"#0d0887\"], [0.1111111111111111, \"#46039f\"], [0.2222222222222222, \"#7201a8\"], [0.3333333333333333, \"#9c179e\"], [0.4444444444444444, \"#bd3786\"], [0.5555555555555556, \"#d8576b\"], [0.6666666666666666, \"#ed7953\"], [0.7777777777777778, \"#fb9f3a\"], [0.8888888888888888, \"#fdca26\"], [1.0, \"#f0f921\"]], \"type\": \"surface\"}], \"table\": [{\"cells\": {\"fill\": {\"color\": \"#EBF0F8\"}, \"line\": {\"color\": \"white\"}}, \"header\": {\"fill\": {\"color\": \"#C8D4E3\"}, \"line\": {\"color\": \"white\"}}, \"type\": \"table\"}]}, \"layout\": {\"annotationdefaults\": {\"arrowcolor\": \"#2a3f5f\", \"arrowhead\": 0, \"arrowwidth\": 1}, \"coloraxis\": {\"colorbar\": {\"outlinewidth\": 0, \"ticks\": \"\"}}, \"colorscale\": {\"diverging\": [[0, \"#8e0152\"], [0.1, \"#c51b7d\"], [0.2, \"#de77ae\"], [0.3, \"#f1b6da\"], [0.4, \"#fde0ef\"], [0.5, \"#f7f7f7\"], [0.6, \"#e6f5d0\"], [0.7, \"#b8e186\"], [0.8, \"#7fbc41\"], [0.9, \"#4d9221\"], [1, \"#276419\"]], \"sequential\": [[0.0, \"#0d0887\"], [0.1111111111111111, \"#46039f\"], [0.2222222222222222, \"#7201a8\"], [0.3333333333333333, \"#9c179e\"], [0.4444444444444444, \"#bd3786\"], [0.5555555555555556, \"#d8576b\"], [0.6666666666666666, \"#ed7953\"], [0.7777777777777778, \"#fb9f3a\"], [0.8888888888888888, \"#fdca26\"], [1.0, \"#f0f921\"]], \"sequentialminus\": [[0.0, \"#0d0887\"], [0.1111111111111111, \"#46039f\"], [0.2222222222222222, \"#7201a8\"], [0.3333333333333333, \"#9c179e\"], [0.4444444444444444, \"#bd3786\"], [0.5555555555555556, \"#d8576b\"], [0.6666666666666666, \"#ed7953\"], [0.7777777777777778, \"#fb9f3a\"], [0.8888888888888888, \"#fdca26\"], [1.0, \"#f0f921\"]]}, \"colorway\": [\"#636efa\", \"#EF553B\", \"#00cc96\", \"#ab63fa\", \"#FFA15A\", \"#19d3f3\", \"#FF6692\", \"#B6E880\", \"#FF97FF\", \"#FECB52\"], \"font\": {\"color\": \"#2a3f5f\"}, \"geo\": {\"bgcolor\": \"white\", \"lakecolor\": \"white\", \"landcolor\": \"#E5ECF6\", \"showlakes\": true, \"showland\": true, \"subunitcolor\": \"white\"}, \"hoverlabel\": {\"align\": \"left\"}, \"hovermode\": \"closest\", \"mapbox\": {\"style\": \"light\"}, \"paper_bgcolor\": \"white\", \"plot_bgcolor\": \"#E5ECF6\", \"polar\": {\"angularaxis\": {\"gridcolor\": \"white\", \"linecolor\": \"white\", \"ticks\": \"\"}, \"bgcolor\": \"#E5ECF6\", \"radialaxis\": {\"gridcolor\": \"white\", \"linecolor\": \"white\", \"ticks\": \"\"}}, \"scene\": {\"xaxis\": {\"backgroundcolor\": \"#E5ECF6\", \"gridcolor\": \"white\", \"gridwidth\": 2, \"linecolor\": \"white\", \"showbackground\": true, \"ticks\": \"\", \"zerolinecolor\": \"white\"}, \"yaxis\": {\"backgroundcolor\": \"#E5ECF6\", \"gridcolor\": \"white\", \"gridwidth\": 2, \"linecolor\": \"white\", \"showbackground\": true, \"ticks\": \"\", \"zerolinecolor\": \"white\"}, \"zaxis\": {\"backgroundcolor\": \"#E5ECF6\", \"gridcolor\": \"white\", \"gridwidth\": 2, \"linecolor\": \"white\", \"showbackground\": true, \"ticks\": \"\", \"zerolinecolor\": \"white\"}}, \"shapedefaults\": {\"line\": {\"color\": \"#2a3f5f\"}}, \"ternary\": {\"aaxis\": {\"gridcolor\": \"white\", \"linecolor\": \"white\", \"ticks\": \"\"}, \"baxis\": {\"gridcolor\": \"white\", \"linecolor\": \"white\", \"ticks\": \"\"}, \"bgcolor\": \"#E5ECF6\", \"caxis\": {\"gridcolor\": \"white\", \"linecolor\": \"white\", \"ticks\": \"\"}}, \"title\": {\"x\": 0.05}, \"xaxis\": {\"automargin\": true, \"gridcolor\": \"white\", \"linecolor\": \"white\", \"ticks\": \"\", \"title\": {\"standoff\": 15}, \"zerolinecolor\": \"white\", \"zerolinewidth\": 2}, \"yaxis\": {\"automargin\": true, \"gridcolor\": \"white\", \"linecolor\": \"white\", \"ticks\": \"\", \"title\": {\"standoff\": 15}, \"zerolinecolor\": \"white\", \"zerolinewidth\": 2}}}, \"title\": {\"text\": \"\\ud655\\uc9c4\\uc790 \\ucd94\\uc774(\\uc804\\uad6d)\", \"x\": 0.5, \"xanchor\": \"center\", \"y\": 1, \"yanchor\": \"top\"}, \"xaxis\": {\"anchor\": \"y\", \"domain\": [0.0, 1.0], \"title\": {\"text\": \"x\"}}, \"yaxis\": {\"anchor\": \"x\", \"domain\": [0.0, 1.0], \"title\": {\"text\": \"daily\"}}},\n",
              "                        {\"responsive\": true}\n",
              "                    ).then(function(){\n",
              "                            \n",
              "var gd = document.getElementById('06f6ef2a-be29-4aa8-865a-0edbc66d4eda');\n",
              "var x = new MutationObserver(function (mutations, observer) {{\n",
              "        var display = window.getComputedStyle(gd).display;\n",
              "        if (!display || display === 'none') {{\n",
              "            console.log([gd, 'removed!']);\n",
              "            Plotly.purge(gd);\n",
              "            observer.disconnect();\n",
              "        }}\n",
              "}});\n",
              "\n",
              "// Listen for the removal of the full notebook cells\n",
              "var notebookContainer = gd.closest('#notebook-container');\n",
              "if (notebookContainer) {{\n",
              "    x.observe(notebookContainer, {childList: true});\n",
              "}}\n",
              "\n",
              "// Listen for the clearing of the current output cell\n",
              "var outputEl = gd.closest('.output');\n",
              "if (outputEl) {{\n",
              "    x.observe(outputEl, {childList: true});\n",
              "}}\n",
              "\n",
              "                        })\n",
              "                };\n",
              "                \n",
              "            </script>\n",
              "        </div>\n",
              "</body>\n",
              "</html>"
            ]
          },
          "metadata": {
            "tags": []
          }
        }
      ]
    },
    {
      "cell_type": "code",
      "metadata": {
        "colab": {
          "base_uri": "https://localhost:8080/",
          "height": 351
        },
        "id": "s6-fFRDpdRgq",
        "outputId": "bf66ff3c-765b-4a90-ac50-fc568a473a10"
      },
      "source": [
        "confirmed.plot(figsize = (20,5))\n",
        "plt.axvline(x='2020-01-20', ymin=0.0, ymax=1.0, color='yellow')\n",
        "plt.axvline(x='2020-01-28', ymin=0.0, ymax=1.0, color='orange')\n",
        "plt.axvline(x='2020-02-23', ymin=0.0, ymax=1.0, color='red')"
      ],
      "execution_count": 36,
      "outputs": [
        {
          "output_type": "execute_result",
          "data": {
            "text/plain": [
              "<matplotlib.lines.Line2D at 0x7fc385ea8d10>"
            ]
          },
          "metadata": {
            "tags": []
          },
          "execution_count": 36
        },
        {
          "output_type": "display_data",
          "data": {
            "image/png": "[encoded data removed]",
            "text/plain": [
              "<Figure size 1440x360 with 1 Axes>"
            ]
          },
          "metadata": {
            "tags": [],
            "needs_background": "light"
          }
        }
      ]
    }
  ]
}