{
  "nbformat": 4,
  "nbformat_minor": 0,
  "metadata": {
    "colab": {
      "name": "Deepnoid_Lecture02_CNN_VGG_Bulid_test.ipynb",
      "provenance": [],
      "authorship_tag": "ABX9TyNK06fdW3b1KA+smOmMVmLB",
      "include_colab_link": true
    },
    "kernelspec": {
      "name": "python3",
      "display_name": "Python 3"
    },
    "accelerator": "GPU"
  },
  "cells": [
    {
      "cell_type": "markdown",
      "metadata": {
        "id": "view-in-github",
        "colab_type": "text"
      },
      "source": [
        "<a href=\"https://colab.research.google.com/github/Pyeonseohee/Deeplearning/blob/main/Deepnoid_Lecture02_CNN_VGG_Bulid_test.ipynb\" target=\"_parent\"><img src=\"https://colab.research.google.com/assets/colab-badge.svg\" alt=\"Open In Colab\"/></a>"
      ]
    },
    {
      "cell_type": "markdown",
      "metadata": {
        "id": "2NMr4aEJa6vM"
      },
      "source": [
        "# NEURAL NETWORK BUILD\r\n",
        "\r\n"
      ]
    },
    {
      "cell_type": "markdown",
      "metadata": {
        "id": "9wnGsvZ7bEFR"
      },
      "source": [
        "# 1. Library Import"
      ]
    },
    {
      "cell_type": "code",
      "metadata": {
        "id": "uKejGrXCbKa0"
      },
      "source": [
        "import os\r\n",
        "import numpy as np\r\n",
        "import matplotlib\r\n",
        "from matplotlib import pyplot as plt\r\n",
        "from matplotlib.ticker import MultipleLocator\r\n",
        "import pandas as pd\r\n",
        "import csv\r\n",
        "import shutil\r\n",
        "import json\r\n",
        "from sklearn import metrics as skmet\r\n",
        "from skimage import morphology\r\n",
        "from skimage import measure\r\n",
        "from skimage import exposure\r\n",
        "\r\n",
        "### Tensorflow 2.0 ###\r\n",
        "import tensorflow as tf\r\n",
        "from tensorflow import keras\r\n",
        "from tensorflow.keras.models import Sequential, Model\r\n",
        "from tensorflow.keras import Input\r\n",
        "from tensorflow.keras import layers\r\n",
        "from tensorflow.keras import models\r\n",
        "from tensorflow.keras.preprocessing import image\r\n",
        "from tensorflow.keras.preprocessing. image import ImageDataGenerator\r\n",
        "from tensorflow.keras import losses\r\n",
        "from tensorflow.keras import optimizers\r\n",
        "from tensorflow.keras import metrics\r\n",
        "from tensorflow.keras import regularizers\r\n",
        "from tensorflow.keras import utils\r\n",
        "from tensorflow.keras.callbacks import ModelCheckpoint, LearningRateScheduler\r\n",
        "from tensorflow.keras import backend as K"
      ],
      "execution_count": 4,
      "outputs": []
    },
    {
      "cell_type": "markdown",
      "metadata": {
        "id": "wiABi4eCdGYT"
      },
      "source": [
        "# 2. Module Function\r\n",
        "\r\n",
        "* keras application VGG16"
      ]
    },
    {
      "cell_type": "code",
      "metadata": {
        "colab": {
          "base_uri": "https://localhost:8080/"
        },
        "id": "oCMRqXTedP2U",
        "outputId": "603f1d5d-203e-4b0d-9f9d-d7b14b61d17e"
      },
      "source": [
        "from tensorflow.keras.applications import VGG16\r\n",
        "model = VGG16(weights = 'imagenet', include_top = False, input_shape = (32, 32, 3))\r\n",
        "model.summary()"
      ],
      "execution_count": 7,
      "outputs": [
        {
          "output_type": "stream",
          "text": [
            "Downloading data from https://storage.googleapis.com/tensorflow/keras-applications/vgg16/vgg16_weights_tf_dim_ordering_tf_kernels_notop.h5\n",
            "58892288/58889256 [==============================] - 0s 0us/step\n",
            "Model: \"vgg16\"\n",
            "_________________________________________________________________\n",
            "Layer (type)                 Output Shape              Param #   \n",
            "=================================================================\n",
            "input_1 (InputLayer)         [(None, 32, 32, 3)]       0         \n",
            "_________________________________________________________________\n",
            "block1_conv1 (Conv2D)        (None, 32, 32, 64)        1792      \n",
            "_________________________________________________________________\n",
            "block1_conv2 (Conv2D)        (None, 32, 32, 64)        36928     \n",
            "_________________________________________________________________\n",
            "block1_pool (MaxPooling2D)   (None, 16, 16, 64)        0         \n",
            "_________________________________________________________________\n",
            "block2_conv1 (Conv2D)        (None, 16, 16, 128)       73856     \n",
            "_________________________________________________________________\n",
            "block2_conv2 (Conv2D)        (None, 16, 16, 128)       147584    \n",
            "_________________________________________________________________\n",
            "block2_pool (MaxPooling2D)   (None, 8, 8, 128)         0         \n",
            "_________________________________________________________________\n",
            "block3_conv1 (Conv2D)        (None, 8, 8, 256)         295168    \n",
            "_________________________________________________________________\n",
            "block3_conv2 (Conv2D)        (None, 8, 8, 256)         590080    \n",
            "_________________________________________________________________\n",
            "block3_conv3 (Conv2D)        (None, 8, 8, 256)         590080    \n",
            "_________________________________________________________________\n",
            "block3_pool (MaxPooling2D)   (None, 4, 4, 256)         0         \n",
            "_________________________________________________________________\n",
            "block4_conv1 (Conv2D)        (None, 4, 4, 512)         1180160   \n",
            "_________________________________________________________________\n",
            "block4_conv2 (Conv2D)        (None, 4, 4, 512)         2359808   \n",
            "_________________________________________________________________\n",
            "block4_conv3 (Conv2D)        (None, 4, 4, 512)         2359808   \n",
            "_________________________________________________________________\n",
            "block4_pool (MaxPooling2D)   (None, 2, 2, 512)         0         \n",
            "_________________________________________________________________\n",
            "block5_conv1 (Conv2D)        (None, 2, 2, 512)         2359808   \n",
            "_________________________________________________________________\n",
            "block5_conv2 (Conv2D)        (None, 2, 2, 512)         2359808   \n",
            "_________________________________________________________________\n",
            "block5_conv3 (Conv2D)        (None, 2, 2, 512)         2359808   \n",
            "_________________________________________________________________\n",
            "block5_pool (MaxPooling2D)   (None, 1, 1, 512)         0         \n",
            "=================================================================\n",
            "Total params: 14,714,688\n",
            "Trainable params: 14,714,688\n",
            "Non-trainable params: 0\n",
            "_________________________________________________________________\n"
          ],
          "name": "stdout"
        }
      ]
    },
    {
      "cell_type": "markdown",
      "metadata": {
        "id": "o3NkKnfIdd1j"
      },
      "source": [
        "* Block"
      ]
    },
    {
      "cell_type": "code",
      "metadata": {
        "id": "golmmAmYdfso"
      },
      "source": [
        "class ConvBlock:\r\n",
        "  def conv_block_2d(self, lr_conv, lr_num, par_list):\r\n",
        "    #parameter\r\n",
        "    filter_num = par_list[0]\r\n",
        "    conv_size = par_list[1]\r\n",
        "    conv_act = par_list[2]\r\n",
        "    pool_size = par_list[3]\r\n",
        "    reg_weight = None\r\n",
        "    #code\r\n",
        "    for i in range(lr_num):\r\n",
        "      lr_conv = layers.Conv2D(filter_num, conv_size, activation = None, padding = 'same',\r\n",
        "                              kernel_initializer = 'he_normal')(lr_conv)\r\n",
        "      lr_conv = layers.BatchNormalization(axis = -1)(lr_conv)\r\n",
        "      lr_conv = layers.Activation(conv_act)(lr_conv)\r\n",
        "    lr_pool = layers.MaxPooling2D(pool_size = pool_size)(lr_conv)\r\n",
        "    return lr_pool\r\n",
        "  def conv_block_3d(self, lr_input, lr_num, par_list):\r\n",
        "    #parameter\r\n",
        "    conv_size = par_list[0]\r\n",
        "    conv_str = par_list[1]\r\n",
        "    conv_act = par_list[2]\r\n",
        "    pool_size = par_list[3]\r\n",
        "    drop_rate = par_list[4]\r\n",
        "    #code\r\n",
        "    for i in range(lr_num):\r\n",
        "      lr_conv = layers.Conv3D(filter_num, conv_size, activation = None, padding='same',\r\n",
        "                              kernel_initializers = 'he_normal')(lr_conv)\r\n",
        "      lr_conv = layers.BatchNormalization(axis = -1)(lr_conv)\r\n",
        "      lr_conv = layers.Activation(conv_act)(lr_conv)\r\n",
        "    lr_pool = layers.MaxPooling3D(pool_size = (pool_str, pool_str, pool_str))(lr_batn)\r\n",
        "    return lr_pool\r\n",
        "  def output_block(self, lr_dense, block_num, flat_count, reg_weight, act_func, drop_rate):\r\n",
        "    lr_dense = layers.Flatten()(lr_dense)\r\n",
        "    for i in range(block_num):\r\n",
        "      lr_dense = layers.Dense(flat_count[i], kernel_regularizer = reg_weight,\r\n",
        "                              activation = act_func)(lr_dense)\r\n",
        "      lr_dense = layers.Dropout(drop_rate)(lr_dense)\r\n",
        "    return lr_dense\r\n",
        "\r\n",
        "cn = ConvBlock()"
      ],
      "execution_count": 9,
      "outputs": []
    },
    {
      "cell_type": "code",
      "metadata": {
        "id": "PNxMJjesg99M"
      },
      "source": [
        "def VGG16_2D(par_dic):\r\n",
        "  #parameters\r\n",
        "  input_size = par_dic['input_size']\r\n",
        "  drop_out = par_dic['drop_out']\r\n",
        "  reg_weight = par_dic['reg_weight']\r\n",
        "  flat_count = par_dic['flat_count']\r\n",
        "  class_count = par_dic['class_count']\r\n",
        "  conv_act = par_dic['conv_act']\r\n",
        "  flat_act = par_dic['flat_act']\r\n",
        "  output_act = par_dic['output_act']\r\n",
        "  conv_size = par_dic['conv_size']\r\n",
        "  pool_size = par_dic['pool_size']\r\n",
        "  dens_num = par_dic['dens_num']\r\n",
        "\r\n",
        "  #code block\r\n",
        "  inputs = Input(shape = (input_size, input_size, 1))\r\n",
        "  block1 = cn.conv_block_2d(inputs , 2, [64, conv_size, conv_act, pool_size, reg_weight])\r\n",
        "  block2 = cn.conv_block_2d(block1 , 2, [128, conv_size, conv_act, pool_size, reg_weight])\r\n",
        "  block3 = cn.conv_block_2d(block2 , 2, [256, conv_size, conv_act, pool_size, reg_weight])\r\n",
        "  block4 = cn.conv_block_2d(block3 , 2, [512, conv_size, conv_act, pool_size, reg_weight])\r\n",
        "  block5 = cn.conv_block_2d(block4 , 2, [512, conv_size, conv_act, pool_size, reg_weight])\r\n",
        "  dens = cn.output_block(block5, dens_num, flat_count, reg_weight, flat_act, drop_out)\r\n",
        "  outputs = layers.Dense(class_count, activation = output_act)(dens)\r\n",
        "  model = Model(inputs, outputs)\r\n",
        "  return model"
      ],
      "execution_count": 10,
      "outputs": []
    },
    {
      "cell_type": "code",
      "metadata": {
        "id": "DDtD7awakXsN"
      },
      "source": [
        "def VGG16_3D(input_size, block_num, drop_out, flat_count, class_count, conv_act, flat_act,\r\n",
        "             output_act, conv_str, pool_str):\r\n",
        "  inputs = Input(shape = (input_size, input_size, input_size, 1))\r\n",
        "  block1 = cn.conv_block_3d(inputs, 2, [64, conv_str, conv_act, pool_size, drop_out])\r\n",
        "  block2 = cn.conv_block_3d(block1, 2, [128, conv_str, conv_act, pool_size, drop_out])\r\n",
        "  block3 = cn.conv_block_3d(block1, 3, [256, conv_str, conv_act, pool_size, drop_out])\r\n",
        "  block4 = cn.conv_block_3d(block1, 3, [512, conv_str, conv_act, pool_size, drop_out])\r\n",
        "  block5 = cn.conv_block_3d(block1, 3, [512, conv_str, conv_act, pool_size, drop_out])\r\n",
        "  flat = layers.Flatten()(block5)\r\n",
        "  drop1 = layers.Dropout(drop_out)(flat)\r\n",
        "  dens = layers.Dense(flat_count, activation = flat_act)(drop1)\r\n",
        "  drop2 = layers.Dropout(drop_out)(dens)\r\n",
        "  outputs = layers.Dense(class_count, activation = output_act)(drop2)\r\n",
        "  model = Model(inputs, outputs)\r\n",
        "  return model"
      ],
      "execution_count": 11,
      "outputs": []
    },
    {
      "cell_type": "markdown",
      "metadata": {
        "id": "9Slw9IQpld5h"
      },
      "source": [
        "# 3. Dataset"
      ]
    },
    {
      "cell_type": "code",
      "metadata": {
        "colab": {
          "base_uri": "https://localhost:8080/"
        },
        "id": "JJK2EHVSlfpc",
        "outputId": "a465d6c4-b182-4168-921a-1abfeb377d05"
      },
      "source": [
        "(x_train, y_train), (x_test, y_test) = keras.datasets.mnist.load_data(path = 'mnist.npz')"
      ],
      "execution_count": 12,
      "outputs": [
        {
          "output_type": "stream",
          "text": [
            "Downloading data from https://storage.googleapis.com/tensorflow/tf-keras-datasets/mnist.npz\n",
            "11493376/11490434 [==============================] - 0s 0us/step\n"
          ],
          "name": "stdout"
        }
      ]
    },
    {
      "cell_type": "code",
      "metadata": {
        "colab": {
          "base_uri": "https://localhost:8080/"
        },
        "id": "67O5ZbPGlvU0",
        "outputId": "b6eb3269-46a9-4c0e-f279-1d3eee2d0c30"
      },
      "source": [
        "print(x_train.shape, y_train.shape)"
      ],
      "execution_count": 14,
      "outputs": [
        {
          "output_type": "stream",
          "text": [
            "(60000, 28, 28) (60000,)\n"
          ],
          "name": "stdout"
        }
      ]
    },
    {
      "cell_type": "markdown",
      "metadata": {
        "id": "OhN5dDp-lzTT"
      },
      "source": [
        "# 3.1 2D dataset"
      ]
    },
    {
      "cell_type": "code",
      "metadata": {
        "colab": {
          "base_uri": "https://localhost:8080/"
        },
        "id": "mfYCK38Bl1wU",
        "outputId": "2ce7b31b-c768-4e92-89b8-cdb4ce8f3e51"
      },
      "source": [
        "x_train_list = []\r\n",
        "x_test_list = []\r\n",
        "for i, i_ in enumerate(x_train[:5000]):\r\n",
        "  arr = np.zeros(shape = (32,32))\r\n",
        "  arr[:28, :28] = x_train[i]\r\n",
        "  x_train_list.append(arr)\r\n",
        "for i, i_ in enumerate(x_test[:500]):\r\n",
        "  arr = np.zeros(shape =(32,32))\r\n",
        "  arr[:28, :28] = x_test[i]\r\n",
        "  x_test_list.append(arr)\r\n",
        "\r\n",
        "x_train1 = np.expand_dims(np.array(x_train_list), axis=-1)\r\n",
        "x_test1 = np.expand_dims(np.array(x_test_list), axis=-1)\r\n",
        "print(x_train1.shape, x_test1.shape)"
      ],
      "execution_count": 15,
      "outputs": [
        {
          "output_type": "stream",
          "text": [
            "(5000, 32, 32, 1) (500, 32, 32, 1)\n"
          ],
          "name": "stdout"
        }
      ]
    },
    {
      "cell_type": "code",
      "metadata": {
        "colab": {
          "base_uri": "https://localhost:8080/"
        },
        "id": "xxECgr10mrKR",
        "outputId": "0423baf3-29ea-4d06-e6a8-deda14b73004"
      },
      "source": [
        "y_train_list = []\r\n",
        "y_test_list = []\r\n",
        "for i, i_ in enumerate(y_train[:5000]):\r\n",
        "  zero = [0]*10\r\n",
        "  zero[i_] = 1\r\n",
        "  y_train_list.append(zero)\r\n",
        "\r\n",
        "for i, i_ in enumerate(y_test[:500]):\r\n",
        "  zero = [0]*10\r\n",
        "  zero[i_] = 1\r\n",
        "  y_test_list.append(zero)\r\n",
        "\r\n",
        "y_train1 = np.array(y_train_list)\r\n",
        "y_test1 = np.array(y_test_list)\r\n",
        "print(y_train1.shape, y_test1.shape)"
      ],
      "execution_count": 17,
      "outputs": [
        {
          "output_type": "stream",
          "text": [
            "(5000, 10) (500, 10)\n"
          ],
          "name": "stdout"
        }
      ]
    },
    {
      "cell_type": "code",
      "metadata": {
        "colab": {
          "base_uri": "https://localhost:8080/",
          "height": 228
        },
        "id": "hVLwFoJBnS_5",
        "outputId": "a0010e30-6c7b-449b-f821-7ac0d0bb2c56"
      },
      "source": [
        "plt.figure(figsize = (10,10))\r\n",
        "for i in range(3):\r\n",
        "  plt.subplot(1, 3, i+1)\r\n",
        "  plt.imshow(x_train1[i][...,0], cmap = 'gray')\r\n",
        "  plt.title('Class={}'.format(y_train[i]))"
      ],
      "execution_count": 19,
      "outputs": [
        {
          "output_type": "display_data",
          "data": {
            "image/png": "[encoded data removed]",
            "text/plain": [
              "<Figure size 720x720 with 3 Axes>"
            ]
          },
          "metadata": {
            "tags": [],
            "needs_background": "light"
          }
        }
      ]
    },
    {
      "cell_type": "markdown",
      "metadata": {
        "id": "PAWEbUWtnrC3"
      },
      "source": [
        "# 3.2 3D dataset"
      ]
    },
    {
      "cell_type": "code",
      "metadata": {
        "colab": {
          "base_uri": "https://localhost:8080/"
        },
        "id": "20guu8-snuD-",
        "outputId": "e1c195eb-62b6-4a0a-e0f4-8d86b5b48e68"
      },
      "source": [
        "x_train_list = []\r\n",
        "y_train_list = []\r\n",
        "x_test_list = []\r\n",
        "y_test_list = []\r\n",
        "for i in range(1200):\r\n",
        "  zero = np.zeros(shape = (32, 32, 32))\r\n",
        "  ones = np.ones(shape = (16, 16, 16))\r\n",
        "  ran = int(np.random.randint(10, size = 1)-5)\r\n",
        "  if 0<= i <400:\r\n",
        "    zero[:, :, :] = (ran*10) + 150\r\n",
        "    x_train_list.append(zero)\r\n",
        "    y_train_list.append([1, 0, 0])\r\n",
        "  elif 400 <= i < 800:\r\n",
        "    zero[8+ran: 24+ran, 8+ran: 24+ran, 8+ran: 24+ran] = (ran*10) + 200\r\n",
        "    x_train_list.append(zero)\r\n",
        "    y_train_list.append([0, 1, 0])\r\n",
        "  elif 800 <= i <1200:\r\n",
        "    for j in range(32):\r\n",
        "      for k in range(32):\r\n",
        "        for l in range(32):\r\n",
        "          if ((j-16+ran)**2) + ((k-16+ran)**2) + ((l-16+ran)**2) < 100:\r\n",
        "            zero[j,k,l] = (ran*10) + 200\r\n",
        "    x_train_list.append(zero)\r\n",
        "    y_train_list.append([0, 0, 1])\r\n",
        "\r\n",
        "for i in range(600):\r\n",
        "  zero = np.zeros(shape = (32, 32, 32))\r\n",
        "  ones = np.ones(shape = (16, 16, 16))\r\n",
        "  ran = int(np.random.randint(10, size = 1)-5)\r\n",
        "  if 0 <= i < 400:\r\n",
        "    zero[:,:,:] = (ran*10) + 150\r\n",
        "    x_test_list.append(zero)\r\n",
        "    y_test_list.append([1,0,0])\r\n",
        "  elif 200 <= i < 400:\r\n",
        "    zero[8+ran:24+ran,8+ran:24+ran,8+ran:24+ran] = (ran*10) + 200\r\n",
        "    x_test_list.append(zero)\r\n",
        "    y_test_list.append([0,1,0])\r\n",
        "  elif 400 <= i < 600:\r\n",
        "      for j in range(32):\r\n",
        "          for k in range(32):\r\n",
        "              for l in range(32):\r\n",
        "                  if ((j-16+ran)**2) + ((k-16+ran)**2) + ((l-16+ran)**2) < 100:\r\n",
        "                        zero[j,k,l] = (ran*10) + 200\r\n",
        "      x_test_list.append(zero)\r\n",
        "      y_test_list.append([0,0,1])\r\n",
        "\r\n",
        "x3_train1 = np.expand_dims(np.array(x_train_list), axis=-1)\r\n",
        "x3_test1 = np.expand_dims(np.array(x_test_list), axis=-1)\r\n",
        "y3_train1 = np.array(y_train_list)\r\n",
        "y3_test1 = np.array(y_test_list)\r\n",
        "print(x3_train1.shape, x3_test1.shape)\r\n",
        "print(y3_train1.shape, y3_test1.shape)"
      ],
      "execution_count": 22,
      "outputs": [
        {
          "output_type": "stream",
          "text": [
            "(1200, 32, 32, 32, 1) (600, 32, 32, 32, 1)\n",
            "(1200, 3) (600, 3)\n"
          ],
          "name": "stdout"
        }
      ]
    },
    {
      "cell_type": "code",
      "metadata": {
        "colab": {
          "base_uri": "https://localhost:8080/",
          "height": 607
        },
        "id": "qTs9yd9Qqf3l",
        "outputId": "6940aad1-8f0f-4080-dedb-019a8354abaf"
      },
      "source": [
        "plt.figure(figsize = (10,10))\r\n",
        "for i in range(3):\r\n",
        "  for j in range(3):\r\n",
        "    plt.subplot(3, 3, (3*i)+j+1)\r\n",
        "    plt.imshow(x3_train1[(i*400)+(j*100)][(8*j)+8,...,0], cmap = 'gray')\r\n",
        "    plt.title('Class = {}'.format(str(y3_train1[(i*400)+(j*100)])))"
      ],
      "execution_count": 25,
      "outputs": [
        {
          "output_type": "display_data",
          "data": {
            "image/png": "[encoded data removed]",
            "text/plain": [
              "<Figure size 720x720 with 9 Axes>"
            ]
          },
          "metadata": {
            "tags": [],
            "needs_background": "light"
          }
        }
      ]
    },
    {
      "cell_type": "markdown",
      "metadata": {
        "id": "g_1A-FprrCwg"
      },
      "source": [
        "# 3. Model Build\r\n",
        "\r\n",
        "# 3.1 2D "
      ]
    },
    {
      "cell_type": "code",
      "metadata": {
        "id": "0bWtgeSzrH8G"
      },
      "source": [
        "train_param_set = {'cls_vgg': {'model_name': 'VGG19',\r\n",
        "                               'array_dim': '2d',\r\n",
        "                               'split_rate': 0.2,\r\n",
        "                               'k_fold': 5,\r\n",
        "                               'aug_rate': {'benign': 4, 'malignant': 4},\r\n",
        "                               'batch_size': 50,\r\n",
        "                               'epoch': 100,\r\n",
        "                               'gpu_vision': '0,1,2,3',\r\n",
        "                               'loss': losses.CategoricalCrossentropy(),\r\n",
        "                               'learning_rate': '1e-4',\r\n",
        "                               'optimizer': optimizers.Adam(lr=1e-4),\r\n",
        "                               'metric': ['accuracy'],\r\n",
        "                               'threshold': 0.5,\r\n",
        "                               'ensemble_mode': 'soft',\r\n",
        "                               'positive_idx': 0,\r\n",
        "                               'smode_in': None,\r\n",
        "                               'smode_out': 'pred',\r\n",
        "                               'sample_mode': False,\r\n",
        "                               'step_list': {'hold_out': [1, 2, 3, 4, 5, 6],\r\n",
        "                                             'k_fold': [1, 2.1, 2.2, 2.3, 2.4, 3, 4, 5]}}}\r\n",
        "\r\n",
        "network_param_set = {'vgg': {'input_size': 32,\r\n",
        "                             'block_num': 1,\r\n",
        "                             'layer_num': 1,\r\n",
        "                             'drop_out': 0.5,\r\n",
        "                             'reg_weight': regularizers.l2(1e-3),\r\n",
        "                             'dens_num': 2,\r\n",
        "                             'flat_count': [1000, 500],\r\n",
        "                             'class_count': 10,\r\n",
        "                             'conv_act': 'relu',\r\n",
        "                             'flat_act': 'relu',\r\n",
        "                             'output_act': 'softmax',\r\n",
        "                             'conv_size': 3,\r\n",
        "                             'pool_size': 2}}"
      ],
      "execution_count": 26,
      "outputs": []
    },
    {
      "cell_type": "code",
      "metadata": {
        "colab": {
          "base_uri": "https://localhost:8080/"
        },
        "id": "rg1J_OX0rMrr",
        "outputId": "27dd9066-44bb-47d0-bf67-9b7dca108b92"
      },
      "source": [
        "model = VGG16_2D(network_param_set['vgg'])\r\n",
        "model.summary()"
      ],
      "execution_count": 27,
      "outputs": [
        {
          "output_type": "stream",
          "text": [
            "Model: \"model\"\n",
            "_________________________________________________________________\n",
            "Layer (type)                 Output Shape              Param #   \n",
            "=================================================================\n",
            "input_2 (InputLayer)         [(None, 32, 32, 1)]       0         \n",
            "_________________________________________________________________\n",
            "conv2d (Conv2D)              (None, 32, 32, 64)        640       \n",
            "_________________________________________________________________\n",
            "batch_normalization (BatchNo (None, 32, 32, 64)        256       \n",
            "_________________________________________________________________\n",
            "activation (Activation)      (None, 32, 32, 64)        0         \n",
            "_________________________________________________________________\n",
            "conv2d_1 (Conv2D)            (None, 32, 32, 64)        36928     \n",
            "_________________________________________________________________\n",
            "batch_normalization_1 (Batch (None, 32, 32, 64)        256       \n",
            "_________________________________________________________________\n",
            "activation_1 (Activation)    (None, 32, 32, 64)        0         \n",
            "_________________________________________________________________\n",
            "max_pooling2d (MaxPooling2D) (None, 16, 16, 64)        0         \n",
            "_________________________________________________________________\n",
            "conv2d_2 (Conv2D)            (None, 16, 16, 128)       73856     \n",
            "_________________________________________________________________\n",
            "batch_normalization_2 (Batch (None, 16, 16, 128)       512       \n",
            "_________________________________________________________________\n",
            "activation_2 (Activation)    (None, 16, 16, 128)       0         \n",
            "_________________________________________________________________\n",
            "conv2d_3 (Conv2D)            (None, 16, 16, 128)       147584    \n",
            "_________________________________________________________________\n",
            "batch_normalization_3 (Batch (None, 16, 16, 128)       512       \n",
            "_________________________________________________________________\n",
            "activation_3 (Activation)    (None, 16, 16, 128)       0         \n",
            "_________________________________________________________________\n",
            "max_pooling2d_1 (MaxPooling2 (None, 8, 8, 128)         0         \n",
            "_________________________________________________________________\n",
            "conv2d_4 (Conv2D)            (None, 8, 8, 256)         295168    \n",
            "_________________________________________________________________\n",
            "batch_normalization_4 (Batch (None, 8, 8, 256)         1024      \n",
            "_________________________________________________________________\n",
            "activation_4 (Activation)    (None, 8, 8, 256)         0         \n",
            "_________________________________________________________________\n",
            "conv2d_5 (Conv2D)            (None, 8, 8, 256)         590080    \n",
            "_________________________________________________________________\n",
            "batch_normalization_5 (Batch (None, 8, 8, 256)         1024      \n",
            "_________________________________________________________________\n",
            "activation_5 (Activation)    (None, 8, 8, 256)         0         \n",
            "_________________________________________________________________\n",
            "max_pooling2d_2 (MaxPooling2 (None, 4, 4, 256)         0         \n",
            "_________________________________________________________________\n",
            "conv2d_6 (Conv2D)            (None, 4, 4, 512)         1180160   \n",
            "_________________________________________________________________\n",
            "batch_normalization_6 (Batch (None, 4, 4, 512)         2048      \n",
            "_________________________________________________________________\n",
            "activation_6 (Activation)    (None, 4, 4, 512)         0         \n",
            "_________________________________________________________________\n",
            "conv2d_7 (Conv2D)            (None, 4, 4, 512)         2359808   \n",
            "_________________________________________________________________\n",
            "batch_normalization_7 (Batch (None, 4, 4, 512)         2048      \n",
            "_________________________________________________________________\n",
            "activation_7 (Activation)    (None, 4, 4, 512)         0         \n",
            "_________________________________________________________________\n",
            "max_pooling2d_3 (MaxPooling2 (None, 2, 2, 512)         0         \n",
            "_________________________________________________________________\n",
            "conv2d_8 (Conv2D)            (None, 2, 2, 512)         2359808   \n",
            "_________________________________________________________________\n",
            "batch_normalization_8 (Batch (None, 2, 2, 512)         2048      \n",
            "_________________________________________________________________\n",
            "activation_8 (Activation)    (None, 2, 2, 512)         0         \n",
            "_________________________________________________________________\n",
            "conv2d_9 (Conv2D)            (None, 2, 2, 512)         2359808   \n",
            "_________________________________________________________________\n",
            "batch_normalization_9 (Batch (None, 2, 2, 512)         2048      \n",
            "_________________________________________________________________\n",
            "activation_9 (Activation)    (None, 2, 2, 512)         0         \n",
            "_________________________________________________________________\n",
            "max_pooling2d_4 (MaxPooling2 (None, 1, 1, 512)         0         \n",
            "_________________________________________________________________\n",
            "flatten (Flatten)            (None, 512)               0         \n",
            "_________________________________________________________________\n",
            "dense (Dense)                (None, 1000)              513000    \n",
            "_________________________________________________________________\n",
            "dropout (Dropout)            (None, 1000)              0         \n",
            "_________________________________________________________________\n",
            "dense_1 (Dense)              (None, 500)               500500    \n",
            "_________________________________________________________________\n",
            "dropout_1 (Dropout)          (None, 500)               0         \n",
            "_________________________________________________________________\n",
            "dense_2 (Dense)              (None, 10)                5010      \n",
            "=================================================================\n",
            "Total params: 10,434,126\n",
            "Trainable params: 10,428,238\n",
            "Non-trainable params: 5,888\n",
            "_________________________________________________________________\n"
          ],
          "name": "stdout"
        }
      ]
    },
    {
      "cell_type": "code",
      "metadata": {
        "id": "R55d1x2hrV-Q"
      },
      "source": [
        "model.compile(loss = losses.CategoricalCrossentropy(),\r\n",
        "              optimizer = optimizers.Adam(lr=1e-5), metrics = ['acc'])"
      ],
      "execution_count": 30,
      "outputs": []
    },
    {
      "cell_type": "code",
      "metadata": {
        "colab": {
          "base_uri": "https://localhost:8080/"
        },
        "id": "sEZTMTtVrk3s",
        "outputId": "ad8307f6-4e91-4c82-ee4b-c62e9f40c0f9"
      },
      "source": [
        "callback_list = [keras.callbacks.EarlyStopping(monitor = 'val_loss', patience = 20),\r\n",
        "                         keras.callbacks.ModelCheckpoint(filepath = os.path.join('model.h5'),\r\n",
        "                                                         monitor = 'val_loss', save_best_only = True),\r\n",
        "                         keras.callbacks.ReduceLROnPlateau(monitor='val_loss', factor = 0.1, patience = 10)]\r\n",
        "\r\n",
        "history = model.fit(x_train1, y_train1, epochs = 50, batch_size = 32, \r\n",
        "                    validation_data = (x_test1, y_test1),\r\n",
        "                    callbacks = callback_list, shuffle = True)"
      ],
      "execution_count": 31,
      "outputs": [
        {
          "output_type": "stream",
          "text": [
            "Epoch 1/50\n",
            "157/157 [==============================] - 13s 27ms/step - loss: 4.0654 - acc: 0.1594 - val_loss: 3.2044 - val_acc: 0.3760\n",
            "Epoch 2/50\n",
            "157/157 [==============================] - 4s 22ms/step - loss: 2.9971 - acc: 0.4370 - val_loss: 2.3003 - val_acc: 0.7940\n",
            "Epoch 3/50\n",
            "157/157 [==============================] - 3s 22ms/step - loss: 2.4667 - acc: 0.6270 - val_loss: 1.8770 - val_acc: 0.8860\n",
            "Epoch 4/50\n",
            "157/157 [==============================] - 3s 22ms/step - loss: 2.0523 - acc: 0.7819 - val_loss: 1.6663 - val_acc: 0.9160\n",
            "Epoch 5/50\n",
            "157/157 [==============================] - 4s 22ms/step - loss: 1.8026 - acc: 0.8560 - val_loss: 1.5574 - val_acc: 0.9260\n",
            "Epoch 6/50\n",
            "157/157 [==============================] - 4s 23ms/step - loss: 1.6684 - acc: 0.8972 - val_loss: 1.4941 - val_acc: 0.9400\n",
            "Epoch 7/50\n",
            "157/157 [==============================] - 4s 23ms/step - loss: 1.5644 - acc: 0.9236 - val_loss: 1.4454 - val_acc: 0.9480\n",
            "Epoch 8/50\n",
            "157/157 [==============================] - 4s 22ms/step - loss: 1.4848 - acc: 0.9429 - val_loss: 1.4118 - val_acc: 0.9500\n",
            "Epoch 9/50\n",
            "157/157 [==============================] - 4s 22ms/step - loss: 1.4505 - acc: 0.9536 - val_loss: 1.3898 - val_acc: 0.9520\n",
            "Epoch 10/50\n",
            "157/157 [==============================] - 4s 22ms/step - loss: 1.3873 - acc: 0.9696 - val_loss: 1.3733 - val_acc: 0.9500\n",
            "Epoch 11/50\n",
            "157/157 [==============================] - 4s 22ms/step - loss: 1.3680 - acc: 0.9695 - val_loss: 1.3639 - val_acc: 0.9560\n",
            "Epoch 12/50\n",
            "157/157 [==============================] - 4s 22ms/step - loss: 1.3452 - acc: 0.9743 - val_loss: 1.3479 - val_acc: 0.9540\n",
            "Epoch 13/50\n",
            "157/157 [==============================] - 4s 22ms/step - loss: 1.3143 - acc: 0.9823 - val_loss: 1.3325 - val_acc: 0.9560\n",
            "Epoch 14/50\n",
            "157/157 [==============================] - 4s 23ms/step - loss: 1.2960 - acc: 0.9835 - val_loss: 1.3147 - val_acc: 0.9700\n",
            "Epoch 15/50\n",
            "157/157 [==============================] - 4s 22ms/step - loss: 1.2731 - acc: 0.9890 - val_loss: 1.2970 - val_acc: 0.9680\n",
            "Epoch 16/50\n",
            "157/157 [==============================] - 4s 22ms/step - loss: 1.2597 - acc: 0.9925 - val_loss: 1.2901 - val_acc: 0.9700\n",
            "Epoch 17/50\n",
            "157/157 [==============================] - 4s 23ms/step - loss: 1.2459 - acc: 0.9928 - val_loss: 1.2793 - val_acc: 0.9700\n",
            "Epoch 18/50\n",
            "157/157 [==============================] - 4s 23ms/step - loss: 1.2316 - acc: 0.9951 - val_loss: 1.2704 - val_acc: 0.9680\n",
            "Epoch 19/50\n",
            "157/157 [==============================] - 4s 23ms/step - loss: 1.2179 - acc: 0.9975 - val_loss: 1.2648 - val_acc: 0.9680\n",
            "Epoch 20/50\n",
            "157/157 [==============================] - 4s 23ms/step - loss: 1.2098 - acc: 0.9960 - val_loss: 1.2481 - val_acc: 0.9720\n",
            "Epoch 21/50\n",
            "157/157 [==============================] - 4s 23ms/step - loss: 1.2016 - acc: 0.9962 - val_loss: 1.2429 - val_acc: 0.9760\n",
            "Epoch 22/50\n",
            "157/157 [==============================] - 4s 23ms/step - loss: 1.1916 - acc: 0.9968 - val_loss: 1.2458 - val_acc: 0.9660\n",
            "Epoch 23/50\n",
            "157/157 [==============================] - 4s 23ms/step - loss: 1.1805 - acc: 0.9955 - val_loss: 1.2249 - val_acc: 0.9720\n",
            "Epoch 24/50\n",
            "157/157 [==============================] - 4s 23ms/step - loss: 1.1718 - acc: 0.9967 - val_loss: 1.2178 - val_acc: 0.9700\n",
            "Epoch 25/50\n",
            "157/157 [==============================] - 4s 23ms/step - loss: 1.1579 - acc: 0.9993 - val_loss: 1.2111 - val_acc: 0.9680\n",
            "Epoch 26/50\n",
            "157/157 [==============================] - 4s 23ms/step - loss: 1.1497 - acc: 0.9984 - val_loss: 1.2037 - val_acc: 0.9720\n",
            "Epoch 27/50\n",
            "157/157 [==============================] - 4s 23ms/step - loss: 1.1409 - acc: 0.9984 - val_loss: 1.1875 - val_acc: 0.9720\n",
            "Epoch 28/50\n",
            "157/157 [==============================] - 4s 23ms/step - loss: 1.1298 - acc: 0.9994 - val_loss: 1.1980 - val_acc: 0.9700\n",
            "Epoch 29/50\n",
            "157/157 [==============================] - 4s 23ms/step - loss: 1.1211 - acc: 0.9983 - val_loss: 1.1719 - val_acc: 0.9720\n",
            "Epoch 30/50\n",
            "157/157 [==============================] - 4s 23ms/step - loss: 1.1102 - acc: 1.0000 - val_loss: 1.1623 - val_acc: 0.9740\n",
            "Epoch 31/50\n",
            "157/157 [==============================] - 4s 23ms/step - loss: 1.1015 - acc: 0.9992 - val_loss: 1.1587 - val_acc: 0.9720\n",
            "Epoch 32/50\n",
            "157/157 [==============================] - 4s 23ms/step - loss: 1.0901 - acc: 0.9998 - val_loss: 1.1532 - val_acc: 0.9740\n",
            "Epoch 33/50\n",
            "157/157 [==============================] - 4s 23ms/step - loss: 1.0804 - acc: 0.9993 - val_loss: 1.1421 - val_acc: 0.9740\n",
            "Epoch 34/50\n",
            "157/157 [==============================] - 4s 23ms/step - loss: 1.0684 - acc: 1.0000 - val_loss: 1.1165 - val_acc: 0.9740\n",
            "Epoch 35/50\n",
            "157/157 [==============================] - 4s 23ms/step - loss: 1.0591 - acc: 0.9989 - val_loss: 1.1176 - val_acc: 0.9760\n",
            "Epoch 36/50\n",
            "157/157 [==============================] - 4s 23ms/step - loss: 1.0466 - acc: 0.9997 - val_loss: 1.0991 - val_acc: 0.9740\n",
            "Epoch 37/50\n",
            "157/157 [==============================] - 4s 23ms/step - loss: 1.0364 - acc: 0.9992 - val_loss: 1.1108 - val_acc: 0.9720\n",
            "Epoch 38/50\n",
            "157/157 [==============================] - 4s 23ms/step - loss: 1.0246 - acc: 1.0000 - val_loss: 1.0781 - val_acc: 0.9740\n",
            "Epoch 39/50\n",
            "157/157 [==============================] - 4s 23ms/step - loss: 1.0110 - acc: 1.0000 - val_loss: 1.0736 - val_acc: 0.9780\n",
            "Epoch 40/50\n",
            "157/157 [==============================] - 4s 24ms/step - loss: 1.0007 - acc: 0.9992 - val_loss: 1.0437 - val_acc: 0.9780\n",
            "Epoch 41/50\n",
            "157/157 [==============================] - 4s 23ms/step - loss: 0.9883 - acc: 0.9999 - val_loss: 1.0358 - val_acc: 0.9760\n",
            "Epoch 42/50\n",
            "157/157 [==============================] - 4s 23ms/step - loss: 0.9751 - acc: 0.9996 - val_loss: 1.0337 - val_acc: 0.9740\n",
            "Epoch 43/50\n",
            "157/157 [==============================] - 4s 23ms/step - loss: 0.9612 - acc: 0.9998 - val_loss: 1.0300 - val_acc: 0.9700\n",
            "Epoch 44/50\n",
            "157/157 [==============================] - 4s 23ms/step - loss: 0.9494 - acc: 0.9997 - val_loss: 1.0014 - val_acc: 0.9720\n",
            "Epoch 45/50\n",
            "157/157 [==============================] - 4s 23ms/step - loss: 0.9357 - acc: 0.9993 - val_loss: 1.0131 - val_acc: 0.9680\n",
            "Epoch 46/50\n",
            "157/157 [==============================] - 4s 23ms/step - loss: 0.9235 - acc: 0.9986 - val_loss: 1.0059 - val_acc: 0.9740\n",
            "Epoch 47/50\n",
            "157/157 [==============================] - 4s 23ms/step - loss: 0.9100 - acc: 0.9994 - val_loss: 0.9572 - val_acc: 0.9760\n",
            "Epoch 48/50\n",
            "157/157 [==============================] - 4s 23ms/step - loss: 0.8964 - acc: 0.9996 - val_loss: 0.9419 - val_acc: 0.9720\n",
            "Epoch 49/50\n",
            "157/157 [==============================] - 4s 23ms/step - loss: 0.8832 - acc: 1.0000 - val_loss: 0.9631 - val_acc: 0.9680\n",
            "Epoch 50/50\n",
            "157/157 [==============================] - 4s 23ms/step - loss: 0.8697 - acc: 0.9991 - val_loss: 0.9394 - val_acc: 0.9680\n"
          ],
          "name": "stdout"
        }
      ]
    },
    {
      "cell_type": "code",
      "metadata": {
        "colab": {
          "base_uri": "https://localhost:8080/",
          "height": 1000
        },
        "id": "SmAg-FaSrzm8",
        "outputId": "a1e1ff04-5564-4f0a-e374-f7f41a0e4186"
      },
      "source": [
        "acc = history.history['acc']\r\n",
        "val_acc = history.history['val_acc']\r\n",
        "loss = history.history['loss']\r\n",
        "val_loss = history.history['val_loss']\r\n",
        "epochs = range(len(acc))\r\n",
        "# Accuracy graph\r\n",
        "plt.figure(figsize=(10, 10))\r\n",
        "plt.plot(epochs, acc, 'b', label = 'Training acc = {}%'.format(np.around(np.max(acc) * 100, decimals = 1)))\r\n",
        "plt.plot(epochs, val_acc, 'r', label = 'Validation acc = {}%'.format(np.around(np.max(val_acc) * 100, decimals = 1)))\r\n",
        "plt.title('{} Accuracy (Total Epoch = {})'.format('VGG16', len(acc)), fontsize = 15, y = 1.02)\r\n",
        "plt.xticks(size = 15)\r\n",
        "plt.yticks(size = 15)\r\n",
        "plt.legend(fontsize = 15)\r\n",
        "plt.show()\r\n",
        "# Loss graph\r\n",
        "plt.figure(figsize = (10, 10))\r\n",
        "plt.plot(epochs, loss, 'b', label = 'Training loss = {}'.format(np.around(np.min(loss), decimals = 3)))\r\n",
        "plt.plot(epochs, val_loss, 'r', label = 'Validation loss= {}'.format(np.around(np.min(val_loss), decimals = 3)))\r\n",
        "plt.title('{} Loss (Total Epoch = {})'.format('VGG16', len(loss)), fontsize = 15, y = 1.02)\r\n",
        "plt.xticks(size = 15)\r\n",
        "plt.yticks(size = 15)\r\n",
        "plt.legend(fontsize = 15)\r\n",
        "plt.show()"
      ],
      "execution_count": 32,
      "outputs": [
        {
          "output_type": "display_data",
          "data": {
            "image/png": "[encoded data removed]",
            "text/plain": [
              "<Figure size 720x720 with 1 Axes>"
            ]
          },
          "metadata": {
            "tags": [],
            "needs_background": "light"
          }
        },
        {
          "output_type": "display_data",
          "data": {
            "image/png": "[encoded data removed]",
            "text/plain": [
              "<Figure size 720x720 with 1 Axes>"
            ]
          },
          "metadata": {
            "tags": [],
            "needs_background": "light"
          }
        }
      ]
    },
    {
      "cell_type": "markdown",
      "metadata": {
        "id": "-bZesbUDsH0c"
      },
      "source": [
        "# 3.2 3D"
      ]
    },
    {
      "cell_type": "code",
      "metadata": {
        "colab": {
          "base_uri": "https://localhost:8080/",
          "height": 395
        },
        "id": "ev2zH1UTsKUv",
        "outputId": "65f3ef01-d2b7-4345-bc23-711fed813780"
      },
      "source": [
        "model = VGG16_3D(32, 1, 0.5, 256, 3, 'relu', 'relu', 'softmax', 3, 2)\r\n",
        "model.summary()"
      ],
      "execution_count": 35,
      "outputs": [
        {
          "output_type": "error",
          "ename": "NameError",
          "evalue": "ignored",
          "traceback": [
            "\u001b[0;31m---------------------------------------------------------------------------\u001b[0m",
            "\u001b[0;31mNameError\u001b[0m                                 Traceback (most recent call last)",
            "\u001b[0;32m<ipython-input-35-f057a2d6f935>\u001b[0m in \u001b[0;36m<module>\u001b[0;34m()\u001b[0m\n\u001b[0;32m----> 1\u001b[0;31m \u001b[0mmodel\u001b[0m \u001b[0;34m=\u001b[0m \u001b[0mVGG16_3D\u001b[0m\u001b[0;34m(\u001b[0m\u001b[0;36m32\u001b[0m\u001b[0;34m,\u001b[0m \u001b[0;36m1\u001b[0m\u001b[0;34m,\u001b[0m \u001b[0;36m0.5\u001b[0m\u001b[0;34m,\u001b[0m \u001b[0;36m256\u001b[0m\u001b[0;34m,\u001b[0m \u001b[0;36m3\u001b[0m\u001b[0;34m,\u001b[0m \u001b[0;34m'relu'\u001b[0m\u001b[0;34m,\u001b[0m \u001b[0;34m'relu'\u001b[0m\u001b[0;34m,\u001b[0m \u001b[0;34m'softmax'\u001b[0m\u001b[0;34m,\u001b[0m \u001b[0;36m3\u001b[0m\u001b[0;34m,\u001b[0m \u001b[0;36m2\u001b[0m\u001b[0;34m)\u001b[0m\u001b[0;34m\u001b[0m\u001b[0;34m\u001b[0m\u001b[0m\n\u001b[0m\u001b[1;32m      2\u001b[0m \u001b[0mmodel\u001b[0m\u001b[0;34m.\u001b[0m\u001b[0msummary\u001b[0m\u001b[0;34m(\u001b[0m\u001b[0;34m)\u001b[0m\u001b[0;34m\u001b[0m\u001b[0;34m\u001b[0m\u001b[0m\n",
            "\u001b[0;32m<ipython-input-11-3b074418f0fa>\u001b[0m in \u001b[0;36mVGG16_3D\u001b[0;34m(input_size, block_num, drop_out, flat_count, class_count, conv_act, flat_act, output_act, conv_str, pool_str)\u001b[0m\n\u001b[1;32m      2\u001b[0m              output_act, conv_str, pool_str):\n\u001b[1;32m      3\u001b[0m   \u001b[0minputs\u001b[0m \u001b[0;34m=\u001b[0m \u001b[0mInput\u001b[0m\u001b[0;34m(\u001b[0m\u001b[0mshape\u001b[0m \u001b[0;34m=\u001b[0m \u001b[0;34m(\u001b[0m\u001b[0minput_size\u001b[0m\u001b[0;34m,\u001b[0m \u001b[0minput_size\u001b[0m\u001b[0;34m,\u001b[0m \u001b[0minput_size\u001b[0m\u001b[0;34m,\u001b[0m \u001b[0;36m1\u001b[0m\u001b[0;34m)\u001b[0m\u001b[0;34m)\u001b[0m\u001b[0;34m\u001b[0m\u001b[0;34m\u001b[0m\u001b[0m\n\u001b[0;32m----> 4\u001b[0;31m   \u001b[0mblock1\u001b[0m \u001b[0;34m=\u001b[0m \u001b[0mcn\u001b[0m\u001b[0;34m.\u001b[0m\u001b[0mconv_block_3d\u001b[0m\u001b[0;34m(\u001b[0m\u001b[0minputs\u001b[0m\u001b[0;34m,\u001b[0m \u001b[0;36m2\u001b[0m\u001b[0;34m,\u001b[0m \u001b[0;34m[\u001b[0m\u001b[0;36m64\u001b[0m\u001b[0;34m,\u001b[0m \u001b[0mconv_str\u001b[0m\u001b[0;34m,\u001b[0m \u001b[0mconv_act\u001b[0m\u001b[0;34m,\u001b[0m \u001b[0mpool_size\u001b[0m\u001b[0;34m,\u001b[0m \u001b[0mdrop_out\u001b[0m\u001b[0;34m]\u001b[0m\u001b[0;34m)\u001b[0m\u001b[0;34m\u001b[0m\u001b[0;34m\u001b[0m\u001b[0m\n\u001b[0m\u001b[1;32m      5\u001b[0m   \u001b[0mblock2\u001b[0m \u001b[0;34m=\u001b[0m \u001b[0mcn\u001b[0m\u001b[0;34m.\u001b[0m\u001b[0mconv_block_3d\u001b[0m\u001b[0;34m(\u001b[0m\u001b[0mblock1\u001b[0m\u001b[0;34m,\u001b[0m \u001b[0;36m2\u001b[0m\u001b[0;34m,\u001b[0m \u001b[0;34m[\u001b[0m\u001b[0;36m128\u001b[0m\u001b[0;34m,\u001b[0m \u001b[0mconv_str\u001b[0m\u001b[0;34m,\u001b[0m \u001b[0mconv_act\u001b[0m\u001b[0;34m,\u001b[0m \u001b[0mpool_size\u001b[0m\u001b[0;34m,\u001b[0m \u001b[0mdrop_out\u001b[0m\u001b[0;34m]\u001b[0m\u001b[0;34m)\u001b[0m\u001b[0;34m\u001b[0m\u001b[0;34m\u001b[0m\u001b[0m\n\u001b[1;32m      6\u001b[0m   \u001b[0mblock3\u001b[0m \u001b[0;34m=\u001b[0m \u001b[0mcn\u001b[0m\u001b[0;34m.\u001b[0m\u001b[0mconv_block_3d\u001b[0m\u001b[0;34m(\u001b[0m\u001b[0mblock1\u001b[0m\u001b[0;34m,\u001b[0m \u001b[0;36m3\u001b[0m\u001b[0;34m,\u001b[0m \u001b[0;34m[\u001b[0m\u001b[0;36m256\u001b[0m\u001b[0;34m,\u001b[0m \u001b[0mconv_str\u001b[0m\u001b[0;34m,\u001b[0m \u001b[0mconv_act\u001b[0m\u001b[0;34m,\u001b[0m \u001b[0mpool_size\u001b[0m\u001b[0;34m,\u001b[0m \u001b[0mdrop_out\u001b[0m\u001b[0;34m]\u001b[0m\u001b[0;34m)\u001b[0m\u001b[0;34m\u001b[0m\u001b[0;34m\u001b[0m\u001b[0m\n",
            "\u001b[0;31mNameError\u001b[0m: name 'pool_size' is not defined"
          ]
        }
      ]
    },
    {
      "cell_type": "code",
      "metadata": {
        "id": "DP9WMFVYsYq-"
      },
      "source": [
        "model.compile(loss = losses.CategoricalCrossentropy(), optimizer=optimizers.Adam(lr=1e-5), metrics=['acc'])\r\n",
        "callback_list = [keras.callbacks.EarlyStopping(monitor='val_acc', patience=12),\r\n",
        "                         keras.callbacks.ModelCheckpoint(filepath=os.path.join('model.h5'),\r\n",
        "                                                         monitor='val_loss', save_best_only=True),\r\n",
        "                         keras.callbacks.ReduceLROnPlateau(monitor='val_loss', factor=0.1, patience=10)]\r\n",
        "\r\n",
        "history = model.fit(x3_train1, y3_train1, epochs = 100, batch_size = 32, \r\n",
        "                    validation_data = (x3_test1, y3_test1),\r\n",
        "                    callbacks = callback_list, shuffle = True)"
      ],
      "execution_count": null,
      "outputs": []
    },
    {
      "cell_type": "code",
      "metadata": {
        "id": "9bznSZoGshza"
      },
      "source": [
        "acc = history.history['acc']\r\n",
        "val_acc = history.history['val_acc']\r\n",
        "loss = history.history['loss']\r\n",
        "val_loss = history.history['val_loss']\r\n",
        "epochs = range(len(acc))\r\n",
        "# Accuracy graph\r\n",
        "plt.figure(figsize=(10, 10))\r\n",
        "plt.plot(epochs, acc, 'b', label='Training acc = {}%'.format(np.around(np.max(acc) * 100, decimals=1)))\r\n",
        "plt.plot(epochs, val_acc, 'r', label='Validation acc = {}%'.format(np.around(np.max(val_acc) * 100, decimals=1)))\r\n",
        "plt.title('{} Accuracy (Total Epoch = {})'.format('VGG16', len(acc)), fontsize=15, y=1.02)\r\n",
        "plt.xticks(size=15)\r\n",
        "plt.yticks(size=15)\r\n",
        "plt.legend(fontsize=15)\r\n",
        "plt.show()\r\n",
        "# Loss graph\r\n",
        "plt.figure(figsize=(10, 10))\r\n",
        "plt.plot(epochs, loss, 'b', label='Training loss = {}'.format(np.around(np.min(loss), decimals=3)))\r\n",
        "plt.plot(epochs, val_loss, 'r', label='Validation loss= {}'.format(np.around(np.min(val_loss), decimals=3)))\r\n",
        "plt.title('{} Loss (Total Epoch = {})'.format('VGG16', len(loss)), fontsize=15, y=1.02)\r\n",
        "plt.xticks(size=15)\r\n",
        "plt.yticks(size=15)\r\n",
        "plt.legend(fontsize=15)\r\n",
        "plt.show()"
      ],
      "execution_count": null,
      "outputs": []
    },
    {
      "cell_type": "markdown",
      "metadata": {
        "id": "W4g7j_WSskrl"
      },
      "source": [
        "# 4. Additional Model\r\n",
        "\r\n",
        "#4.1 VGG19\r\n",
        "\r\n",
        "* keras application"
      ]
    },
    {
      "cell_type": "code",
      "metadata": {
        "id": "kU_mblyMss7I"
      },
      "source": [
        "from tensotflow.keras.application import VGG19\r\n",
        "model = VGG19(weight = 'imagenet', include_top = False, input_shape = (32, 32, 3))\r\n",
        "model.summary()"
      ],
      "execution_count": null,
      "outputs": []
    },
    {
      "cell_type": "code",
      "metadata": {
        "id": "7TshEUq4s66T"
      },
      "source": [
        "def VGG19_2D(input_size, drop_out, flat_count, class_count, conv_act, flat_act, output_act, conv_str, pool_str):\r\n",
        "\r\n",
        "    inputs = Input(shape=(input_size, input_size, 1))\r\n",
        "    block1 = cn.conv_block_2d(inputs, 2, [64, conv_str, conv_act, pool_str, drop_out])\r\n",
        "    block2 = cn.conv_block_2d(block1, 2, [128, conv_str, conv_act, pool_str, drop_out])\r\n",
        "    block3 = cn.conv_block_2d(block2, 4, [256, conv_str, conv_act, pool_str, drop_out])\r\n",
        "    block4 = cn.conv_block_2d(block3, 4, [512, conv_str, conv_act, pool_str, drop_out])\r\n",
        "    block5 = cn.conv_block_2d(block4, 4, [512, conv_str, conv_act, pool_str, drop_out])\r\n",
        "    flat = layers.Flatten()(block5)\r\n",
        "    drop1 = layers.Dropout(drop_out)(flat)\r\n",
        "    dens = layers.Dense(flat_count, activation=flat_act)(drop1)\r\n",
        "    drop2 = layers.Dropout(drop_out)(dens)\r\n",
        "    outputs = layers.Dense(class_count, activation=output_act)(drop2)\r\n",
        "    model = Model(inputs, outputs)\r\n",
        "    return model\r\n",
        "\r\n",
        "model = VGG19_2D(32, 0.5, 256, 2, 'relu', 'relu', 'sigmoid', 3, 2)\r\n",
        "model.summary()"
      ],
      "execution_count": null,
      "outputs": []
    },
    {
      "cell_type": "code",
      "metadata": {
        "colab": {
          "base_uri": "https://localhost:8080/",
          "height": 414
        },
        "id": "GPb-psfws8ta",
        "outputId": "75b15b99-4eda-40f7-8e75-6683263c4ae4"
      },
      "source": [
        "def VGGfree_2D(input_size, block_num, layer_num, drop_out, flat_count, class_count, conv_act, flat_act, output_act, conv_str, pool_str):\r\n",
        "\r\n",
        "    inputs = Input(shape=(input_size, input_size, 1))\r\n",
        "    block = layers.Conv2D(32, conv_str, activation=conv_act, padding='same', kernel_initializer='he_normal')(inputs)\r\n",
        "    for i in range(block_num):\r\n",
        "        block = cn.conv_block_2d(block, layer_num, [32*(2**i), conv_str, conv_act, pool_str, drop_out])\r\n",
        "    flat = layers.Flatten()(block)\r\n",
        "    drop1 = layers.Dropout(drop_out)(flat)\r\n",
        "    dens = layers.Dense(flat_count, activation=flat_act)(drop1)\r\n",
        "    drop2 = layers.Dropout(drop_out)(dens)\r\n",
        "    outputs = layers.Dense(class_count, activation=output_act)(drop2)\r\n",
        "    model = Model(inputs, outputs)\r\n",
        "    return model\r\n",
        "\r\n",
        "model = VGGfree_2D(32, 5, 2, 0.5, 256, 2, 'relu', 'relu', 'sigmoid', 3, 2)\r\n",
        "model.summary()"
      ],
      "execution_count": 1,
      "outputs": [
        {
          "output_type": "error",
          "ename": "NameError",
          "evalue": "ignored",
          "traceback": [
            "\u001b[0;31m---------------------------------------------------------------------------\u001b[0m",
            "\u001b[0;31mNameError\u001b[0m                                 Traceback (most recent call last)",
            "\u001b[0;32m<ipython-input-1-4ccef4125c6f>\u001b[0m in \u001b[0;36m<module>\u001b[0;34m()\u001b[0m\n\u001b[1;32m     13\u001b[0m     \u001b[0;32mreturn\u001b[0m \u001b[0mmodel\u001b[0m\u001b[0;34m\u001b[0m\u001b[0;34m\u001b[0m\u001b[0m\n\u001b[1;32m     14\u001b[0m \u001b[0;34m\u001b[0m\u001b[0m\n\u001b[0;32m---> 15\u001b[0;31m \u001b[0mmodel\u001b[0m \u001b[0;34m=\u001b[0m \u001b[0mVGGfree_2D\u001b[0m\u001b[0;34m(\u001b[0m\u001b[0;36m32\u001b[0m\u001b[0;34m,\u001b[0m \u001b[0;36m5\u001b[0m\u001b[0;34m,\u001b[0m \u001b[0;36m2\u001b[0m\u001b[0;34m,\u001b[0m \u001b[0;36m0.5\u001b[0m\u001b[0;34m,\u001b[0m \u001b[0;36m256\u001b[0m\u001b[0;34m,\u001b[0m \u001b[0;36m2\u001b[0m\u001b[0;34m,\u001b[0m \u001b[0;34m'relu'\u001b[0m\u001b[0;34m,\u001b[0m \u001b[0;34m'relu'\u001b[0m\u001b[0;34m,\u001b[0m \u001b[0;34m'sigmoid'\u001b[0m\u001b[0;34m,\u001b[0m \u001b[0;36m3\u001b[0m\u001b[0;34m,\u001b[0m \u001b[0;36m2\u001b[0m\u001b[0;34m)\u001b[0m\u001b[0;34m\u001b[0m\u001b[0;34m\u001b[0m\u001b[0m\n\u001b[0m\u001b[1;32m     16\u001b[0m \u001b[0mmodel\u001b[0m\u001b[0;34m.\u001b[0m\u001b[0msummary\u001b[0m\u001b[0;34m(\u001b[0m\u001b[0;34m)\u001b[0m\u001b[0;34m\u001b[0m\u001b[0;34m\u001b[0m\u001b[0m\n",
            "\u001b[0;32m<ipython-input-1-4ccef4125c6f>\u001b[0m in \u001b[0;36mVGGfree_2D\u001b[0;34m(input_size, block_num, layer_num, drop_out, flat_count, class_count, conv_act, flat_act, output_act, conv_str, pool_str)\u001b[0m\n\u001b[1;32m      1\u001b[0m \u001b[0;32mdef\u001b[0m \u001b[0mVGGfree_2D\u001b[0m\u001b[0;34m(\u001b[0m\u001b[0minput_size\u001b[0m\u001b[0;34m,\u001b[0m \u001b[0mblock_num\u001b[0m\u001b[0;34m,\u001b[0m \u001b[0mlayer_num\u001b[0m\u001b[0;34m,\u001b[0m \u001b[0mdrop_out\u001b[0m\u001b[0;34m,\u001b[0m \u001b[0mflat_count\u001b[0m\u001b[0;34m,\u001b[0m \u001b[0mclass_count\u001b[0m\u001b[0;34m,\u001b[0m \u001b[0mconv_act\u001b[0m\u001b[0;34m,\u001b[0m \u001b[0mflat_act\u001b[0m\u001b[0;34m,\u001b[0m \u001b[0moutput_act\u001b[0m\u001b[0;34m,\u001b[0m \u001b[0mconv_str\u001b[0m\u001b[0;34m,\u001b[0m \u001b[0mpool_str\u001b[0m\u001b[0;34m)\u001b[0m\u001b[0;34m:\u001b[0m\u001b[0;34m\u001b[0m\u001b[0;34m\u001b[0m\u001b[0m\n\u001b[1;32m      2\u001b[0m \u001b[0;34m\u001b[0m\u001b[0m\n\u001b[0;32m----> 3\u001b[0;31m     \u001b[0minputs\u001b[0m \u001b[0;34m=\u001b[0m \u001b[0mInput\u001b[0m\u001b[0;34m(\u001b[0m\u001b[0mshape\u001b[0m\u001b[0;34m=\u001b[0m\u001b[0;34m(\u001b[0m\u001b[0minput_size\u001b[0m\u001b[0;34m,\u001b[0m \u001b[0minput_size\u001b[0m\u001b[0;34m,\u001b[0m \u001b[0;36m1\u001b[0m\u001b[0;34m)\u001b[0m\u001b[0;34m)\u001b[0m\u001b[0;34m\u001b[0m\u001b[0;34m\u001b[0m\u001b[0m\n\u001b[0m\u001b[1;32m      4\u001b[0m     \u001b[0mblock\u001b[0m \u001b[0;34m=\u001b[0m \u001b[0mlayers\u001b[0m\u001b[0;34m.\u001b[0m\u001b[0mConv2D\u001b[0m\u001b[0;34m(\u001b[0m\u001b[0;36m32\u001b[0m\u001b[0;34m,\u001b[0m \u001b[0mconv_str\u001b[0m\u001b[0;34m,\u001b[0m \u001b[0mactivation\u001b[0m\u001b[0;34m=\u001b[0m\u001b[0mconv_act\u001b[0m\u001b[0;34m,\u001b[0m \u001b[0mpadding\u001b[0m\u001b[0;34m=\u001b[0m\u001b[0;34m'same'\u001b[0m\u001b[0;34m,\u001b[0m \u001b[0mkernel_initializer\u001b[0m\u001b[0;34m=\u001b[0m\u001b[0;34m'he_normal'\u001b[0m\u001b[0;34m)\u001b[0m\u001b[0;34m(\u001b[0m\u001b[0minputs\u001b[0m\u001b[0;34m)\u001b[0m\u001b[0;34m\u001b[0m\u001b[0;34m\u001b[0m\u001b[0m\n\u001b[1;32m      5\u001b[0m     \u001b[0;32mfor\u001b[0m \u001b[0mi\u001b[0m \u001b[0;32min\u001b[0m \u001b[0mrange\u001b[0m\u001b[0;34m(\u001b[0m\u001b[0mblock_num\u001b[0m\u001b[0;34m)\u001b[0m\u001b[0;34m:\u001b[0m\u001b[0;34m\u001b[0m\u001b[0;34m\u001b[0m\u001b[0m\n",
            "\u001b[0;31mNameError\u001b[0m: name 'Input' is not defined"
          ]
        }
      ]
    }
  ]
}