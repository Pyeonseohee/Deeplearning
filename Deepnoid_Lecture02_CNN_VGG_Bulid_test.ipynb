{
  "nbformat": 4,
  "nbformat_minor": 0,
  "metadata": {
    "colab": {
      "name": "Deepnoid_Lecture02_CNN_VGG_Bulid_test.ipynb",
      "provenance": [],
      "include_colab_link": true
    },
    "kernelspec": {
      "name": "python3",
      "display_name": "Python 3"
    },
    "accelerator": "GPU"
  },
  "cells": [
    {
      "cell_type": "markdown",
      "metadata": {
        "id": "view-in-github",
        "colab_type": "text"
      },
      "source": [
        "<a href=\"https://colab.research.google.com/github/Pyeonseohee/Deeplearning/blob/main/Deepnoid_Lecture02_CNN_VGG_Bulid_test.ipynb\" target=\"_parent\"><img src=\"https://colab.research.google.com/assets/colab-badge.svg\" alt=\"Open In Colab\"/></a>"
      ]
    },
    {
      "cell_type": "markdown",
      "metadata": {
        "id": "2NMr4aEJa6vM"
      },
      "source": [
        "# NEURAL NETWORK BUILD\r\n",
        "\r\n"
      ]
    },
    {
      "cell_type": "markdown",
      "metadata": {
        "id": "9wnGsvZ7bEFR"
      },
      "source": [
        "# 1. Library Import"
      ]
    },
    {
      "cell_type": "code",
      "metadata": {
        "id": "uKejGrXCbKa0"
      },
      "source": [
        "import os\r\n",
        "import numpy as np\r\n",
        "import matplotlib\r\n",
        "from matplotlib import pyplot as plt\r\n",
        "from matplotlib.ticker import MultipleLocator\r\n",
        "import pandas as pd\r\n",
        "import csv\r\n",
        "import shutil\r\n",
        "import json\r\n",
        "from sklearn import metrics as skmet\r\n",
        "from skimage import morphology\r\n",
        "from skimage import measure\r\n",
        "from skimage import exposure\r\n",
        "\r\n",
        "### Tensorflow 2.0 ###\r\n",
        "import tensorflow as tf\r\n",
        "from tensorflow import keras\r\n",
        "from tensorflow.keras.models import Sequential, Model\r\n",
        "from tensorflow.keras import Input\r\n",
        "from tensorflow.keras import layers\r\n",
        "from tensorflow.keras import models\r\n",
        "from tensorflow.keras.preprocessing import image\r\n",
        "from tensorflow.keras.preprocessing. image import ImageDataGenerator\r\n",
        "from tensorflow.keras import losses\r\n",
        "from tensorflow.keras import optimizers\r\n",
        "from tensorflow.keras import metrics\r\n",
        "from tensorflow.keras import regularizers\r\n",
        "from tensorflow.keras import utils\r\n",
        "from tensorflow.keras.callbacks import ModelCheckpoint, LearningRateScheduler\r\n",
        "from tensorflow.keras import backend as K"
      ],
      "execution_count": 43,
      "outputs": []
    },
    {
      "cell_type": "markdown",
      "metadata": {
        "id": "wiABi4eCdGYT"
      },
      "source": [
        "# 2. Module Function\r\n",
        "\r\n",
        "* keras application VGG16"
      ]
    },
    {
      "cell_type": "code",
      "metadata": {
        "colab": {
          "base_uri": "https://localhost:8080/"
        },
        "id": "oCMRqXTedP2U",
        "outputId": "d31fd83e-2b21-4960-9e7e-36f26ce7b564"
      },
      "source": [
        "from tensorflow.keras.applications import VGG16\r\n",
        "model = VGG16(weights = 'imagenet', include_top = False, input_shape = (32, 32, 3))\r\n",
        "model.summary()"
      ],
      "execution_count": 44,
      "outputs": [
        {
          "output_type": "stream",
          "text": [
            "Model: \"vgg16\"\n",
            "_________________________________________________________________\n",
            "Layer (type)                 Output Shape              Param #   \n",
            "=================================================================\n",
            "input_4 (InputLayer)         [(None, 32, 32, 3)]       0         \n",
            "_________________________________________________________________\n",
            "block1_conv1 (Conv2D)        (None, 32, 32, 64)        1792      \n",
            "_________________________________________________________________\n",
            "block1_conv2 (Conv2D)        (None, 32, 32, 64)        36928     \n",
            "_________________________________________________________________\n",
            "block1_pool (MaxPooling2D)   (None, 16, 16, 64)        0         \n",
            "_________________________________________________________________\n",
            "block2_conv1 (Conv2D)        (None, 16, 16, 128)       73856     \n",
            "_________________________________________________________________\n",
            "block2_conv2 (Conv2D)        (None, 16, 16, 128)       147584    \n",
            "_________________________________________________________________\n",
            "block2_pool (MaxPooling2D)   (None, 8, 8, 128)         0         \n",
            "_________________________________________________________________\n",
            "block3_conv1 (Conv2D)        (None, 8, 8, 256)         295168    \n",
            "_________________________________________________________________\n",
            "block3_conv2 (Conv2D)        (None, 8, 8, 256)         590080    \n",
            "_________________________________________________________________\n",
            "block3_conv3 (Conv2D)        (None, 8, 8, 256)         590080    \n",
            "_________________________________________________________________\n",
            "block3_pool (MaxPooling2D)   (None, 4, 4, 256)         0         \n",
            "_________________________________________________________________\n",
            "block4_conv1 (Conv2D)        (None, 4, 4, 512)         1180160   \n",
            "_________________________________________________________________\n",
            "block4_conv2 (Conv2D)        (None, 4, 4, 512)         2359808   \n",
            "_________________________________________________________________\n",
            "block4_conv3 (Conv2D)        (None, 4, 4, 512)         2359808   \n",
            "_________________________________________________________________\n",
            "block4_pool (MaxPooling2D)   (None, 2, 2, 512)         0         \n",
            "_________________________________________________________________\n",
            "block5_conv1 (Conv2D)        (None, 2, 2, 512)         2359808   \n",
            "_________________________________________________________________\n",
            "block5_conv2 (Conv2D)        (None, 2, 2, 512)         2359808   \n",
            "_________________________________________________________________\n",
            "block5_conv3 (Conv2D)        (None, 2, 2, 512)         2359808   \n",
            "_________________________________________________________________\n",
            "block5_pool (MaxPooling2D)   (None, 1, 1, 512)         0         \n",
            "=================================================================\n",
            "Total params: 14,714,688\n",
            "Trainable params: 14,714,688\n",
            "Non-trainable params: 0\n",
            "_________________________________________________________________\n"
          ],
          "name": "stdout"
        }
      ]
    },
    {
      "cell_type": "markdown",
      "metadata": {
        "id": "o3NkKnfIdd1j"
      },
      "source": [
        "## 2.2. Conv Block & Output Block Define"
      ]
    },
    {
      "cell_type": "code",
      "metadata": {
        "id": "golmmAmYdfso"
      },
      "source": [
        "def conv_block_2d(lr_conv, lr_num, par_list, bkn):\r\n",
        "        # parameter\r\n",
        "        filter_num = par_list[0]\r\n",
        "        conv_size = par_list[1]\r\n",
        "        conv_act = par_list[2]\r\n",
        "        pool_size = par_list[3]\r\n",
        "        # code\r\n",
        "        for i in range(lr_num):\r\n",
        "            lr_conv = layers.Conv2D(filter_num, conv_size, activation=None, padding='same', \r\n",
        "                                    kernel_initializer='he_normal',\r\n",
        "                                    name='block{}_conv{}'.format(bkn, i+1))(lr_conv)\r\n",
        "            lr_conv = layers.BatchNormalization(axis=-1, name='block{}_batchnorm{}'.format(bkn, i+1))(lr_conv)\r\n",
        "            lr_conv = layers.Activation(conv_act, name='block{}_activ{}'.format(bkn, i+1))(lr_conv)\r\n",
        "        lr_pool = layers.MaxPooling2D(pool_size=pool_size, name='block{}_pool'.format(bkn, i+1))(lr_conv)\r\n",
        "        return lr_pool\r\n",
        "\r\n",
        "def conv_block_3d(lr_conv, lr_num, par_list, bkn):\r\n",
        "        # parameter\r\n",
        "        filter_num = par_list[0]\r\n",
        "        conv_size = par_list[1]\r\n",
        "        conv_act = par_list[2]\r\n",
        "        pool_size = par_list[3]\r\n",
        "        # code\r\n",
        "        for i in range(lr_num):\r\n",
        "            lr_conv = layers.Conv3D(filter_num, conv_size, activation=None, padding='same', \r\n",
        "                                    kernel_initializer='he_normal',\r\n",
        "                                    name='block{}_conv{}'.format(bkn, i+1))(lr_conv)\r\n",
        "            lr_conv = layers.BatchNormalization(axis=-1, name='block{}_batchnorm{}'.format(bkn, i+1))(lr_conv)\r\n",
        "            lr_conv = layers.Activation(conv_act, name='block{}_activ{}'.format(bkn, i+1))(lr_conv)\r\n",
        "        lr_pool = layers.MaxPooling3D(pool_size=pool_size, name='block{}_pool'.format(bkn, i+1))(lr_conv)\r\n",
        "        return lr_pool\r\n",
        "\r\n",
        "def output_block(lr_dense, block_num, dens_count, act_func, drop_rate):\r\n",
        "    lr_dense = layers.Flatten(name='flatten_layer')(lr_dense)\r\n",
        "    for i in range(block_num):\r\n",
        "        lr_dense = layers.Dense(dens_count[i], kernel_regularizer=None,\r\n",
        "                                activation=act_func, name='classifier_dense_{}'.format(i+1))(lr_dense)\r\n",
        "        lr_dense = layers.Dropout(drop_rate, name='classifier_dropout_{}'.format(i+1))(lr_dense)\r\n",
        "    return lr_dense"
      ],
      "execution_count": 45,
      "outputs": []
    },
    {
      "cell_type": "markdown",
      "metadata": {
        "id": "Lc6fbzhAbUHj"
      },
      "source": [
        "# 2.3 VGG16 Build(2D& 3D)"
      ]
    },
    {
      "cell_type": "code",
      "metadata": {
        "id": "PNxMJjesg99M"
      },
      "source": [
        "def VGG16_2D(par_dic):\r\n",
        "    # parameters\r\n",
        "    input_size = par_dic['input_size']\r\n",
        "    conv_size = par_dic['conv_size']\r\n",
        "    conv_act = par_dic['conv_act']\r\n",
        "    pool_size = par_dic['pool_size']\r\n",
        "    dens_num = par_dic['dens_num']\r\n",
        "    dens_count = par_dic['dens_count']\r\n",
        "    dens_act = par_dic['dens_act']\r\n",
        "    drop_out = par_dic['drop_out']\r\n",
        "    output_count = par_dic['output_count']\r\n",
        "    output_act = par_dic['output_act']\r\n",
        "\r\n",
        "    # code block\r\n",
        "    inputs = Input(shape=(input_size, input_size, 1), name='input_layer')\r\n",
        "    block1 = conv_block_2d(inputs, 2, [64, conv_size, conv_act, pool_size])\r\n",
        "    block2 = conv_block_2d(block1, 2, [128, conv_size, conv_act, pool_size])\r\n",
        "    block3 = conv_block_2d(block2, 3, [256, conv_size, conv_act, pool_size])\r\n",
        "    block4 = conv_block_2d(block3, 3, [512, conv_size, conv_act, pool_size])\r\n",
        "    block5 = conv_block_2d(block4, 3, [512, conv_size, conv_act, pool_size])\r\n",
        "    dens = output_block(block5, dens_num, dens_count, dens_act, drop_out)\r\n",
        "    outputs = layers.Dense(output_count, activation=output_act, name='output_layer')(dens)\r\n",
        "    model = Model(inputs, outputs)\r\n",
        "    return model"
      ],
      "execution_count": 46,
      "outputs": []
    },
    {
      "cell_type": "code",
      "metadata": {
        "id": "DDtD7awakXsN"
      },
      "source": [
        "def VGG16_3D(par_dic):\r\n",
        "    # parameters\r\n",
        "    input_size = par_dic['input_size']\r\n",
        "    conv_size = par_dic['conv_size']\r\n",
        "    conv_act = par_dic['conv_act']\r\n",
        "    pool_size = par_dic['pool_size']\r\n",
        "    dens_num = par_dic['dens_num']\r\n",
        "    dens_count = par_dic['dens_count']\r\n",
        "    dens_act = par_dic['dens_act']\r\n",
        "    drop_out = par_dic['drop_out']\r\n",
        "    output_count = par_dic['output_count']\r\n",
        "    output_act = par_dic['output_act']\r\n",
        "\r\n",
        "    # code block\r\n",
        "    inputs = Input(shape=(input_size, input_size, input_size, 1), name='input_layer')\r\n",
        "    block1 = conv_block_3d(inputs, 2, [64, conv_size, conv_act, pool_size])\r\n",
        "    block2 = conv_block_3d(block1, 2, [128, conv_size, conv_act, pool_size])\r\n",
        "    block3 = conv_block_3d(block2, 3, [256, conv_size, conv_act, pool_size])\r\n",
        "    block4 = conv_block_3d(block3, 3, [512, conv_size, conv_act, pool_size])\r\n",
        "    block5 = conv_block_3d(block4, 3, [512, conv_size, conv_act, pool_size])\r\n",
        "    dens = output_block(block5, dens_num, dens_count, dens_act, drop_out)\r\n",
        "    outputs = layers.Dense(output_count, activation=output_act, name='output_layer')(dens)\r\n",
        "    model = Model(inputs, outputs)\r\n",
        "    return model"
      ],
      "execution_count": 47,
      "outputs": []
    },
    {
      "cell_type": "markdown",
      "metadata": {
        "id": "y-MEh0-6blCu"
      },
      "source": [
        "# 2.4 VGG19 Build (2D& 3D)"
      ]
    },
    {
      "cell_type": "code",
      "metadata": {
        "id": "kJVOwr8TXwUe"
      },
      "source": [
        "def VGG19_2D(par_dic):\r\n",
        "    # parameters\r\n",
        "    input_size = par_dic['input_size']\r\n",
        "    conv_size = par_dic['conv_size']\r\n",
        "    conv_act = par_dic['conv_act']\r\n",
        "    pool_size = par_dic['pool_size']\r\n",
        "    dens_num = par_dic['dens_num']\r\n",
        "    dens_count = par_dic['dens_count']\r\n",
        "    dens_act = par_dic['dens_act']\r\n",
        "    drop_out = par_dic['drop_out']\r\n",
        "    output_count = par_dic['output_count']\r\n",
        "    output_act = par_dic['output_act']\r\n",
        "\r\n",
        "    # code block\r\n",
        "    inputs = Input(shape=(input_size, input_size, 1))\r\n",
        "    block1 = conv_block_2d(inputs, 2, [64, conv_size, conv_act, pool_size], 1)\r\n",
        "    block2 = conv_block_2d(block1, 2, [128, conv_size, conv_act, pool_size], 2)\r\n",
        "    block3 = conv_block_2d(block2, 4, [256, conv_size, conv_act, pool_size], 3)\r\n",
        "    block4 = conv_block_2d(block3, 4, [512, conv_size, conv_act, pool_size], 4)\r\n",
        "    block5 = conv_block_2d(block4, 4, [512, conv_size, conv_act, pool_size], 5)\r\n",
        "    dens = output_block(block5, dens_num, dens_count, dens_act, drop_out)\r\n",
        "    outputs = layers.Dense(output_count, activation=output_act)(dens)\r\n",
        "    model = Model(inputs, outputs)\r\n",
        "    return model"
      ],
      "execution_count": 48,
      "outputs": []
    },
    {
      "cell_type": "code",
      "metadata": {
        "id": "pJKoAYoVXzE_"
      },
      "source": [
        "def VGG19_3D(par_dic):\r\n",
        "    # parameters\r\n",
        "    input_size = par_dic['input_size']\r\n",
        "    conv_size = par_dic['conv_size']\r\n",
        "    conv_act = par_dic['conv_act']\r\n",
        "    pool_size = par_dic['pool_size']\r\n",
        "    dens_num = par_dic['dens_num']\r\n",
        "    dens_count = par_dic['dens_count']\r\n",
        "    dens_act = par_dic['dens_act']\r\n",
        "    drop_out = par_dic['drop_out']\r\n",
        "    output_count = par_dic['output_count']\r\n",
        "    output_act = par_dic['output_act']\r\n",
        "\r\n",
        "    # code block\r\n",
        "    inputs = Input(shape=(input_size, input_size, input_size, 1))\r\n",
        "    block1 = conv_block_3d(inputs, 2, [64, conv_size, conv_act, pool_size], 1)\r\n",
        "    block2 = conv_block_3d(block1, 2, [128, conv_size, conv_act, pool_size], 2)\r\n",
        "    block3 = conv_block_3d(block2, 4, [256, conv_size, conv_act, pool_size], 3)\r\n",
        "    block4 = conv_block_3d(block3, 4, [512, conv_size, conv_act, pool_size], 4)\r\n",
        "    block5 = conv_block_3d(block4, 4, [512, conv_size, conv_act, pool_size], 5)\r\n",
        "    dens = output_block(block5, dens_num, dens_count, dens_act, drop_out)\r\n",
        "    outputs = layers.Dense(output_count, activation=output_act)(dens)\r\n",
        "    model = Model(inputs, outputs)\r\n",
        "    return model"
      ],
      "execution_count": 49,
      "outputs": []
    },
    {
      "cell_type": "markdown",
      "metadata": {
        "id": "9Slw9IQpld5h"
      },
      "source": [
        "# 3. Dataset"
      ]
    },
    {
      "cell_type": "code",
      "metadata": {
        "colab": {
          "base_uri": "https://localhost:8080/"
        },
        "id": "JJK2EHVSlfpc",
        "outputId": "7fd206b4-9c87-41a7-81f6-754e2a3ec03c"
      },
      "source": [
        "(x_train, y_train), (x_test, y_test) = keras.datasets.mnist.load_data(path = 'minist.npz')"
      ],
      "execution_count": 53,
      "outputs": [
        {
          "output_type": "stream",
          "text": [
            "Downloading data from https://storage.googleapis.com/tensorflow/tf-keras-datasets/mnist.npz\n",
            "11493376/11490434 [==============================] - 0s 0us/step\n"
          ],
          "name": "stdout"
        }
      ]
    },
    {
      "cell_type": "code",
      "metadata": {
        "colab": {
          "base_uri": "https://localhost:8080/"
        },
        "id": "67O5ZbPGlvU0",
        "outputId": "3c83f22f-6ed9-4fde-eb9e-38d29cab274b"
      },
      "source": [
        "print(x_train.shape, y_train.shape)"
      ],
      "execution_count": 54,
      "outputs": [
        {
          "output_type": "stream",
          "text": [
            "(60000, 28, 28) (60000,)\n"
          ],
          "name": "stdout"
        }
      ]
    },
    {
      "cell_type": "markdown",
      "metadata": {
        "id": "OhN5dDp-lzTT"
      },
      "source": [
        "# 3.1 2D dataset"
      ]
    },
    {
      "cell_type": "code",
      "metadata": {
        "colab": {
          "base_uri": "https://localhost:8080/"
        },
        "id": "mfYCK38Bl1wU",
        "outputId": "a8a0f7c5-be95-4d31-e608-afcaf17400e0"
      },
      "source": [
        "x_train_list = []\r\n",
        "x_test_list = []\r\n",
        "for i, i_ in enumerate(x_train[:5000]):\r\n",
        "  arr = np.zeros(shape = (32,32))\r\n",
        "  arr[:28, :28] = x_train[i]\r\n",
        "  x_train_list.append(arr)\r\n",
        "for i, i_ in enumerate(x_test[:500]):\r\n",
        "  arr = np.zeros(shape =(32,32))\r\n",
        "  arr[:28, :28] = x_test[i]\r\n",
        "  x_test_list.append(arr)\r\n",
        "\r\n",
        "x_train1 = np.expand_dims(np.array(x_train_list), axis=-1)\r\n",
        "x_test1 = np.expand_dims(np.array(x_test_list), axis=-1)\r\n",
        "print(x_train1.shape, x_test1.shape)"
      ],
      "execution_count": 55,
      "outputs": [
        {
          "output_type": "stream",
          "text": [
            "(5000, 32, 32, 1) (500, 32, 32, 1)\n"
          ],
          "name": "stdout"
        }
      ]
    },
    {
      "cell_type": "code",
      "metadata": {
        "colab": {
          "base_uri": "https://localhost:8080/"
        },
        "id": "xxECgr10mrKR",
        "outputId": "2f8d66df-8b2b-4231-a485-2122c9052e43"
      },
      "source": [
        "y_train_list = []\r\n",
        "y_test_list = []\r\n",
        "for i, i_ in enumerate(y_train[:5000]):\r\n",
        "  zero = [0]*10\r\n",
        "  zero[i_] = 1\r\n",
        "  y_train_list.append(zero)\r\n",
        "\r\n",
        "for i, i_ in enumerate(y_test[:500]):\r\n",
        "  zero = [0]*10\r\n",
        "  zero[i_] = 1\r\n",
        "  y_test_list.append(zero)\r\n",
        "\r\n",
        "y_train1 = np.array(y_train_list)\r\n",
        "y_test1 = np.array(y_test_list)\r\n",
        "print(y_train1.shape, y_test1.shape)"
      ],
      "execution_count": 56,
      "outputs": [
        {
          "output_type": "stream",
          "text": [
            "(5000, 10) (500, 10)\n"
          ],
          "name": "stdout"
        }
      ]
    },
    {
      "cell_type": "code",
      "metadata": {
        "colab": {
          "base_uri": "https://localhost:8080/",
          "height": 228
        },
        "id": "hVLwFoJBnS_5",
        "outputId": "fdb1499e-b0db-4051-dfe9-56ef7f750663"
      },
      "source": [
        "plt.figure(figsize = (10,10))\r\n",
        "for i in range(3):\r\n",
        "  plt.subplot(1, 3, i+1)\r\n",
        "  plt.imshow(x_train1[i][...,0], cmap = 'gray')\r\n",
        "  plt.title('Class={}'.format(y_train[i]))"
      ],
      "execution_count": 57,
      "outputs": [
        {
          "output_type": "display_data",
          "data": {
            "image/png": "[encoded data removed]",
            "text/plain": [
              "<Figure size 720x720 with 3 Axes>"
            ]
          },
          "metadata": {
            "tags": [],
            "needs_background": "light"
          }
        }
      ]
    },
    {
      "cell_type": "markdown",
      "metadata": {
        "id": "PAWEbUWtnrC3"
      },
      "source": [
        "# 3.2 3D dataset"
      ]
    },
    {
      "cell_type": "code",
      "metadata": {
        "colab": {
          "base_uri": "https://localhost:8080/"
        },
        "id": "20guu8-snuD-",
        "outputId": "83443a2f-67eb-4702-aab1-4755e2b1fe00"
      },
      "source": [
        "x_train_list = []\r\n",
        "y_train_list = []\r\n",
        "x_test_list = []\r\n",
        "y_test_list = []\r\n",
        "for i in range(1200):\r\n",
        "  zero = np.zeros(shape = (32, 32, 32))\r\n",
        "  ones = np.ones(shape = (16, 16, 16))\r\n",
        "  ran = int(np.random.randint(10, size = 1)-5)\r\n",
        "  if 0<= i <400:\r\n",
        "    zero[:, :, :] = (ran*10) + 150\r\n",
        "    x_train_list.append(zero)\r\n",
        "    y_train_list.append([1, 0, 0])\r\n",
        "  elif 400 <= i < 800:\r\n",
        "    zero[8+ran: 24+ran, 8+ran: 24+ran, 8+ran: 24+ran] = (ran*10) + 200\r\n",
        "    x_train_list.append(zero)\r\n",
        "    y_train_list.append([0, 1, 0])\r\n",
        "  elif 800 <= i <1200:\r\n",
        "    for j in range(32):\r\n",
        "      for k in range(32):\r\n",
        "        for l in range(32):\r\n",
        "          if ((j-16+ran)**2) + ((k-16+ran)**2) + ((l-16+ran)**2) < 100:\r\n",
        "            zero[j,k,l] = (ran*10) + 200\r\n",
        "    x_train_list.append(zero)\r\n",
        "    y_train_list.append([0, 0, 1])\r\n",
        "\r\n",
        "for i in range(600):\r\n",
        "  zero = np.zeros(shape = (32, 32, 32))\r\n",
        "  ones = np.ones(shape = (16, 16, 16))\r\n",
        "  ran = int(np.random.randint(10, size = 1)-5)\r\n",
        "  if 0 <= i < 400:\r\n",
        "    zero[:,:,:] = (ran*10) + 150\r\n",
        "    x_test_list.append(zero)\r\n",
        "    y_test_list.append([1,0,0])\r\n",
        "  elif 200 <= i < 400:\r\n",
        "    zero[8+ran:24+ran,8+ran:24+ran,8+ran:24+ran] = (ran*10) + 200\r\n",
        "    x_test_list.append(zero)\r\n",
        "    y_test_list.append([0,1,0])\r\n",
        "  elif 400 <= i < 600:\r\n",
        "      for j in range(32):\r\n",
        "          for k in range(32):\r\n",
        "              for l in range(32):\r\n",
        "                  if ((j-16+ran)**2) + ((k-16+ran)**2) + ((l-16+ran)**2) < 100:\r\n",
        "                        zero[j,k,l] = (ran*10) + 200\r\n",
        "      x_test_list.append(zero)\r\n",
        "      y_test_list.append([0,0,1])\r\n",
        "\r\n",
        "x3_train1 = np.expand_dims(np.array(x_train_list), axis=-1)\r\n",
        "x3_test1 = np.expand_dims(np.array(x_test_list), axis=-1)\r\n",
        "y3_train1 = np.array(y_train_list)\r\n",
        "y3_test1 = np.array(y_test_list)\r\n",
        "print(x3_train1.shape, x3_test1.shape)\r\n",
        "print(y3_train1.shape, y3_test1.shape)"
      ],
      "execution_count": 58,
      "outputs": [
        {
          "output_type": "stream",
          "text": [
            "(1200, 32, 32, 32, 1) (600, 32, 32, 32, 1)\n",
            "(1200, 3) (600, 3)\n"
          ],
          "name": "stdout"
        }
      ]
    },
    {
      "cell_type": "code",
      "metadata": {
        "colab": {
          "base_uri": "https://localhost:8080/",
          "height": 607
        },
        "id": "qTs9yd9Qqf3l",
        "outputId": "b8f0906d-b574-46e7-bbfc-6303717a0ba2"
      },
      "source": [
        "plt.figure(figsize = (10,10))\r\n",
        "for i in range(3):\r\n",
        "  for j in range(3):\r\n",
        "    plt.subplot(3, 3, (3*i)+j+1)\r\n",
        "    plt.imshow(x3_train1[(i*400)+(j*100)][(8*j)+8,...,0], cmap = 'gray')\r\n",
        "    plt.title('Class = {}'.format(str(y3_train1[(i*400)+(j*100)])))"
      ],
      "execution_count": 59,
      "outputs": [
        {
          "output_type": "display_data",
          "data": {
            "image/png": "[encoded data removed]",
            "text/plain": [
              "<Figure size 720x720 with 9 Axes>"
            ]
          },
          "metadata": {
            "tags": [],
            "needs_background": "light"
          }
        }
      ]
    },
    {
      "cell_type": "markdown",
      "metadata": {
        "id": "g_1A-FprrCwg"
      },
      "source": [
        "# 3. Model Build\r\n",
        "\r\n",
        "# 3.1 2D "
      ]
    },
    {
      "cell_type": "code",
      "metadata": {
        "id": "0bWtgeSzrH8G"
      },
      "source": [
        "network_param_2d = {'input_size': 32,\r\n",
        "                     'conv_size': 3,\r\n",
        "                     'conv_act': 'relu',\r\n",
        "                     'pool_size': 2,\r\n",
        "                     'dens_num': 2,\r\n",
        "                     'dens_count': [1000,500],\r\n",
        "                     'dens_act': 'relu',\r\n",
        "                     'drop_out': 0.5,\r\n",
        "                     'output_count': 10,\r\n",
        "                     'output_act': 'softmax'}"
      ],
      "execution_count": 60,
      "outputs": []
    },
    {
      "cell_type": "code",
      "metadata": {
        "colab": {
          "base_uri": "https://localhost:8080/"
        },
        "id": "rg1J_OX0rMrr",
        "outputId": "a0d44573-ff29-461b-bd0a-49bf8f513716"
      },
      "source": [
        "model = VGG19_2D(network_param_2d)\r\n",
        "model.summary()"
      ],
      "execution_count": 62,
      "outputs": [
        {
          "output_type": "stream",
          "text": [
            "Model: \"model_1\"\n",
            "_________________________________________________________________\n",
            "Layer (type)                 Output Shape              Param #   \n",
            "=================================================================\n",
            "input_5 (InputLayer)         [(None, 32, 32, 1)]       0         \n",
            "_________________________________________________________________\n",
            "block1_conv1 (Conv2D)        (None, 32, 32, 64)        640       \n",
            "_________________________________________________________________\n",
            "block1_batchnorm1 (BatchNorm (None, 32, 32, 64)        256       \n",
            "_________________________________________________________________\n",
            "block1_activ1 (Activation)   (None, 32, 32, 64)        0         \n",
            "_________________________________________________________________\n",
            "block1_conv2 (Conv2D)        (None, 32, 32, 64)        36928     \n",
            "_________________________________________________________________\n",
            "block1_batchnorm2 (BatchNorm (None, 32, 32, 64)        256       \n",
            "_________________________________________________________________\n",
            "block1_activ2 (Activation)   (None, 32, 32, 64)        0         \n",
            "_________________________________________________________________\n",
            "block1_pool (MaxPooling2D)   (None, 16, 16, 64)        0         \n",
            "_________________________________________________________________\n",
            "block2_conv1 (Conv2D)        (None, 16, 16, 128)       73856     \n",
            "_________________________________________________________________\n",
            "block2_batchnorm1 (BatchNorm (None, 16, 16, 128)       512       \n",
            "_________________________________________________________________\n",
            "block2_activ1 (Activation)   (None, 16, 16, 128)       0         \n",
            "_________________________________________________________________\n",
            "block2_conv2 (Conv2D)        (None, 16, 16, 128)       147584    \n",
            "_________________________________________________________________\n",
            "block2_batchnorm2 (BatchNorm (None, 16, 16, 128)       512       \n",
            "_________________________________________________________________\n",
            "block2_activ2 (Activation)   (None, 16, 16, 128)       0         \n",
            "_________________________________________________________________\n",
            "block2_pool (MaxPooling2D)   (None, 8, 8, 128)         0         \n",
            "_________________________________________________________________\n",
            "block3_conv1 (Conv2D)        (None, 8, 8, 256)         295168    \n",
            "_________________________________________________________________\n",
            "block3_batchnorm1 (BatchNorm (None, 8, 8, 256)         1024      \n",
            "_________________________________________________________________\n",
            "block3_activ1 (Activation)   (None, 8, 8, 256)         0         \n",
            "_________________________________________________________________\n",
            "block3_conv2 (Conv2D)        (None, 8, 8, 256)         590080    \n",
            "_________________________________________________________________\n",
            "block3_batchnorm2 (BatchNorm (None, 8, 8, 256)         1024      \n",
            "_________________________________________________________________\n",
            "block3_activ2 (Activation)   (None, 8, 8, 256)         0         \n",
            "_________________________________________________________________\n",
            "block3_conv3 (Conv2D)        (None, 8, 8, 256)         590080    \n",
            "_________________________________________________________________\n",
            "block3_batchnorm3 (BatchNorm (None, 8, 8, 256)         1024      \n",
            "_________________________________________________________________\n",
            "block3_activ3 (Activation)   (None, 8, 8, 256)         0         \n",
            "_________________________________________________________________\n",
            "block3_conv4 (Conv2D)        (None, 8, 8, 256)         590080    \n",
            "_________________________________________________________________\n",
            "block3_batchnorm4 (BatchNorm (None, 8, 8, 256)         1024      \n",
            "_________________________________________________________________\n",
            "block3_activ4 (Activation)   (None, 8, 8, 256)         0         \n",
            "_________________________________________________________________\n",
            "block3_pool (MaxPooling2D)   (None, 4, 4, 256)         0         \n",
            "_________________________________________________________________\n",
            "block4_conv1 (Conv2D)        (None, 4, 4, 512)         1180160   \n",
            "_________________________________________________________________\n",
            "block4_batchnorm1 (BatchNorm (None, 4, 4, 512)         2048      \n",
            "_________________________________________________________________\n",
            "block4_activ1 (Activation)   (None, 4, 4, 512)         0         \n",
            "_________________________________________________________________\n",
            "block4_conv2 (Conv2D)        (None, 4, 4, 512)         2359808   \n",
            "_________________________________________________________________\n",
            "block4_batchnorm2 (BatchNorm (None, 4, 4, 512)         2048      \n",
            "_________________________________________________________________\n",
            "block4_activ2 (Activation)   (None, 4, 4, 512)         0         \n",
            "_________________________________________________________________\n",
            "block4_conv3 (Conv2D)        (None, 4, 4, 512)         2359808   \n",
            "_________________________________________________________________\n",
            "block4_batchnorm3 (BatchNorm (None, 4, 4, 512)         2048      \n",
            "_________________________________________________________________\n",
            "block4_activ3 (Activation)   (None, 4, 4, 512)         0         \n",
            "_________________________________________________________________\n",
            "block4_conv4 (Conv2D)        (None, 4, 4, 512)         2359808   \n",
            "_________________________________________________________________\n",
            "block4_batchnorm4 (BatchNorm (None, 4, 4, 512)         2048      \n",
            "_________________________________________________________________\n",
            "block4_activ4 (Activation)   (None, 4, 4, 512)         0         \n",
            "_________________________________________________________________\n",
            "block4_pool (MaxPooling2D)   (None, 2, 2, 512)         0         \n",
            "_________________________________________________________________\n",
            "block5_conv1 (Conv2D)        (None, 2, 2, 512)         2359808   \n",
            "_________________________________________________________________\n",
            "block5_batchnorm1 (BatchNorm (None, 2, 2, 512)         2048      \n",
            "_________________________________________________________________\n",
            "block5_activ1 (Activation)   (None, 2, 2, 512)         0         \n",
            "_________________________________________________________________\n",
            "block5_conv2 (Conv2D)        (None, 2, 2, 512)         2359808   \n",
            "_________________________________________________________________\n",
            "block5_batchnorm2 (BatchNorm (None, 2, 2, 512)         2048      \n",
            "_________________________________________________________________\n",
            "block5_activ2 (Activation)   (None, 2, 2, 512)         0         \n",
            "_________________________________________________________________\n",
            "block5_conv3 (Conv2D)        (None, 2, 2, 512)         2359808   \n",
            "_________________________________________________________________\n",
            "block5_batchnorm3 (BatchNorm (None, 2, 2, 512)         2048      \n",
            "_________________________________________________________________\n",
            "block5_activ3 (Activation)   (None, 2, 2, 512)         0         \n",
            "_________________________________________________________________\n",
            "block5_conv4 (Conv2D)        (None, 2, 2, 512)         2359808   \n",
            "_________________________________________________________________\n",
            "block5_batchnorm4 (BatchNorm (None, 2, 2, 512)         2048      \n",
            "_________________________________________________________________\n",
            "block5_activ4 (Activation)   (None, 2, 2, 512)         0         \n",
            "_________________________________________________________________\n",
            "block5_pool (MaxPooling2D)   (None, 1, 1, 512)         0         \n",
            "_________________________________________________________________\n",
            "flatten_layer (Flatten)      (None, 512)               0         \n",
            "_________________________________________________________________\n",
            "classifier_dense_1 (Dense)   (None, 1000)              513000    \n",
            "_________________________________________________________________\n",
            "classifier_dropout_1 (Dropou (None, 1000)              0         \n",
            "_________________________________________________________________\n",
            "classifier_dense_2 (Dense)   (None, 500)               500500    \n",
            "_________________________________________________________________\n",
            "classifier_dropout_2 (Dropou (None, 500)               0         \n",
            "_________________________________________________________________\n",
            "dense_3 (Dense)              (None, 10)                5010      \n",
            "=================================================================\n",
            "Total params: 21,063,758\n",
            "Trainable params: 21,052,750\n",
            "Non-trainable params: 11,008\n",
            "_________________________________________________________________\n"
          ],
          "name": "stdout"
        }
      ]
    },
    {
      "cell_type": "code",
      "metadata": {
        "id": "R55d1x2hrV-Q"
      },
      "source": [
        "model.compile(loss = losses.CategoricalCrossentropy(),\r\n",
        "              optimizer = optimizers.Adam(lr=1e-5), metrics = ['acc'])"
      ],
      "execution_count": 63,
      "outputs": []
    },
    {
      "cell_type": "code",
      "metadata": {
        "colab": {
          "base_uri": "https://localhost:8080/"
        },
        "id": "sEZTMTtVrk3s",
        "outputId": "80f7fbfe-866b-483b-97a2-3e27a01adeb2"
      },
      "source": [
        "callback_list = [keras.callbacks.EarlyStopping(monitor = 'val_loss', patience = 20),\r\n",
        "                         keras.callbacks.ModelCheckpoint(filepath = os.path.join('model.h5'),\r\n",
        "                                                         monitor = 'val_loss', save_best_only = True),\r\n",
        "                         keras.callbacks.ReduceLROnPlateau(monitor='val_loss', factor = 0.1, patience = 10)]\r\n",
        "\r\n",
        "history = model.fit(x_train1, y_train1, epochs = 50, batch_size = 32, \r\n",
        "                    validation_data = (x_test1, y_test1),\r\n",
        "                    callbacks = callback_list, shuffle = True)"
      ],
      "execution_count": 64,
      "outputs": [
        {
          "output_type": "stream",
          "text": [
            "Epoch 1/50\n",
            "157/157 [==============================] - 15s 85ms/step - loss: 3.0781 - acc: 0.1337 - val_loss: 2.0629 - val_acc: 0.2700\n",
            "Epoch 2/50\n",
            "157/157 [==============================] - 13s 82ms/step - loss: 2.0247 - acc: 0.3188 - val_loss: 1.3048 - val_acc: 0.6840\n",
            "Epoch 3/50\n",
            "157/157 [==============================] - 13s 82ms/step - loss: 1.3804 - acc: 0.5331 - val_loss: 0.7865 - val_acc: 0.7820\n",
            "Epoch 4/50\n",
            "157/157 [==============================] - 13s 82ms/step - loss: 0.8959 - acc: 0.7056 - val_loss: 0.5171 - val_acc: 0.8380\n",
            "Epoch 5/50\n",
            "157/157 [==============================] - 13s 82ms/step - loss: 0.5592 - acc: 0.8279 - val_loss: 0.3565 - val_acc: 0.8860\n",
            "Epoch 6/50\n",
            "157/157 [==============================] - 13s 82ms/step - loss: 0.3845 - acc: 0.8872 - val_loss: 0.2666 - val_acc: 0.9140\n",
            "Epoch 7/50\n",
            "157/157 [==============================] - 13s 82ms/step - loss: 0.2443 - acc: 0.9297 - val_loss: 0.2318 - val_acc: 0.9260\n",
            "Epoch 8/50\n",
            "157/157 [==============================] - 13s 82ms/step - loss: 0.1658 - acc: 0.9559 - val_loss: 0.1937 - val_acc: 0.9240\n",
            "Epoch 9/50\n",
            "157/157 [==============================] - 13s 82ms/step - loss: 0.1223 - acc: 0.9722 - val_loss: 0.1853 - val_acc: 0.9340\n",
            "Epoch 10/50\n",
            "157/157 [==============================] - 13s 82ms/step - loss: 0.0923 - acc: 0.9784 - val_loss: 0.1688 - val_acc: 0.9460\n",
            "Epoch 11/50\n",
            "157/157 [==============================] - 13s 82ms/step - loss: 0.0682 - acc: 0.9848 - val_loss: 0.1621 - val_acc: 0.9400\n",
            "Epoch 12/50\n",
            "157/157 [==============================] - 13s 83ms/step - loss: 0.0518 - acc: 0.9884 - val_loss: 0.1588 - val_acc: 0.9420\n",
            "Epoch 13/50\n",
            "157/157 [==============================] - 13s 82ms/step - loss: 0.0371 - acc: 0.9934 - val_loss: 0.1435 - val_acc: 0.9500\n",
            "Epoch 14/50\n",
            "157/157 [==============================] - 13s 82ms/step - loss: 0.0340 - acc: 0.9925 - val_loss: 0.1468 - val_acc: 0.9480\n",
            "Epoch 15/50\n",
            "157/157 [==============================] - 13s 82ms/step - loss: 0.0244 - acc: 0.9961 - val_loss: 0.1465 - val_acc: 0.9500\n",
            "Epoch 16/50\n",
            "157/157 [==============================] - 13s 82ms/step - loss: 0.0189 - acc: 0.9970 - val_loss: 0.1461 - val_acc: 0.9500\n",
            "Epoch 17/50\n",
            "157/157 [==============================] - 13s 84ms/step - loss: 0.0160 - acc: 0.9976 - val_loss: 0.1533 - val_acc: 0.9440\n",
            "Epoch 18/50\n",
            "157/157 [==============================] - 13s 82ms/step - loss: 0.0140 - acc: 0.9984 - val_loss: 0.1477 - val_acc: 0.9440\n",
            "Epoch 19/50\n",
            "157/157 [==============================] - 13s 82ms/step - loss: 0.0131 - acc: 0.9976 - val_loss: 0.1474 - val_acc: 0.9500\n",
            "Epoch 20/50\n",
            "157/157 [==============================] - 13s 82ms/step - loss: 0.0147 - acc: 0.9981 - val_loss: 0.1622 - val_acc: 0.9440\n",
            "Epoch 21/50\n",
            "157/157 [==============================] - 13s 82ms/step - loss: 0.0092 - acc: 0.9991 - val_loss: 0.1445 - val_acc: 0.9520\n",
            "Epoch 22/50\n",
            "157/157 [==============================] - 13s 82ms/step - loss: 0.0086 - acc: 0.9984 - val_loss: 0.1476 - val_acc: 0.9480\n",
            "Epoch 23/50\n",
            "157/157 [==============================] - 13s 82ms/step - loss: 0.0115 - acc: 0.9976 - val_loss: 0.1910 - val_acc: 0.9400\n",
            "Epoch 24/50\n",
            "157/157 [==============================] - 13s 83ms/step - loss: 0.0089 - acc: 0.9979 - val_loss: 0.1458 - val_acc: 0.9520\n",
            "Epoch 25/50\n",
            "157/157 [==============================] - 13s 82ms/step - loss: 0.0083 - acc: 0.9992 - val_loss: 0.1423 - val_acc: 0.9540\n",
            "Epoch 26/50\n",
            "157/157 [==============================] - 13s 82ms/step - loss: 0.0075 - acc: 0.9996 - val_loss: 0.1430 - val_acc: 0.9520\n",
            "Epoch 27/50\n",
            "157/157 [==============================] - 13s 82ms/step - loss: 0.0068 - acc: 0.9991 - val_loss: 0.1413 - val_acc: 0.9520\n",
            "Epoch 28/50\n",
            "157/157 [==============================] - 13s 82ms/step - loss: 0.0079 - acc: 0.9996 - val_loss: 0.1428 - val_acc: 0.9500\n",
            "Epoch 29/50\n",
            "157/157 [==============================] - 13s 82ms/step - loss: 0.0050 - acc: 0.9993 - val_loss: 0.1415 - val_acc: 0.9500\n",
            "Epoch 30/50\n",
            "157/157 [==============================] - 13s 83ms/step - loss: 0.0057 - acc: 0.9991 - val_loss: 0.1431 - val_acc: 0.9500\n",
            "Epoch 31/50\n",
            "157/157 [==============================] - 13s 83ms/step - loss: 0.0058 - acc: 0.9995 - val_loss: 0.1432 - val_acc: 0.9500\n",
            "Epoch 32/50\n",
            "157/157 [==============================] - 13s 83ms/step - loss: 0.0049 - acc: 0.9997 - val_loss: 0.1418 - val_acc: 0.9500\n",
            "Epoch 33/50\n",
            "157/157 [==============================] - 13s 82ms/step - loss: 0.0065 - acc: 0.9980 - val_loss: 0.1403 - val_acc: 0.9500\n",
            "Epoch 34/50\n",
            "157/157 [==============================] - 13s 83ms/step - loss: 0.0051 - acc: 0.9997 - val_loss: 0.1411 - val_acc: 0.9500\n",
            "Epoch 35/50\n",
            "157/157 [==============================] - 13s 83ms/step - loss: 0.0054 - acc: 0.9991 - val_loss: 0.1460 - val_acc: 0.9520\n",
            "Epoch 36/50\n",
            "157/157 [==============================] - 13s 83ms/step - loss: 0.0055 - acc: 0.9991 - val_loss: 0.1464 - val_acc: 0.9480\n",
            "Epoch 37/50\n",
            "157/157 [==============================] - 13s 83ms/step - loss: 0.0046 - acc: 0.9996 - val_loss: 0.1438 - val_acc: 0.9520\n",
            "Epoch 38/50\n",
            "157/157 [==============================] - 13s 82ms/step - loss: 0.0039 - acc: 0.9999 - val_loss: 0.1427 - val_acc: 0.9540\n",
            "Epoch 39/50\n",
            "157/157 [==============================] - 13s 83ms/step - loss: 0.0043 - acc: 0.9992 - val_loss: 0.1424 - val_acc: 0.9500\n",
            "Epoch 40/50\n",
            "157/157 [==============================] - 13s 82ms/step - loss: 0.0039 - acc: 0.9993 - val_loss: 0.1428 - val_acc: 0.9500\n",
            "Epoch 41/50\n",
            "157/157 [==============================] - 13s 82ms/step - loss: 0.0027 - acc: 0.9998 - val_loss: 0.1444 - val_acc: 0.9520\n",
            "Epoch 42/50\n",
            "157/157 [==============================] - 13s 82ms/step - loss: 0.0029 - acc: 0.9999 - val_loss: 0.1450 - val_acc: 0.9580\n",
            "Epoch 43/50\n",
            "157/157 [==============================] - 13s 82ms/step - loss: 0.0034 - acc: 0.9999 - val_loss: 0.1447 - val_acc: 0.9520\n",
            "Epoch 44/50\n",
            "157/157 [==============================] - 13s 83ms/step - loss: 0.0031 - acc: 0.9997 - val_loss: 0.1447 - val_acc: 0.9540\n",
            "Epoch 45/50\n",
            "157/157 [==============================] - 13s 82ms/step - loss: 0.0031 - acc: 0.9997 - val_loss: 0.1453 - val_acc: 0.9560\n",
            "Epoch 46/50\n",
            "157/157 [==============================] - 13s 82ms/step - loss: 0.0039 - acc: 0.9996 - val_loss: 0.1450 - val_acc: 0.9540\n",
            "Epoch 47/50\n",
            "157/157 [==============================] - 13s 82ms/step - loss: 0.0032 - acc: 0.9997 - val_loss: 0.1461 - val_acc: 0.9540\n",
            "Epoch 48/50\n",
            "157/157 [==============================] - 13s 83ms/step - loss: 0.0041 - acc: 0.9993 - val_loss: 0.1460 - val_acc: 0.9540\n",
            "Epoch 49/50\n",
            "157/157 [==============================] - 13s 83ms/step - loss: 0.0033 - acc: 0.9998 - val_loss: 0.1456 - val_acc: 0.9560\n",
            "Epoch 50/50\n",
            "157/157 [==============================] - 13s 82ms/step - loss: 0.0032 - acc: 0.9999 - val_loss: 0.1457 - val_acc: 0.9540\n"
          ],
          "name": "stdout"
        }
      ]
    },
    {
      "cell_type": "code",
      "metadata": {
        "colab": {
          "base_uri": "https://localhost:8080/",
          "height": 1000
        },
        "id": "SmAg-FaSrzm8",
        "outputId": "9687e7f7-17b5-4ead-f14f-87b78df7aac4"
      },
      "source": [
        "acc = history.history['acc']\r\n",
        "val_acc = history.history['val_acc']\r\n",
        "loss = history.history['loss']\r\n",
        "val_loss = history.history['val_loss']\r\n",
        "epochs = range(len(acc))\r\n",
        "# Accuracy graph\r\n",
        "plt.figure(figsize=(10, 10))\r\n",
        "plt.plot(epochs, acc, 'b', label = 'Training acc = {}%'.format(np.around(np.max(acc) * 100, decimals = 1)))\r\n",
        "plt.plot(epochs, val_acc, 'r', label = 'Validation acc = {}%'.format(np.around(np.max(val_acc) * 100, decimals = 1)))\r\n",
        "plt.title('{} Accuracy (Total Epoch = {})'.format('VGG16', len(acc)), fontsize = 15, y = 1.02)\r\n",
        "plt.xticks(size = 15)\r\n",
        "plt.yticks(size = 15)\r\n",
        "plt.legend(fontsize = 15)\r\n",
        "plt.show()\r\n",
        "# Loss graph\r\n",
        "plt.figure(figsize = (10, 10))\r\n",
        "plt.plot(epochs, loss, 'b', label = 'Training loss = {}'.format(np.around(np.min(loss), decimals = 3)))\r\n",
        "plt.plot(epochs, val_loss, 'r', label = 'Validation loss= {}'.format(np.around(np.min(val_loss), decimals = 3)))\r\n",
        "plt.title('{} Loss (Total Epoch = {})'.format('VGG16', len(loss)), fontsize = 15, y = 1.02)\r\n",
        "plt.xticks(size = 15)\r\n",
        "plt.yticks(size = 15)\r\n",
        "plt.legend(fontsize = 15)\r\n",
        "plt.show()"
      ],
      "execution_count": 65,
      "outputs": [
        {
          "output_type": "display_data",
          "data": {
            "image/png": "[encoded data removed]",
            "text/plain": [
              "<Figure size 720x720 with 1 Axes>"
            ]
          },
          "metadata": {
            "tags": [],
            "needs_background": "light"
          }
        },
        {
          "output_type": "display_data",
          "data": {
            "image/png": "[encoded data removed]",
            "text/plain": [
              "<Figure size 720x720 with 1 Axes>"
            ]
          },
          "metadata": {
            "tags": [],
            "needs_background": "light"
          }
        }
      ]
    },
    {
      "cell_type": "markdown",
      "metadata": {
        "id": "-bZesbUDsH0c"
      },
      "source": [
        "# 3.2 3D"
      ]
    },
    {
      "cell_type": "code",
      "metadata": {
        "id": "QYFCzcM4SrWZ"
      },
      "source": [
        "network_param_3d = {'input_size': 32,\r\n",
        "                    'conv_size': 3,\r\n",
        "                    'conv_act': 'relu',\r\n",
        "                    'pool_size': 2,\r\n",
        "                    'dens_num': 2,\r\n",
        "                    'dens_count': [1000,500],\r\n",
        "                    'dens_act': 'relu',\r\n",
        "                    'drop_out': 0.5,\r\n",
        "                    'output_count': 3,\r\n",
        "                    'output_act': 'softmax'}"
      ],
      "execution_count": 66,
      "outputs": []
    },
    {
      "cell_type": "code",
      "metadata": {
        "colab": {
          "base_uri": "https://localhost:8080/"
        },
        "id": "ev2zH1UTsKUv",
        "outputId": "85b4a724-ef9c-490b-cbd1-ac8fbd636e47"
      },
      "source": [
        "model = VGG19_3D(network_param_3d)\r\n",
        "model.summary()"
      ],
      "execution_count": 67,
      "outputs": [
        {
          "output_type": "stream",
          "text": [
            "Model: \"model_2\"\n",
            "_________________________________________________________________\n",
            "Layer (type)                 Output Shape              Param #   \n",
            "=================================================================\n",
            "input_6 (InputLayer)         [(None, 32, 32, 32, 1)]   0         \n",
            "_________________________________________________________________\n",
            "block1_conv1 (Conv3D)        (None, 32, 32, 32, 64)    1792      \n",
            "_________________________________________________________________\n",
            "block1_batchnorm1 (BatchNorm (None, 32, 32, 32, 64)    256       \n",
            "_________________________________________________________________\n",
            "block1_activ1 (Activation)   (None, 32, 32, 32, 64)    0         \n",
            "_________________________________________________________________\n",
            "block1_conv2 (Conv3D)        (None, 32, 32, 32, 64)    110656    \n",
            "_________________________________________________________________\n",
            "block1_batchnorm2 (BatchNorm (None, 32, 32, 32, 64)    256       \n",
            "_________________________________________________________________\n",
            "block1_activ2 (Activation)   (None, 32, 32, 32, 64)    0         \n",
            "_________________________________________________________________\n",
            "block1_pool (MaxPooling3D)   (None, 16, 16, 16, 64)    0         \n",
            "_________________________________________________________________\n",
            "block2_conv1 (Conv3D)        (None, 16, 16, 16, 128)   221312    \n",
            "_________________________________________________________________\n",
            "block2_batchnorm1 (BatchNorm (None, 16, 16, 16, 128)   512       \n",
            "_________________________________________________________________\n",
            "block2_activ1 (Activation)   (None, 16, 16, 16, 128)   0         \n",
            "_________________________________________________________________\n",
            "block2_conv2 (Conv3D)        (None, 16, 16, 16, 128)   442496    \n",
            "_________________________________________________________________\n",
            "block2_batchnorm2 (BatchNorm (None, 16, 16, 16, 128)   512       \n",
            "_________________________________________________________________\n",
            "block2_activ2 (Activation)   (None, 16, 16, 16, 128)   0         \n",
            "_________________________________________________________________\n",
            "block2_pool (MaxPooling3D)   (None, 8, 8, 8, 128)      0         \n",
            "_________________________________________________________________\n",
            "block3_conv1 (Conv3D)        (None, 8, 8, 8, 256)      884992    \n",
            "_________________________________________________________________\n",
            "block3_batchnorm1 (BatchNorm (None, 8, 8, 8, 256)      1024      \n",
            "_________________________________________________________________\n",
            "block3_activ1 (Activation)   (None, 8, 8, 8, 256)      0         \n",
            "_________________________________________________________________\n",
            "block3_conv2 (Conv3D)        (None, 8, 8, 8, 256)      1769728   \n",
            "_________________________________________________________________\n",
            "block3_batchnorm2 (BatchNorm (None, 8, 8, 8, 256)      1024      \n",
            "_________________________________________________________________\n",
            "block3_activ2 (Activation)   (None, 8, 8, 8, 256)      0         \n",
            "_________________________________________________________________\n",
            "block3_conv3 (Conv3D)        (None, 8, 8, 8, 256)      1769728   \n",
            "_________________________________________________________________\n",
            "block3_batchnorm3 (BatchNorm (None, 8, 8, 8, 256)      1024      \n",
            "_________________________________________________________________\n",
            "block3_activ3 (Activation)   (None, 8, 8, 8, 256)      0         \n",
            "_________________________________________________________________\n",
            "block3_conv4 (Conv3D)        (None, 8, 8, 8, 256)      1769728   \n",
            "_________________________________________________________________\n",
            "block3_batchnorm4 (BatchNorm (None, 8, 8, 8, 256)      1024      \n",
            "_________________________________________________________________\n",
            "block3_activ4 (Activation)   (None, 8, 8, 8, 256)      0         \n",
            "_________________________________________________________________\n",
            "block3_pool (MaxPooling3D)   (None, 4, 4, 4, 256)      0         \n",
            "_________________________________________________________________\n",
            "block4_conv1 (Conv3D)        (None, 4, 4, 4, 512)      3539456   \n",
            "_________________________________________________________________\n",
            "block4_batchnorm1 (BatchNorm (None, 4, 4, 4, 512)      2048      \n",
            "_________________________________________________________________\n",
            "block4_activ1 (Activation)   (None, 4, 4, 4, 512)      0         \n",
            "_________________________________________________________________\n",
            "block4_conv2 (Conv3D)        (None, 4, 4, 4, 512)      7078400   \n",
            "_________________________________________________________________\n",
            "block4_batchnorm2 (BatchNorm (None, 4, 4, 4, 512)      2048      \n",
            "_________________________________________________________________\n",
            "block4_activ2 (Activation)   (None, 4, 4, 4, 512)      0         \n",
            "_________________________________________________________________\n",
            "block4_conv3 (Conv3D)        (None, 4, 4, 4, 512)      7078400   \n",
            "_________________________________________________________________\n",
            "block4_batchnorm3 (BatchNorm (None, 4, 4, 4, 512)      2048      \n",
            "_________________________________________________________________\n",
            "block4_activ3 (Activation)   (None, 4, 4, 4, 512)      0         \n",
            "_________________________________________________________________\n",
            "block4_conv4 (Conv3D)        (None, 4, 4, 4, 512)      7078400   \n",
            "_________________________________________________________________\n",
            "block4_batchnorm4 (BatchNorm (None, 4, 4, 4, 512)      2048      \n",
            "_________________________________________________________________\n",
            "block4_activ4 (Activation)   (None, 4, 4, 4, 512)      0         \n",
            "_________________________________________________________________\n",
            "block4_pool (MaxPooling3D)   (None, 2, 2, 2, 512)      0         \n",
            "_________________________________________________________________\n",
            "block5_conv1 (Conv3D)        (None, 2, 2, 2, 512)      7078400   \n",
            "_________________________________________________________________\n",
            "block5_batchnorm1 (BatchNorm (None, 2, 2, 2, 512)      2048      \n",
            "_________________________________________________________________\n",
            "block5_activ1 (Activation)   (None, 2, 2, 2, 512)      0         \n",
            "_________________________________________________________________\n",
            "block5_conv2 (Conv3D)        (None, 2, 2, 2, 512)      7078400   \n",
            "_________________________________________________________________\n",
            "block5_batchnorm2 (BatchNorm (None, 2, 2, 2, 512)      2048      \n",
            "_________________________________________________________________\n",
            "block5_activ2 (Activation)   (None, 2, 2, 2, 512)      0         \n",
            "_________________________________________________________________\n",
            "block5_conv3 (Conv3D)        (None, 2, 2, 2, 512)      7078400   \n",
            "_________________________________________________________________\n",
            "block5_batchnorm3 (BatchNorm (None, 2, 2, 2, 512)      2048      \n",
            "_________________________________________________________________\n",
            "block5_activ3 (Activation)   (None, 2, 2, 2, 512)      0         \n",
            "_________________________________________________________________\n",
            "block5_conv4 (Conv3D)        (None, 2, 2, 2, 512)      7078400   \n",
            "_________________________________________________________________\n",
            "block5_batchnorm4 (BatchNorm (None, 2, 2, 2, 512)      2048      \n",
            "_________________________________________________________________\n",
            "block5_activ4 (Activation)   (None, 2, 2, 2, 512)      0         \n",
            "_________________________________________________________________\n",
            "block5_pool (MaxPooling3D)   (None, 1, 1, 1, 512)      0         \n",
            "_________________________________________________________________\n",
            "flatten_layer (Flatten)      (None, 512)               0         \n",
            "_________________________________________________________________\n",
            "classifier_dense_1 (Dense)   (None, 1000)              513000    \n",
            "_________________________________________________________________\n",
            "classifier_dropout_1 (Dropou (None, 1000)              0         \n",
            "_________________________________________________________________\n",
            "classifier_dense_2 (Dense)   (None, 500)               500500    \n",
            "_________________________________________________________________\n",
            "classifier_dropout_2 (Dropou (None, 500)               0         \n",
            "_________________________________________________________________\n",
            "dense_4 (Dense)              (None, 3)                 1503      \n",
            "=================================================================\n",
            "Total params: 61,095,707\n",
            "Trainable params: 61,084,699\n",
            "Non-trainable params: 11,008\n",
            "_________________________________________________________________\n"
          ],
          "name": "stdout"
        }
      ]
    },
    {
      "cell_type": "code",
      "metadata": {
        "id": "DP9WMFVYsYq-",
        "outputId": "14ba362d-d03b-4adb-ca15-029bc0b67664",
        "colab": {
          "base_uri": "https://localhost:8080/"
        }
      },
      "source": [
        "model.compile(loss = losses.CategoricalCrossentropy(), optimizer=optimizers.Adam(lr=1e-5), metrics=['acc'])\r\n",
        "callback_list = [keras.callbacks.EarlyStopping(monitor='val_acc', patience=12),\r\n",
        "                         keras.callbacks.ModelCheckpoint(filepath=os.path.join('model.h5'),\r\n",
        "                                                         monitor='val_loss', save_best_only=True),\r\n",
        "                         keras.callbacks.ReduceLROnPlateau(monitor='val_loss', factor=0.1, patience=10)]\r\n",
        "\r\n",
        "history = model.fit(x3_train1, y3_train1, epochs = 100, batch_size = 32, \r\n",
        "                    validation_data = (x3_test1, y3_test1),\r\n",
        "                    callbacks = callback_list, shuffle = True)"
      ],
      "execution_count": 68,
      "outputs": [
        {
          "output_type": "stream",
          "text": [
            "Epoch 1/100\n",
            "38/38 [==============================] - 103s 2s/step - loss: 0.7744 - acc: 0.7214 - val_loss: 1.0473 - val_acc: 0.3333\n",
            "Epoch 2/100\n",
            "38/38 [==============================] - 89s 2s/step - loss: 0.0616 - acc: 0.9823 - val_loss: 0.6663 - val_acc: 0.7867\n",
            "Epoch 3/100\n",
            "38/38 [==============================] - 89s 2s/step - loss: 0.0148 - acc: 0.9981 - val_loss: 0.3257 - val_acc: 1.0000\n",
            "Epoch 4/100\n",
            "38/38 [==============================] - 88s 2s/step - loss: 0.0085 - acc: 0.9986 - val_loss: 0.1047 - val_acc: 1.0000\n",
            "Epoch 5/100\n",
            "38/38 [==============================] - 88s 2s/step - loss: 0.0054 - acc: 0.9989 - val_loss: 0.0235 - val_acc: 1.0000\n",
            "Epoch 6/100\n",
            "38/38 [==============================] - 89s 2s/step - loss: 0.0044 - acc: 1.0000 - val_loss: 0.0044 - val_acc: 1.0000\n",
            "Epoch 7/100\n",
            "38/38 [==============================] - 88s 2s/step - loss: 0.0069 - acc: 0.9967 - val_loss: 8.5153e-04 - val_acc: 1.0000\n",
            "Epoch 8/100\n",
            "38/38 [==============================] - 88s 2s/step - loss: 0.0020 - acc: 1.0000 - val_loss: 2.1522e-04 - val_acc: 1.0000\n",
            "Epoch 9/100\n",
            "38/38 [==============================] - 88s 2s/step - loss: 0.0027 - acc: 1.0000 - val_loss: 6.8021e-05 - val_acc: 1.0000\n",
            "Epoch 10/100\n",
            "38/38 [==============================] - 89s 2s/step - loss: 0.0023 - acc: 1.0000 - val_loss: 3.0440e-05 - val_acc: 1.0000\n",
            "Epoch 11/100\n",
            "38/38 [==============================] - 88s 2s/step - loss: 0.0013 - acc: 1.0000 - val_loss: 1.5288e-05 - val_acc: 1.0000\n",
            "Epoch 12/100\n",
            "38/38 [==============================] - 88s 2s/step - loss: 0.0024 - acc: 1.0000 - val_loss: 9.8388e-06 - val_acc: 1.0000\n",
            "Epoch 13/100\n",
            "38/38 [==============================] - 88s 2s/step - loss: 9.7883e-04 - acc: 1.0000 - val_loss: 6.0043e-06 - val_acc: 1.0000\n",
            "Epoch 14/100\n",
            "38/38 [==============================] - 88s 2s/step - loss: 0.0018 - acc: 1.0000 - val_loss: 4.0408e-06 - val_acc: 1.0000\n",
            "Epoch 15/100\n",
            "38/38 [==============================] - 88s 2s/step - loss: 6.3362e-04 - acc: 1.0000 - val_loss: 2.8358e-06 - val_acc: 1.0000\n"
          ],
          "name": "stdout"
        }
      ]
    },
    {
      "cell_type": "code",
      "metadata": {
        "id": "9bznSZoGshza",
        "outputId": "acad27e8-6ac7-4ebf-da4e-bd9b644db62c",
        "colab": {
          "base_uri": "https://localhost:8080/",
          "height": 1000
        }
      },
      "source": [
        "acc = history.history['acc']\r\n",
        "val_acc = history.history['val_acc']\r\n",
        "loss = history.history['loss']\r\n",
        "val_loss = history.history['val_loss']\r\n",
        "epochs = range(len(acc))\r\n",
        "# Accuracy graph\r\n",
        "plt.figure(figsize=(10, 10))\r\n",
        "plt.plot(epochs, acc, 'b', label='Training acc = {}%'.format(np.around(np.max(acc) * 100, decimals=1)))\r\n",
        "plt.plot(epochs, val_acc, 'r', label='Validation acc = {}%'.format(np.around(np.max(val_acc) * 100, decimals=1)))\r\n",
        "plt.title('{} Accuracy (Total Epoch = {})'.format('VGG16', len(acc)), fontsize=15, y=1.02)\r\n",
        "plt.xticks(size=15)\r\n",
        "plt.yticks(size=15)\r\n",
        "plt.legend(fontsize=15)\r\n",
        "plt.show()\r\n",
        "# Loss graph\r\n",
        "plt.figure(figsize=(10, 10))\r\n",
        "plt.plot(epochs, loss, 'b', label='Training loss = {}'.format(np.around(np.min(loss), decimals=3)))\r\n",
        "plt.plot(epochs, val_loss, 'r', label='Validation loss= {}'.format(np.around(np.min(val_loss), decimals=3)))\r\n",
        "plt.title('{} Loss (Total Epoch = {})'.format('VGG16', len(loss)), fontsize=15, y=1.02)\r\n",
        "plt.xticks(size=15)\r\n",
        "plt.yticks(size=15)\r\n",
        "plt.legend(fontsize=15)\r\n",
        "plt.show()"
      ],
      "execution_count": 69,
      "outputs": [
        {
          "output_type": "display_data",
          "data": {
            "image/png": "[encoded data removed]",
            "text/plain": [
              "<Figure size 720x720 with 1 Axes>"
            ]
          },
          "metadata": {
            "tags": [],
            "needs_background": "light"
          }
        },
        {
          "output_type": "display_data",
          "data": {
            "image/png": "[encoded data removed]",
            "text/plain": [
              "<Figure size 720x720 with 1 Axes>"
            ]
          },
          "metadata": {
            "tags": [],
            "needs_background": "light"
          }
        }
      ]
    },
    {
      "cell_type": "markdown",
      "metadata": {
        "id": "W4g7j_WSskrl"
      },
      "source": [
        "# 4. Additional Model\r\n",
        "\r\n",
        "#4.1 VGG19\r\n",
        "\r\n",
        "* keras application"
      ]
    },
    {
      "cell_type": "code",
      "metadata": {
        "id": "kU_mblyMss7I",
        "outputId": "80eafd70-4c02-4b83-a472-f9ab1758db2f",
        "colab": {
          "base_uri": "https://localhost:8080/"
        }
      },
      "source": [
        "from tensorflow.keras.applications import VGG19\r\n",
        "model = VGG19(weights = 'imagenet', include_top = False, input_shape = (32, 32, 3))\r\n",
        "model.summary()"
      ],
      "execution_count": 73,
      "outputs": [
        {
          "output_type": "stream",
          "text": [
            "Downloading data from https://storage.googleapis.com/tensorflow/keras-applications/vgg19/vgg19_weights_tf_dim_ordering_tf_kernels_notop.h5\n",
            "80142336/80134624 [==============================] - 1s 0us/step\n",
            "Model: \"vgg19\"\n",
            "_________________________________________________________________\n",
            "Layer (type)                 Output Shape              Param #   \n",
            "=================================================================\n",
            "input_7 (InputLayer)         [(None, 32, 32, 3)]       0         \n",
            "_________________________________________________________________\n",
            "block1_conv1 (Conv2D)        (None, 32, 32, 64)        1792      \n",
            "_________________________________________________________________\n",
            "block1_conv2 (Conv2D)        (None, 32, 32, 64)        36928     \n",
            "_________________________________________________________________\n",
            "block1_pool (MaxPooling2D)   (None, 16, 16, 64)        0         \n",
            "_________________________________________________________________\n",
            "block2_conv1 (Conv2D)        (None, 16, 16, 128)       73856     \n",
            "_________________________________________________________________\n",
            "block2_conv2 (Conv2D)        (None, 16, 16, 128)       147584    \n",
            "_________________________________________________________________\n",
            "block2_pool (MaxPooling2D)   (None, 8, 8, 128)         0         \n",
            "_________________________________________________________________\n",
            "block3_conv1 (Conv2D)        (None, 8, 8, 256)         295168    \n",
            "_________________________________________________________________\n",
            "block3_conv2 (Conv2D)        (None, 8, 8, 256)         590080    \n",
            "_________________________________________________________________\n",
            "block3_conv3 (Conv2D)        (None, 8, 8, 256)         590080    \n",
            "_________________________________________________________________\n",
            "block3_conv4 (Conv2D)        (None, 8, 8, 256)         590080    \n",
            "_________________________________________________________________\n",
            "block3_pool (MaxPooling2D)   (None, 4, 4, 256)         0         \n",
            "_________________________________________________________________\n",
            "block4_conv1 (Conv2D)        (None, 4, 4, 512)         1180160   \n",
            "_________________________________________________________________\n",
            "block4_conv2 (Conv2D)        (None, 4, 4, 512)         2359808   \n",
            "_________________________________________________________________\n",
            "block4_conv3 (Conv2D)        (None, 4, 4, 512)         2359808   \n",
            "_________________________________________________________________\n",
            "block4_conv4 (Conv2D)        (None, 4, 4, 512)         2359808   \n",
            "_________________________________________________________________\n",
            "block4_pool (MaxPooling2D)   (None, 2, 2, 512)         0         \n",
            "_________________________________________________________________\n",
            "block5_conv1 (Conv2D)        (None, 2, 2, 512)         2359808   \n",
            "_________________________________________________________________\n",
            "block5_conv2 (Conv2D)        (None, 2, 2, 512)         2359808   \n",
            "_________________________________________________________________\n",
            "block5_conv3 (Conv2D)        (None, 2, 2, 512)         2359808   \n",
            "_________________________________________________________________\n",
            "block5_conv4 (Conv2D)        (None, 2, 2, 512)         2359808   \n",
            "_________________________________________________________________\n",
            "block5_pool (MaxPooling2D)   (None, 1, 1, 512)         0         \n",
            "=================================================================\n",
            "Total params: 20,024,384\n",
            "Trainable params: 20,024,384\n",
            "Non-trainable params: 0\n",
            "_________________________________________________________________\n"
          ],
          "name": "stdout"
        }
      ]
    },
    {
      "cell_type": "code",
      "metadata": {
        "id": "7TshEUq4s66T",
        "outputId": "694642fd-4842-4c72-96b2-125f440d742b",
        "colab": {
          "base_uri": "https://localhost:8080/"
        }
      },
      "source": [
        "def VGG19_2D(input_size, drop_out, flat_count, class_count, conv_act, flat_act, output_act, conv_str, pool_str):\r\n",
        "\r\n",
        "    inputs = Input(shape=(input_size, input_size, 1))\r\n",
        "    block1 = cn.conv_block_2d(inputs, 2, [64, conv_str, conv_act, pool_str, drop_out])\r\n",
        "    block2 = cn.conv_block_2d(block1, 2, [128, conv_str, conv_act, pool_str, drop_out])\r\n",
        "    block3 = cn.conv_block_2d(block2, 4, [256, conv_str, conv_act, pool_str, drop_out])\r\n",
        "    block4 = cn.conv_block_2d(block3, 4, [512, conv_str, conv_act, pool_str, drop_out])\r\n",
        "    block5 = cn.conv_block_2d(block4, 4, [512, conv_str, conv_act, pool_str, drop_out])\r\n",
        "    flat = layers.Flatten()(block5)\r\n",
        "    drop1 = layers.Dropout(drop_out)(flat)\r\n",
        "    dens = layers.Dense(flat_count, activation=flat_act)(drop1)\r\n",
        "    drop2 = layers.Dropout(drop_out)(dens)\r\n",
        "    outputs = layers.Dense(class_count, activation=output_act)(drop2)\r\n",
        "    model = Model(inputs, outputs)\r\n",
        "    return model\r\n",
        "\r\n",
        "model = VGG19_2D(32, 0.5, 256, 2, 'relu', 'relu', 'sigmoid', 3, 2)\r\n",
        "model.summary()"
      ],
      "execution_count": 74,
      "outputs": [
        {
          "output_type": "stream",
          "text": [
            "Model: \"model_3\"\n",
            "_________________________________________________________________\n",
            "Layer (type)                 Output Shape              Param #   \n",
            "=================================================================\n",
            "input_8 (InputLayer)         [(None, 32, 32, 1)]       0         \n",
            "_________________________________________________________________\n",
            "conv2d_10 (Conv2D)           (None, 32, 32, 64)        640       \n",
            "_________________________________________________________________\n",
            "batch_normalization_10 (Batc (None, 32, 32, 64)        256       \n",
            "_________________________________________________________________\n",
            "activation_10 (Activation)   (None, 32, 32, 64)        0         \n",
            "_________________________________________________________________\n",
            "conv2d_11 (Conv2D)           (None, 32, 32, 64)        36928     \n",
            "_________________________________________________________________\n",
            "batch_normalization_11 (Batc (None, 32, 32, 64)        256       \n",
            "_________________________________________________________________\n",
            "activation_11 (Activation)   (None, 32, 32, 64)        0         \n",
            "_________________________________________________________________\n",
            "max_pooling2d_5 (MaxPooling2 (None, 16, 16, 64)        0         \n",
            "_________________________________________________________________\n",
            "conv2d_12 (Conv2D)           (None, 16, 16, 128)       73856     \n",
            "_________________________________________________________________\n",
            "batch_normalization_12 (Batc (None, 16, 16, 128)       512       \n",
            "_________________________________________________________________\n",
            "activation_12 (Activation)   (None, 16, 16, 128)       0         \n",
            "_________________________________________________________________\n",
            "conv2d_13 (Conv2D)           (None, 16, 16, 128)       147584    \n",
            "_________________________________________________________________\n",
            "batch_normalization_13 (Batc (None, 16, 16, 128)       512       \n",
            "_________________________________________________________________\n",
            "activation_13 (Activation)   (None, 16, 16, 128)       0         \n",
            "_________________________________________________________________\n",
            "max_pooling2d_6 (MaxPooling2 (None, 8, 8, 128)         0         \n",
            "_________________________________________________________________\n",
            "conv2d_14 (Conv2D)           (None, 8, 8, 256)         295168    \n",
            "_________________________________________________________________\n",
            "batch_normalization_14 (Batc (None, 8, 8, 256)         1024      \n",
            "_________________________________________________________________\n",
            "activation_14 (Activation)   (None, 8, 8, 256)         0         \n",
            "_________________________________________________________________\n",
            "conv2d_15 (Conv2D)           (None, 8, 8, 256)         590080    \n",
            "_________________________________________________________________\n",
            "batch_normalization_15 (Batc (None, 8, 8, 256)         1024      \n",
            "_________________________________________________________________\n",
            "activation_15 (Activation)   (None, 8, 8, 256)         0         \n",
            "_________________________________________________________________\n",
            "conv2d_16 (Conv2D)           (None, 8, 8, 256)         590080    \n",
            "_________________________________________________________________\n",
            "batch_normalization_16 (Batc (None, 8, 8, 256)         1024      \n",
            "_________________________________________________________________\n",
            "activation_16 (Activation)   (None, 8, 8, 256)         0         \n",
            "_________________________________________________________________\n",
            "conv2d_17 (Conv2D)           (None, 8, 8, 256)         590080    \n",
            "_________________________________________________________________\n",
            "batch_normalization_17 (Batc (None, 8, 8, 256)         1024      \n",
            "_________________________________________________________________\n",
            "activation_17 (Activation)   (None, 8, 8, 256)         0         \n",
            "_________________________________________________________________\n",
            "max_pooling2d_7 (MaxPooling2 (None, 4, 4, 256)         0         \n",
            "_________________________________________________________________\n",
            "conv2d_18 (Conv2D)           (None, 4, 4, 512)         1180160   \n",
            "_________________________________________________________________\n",
            "batch_normalization_18 (Batc (None, 4, 4, 512)         2048      \n",
            "_________________________________________________________________\n",
            "activation_18 (Activation)   (None, 4, 4, 512)         0         \n",
            "_________________________________________________________________\n",
            "conv2d_19 (Conv2D)           (None, 4, 4, 512)         2359808   \n",
            "_________________________________________________________________\n",
            "batch_normalization_19 (Batc (None, 4, 4, 512)         2048      \n",
            "_________________________________________________________________\n",
            "activation_19 (Activation)   (None, 4, 4, 512)         0         \n",
            "_________________________________________________________________\n",
            "conv2d_20 (Conv2D)           (None, 4, 4, 512)         2359808   \n",
            "_________________________________________________________________\n",
            "batch_normalization_20 (Batc (None, 4, 4, 512)         2048      \n",
            "_________________________________________________________________\n",
            "activation_20 (Activation)   (None, 4, 4, 512)         0         \n",
            "_________________________________________________________________\n",
            "conv2d_21 (Conv2D)           (None, 4, 4, 512)         2359808   \n",
            "_________________________________________________________________\n",
            "batch_normalization_21 (Batc (None, 4, 4, 512)         2048      \n",
            "_________________________________________________________________\n",
            "activation_21 (Activation)   (None, 4, 4, 512)         0         \n",
            "_________________________________________________________________\n",
            "max_pooling2d_8 (MaxPooling2 (None, 2, 2, 512)         0         \n",
            "_________________________________________________________________\n",
            "conv2d_22 (Conv2D)           (None, 2, 2, 512)         2359808   \n",
            "_________________________________________________________________\n",
            "batch_normalization_22 (Batc (None, 2, 2, 512)         2048      \n",
            "_________________________________________________________________\n",
            "activation_22 (Activation)   (None, 2, 2, 512)         0         \n",
            "_________________________________________________________________\n",
            "conv2d_23 (Conv2D)           (None, 2, 2, 512)         2359808   \n",
            "_________________________________________________________________\n",
            "batch_normalization_23 (Batc (None, 2, 2, 512)         2048      \n",
            "_________________________________________________________________\n",
            "activation_23 (Activation)   (None, 2, 2, 512)         0         \n",
            "_________________________________________________________________\n",
            "conv2d_24 (Conv2D)           (None, 2, 2, 512)         2359808   \n",
            "_________________________________________________________________\n",
            "batch_normalization_24 (Batc (None, 2, 2, 512)         2048      \n",
            "_________________________________________________________________\n",
            "activation_24 (Activation)   (None, 2, 2, 512)         0         \n",
            "_________________________________________________________________\n",
            "conv2d_25 (Conv2D)           (None, 2, 2, 512)         2359808   \n",
            "_________________________________________________________________\n",
            "batch_normalization_25 (Batc (None, 2, 2, 512)         2048      \n",
            "_________________________________________________________________\n",
            "activation_25 (Activation)   (None, 2, 2, 512)         0         \n",
            "_________________________________________________________________\n",
            "max_pooling2d_9 (MaxPooling2 (None, 1, 1, 512)         0         \n",
            "_________________________________________________________________\n",
            "flatten_1 (Flatten)          (None, 512)               0         \n",
            "_________________________________________________________________\n",
            "dropout_2 (Dropout)          (None, 512)               0         \n",
            "_________________________________________________________________\n",
            "dense_5 (Dense)              (None, 256)               131328    \n",
            "_________________________________________________________________\n",
            "dropout_3 (Dropout)          (None, 256)               0         \n",
            "_________________________________________________________________\n",
            "dense_6 (Dense)              (None, 2)                 514       \n",
            "=================================================================\n",
            "Total params: 20,177,090\n",
            "Trainable params: 20,166,082\n",
            "Non-trainable params: 11,008\n",
            "_________________________________________________________________\n"
          ],
          "name": "stdout"
        }
      ]
    },
    {
      "cell_type": "code",
      "metadata": {
        "colab": {
          "base_uri": "https://localhost:8080/"
        },
        "id": "GPb-psfws8ta",
        "outputId": "c02883dd-373a-49f4-c274-93deb5f99e0d"
      },
      "source": [
        "def VGGfree_2D(input_size, block_num, layer_num, drop_out, flat_count, class_count, conv_act, flat_act, output_act, conv_str, pool_str):\r\n",
        "\r\n",
        "    inputs = Input(shape=(input_size, input_size, 1))\r\n",
        "    block = layers.Conv2D(32, conv_str, activation=conv_act, padding='same', kernel_initializer='he_normal')(inputs)\r\n",
        "    for i in range(block_num):\r\n",
        "        block = cn.conv_block_2d(block, layer_num, [32*(2**i), conv_str, conv_act, pool_str, drop_out])\r\n",
        "    flat = layers.Flatten()(block)\r\n",
        "    drop1 = layers.Dropout(drop_out)(flat)\r\n",
        "    dens = layers.Dense(flat_count, activation=flat_act)(drop1)\r\n",
        "    drop2 = layers.Dropout(drop_out)(dens)\r\n",
        "    outputs = layers.Dense(class_count, activation=output_act)(drop2)\r\n",
        "    model = Model(inputs, outputs)\r\n",
        "    return model\r\n",
        "\r\n",
        "model = VGGfree_2D(32, 5, 2, 0.5, 256, 2, 'relu', 'relu', 'sigmoid', 3, 2)\r\n",
        "model.summary()"
      ],
      "execution_count": 75,
      "outputs": [
        {
          "output_type": "stream",
          "text": [
            "Model: \"model_4\"\n",
            "_________________________________________________________________\n",
            "Layer (type)                 Output Shape              Param #   \n",
            "=================================================================\n",
            "input_9 (InputLayer)         [(None, 32, 32, 1)]       0         \n",
            "_________________________________________________________________\n",
            "conv2d_26 (Conv2D)           (None, 32, 32, 32)        320       \n",
            "_________________________________________________________________\n",
            "conv2d_27 (Conv2D)           (None, 32, 32, 32)        9248      \n",
            "_________________________________________________________________\n",
            "batch_normalization_26 (Batc (None, 32, 32, 32)        128       \n",
            "_________________________________________________________________\n",
            "activation_26 (Activation)   (None, 32, 32, 32)        0         \n",
            "_________________________________________________________________\n",
            "conv2d_28 (Conv2D)           (None, 32, 32, 32)        9248      \n",
            "_________________________________________________________________\n",
            "batch_normalization_27 (Batc (None, 32, 32, 32)        128       \n",
            "_________________________________________________________________\n",
            "activation_27 (Activation)   (None, 32, 32, 32)        0         \n",
            "_________________________________________________________________\n",
            "max_pooling2d_10 (MaxPooling (None, 16, 16, 32)        0         \n",
            "_________________________________________________________________\n",
            "conv2d_29 (Conv2D)           (None, 16, 16, 64)        18496     \n",
            "_________________________________________________________________\n",
            "batch_normalization_28 (Batc (None, 16, 16, 64)        256       \n",
            "_________________________________________________________________\n",
            "activation_28 (Activation)   (None, 16, 16, 64)        0         \n",
            "_________________________________________________________________\n",
            "conv2d_30 (Conv2D)           (None, 16, 16, 64)        36928     \n",
            "_________________________________________________________________\n",
            "batch_normalization_29 (Batc (None, 16, 16, 64)        256       \n",
            "_________________________________________________________________\n",
            "activation_29 (Activation)   (None, 16, 16, 64)        0         \n",
            "_________________________________________________________________\n",
            "max_pooling2d_11 (MaxPooling (None, 8, 8, 64)          0         \n",
            "_________________________________________________________________\n",
            "conv2d_31 (Conv2D)           (None, 8, 8, 128)         73856     \n",
            "_________________________________________________________________\n",
            "batch_normalization_30 (Batc (None, 8, 8, 128)         512       \n",
            "_________________________________________________________________\n",
            "activation_30 (Activation)   (None, 8, 8, 128)         0         \n",
            "_________________________________________________________________\n",
            "conv2d_32 (Conv2D)           (None, 8, 8, 128)         147584    \n",
            "_________________________________________________________________\n",
            "batch_normalization_31 (Batc (None, 8, 8, 128)         512       \n",
            "_________________________________________________________________\n",
            "activation_31 (Activation)   (None, 8, 8, 128)         0         \n",
            "_________________________________________________________________\n",
            "max_pooling2d_12 (MaxPooling (None, 4, 4, 128)         0         \n",
            "_________________________________________________________________\n",
            "conv2d_33 (Conv2D)           (None, 4, 4, 256)         295168    \n",
            "_________________________________________________________________\n",
            "batch_normalization_32 (Batc (None, 4, 4, 256)         1024      \n",
            "_________________________________________________________________\n",
            "activation_32 (Activation)   (None, 4, 4, 256)         0         \n",
            "_________________________________________________________________\n",
            "conv2d_34 (Conv2D)           (None, 4, 4, 256)         590080    \n",
            "_________________________________________________________________\n",
            "batch_normalization_33 (Batc (None, 4, 4, 256)         1024      \n",
            "_________________________________________________________________\n",
            "activation_33 (Activation)   (None, 4, 4, 256)         0         \n",
            "_________________________________________________________________\n",
            "max_pooling2d_13 (MaxPooling (None, 2, 2, 256)         0         \n",
            "_________________________________________________________________\n",
            "conv2d_35 (Conv2D)           (None, 2, 2, 512)         1180160   \n",
            "_________________________________________________________________\n",
            "batch_normalization_34 (Batc (None, 2, 2, 512)         2048      \n",
            "_________________________________________________________________\n",
            "activation_34 (Activation)   (None, 2, 2, 512)         0         \n",
            "_________________________________________________________________\n",
            "conv2d_36 (Conv2D)           (None, 2, 2, 512)         2359808   \n",
            "_________________________________________________________________\n",
            "batch_normalization_35 (Batc (None, 2, 2, 512)         2048      \n",
            "_________________________________________________________________\n",
            "activation_35 (Activation)   (None, 2, 2, 512)         0         \n",
            "_________________________________________________________________\n",
            "max_pooling2d_14 (MaxPooling (None, 1, 1, 512)         0         \n",
            "_________________________________________________________________\n",
            "flatten_2 (Flatten)          (None, 512)               0         \n",
            "_________________________________________________________________\n",
            "dropout_4 (Dropout)          (None, 512)               0         \n",
            "_________________________________________________________________\n",
            "dense_7 (Dense)              (None, 256)               131328    \n",
            "_________________________________________________________________\n",
            "dropout_5 (Dropout)          (None, 256)               0         \n",
            "_________________________________________________________________\n",
            "dense_8 (Dense)              (None, 2)                 514       \n",
            "=================================================================\n",
            "Total params: 4,860,674\n",
            "Trainable params: 4,856,706\n",
            "Non-trainable params: 3,968\n",
            "_________________________________________________________________\n"
          ],
          "name": "stdout"
        }
      ]
    }
  ]
}