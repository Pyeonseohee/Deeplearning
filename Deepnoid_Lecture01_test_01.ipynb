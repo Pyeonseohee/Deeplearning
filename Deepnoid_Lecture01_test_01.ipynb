{
  "nbformat": 4,
  "nbformat_minor": 0,
  "metadata": {
    "colab": {
      "name": "Deepnoid_Lecture01_test.ipynb",
      "provenance": [],
      "collapsed_sections": [],
      "include_colab_link": true
    },
    "kernelspec": {
      "name": "python3",
      "display_name": "Python 3"
    },
    "accelerator": "GPU"
  },
  "cells": [
    {
      "cell_type": "markdown",
      "metadata": {
        "id": "view-in-github",
        "colab_type": "text"
      },
      "source": [
        "<a href=\"https://colab.research.google.com/github/Pyeonseohee/Deeplearning/blob/main/Deepnoid_Lecture01_test_01.ipynb\" target=\"_parent\"><img src=\"https://colab.research.google.com/assets/colab-badge.svg\" alt=\"Open In Colab\"/></a>"
      ]
    },
    {
      "cell_type": "markdown",
      "metadata": {
        "id": "OPfHAwt92V1g"
      },
      "source": [
        "\r\n",
        "## **Lecture 01.CNN** \r\n",
        "\r\n",
        "# 01. 라이브러리 불러오기\r\n"
      ]
    },
    {
      "cell_type": "code",
      "metadata": {
        "id": "eXNUQpbk3s-D"
      },
      "source": [
        "import numpy as np\r\n",
        "import os, matplotlib\r\n",
        "from matplotlib import pyplot as plt\r\n",
        "\r\n",
        "### Tensorflow 2.0 ###\r\n",
        "import tensorflow as tf\r\n",
        "from tensorflow import keras\r\n",
        "from tensorflow.keras.models import Sequential, Model\r\n",
        "from tensorflow.keras import Input\r\n",
        "from tensorflow.keras import layers\r\n",
        "from tensorflow.keras import models\r\n",
        "from tensorflow.keras.preprocessing import image\r\n",
        "from tensorflow.keras.preprocessing.image import ImageDataGenerator\r\n",
        "from tensorflow.keras import losses\r\n",
        "from tensorflow.keras import optimizers\r\n",
        "from tensorflow.keras import metrics\r\n",
        "from tensorflow.keras import regularizers\r\n",
        "from tensorflow.keras import utils"
      ],
      "execution_count": 1,
      "outputs": []
    },
    {
      "cell_type": "markdown",
      "metadata": {
        "id": "SS4hgtC1kQUL"
      },
      "source": [
        "# 데이터 로딩"
      ]
    },
    {
      "cell_type": "code",
      "metadata": {
        "colab": {
          "base_uri": "https://localhost:8080/"
        },
        "id": "tvfPQ7Msksrg",
        "outputId": "97e870dd-1b73-46e5-bdca-275fca26b59e"
      },
      "source": [
        "(x_train, y_train), (x_test, y_test)=keras.datasets.mnist.load_data(path='minist.npz')\r\n",
        "print(x_train.shape, y_train.shape)"
      ],
      "execution_count": 2,
      "outputs": [
        {
          "output_type": "stream",
          "text": [
            "Downloading data from https://storage.googleapis.com/tensorflow/tf-keras-datasets/mnist.npz\n",
            "11493376/11490434 [==============================] - 0s 0us/step\n",
            "(60000, 28, 28) (60000,)\n"
          ],
          "name": "stdout"
        }
      ]
    },
    {
      "cell_type": "code",
      "metadata": {
        "colab": {
          "base_uri": "https://localhost:8080/"
        },
        "id": "IlfNguQwCG6M",
        "outputId": "c9690e33-2cd2-46a3-82a3-da06defe6b62"
      },
      "source": [
        "x_train_list=[] \r\n",
        "x_test_list=[]\r\n",
        "for i, i_ in enumerate(x_train[:60000]):\r\n",
        "  arr = np.zeros(shape=(32,32))\r\n",
        "  arr[:28,:28] = x_train[i]\r\n",
        "  x_train_list.append(arr)\r\n",
        "for i, i_ in enumerate(x_test[:500]):\r\n",
        "  arr = np.zeros(shape=(32,32))\r\n",
        "  arr[:28,:28] = x_test[i]\r\n",
        "  x_test_list.append(arr)\r\n",
        "\r\n",
        "x_train1 = np.expand_dims(np.array(x_train_list), axis=-1)\r\n",
        "x_test1 = np.expand_dims(np.array(x_test_list), axis=-1)\r\n",
        "print(x_train1.shape, x_test1.shape)"
      ],
      "execution_count": 3,
      "outputs": [
        {
          "output_type": "stream",
          "text": [
            "(60000, 32, 32, 1) (500, 32, 32, 1)\n"
          ],
          "name": "stdout"
        }
      ]
    },
    {
      "cell_type": "code",
      "metadata": {
        "colab": {
          "base_uri": "https://localhost:8080/"
        },
        "id": "m6F8S_EJJuKC",
        "outputId": "6f68177d-22cb-49c3-9894-1f878775c394"
      },
      "source": [
        "y_train_list = []\r\n",
        "y_test_list = []\r\n",
        "for i, i_ in enumerate(y_train[:60000]):\r\n",
        "  zero = [0]*10\r\n",
        "  zero[i_] = 1\r\n",
        "  y_train_list.append(zero)\r\n",
        "for i, i_ in enumerate(y_test[:500]):\r\n",
        "  zero = [0]*10\r\n",
        "  zero[i_] = 1\r\n",
        "  y_test_list.append(zero)\r\n",
        "\r\n",
        "y_train1 = np.array(y_train_list)\r\n",
        "y_test1= np.array(y_test_list)\r\n",
        "print(y_train1.shape, y_test1.shape)"
      ],
      "execution_count": 4,
      "outputs": [
        {
          "output_type": "stream",
          "text": [
            "(60000, 10) (500, 10)\n"
          ],
          "name": "stdout"
        }
      ]
    },
    {
      "cell_type": "code",
      "metadata": {
        "colab": {
          "base_uri": "https://localhost:8080/",
          "height": 228
        },
        "id": "rMJA2Tv2K2JW",
        "outputId": "7e9a819e-8435-49de-fcec-25d5b49dd001"
      },
      "source": [
        "plt.figure(figsize=(10,10))\r\n",
        "for i in range(3):\r\n",
        "  plt.subplot(1,3,i+1)\r\n",
        "  plt.imshow(x_train1[i][...,0], cmap = 'gray')\r\n",
        "  plt.title('Class = {}'.format(y_train[i]))"
      ],
      "execution_count": 5,
      "outputs": [
        {
          "output_type": "display_data",
          "data": {
            "image/png": "[encoded data removed]",
            "text/plain": [
              "<Figure size 720x720 with 3 Axes>"
            ]
          },
          "metadata": {
            "tags": [],
            "needs_background": "light"
          }
        }
      ]
    },
    {
      "cell_type": "markdown",
      "metadata": {
        "id": "H6XdycMLL09d"
      },
      "source": [
        "# 3. 모델 만들기\r\n",
        "\r\n",
        "# AI 모델을 구성하는 레이어 만들기\r\n",
        "\r\n",
        " AI 모델은 여러 개의 레이어를 쌓아 올려 만듭니다. 가장 대표적인 레이어 구조인 CONV-BN-ACT-POOL 구조를 만들어 보겠습니다.\r\n",
        "\r\n",
        " 먼저 데이터가 들어가는 첫 번째 레이어를 만들어 봅시다."
      ]
    },
    {
      "cell_type": "code",
      "metadata": {
        "id": "xyHJDDmdK2UF"
      },
      "source": [
        "first_layer = Input(shape=(32,32,1))"
      ],
      "execution_count": 6,
      "outputs": []
    },
    {
      "cell_type": "markdown",
      "metadata": {
        "id": "KSuj7LZkMLSv"
      },
      "source": [
        "그 다음으로 데이터의 특징을 추출할 Convolution 레이어를 연결하겠습니다."
      ]
    },
    {
      "cell_type": "code",
      "metadata": {
        "id": "gzj3FB4fK2wv"
      },
      "source": [
        "second_layer = layers.Conv2D(filters=8, kernel_size=(3,3), activation = None, padding = 'same')(first_layer)"
      ],
      "execution_count": 12,
      "outputs": []
    },
    {
      "cell_type": "code",
      "metadata": {
        "id": "WUPTXlPCGjNz"
      },
      "source": [
        "third_layer = layers.Conv2D(filters=16, kernel_size=(3,3), activation = None, padding = 'same')(second_layer)"
      ],
      "execution_count": 13,
      "outputs": []
    },
    {
      "cell_type": "markdown",
      "metadata": {
        "id": "Unj6_9_qM9NR"
      },
      "source": [
        " 다음으로 레이어 중간에서 정규화를 도와줄 Batch Normalization 레이어를 추가하겠습니다. 다음으로 레이어 중간에서 정규화를 도와줄 Batch Normalization 레이어를 추가하겠습니다."
      ]
    },
    {
      "cell_type": "code",
      "metadata": {
        "id": "43bKG3S3NM_0"
      },
      "source": [
        "fourth_layer = layers.BatchNormalization()(third_layer)"
      ],
      "execution_count": 14,
      "outputs": []
    },
    {
      "cell_type": "markdown",
      "metadata": {
        "id": "nOyVS8fENaCV"
      },
      "source": [
        " Batch Normalization 이후 신호를 변환하여 다음 뉴런으로 전달하는 Activation function 레이어를 추가합니다."
      ]
    },
    {
      "cell_type": "code",
      "metadata": {
        "id": "avs7if9PNlPr"
      },
      "source": [
        "fifth_layer = layers.Activation('relu')(fourth_layer)"
      ],
      "execution_count": 15,
      "outputs": []
    },
    {
      "cell_type": "markdown",
      "metadata": {
        "id": "e6pvuqaGN5XK"
      },
      "source": [
        " 다음으로 이미지 사이즈를 줄여주는 Pooling 레이어를 연결합니다."
      ]
    },
    {
      "cell_type": "code",
      "metadata": {
        "id": "F_QICAsNOAMM"
      },
      "source": [
        "sixth_layer = layers.MaxPool2D(strides=(2,2))(fifth_layer)"
      ],
      "execution_count": 16,
      "outputs": []
    },
    {
      "cell_type": "markdown",
      "metadata": {
        "id": "_Sw4nMAxOKql"
      },
      "source": [
        " 그 후 모든 뉴런을 일렬로 늘어세우는 Flatten 레이어를 만듭니다."
      ]
    },
    {
      "cell_type": "code",
      "metadata": {
        "id": "VHw1frupOTe1"
      },
      "source": [
        "seventh_layer = layers.Flatten()(sixth_layer)"
      ],
      "execution_count": 17,
      "outputs": []
    },
    {
      "cell_type": "markdown",
      "metadata": {
        "id": "QAHRqwrtXIra"
      },
      "source": [
        " 일렬로 늘어세운 후 이전 계층의 모든 뉴런을 연결해주는 Fully connected(Dense) 레이어를 연결합니다."
      ]
    },
    {
      "cell_type": "code",
      "metadata": {
        "id": "ohkuPpfOXRSh"
      },
      "source": [
        "eighth_layer = layers.Dense(100, activation = 'relu')(seventh_layer)"
      ],
      "execution_count": 18,
      "outputs": []
    },
    {
      "cell_type": "markdown",
      "metadata": {
        "id": "Dk25-ILlXY3c"
      },
      "source": [
        "  Dropout 레이어를 활용해 일부 뉴런들을 무작위로 학습에서 배제하도록 합시다."
      ]
    },
    {
      "cell_type": "code",
      "metadata": {
        "id": "mr65dAjDXjNf"
      },
      "source": [
        "nineth_layer = layers.Dropout(0.25)(eighth_layer)"
      ],
      "execution_count": 19,
      "outputs": []
    },
    {
      "cell_type": "markdown",
      "metadata": {
        "id": "DczEn6kRXuc_"
      },
      "source": [
        " 마지막으로 최종 결과물을 출력해주는 레이어를 만들어 줍니다."
      ]
    },
    {
      "cell_type": "code",
      "metadata": {
        "id": "YO3udUHWXzvN"
      },
      "source": [
        "final_layer = layers.Dense(10, activation = 'sigmoid')(nineth_layer)"
      ],
      "execution_count": 20,
      "outputs": []
    },
    {
      "cell_type": "markdown",
      "metadata": {
        "id": "f-0TZ0L0X8gd"
      },
      "source": [
        " 지금까지 만든 레이어를 Model 함수에 넣어 연결하면 모델이 완성됩니다."
      ]
    },
    {
      "cell_type": "code",
      "metadata": {
        "colab": {
          "base_uri": "https://localhost:8080/"
        },
        "id": "4WhmF5AtYBPk",
        "outputId": "ce33b6c3-3ddf-4f4f-faf4-8c4d8806ece8"
      },
      "source": [
        "model = Model(first_layer, final_layer)\r\n",
        "model.summary()"
      ],
      "execution_count": 21,
      "outputs": [
        {
          "output_type": "stream",
          "text": [
            "Model: \"model\"\n",
            "_________________________________________________________________\n",
            "Layer (type)                 Output Shape              Param #   \n",
            "=================================================================\n",
            "input_1 (InputLayer)         [(None, 32, 32, 1)]       0         \n",
            "_________________________________________________________________\n",
            "conv2d_3 (Conv2D)            (None, 32, 32, 8)         80        \n",
            "_________________________________________________________________\n",
            "conv2d_4 (Conv2D)            (None, 32, 32, 16)        1168      \n",
            "_________________________________________________________________\n",
            "batch_normalization_1 (Batch (None, 32, 32, 16)        64        \n",
            "_________________________________________________________________\n",
            "activation (Activation)      (None, 32, 32, 16)        0         \n",
            "_________________________________________________________________\n",
            "max_pooling2d (MaxPooling2D) (None, 16, 16, 16)        0         \n",
            "_________________________________________________________________\n",
            "flatten (Flatten)            (None, 4096)              0         \n",
            "_________________________________________________________________\n",
            "dense (Dense)                (None, 100)               409700    \n",
            "_________________________________________________________________\n",
            "dropout (Dropout)            (None, 100)               0         \n",
            "_________________________________________________________________\n",
            "dense_1 (Dense)              (None, 10)                1010      \n",
            "=================================================================\n",
            "Total params: 412,022\n",
            "Trainable params: 411,990\n",
            "Non-trainable params: 32\n",
            "_________________________________________________________________\n"
          ],
          "name": "stdout"
        }
      ]
    },
    {
      "cell_type": "markdown",
      "metadata": {
        "id": "Ufvh23wzYJo-"
      },
      "source": [
        "# 4. 모델 훈련하기\r\n",
        "\r\n",
        "신경망 모델의 손실함수와 옵티마이저, 학습률 등의 파라미터를 지정해줍니다.\r\n",
        "\r\n",
        "성능은 정확도를 평가할 것입니다."
      ]
    },
    {
      "cell_type": "code",
      "metadata": {
        "id": "HDo6Wd5nYS_N"
      },
      "source": [
        "model.compile(loss=losses.CategoricalCrossentropy(), optimizer=optimizers.Adam(lr=1e-4),metrics=['accuracy'])"
      ],
      "execution_count": 22,
      "outputs": []
    },
    {
      "cell_type": "code",
      "metadata": {
        "colab": {
          "base_uri": "https://localhost:8080/"
        },
        "id": "hzLzohRJYn9S",
        "outputId": "ee795148-e808-4512-b918-d21aff45595d"
      },
      "source": [
        "history = model.fit(x_train1, y_train1, epochs=20, batch_size=32, validation_data=(x_test1, y_test1), shuffle=True)"
      ],
      "execution_count": 23,
      "outputs": [
        {
          "output_type": "stream",
          "text": [
            "Epoch 1/20\n",
            "1875/1875 [==============================] - 12s 3ms/step - loss: 0.5915 - accuracy: 0.8171 - val_loss: 0.0827 - val_accuracy: 0.9720\n",
            "Epoch 2/20\n",
            "1875/1875 [==============================] - 5s 2ms/step - loss: 0.1331 - accuracy: 0.9601 - val_loss: 0.0611 - val_accuracy: 0.9800\n",
            "Epoch 3/20\n",
            "1875/1875 [==============================] - 5s 3ms/step - loss: 0.0856 - accuracy: 0.9745 - val_loss: 0.0489 - val_accuracy: 0.9780\n",
            "Epoch 4/20\n",
            "1875/1875 [==============================] - 5s 2ms/step - loss: 0.0658 - accuracy: 0.9798 - val_loss: 0.0291 - val_accuracy: 0.9940\n",
            "Epoch 5/20\n",
            "1875/1875 [==============================] - 5s 2ms/step - loss: 0.0567 - accuracy: 0.9826 - val_loss: 0.0337 - val_accuracy: 0.9900\n",
            "Epoch 6/20\n",
            "1875/1875 [==============================] - 5s 2ms/step - loss: 0.0450 - accuracy: 0.9860 - val_loss: 0.0219 - val_accuracy: 0.9920\n",
            "Epoch 7/20\n",
            "1875/1875 [==============================] - 5s 2ms/step - loss: 0.0410 - accuracy: 0.9868 - val_loss: 0.0238 - val_accuracy: 0.9900\n",
            "Epoch 8/20\n",
            "1875/1875 [==============================] - 5s 2ms/step - loss: 0.0340 - accuracy: 0.9894 - val_loss: 0.0260 - val_accuracy: 0.9880\n",
            "Epoch 9/20\n",
            "1875/1875 [==============================] - 5s 2ms/step - loss: 0.0296 - accuracy: 0.9908 - val_loss: 0.0229 - val_accuracy: 0.9900\n",
            "Epoch 10/20\n",
            "1875/1875 [==============================] - 5s 3ms/step - loss: 0.0270 - accuracy: 0.9912 - val_loss: 0.0364 - val_accuracy: 0.9860\n",
            "Epoch 11/20\n",
            "1875/1875 [==============================] - 5s 3ms/step - loss: 0.0254 - accuracy: 0.9919 - val_loss: 0.0334 - val_accuracy: 0.9840\n",
            "Epoch 12/20\n",
            "1875/1875 [==============================] - 5s 3ms/step - loss: 0.0213 - accuracy: 0.9935 - val_loss: 0.0326 - val_accuracy: 0.9880\n",
            "Epoch 13/20\n",
            "1875/1875 [==============================] - 5s 2ms/step - loss: 0.0187 - accuracy: 0.9936 - val_loss: 0.0439 - val_accuracy: 0.9780\n",
            "Epoch 14/20\n",
            "1875/1875 [==============================] - 5s 2ms/step - loss: 0.0182 - accuracy: 0.9944 - val_loss: 0.0228 - val_accuracy: 0.9900\n",
            "Epoch 15/20\n",
            "1875/1875 [==============================] - 5s 3ms/step - loss: 0.0166 - accuracy: 0.9946 - val_loss: 0.0280 - val_accuracy: 0.9920\n",
            "Epoch 16/20\n",
            "1875/1875 [==============================] - 5s 3ms/step - loss: 0.0163 - accuracy: 0.9949 - val_loss: 0.0276 - val_accuracy: 0.9880\n",
            "Epoch 17/20\n",
            "1875/1875 [==============================] - 5s 3ms/step - loss: 0.0145 - accuracy: 0.9953 - val_loss: 0.0335 - val_accuracy: 0.9820\n",
            "Epoch 18/20\n",
            "1875/1875 [==============================] - 5s 2ms/step - loss: 0.0139 - accuracy: 0.9956 - val_loss: 0.0179 - val_accuracy: 0.9900\n",
            "Epoch 19/20\n",
            "1875/1875 [==============================] - 5s 2ms/step - loss: 0.0128 - accuracy: 0.9960 - val_loss: 0.0259 - val_accuracy: 0.9860\n",
            "Epoch 20/20\n",
            "1875/1875 [==============================] - 5s 2ms/step - loss: 0.0116 - accuracy: 0.9963 - val_loss: 0.0474 - val_accuracy: 0.9860\n"
          ],
          "name": "stdout"
        }
      ]
    },
    {
      "cell_type": "markdown",
      "metadata": {
        "id": "cRefcA-NY6FM"
      },
      "source": [
        "# 결과 확인하기"
      ]
    },
    {
      "cell_type": "code",
      "metadata": {
        "id": "Zzvsbn1MY7t4"
      },
      "source": [
        "acc = history.history['accuracy']\r\n",
        "val_acc = history.history['val_accuracy']\r\n",
        "loss = history.history['loss']\r\n",
        "val_loss = history.history['val_loss']"
      ],
      "execution_count": 24,
      "outputs": []
    },
    {
      "cell_type": "code",
      "metadata": {
        "id": "XMdZAk4BZQlT"
      },
      "source": [
        "epochs = range(1,len(acc)+1)"
      ],
      "execution_count": 25,
      "outputs": []
    },
    {
      "cell_type": "markdown",
      "metadata": {
        "id": "2LNAEgUxZUxG"
      },
      "source": [
        " 정확도와 손실함수 그래프 그리기"
      ]
    },
    {
      "cell_type": "code",
      "metadata": {
        "colab": {
          "base_uri": "https://localhost:8080/",
          "height": 545
        },
        "id": "Hs2lEG0JZXS9",
        "outputId": "b12b08be-fae3-4540-af60-0845a23e7c26"
      },
      "source": [
        "plt.plot(epochs, acc, 'b', color='blue', label='Tranning acc')\r\n",
        "plt.plot(epochs, val_acc, 'b', color='red', label='Validation acc')\r\n",
        "plt.title('Tranning and validation accuracy', color='w')\r\n",
        "plt.legend()\r\n",
        "\r\n",
        "plt.figure()\r\n",
        "\r\n",
        "plt.plot(epochs, loss, 'b', color='blue', label='Tranning loss')\r\n",
        "plt.plot(epochs, val_loss, 'b', color='red', label='Validation loss')\r\n",
        "plt.title('Tranning and validation loss', color='w')\r\n",
        "plt.legend()\r\n",
        "\r\n",
        "plt.show()"
      ],
      "execution_count": 27,
      "outputs": [
        {
          "output_type": "display_data",
          "data": {
            "image/png": "[encoded data removed]",
            "text/plain": [
              "<Figure size 432x288 with 1 Axes>"
            ]
          },
          "metadata": {
            "tags": [],
            "needs_background": "light"
          }
        },
        {
          "output_type": "display_data",
          "data": {
            "image/png": "[encoded data removed]",
            "text/plain": [
              "<Figure size 432x288 with 1 Axes>"
            ]
          },
          "metadata": {
            "tags": [],
            "needs_background": "light"
          }
        }
      ]
    }
  ]
}