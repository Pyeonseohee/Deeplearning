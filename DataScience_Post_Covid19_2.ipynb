{
  "nbformat": 4,
  "nbformat_minor": 0,
  "metadata": {
    "colab": {
      "name": "DataScience_Post_Covid19_2",
      "provenance": [],
      "mount_file_id": "https://github.com/Pyeonseohee/Deeplearning/blob/main/DataScience_Post_Covid19_2.ipynb",
      "authorship_tag": "ABX9TyMsTqQdYC2q2Y0TjGQj1Wut",
      "include_colab_link": true
    },
    "kernelspec": {
      "name": "python3",
      "display_name": "Python 3"
    },
    "language_info": {
      "name": "python"
    }
  },
  "cells": [
    {
      "cell_type": "markdown",
      "metadata": {
        "id": "view-in-github",
        "colab_type": "text"
      },
      "source": [
        "<a href=\"https://colab.research.google.com/github/Pyeonseohee/Deeplearning/blob/main/DataScience_Post_Covid19_2.ipynb\" target=\"_parent\"><img src=\"https://colab.research.google.com/assets/colab-badge.svg\" alt=\"Open In Colab\"/></a>"
      ]
    },
    {
      "cell_type": "markdown",
      "metadata": {
        "id": "NSm58KC2z1O0"
      },
      "source": [
        "# POST - COVID19 데이터 시각화 경진대회\n",
        "\n",
        "* 가설 2: 코로나 이후 배달이 급격히 늘어 배달완료시간이 오래 걸릴 것이다."
      ]
    },
    {
      "cell_type": "markdown",
      "metadata": {
        "id": "EM1UdRzE0Bp1"
      },
      "source": [
        "필요한 library 불러오기기"
      ]
    },
    {
      "cell_type": "code",
      "metadata": {
        "id": "sgYpJ-nHy5dg",
        "colab": {
          "base_uri": "https://localhost:8080/"
        },
        "outputId": "baee97ef-fe55-4f58-93a8-0ae5c42b5379"
      },
      "source": [
        "import pandas as pd\n",
        "from pandas import Series, DataFrame\n",
        "import datetime\n",
        "import matplotlib.font_manager as fm\n",
        "import matplotlib.pyplot as plt\n",
        "import matplotlib as mpl\n",
        " \n",
        "\n",
        " # 한글\n",
        "!apt -qq -y install fonts-nanum\n",
        "\n",
        "fontpath = '/usr/share/fonts/truetype/nanum/NanumBarunGothic.ttf'\n",
        "font = fm.FontProperties(fname = fontpath, size = 7)\n",
        "mpl.font_manager._rebuild()\n",
        "%config InlineBackend.figure_format = 'retina'\n",
        "plt.rc('font', family = 'NanumBarunGothic')"
      ],
      "execution_count": 1,
      "outputs": [
        {
          "output_type": "stream",
          "text": [
            "The following NEW packages will be installed:\n",
            "  fonts-nanum\n",
            "0 upgraded, 1 newly installed, 0 to remove and 30 not upgraded.\n",
            "Need to get 9,604 kB of archives.\n",
            "After this operation, 29.5 MB of additional disk space will be used.\n",
            "Selecting previously unselected package fonts-nanum.\n",
            "(Reading database ... 160980 files and directories currently installed.)\n",
            "Preparing to unpack .../fonts-nanum_20170925-1_all.deb ...\n",
            "Unpacking fonts-nanum (20170925-1) ...\n",
            "Setting up fonts-nanum (20170925-1) ...\n",
            "Processing triggers for fontconfig (2.12.6-0ubuntu2) ...\n"
          ],
          "name": "stdout"
        }
      ]
    },
    {
      "cell_type": "markdown",
      "metadata": {
        "id": "Xkbji_SR0Ko8"
      },
      "source": [
        "google drive mount 해준 뒤, card.csv 파일 읽기 head() 함수는 파일 간단히 보여줌."
      ]
    },
    {
      "cell_type": "code",
      "metadata": {
        "colab": {
          "base_uri": "https://localhost:8080/",
          "height": 299
        },
        "id": "msaVJ9YP0HyO",
        "outputId": "9b29ca57-c6e8-4899-8f35-5f74adb808c9"
      },
      "source": [
        "delivery = pd.read_csv('/content/drive/MyDrive/Post_Covid19/delivery.csv')\n",
        "delivery.head()"
      ],
      "execution_count": 2,
      "outputs": [
        {
          "output_type": "execute_result",
          "data": {
            "text/html": [
              "<div>\n",
              "<style scoped>\n",
              "    .dataframe tbody tr th:only-of-type {\n",
              "        vertical-align: middle;\n",
              "    }\n",
              "\n",
              "    .dataframe tbody tr th {\n",
              "        vertical-align: top;\n",
              "    }\n",
              "\n",
              "    .dataframe thead th {\n",
              "        text-align: right;\n",
              "    }\n",
              "</style>\n",
              "<table border=\"1\" class=\"dataframe\">\n",
              "  <thead>\n",
              "    <tr style=\"text-align: right;\">\n",
              "      <th></th>\n",
              "      <th>SERIAL_NUMBER</th>\n",
              "      <th>PROCESS_DT</th>\n",
              "      <th>DLVR_RQESTER_ID</th>\n",
              "      <th>DLVR_REQUST_STTUS_VALUE</th>\n",
              "      <th>DLVR_RCEPT_CMPNY_ID</th>\n",
              "      <th>DLVR_STORE_ID</th>\n",
              "      <th>DLVR_STORE_INDUTY_NM</th>\n",
              "      <th>DLVR_STORE_LEGALDONG_CODE</th>\n",
              "      <th>DLVR_STORE_SIDO</th>\n",
              "      <th>DLVR_STORE_SIGUNGU</th>\n",
              "      <th>DLVR_STORE_DONG</th>\n",
              "      <th>DLVR_STORE_RI</th>\n",
              "      <th>DLVR_STORE_ADSTRD_CODE</th>\n",
              "      <th>DLVR_STORE_RDNMADR_CODE</th>\n",
              "      <th>DLVR_DSTN_LEGALDONG_CODE</th>\n",
              "      <th>DLVR_DSTN_SIDO</th>\n",
              "      <th>DLVR_DSTN_SIGUNGU</th>\n",
              "      <th>DLVR_DSTN_DONG</th>\n",
              "      <th>DLVR_DSTN_RI</th>\n",
              "      <th>DLVR_DSTN_ADSTRD_CODE</th>\n",
              "      <th>DLVR_DSTN_RDNMADR_CODE</th>\n",
              "      <th>DLVR_MAN_ID</th>\n",
              "      <th>DLVR_AMOUNT</th>\n",
              "      <th>CALL_RLAY_FEE_AMOUNT</th>\n",
              "      <th>GOODS_AMOUNT</th>\n",
              "      <th>SETLE_KND_VALUE</th>\n",
              "      <th>SETLE_CARD_CN</th>\n",
              "      <th>DLVR_RCEPT_TIME</th>\n",
              "      <th>DLVR_CARALC_TIME</th>\n",
              "      <th>DLVR_COMPT_TIME</th>\n",
              "      <th>DLVR_CANCL_TIME</th>\n",
              "    </tr>\n",
              "  </thead>\n",
              "  <tbody>\n",
              "    <tr>\n",
              "      <th>0</th>\n",
              "      <td>4577985</td>\n",
              "      <td>2020-01-01</td>\n",
              "      <td>C000035</td>\n",
              "      <td>1</td>\n",
              "      <td>C000035</td>\n",
              "      <td>S0032342</td>\n",
              "      <td>치킨</td>\n",
              "      <td>4812710600</td>\n",
              "      <td>경상남도</td>\n",
              "      <td>창원시 마산회원구</td>\n",
              "      <td>합성동</td>\n",
              "      <td>NaN</td>\n",
              "      <td>4812759000</td>\n",
              "      <td>4.812748e+11</td>\n",
              "      <td>4.812710e+09</td>\n",
              "      <td>경상남도</td>\n",
              "      <td>창원시 마산회원구</td>\n",
              "      <td>석전동</td>\n",
              "      <td>NaN</td>\n",
              "      <td>4.812754e+09</td>\n",
              "      <td>4.812748e+11</td>\n",
              "      <td>D0005271</td>\n",
              "      <td>4290</td>\n",
              "      <td>300</td>\n",
              "      <td>25000</td>\n",
              "      <td>1</td>\n",
              "      <td>승인:비씨카드사</td>\n",
              "      <td>2020-01-01 00:15:49</td>\n",
              "      <td>2020-01-01 00:21:38</td>\n",
              "      <td>2020-01-01 00:41:37</td>\n",
              "      <td>NaN</td>\n",
              "    </tr>\n",
              "    <tr>\n",
              "      <th>1</th>\n",
              "      <td>4577986</td>\n",
              "      <td>2020-01-01</td>\n",
              "      <td>C000237</td>\n",
              "      <td>1</td>\n",
              "      <td>C000237</td>\n",
              "      <td>S0021847</td>\n",
              "      <td>찜탕</td>\n",
              "      <td>4121010200</td>\n",
              "      <td>경기도</td>\n",
              "      <td>광명시</td>\n",
              "      <td>철산동</td>\n",
              "      <td>NaN</td>\n",
              "      <td>4121061000</td>\n",
              "      <td>4.121030e+11</td>\n",
              "      <td>1.154510e+09</td>\n",
              "      <td>서울특별시</td>\n",
              "      <td>금천구</td>\n",
              "      <td>가산동</td>\n",
              "      <td>NaN</td>\n",
              "      <td>1.154551e+09</td>\n",
              "      <td>1.154531e+11</td>\n",
              "      <td>D0003269</td>\n",
              "      <td>4800</td>\n",
              "      <td>200</td>\n",
              "      <td>49000</td>\n",
              "      <td>2</td>\n",
              "      <td>NaN</td>\n",
              "      <td>2020-01-01 01:12:14</td>\n",
              "      <td>2020-01-01 01:21:41</td>\n",
              "      <td>2020-01-01 01:31:44</td>\n",
              "      <td>NaN</td>\n",
              "    </tr>\n",
              "    <tr>\n",
              "      <th>2</th>\n",
              "      <td>4577988</td>\n",
              "      <td>2020-01-01</td>\n",
              "      <td>C000129</td>\n",
              "      <td>1</td>\n",
              "      <td>C000129</td>\n",
              "      <td>S0025740</td>\n",
              "      <td>치킨</td>\n",
              "      <td>1138010400</td>\n",
              "      <td>서울특별시</td>\n",
              "      <td>은평구</td>\n",
              "      <td>갈현동</td>\n",
              "      <td>NaN</td>\n",
              "      <td>1138055100</td>\n",
              "      <td>1.138041e+11</td>\n",
              "      <td>1.138010e+09</td>\n",
              "      <td>서울특별시</td>\n",
              "      <td>은평구</td>\n",
              "      <td>갈현동</td>\n",
              "      <td>NaN</td>\n",
              "      <td>1.138055e+09</td>\n",
              "      <td>1.138041e+11</td>\n",
              "      <td>D0001536</td>\n",
              "      <td>3300</td>\n",
              "      <td>300</td>\n",
              "      <td>23000</td>\n",
              "      <td>3</td>\n",
              "      <td>승인:</td>\n",
              "      <td>2020-01-01 00:01:14</td>\n",
              "      <td>2020-01-01 00:01:47</td>\n",
              "      <td>2020-01-01 00:18:47</td>\n",
              "      <td>NaN</td>\n",
              "    </tr>\n",
              "    <tr>\n",
              "      <th>3</th>\n",
              "      <td>4577989</td>\n",
              "      <td>2020-01-01</td>\n",
              "      <td>C000029</td>\n",
              "      <td>1</td>\n",
              "      <td>C000043</td>\n",
              "      <td>S0039634</td>\n",
              "      <td>한식</td>\n",
              "      <td>4115010100</td>\n",
              "      <td>경기도</td>\n",
              "      <td>의정부시</td>\n",
              "      <td>의정부동</td>\n",
              "      <td>NaN</td>\n",
              "      <td>4115051000</td>\n",
              "      <td>4.115043e+11</td>\n",
              "      <td>4.115010e+09</td>\n",
              "      <td>경기도</td>\n",
              "      <td>의정부시</td>\n",
              "      <td>의정부동</td>\n",
              "      <td>NaN</td>\n",
              "      <td>4.115051e+09</td>\n",
              "      <td>4.115043e+11</td>\n",
              "      <td>D0005061</td>\n",
              "      <td>4500</td>\n",
              "      <td>300</td>\n",
              "      <td>20000</td>\n",
              "      <td>2</td>\n",
              "      <td>NaN</td>\n",
              "      <td>2020-01-01 01:01:34</td>\n",
              "      <td>2020-01-01 01:28:06</td>\n",
              "      <td>2020-01-01 01:36:48</td>\n",
              "      <td>NaN</td>\n",
              "    </tr>\n",
              "    <tr>\n",
              "      <th>4</th>\n",
              "      <td>4577991</td>\n",
              "      <td>2020-01-01</td>\n",
              "      <td>C000130</td>\n",
              "      <td>1</td>\n",
              "      <td>C000130</td>\n",
              "      <td>S0002237</td>\n",
              "      <td>한식</td>\n",
              "      <td>4128112800</td>\n",
              "      <td>경기도</td>\n",
              "      <td>고양시 덕양구</td>\n",
              "      <td>행신동</td>\n",
              "      <td>NaN</td>\n",
              "      <td>4128164000</td>\n",
              "      <td>4.128144e+11</td>\n",
              "      <td>4.128110e+09</td>\n",
              "      <td>경기도</td>\n",
              "      <td>고양시 덕양구</td>\n",
              "      <td>주교동</td>\n",
              "      <td>NaN</td>\n",
              "      <td>4.128151e+09</td>\n",
              "      <td>4.128144e+11</td>\n",
              "      <td>D0005215</td>\n",
              "      <td>6500</td>\n",
              "      <td>300</td>\n",
              "      <td>32000</td>\n",
              "      <td>2</td>\n",
              "      <td>NaN</td>\n",
              "      <td>2020-01-01 01:05:06</td>\n",
              "      <td>2020-01-01 01:08:01</td>\n",
              "      <td>2020-01-01 01:29:00</td>\n",
              "      <td>NaN</td>\n",
              "    </tr>\n",
              "  </tbody>\n",
              "</table>\n",
              "</div>"
            ],
            "text/plain": [
              "   SERIAL_NUMBER  PROCESS_DT  ...      DLVR_COMPT_TIME  DLVR_CANCL_TIME\n",
              "0        4577985  2020-01-01  ...  2020-01-01 00:41:37              NaN\n",
              "1        4577986  2020-01-01  ...  2020-01-01 01:31:44              NaN\n",
              "2        4577988  2020-01-01  ...  2020-01-01 00:18:47              NaN\n",
              "3        4577989  2020-01-01  ...  2020-01-01 01:36:48              NaN\n",
              "4        4577991  2020-01-01  ...  2020-01-01 01:29:00              NaN\n",
              "\n",
              "[5 rows x 31 columns]"
            ]
          },
          "metadata": {
            "tags": []
          },
          "execution_count": 2
        }
      ]
    },
    {
      "cell_type": "markdown",
      "metadata": {
        "id": "2SQzdisl0aIr"
      },
      "source": [
        "* SERIAL_NUMBER : 순번\n",
        "* PROCESS_DT : 처리일시\n",
        "* DLVR_RQESTER_ID : 배달요청업체 ID\n",
        "* DLVR_REQUST_STTUS_VALUE : 배달요청상태값( 1:완료, 2:취소, 3:사고, 4:문의)\n",
        "* DLVR_RCEPT_CMPNY_ID : 배달접수회사 ID\n",
        "* DLVR_STORE_ID : 배달상점 ID\n",
        "* DLVR_STORE_INDUTY_NM : 배달상점 업종이름\n",
        "* DLVR_STORE_LEGALDONG_CODE : 배달상점 주소 법정동코드\n",
        "* DLVR_STORE_SIDO : 배달상점 주소 법정동 시도명\n",
        "* DLVR_STORE_SIGUNGU : 배달상점 주소 법정동 시군구명\n",
        "* DLVR_STORE_DONG : 배달상점 주소 법정동 읍면동명\n",
        "* DLVR_STORE_RI : 배달상점 주소 법정동 리명\n",
        "* DLVR_STORE_ADSTRD_CODE : 배달상점 주소 행정동 코드\n",
        "* DLVR_STORE_RDNMADR_CODE : 배달상점주소 도로명주소 코드\n",
        "* DLVR_DSTN_LEGALCONG_CODE : 배달목적지 주소 법정동코드\n",
        "* DLVR_DSTN_SIDO : 배달목적지 주소 법정동 시도명\n",
        "* DLVR_DSTN_SIGUNGU : 배달목적지 주소 법정동 시군구명\n",
        "* DLVR_DSTN_DONG : 배달목적지 주소 법정동 읍면동명\n",
        "* DLVR_DSTN_RI : 배달목적지 주소 법정동 리명\n",
        "* DLVR_DSTN_ADSTRD_CODE: 배달목적지 주소 행정동 코드\n",
        "* DLVR_DSTN_RDNMADR_CODE : 배달목적지주소 도로명주소 코드\n",
        "* DLVR_MAN_ID : 배달기사 ID\n",
        "* DLVR_AMOUNT : 배달비용\n",
        "* CALL_RLAY_FEE_AMOUNT : 호출중계수수료금액\n",
        "* GOODS_AMOUNT : 배달상품금액\n",
        "* SETLE_KND_VALUE : 결제종류번호 (1:카드, 2:선불, 3:현금)\n",
        "* SETLE_CARD_CN : 결제카드종류\n",
        "* DLVR_RCEPT_TIME : 배달접수시간\n",
        "* DLVR_CARALC_TIME : 배달배차시간\n",
        "* DLVR_COMPT_TIME : 배달완료시간\n",
        "* DLVR_CANCL_TIME : 배달취소시간"
      ]
    },
    {
      "cell_type": "markdown",
      "metadata": {
        "id": "_48fZ2L_0JRh"
      },
      "source": [
        "delivery의 'DLVR_RCEPT_TIME', 'DLVR_COMPT_TIME', 'PROCESS_DT'의 type 확인"
      ]
    },
    {
      "cell_type": "code",
      "metadata": {
        "colab": {
          "base_uri": "https://localhost:8080/"
        },
        "id": "zrko2U8n5rAM",
        "outputId": "034fc5b6-033f-411c-c6c8-1adc1e959514"
      },
      "source": [
        "type(delivery['DLVR_RCEPT_TIME'][0])"
      ],
      "execution_count": 3,
      "outputs": [
        {
          "output_type": "execute_result",
          "data": {
            "text/plain": [
              "str"
            ]
          },
          "metadata": {
            "tags": []
          },
          "execution_count": 3
        }
      ]
    },
    {
      "cell_type": "code",
      "metadata": {
        "colab": {
          "base_uri": "https://localhost:8080/"
        },
        "id": "ED4xslvpAh2P",
        "outputId": "63d1b0fc-33cc-4e69-9a63-278b15629b90"
      },
      "source": [
        "type(delivery['DLVR_COMPT_TIME'][0])"
      ],
      "execution_count": 4,
      "outputs": [
        {
          "output_type": "execute_result",
          "data": {
            "text/plain": [
              "str"
            ]
          },
          "metadata": {
            "tags": []
          },
          "execution_count": 4
        }
      ]
    },
    {
      "cell_type": "code",
      "metadata": {
        "colab": {
          "base_uri": "https://localhost:8080/"
        },
        "id": "3xqocJg2Aidy",
        "outputId": "4245dada-9e40-4a09-ca2a-e9eb2fc9b2bc"
      },
      "source": [
        "type(delivery['PROCESS_DT'][0])"
      ],
      "execution_count": 5,
      "outputs": [
        {
          "output_type": "execute_result",
          "data": {
            "text/plain": [
              "str"
            ]
          },
          "metadata": {
            "tags": []
          },
          "execution_count": 5
        }
      ]
    },
    {
      "cell_type": "markdown",
      "metadata": {
        "id": "aFTIufo80VYR"
      },
      "source": [
        "datatype timestamp type으로 바꿔주기"
      ]
    },
    {
      "cell_type": "code",
      "metadata": {
        "id": "Rc0TDrdT59jN"
      },
      "source": [
        "delivery['DLVR_RCEPT_TIME'] = pd.to_datetime(delivery['DLVR_RCEPT_TIME'])\n",
        "delivery['DLVR_COMPT_TIME'] = pd.to_datetime(delivery['DLVR_COMPT_TIME'])\n",
        "delivery['PROCESS_DT'] = pd.to_datetime(delivery['PROCESS_DT'])"
      ],
      "execution_count": 6,
      "outputs": []
    },
    {
      "cell_type": "markdown",
      "metadata": {
        "id": "8Wyt4QdR0am8"
      },
      "source": [
        "바뀐 type 확인"
      ]
    },
    {
      "cell_type": "code",
      "metadata": {
        "colab": {
          "base_uri": "https://localhost:8080/"
        },
        "id": "Gl-6VvQzApBO",
        "outputId": "1b278916-69f1-4bbf-eec0-444eef8587f2"
      },
      "source": [
        "type(delivery['DLVR_RCEPT_TIME'][0])"
      ],
      "execution_count": 7,
      "outputs": [
        {
          "output_type": "execute_result",
          "data": {
            "text/plain": [
              "pandas._libs.tslibs.timestamps.Timestamp"
            ]
          },
          "metadata": {
            "tags": []
          },
          "execution_count": 7
        }
      ]
    },
    {
      "cell_type": "code",
      "metadata": {
        "colab": {
          "base_uri": "https://localhost:8080/"
        },
        "id": "apINXyUpA2wN",
        "outputId": "14501fa9-a3f6-401f-c2a1-5d47761f6a66"
      },
      "source": [
        "type(delivery['DLVR_COMPT_TIME'][0])"
      ],
      "execution_count": 8,
      "outputs": [
        {
          "output_type": "execute_result",
          "data": {
            "text/plain": [
              "pandas._libs.tslibs.timestamps.Timestamp"
            ]
          },
          "metadata": {
            "tags": []
          },
          "execution_count": 8
        }
      ]
    },
    {
      "cell_type": "code",
      "metadata": {
        "colab": {
          "base_uri": "https://localhost:8080/"
        },
        "id": "_RqBJ8CVA3dR",
        "outputId": "fd67cac5-79d5-456b-a9de-7216853e1959"
      },
      "source": [
        "type(delivery['PROCESS_DT'][0])"
      ],
      "execution_count": 9,
      "outputs": [
        {
          "output_type": "execute_result",
          "data": {
            "text/plain": [
              "pandas._libs.tslibs.timestamps.Timestamp"
            ]
          },
          "metadata": {
            "tags": []
          },
          "execution_count": 9
        }
      ]
    },
    {
      "cell_type": "markdown",
      "metadata": {
        "id": "GRHKvkI40d-d"
      },
      "source": [
        "배달시간 계산"
      ]
    },
    {
      "cell_type": "code",
      "metadata": {
        "colab": {
          "base_uri": "https://localhost:8080/"
        },
        "id": "BIuFTOY4Bn_S",
        "outputId": "f0e2b3a9-a785-4fd0-b8b5-0f3c3e0bf3c9"
      },
      "source": [
        "time = Series(delivery['DLVR_COMPT_TIME'] - delivery['DLVR_RCEPT_TIME'], dtype = 'object')\n",
        "time"
      ],
      "execution_count": 16,
      "outputs": [
        {
          "output_type": "execute_result",
          "data": {
            "text/plain": [
              "0          0 days 00:25:48\n",
              "1          0 days 00:19:30\n",
              "2          0 days 00:17:33\n",
              "3          0 days 00:35:14\n",
              "4          0 days 00:23:54\n",
              "                ...       \n",
              "5158319    0 days 00:19:25\n",
              "5158320    0 days 00:21:05\n",
              "5158321    0 days 00:19:37\n",
              "5158322    0 days 00:14:32\n",
              "5158323    0 days 00:23:32\n",
              "Length: 5158324, dtype: object"
            ]
          },
          "metadata": {
            "tags": []
          },
          "execution_count": 16
        }
      ]
    },
    {
      "cell_type": "code",
      "metadata": {
        "colab": {
          "base_uri": "https://localhost:8080/"
        },
        "id": "6a9f8pUb4UVa",
        "outputId": "a0de8dfc-bac3-48e5-c018-2135c48d5463"
      },
      "source": [
        "time.values"
      ],
      "execution_count": 11,
      "outputs": [
        {
          "output_type": "execute_result",
          "data": {
            "text/plain": [
              "array([Timedelta('0 days 00:25:48'), Timedelta('0 days 00:19:30'),\n",
              "       Timedelta('0 days 00:17:33'), ..., Timedelta('0 days 00:19:37'),\n",
              "       Timedelta('0 days 00:14:32'), Timedelta('0 days 00:23:32')],\n",
              "      dtype=object)"
            ]
          },
          "metadata": {
            "tags": []
          },
          "execution_count": 11
        }
      ]
    },
    {
      "cell_type": "code",
      "metadata": {
        "colab": {
          "base_uri": "https://localhost:8080/"
        },
        "id": "pjrTj25L37uq",
        "outputId": "5dbf1a2f-06c6-43f2-b63b-ff4d7c85755f"
      },
      "source": [
        "type(time.values[0])"
      ],
      "execution_count": 12,
      "outputs": [
        {
          "output_type": "execute_result",
          "data": {
            "text/plain": [
              "pandas._libs.tslibs.timedeltas.Timedelta"
            ]
          },
          "metadata": {
            "tags": []
          },
          "execution_count": 12
        }
      ]
    },
    {
      "cell_type": "code",
      "metadata": {
        "colab": {
          "base_uri": "https://localhost:8080/"
        },
        "id": "tHNcTwXU6PDl",
        "outputId": "9a811b2c-d750-4941-cc44-f8861046eef7"
      },
      "source": [
        "time.values[1].seconds"
      ],
      "execution_count": 13,
      "outputs": [
        {
          "output_type": "execute_result",
          "data": {
            "text/plain": [
              "1170"
            ]
          },
          "metadata": {
            "tags": []
          },
          "execution_count": 13
        }
      ]
    },
    {
      "cell_type": "code",
      "metadata": {
        "colab": {
          "base_uri": "https://localhost:8080/"
        },
        "id": "VuR668SZ6qOZ",
        "outputId": "59e0b420-ce0d-43b4-d05d-60e761eb9a63"
      },
      "source": [
        "time.shape"
      ],
      "execution_count": 35,
      "outputs": [
        {
          "output_type": "execute_result",
          "data": {
            "text/plain": [
              "(5158324,)"
            ]
          },
          "metadata": {
            "tags": []
          },
          "execution_count": 35
        }
      ]
    },
    {
      "cell_type": "code",
      "metadata": {
        "colab": {
          "base_uri": "https://localhost:8080/"
        },
        "id": "laY_iG3K7O6w",
        "outputId": "4b58977b-da00-420d-8861-debf457bb9c9"
      },
      "source": [
        "import numpy as np\n",
        "second = []\n",
        "for i in range(len(time.values)):\n",
        "  s = time.values[i].seconds\n",
        "  second.append(s)\n",
        "second[:10]\n",
        "len(second)"
      ],
      "execution_count": 17,
      "outputs": [
        {
          "output_type": "execute_result",
          "data": {
            "text/plain": [
              "5158324"
            ]
          },
          "metadata": {
            "tags": []
          },
          "execution_count": 17
        }
      ]
    },
    {
      "cell_type": "code",
      "metadata": {
        "colab": {
          "base_uri": "https://localhost:8080/"
        },
        "id": "jUf-S5B89COU",
        "outputId": "51b4cf1b-c0d7-4a26-a2ab-ddc299121dff"
      },
      "source": [
        "second = pd.Series(second)\n",
        "second[:3]"
      ],
      "execution_count": 18,
      "outputs": [
        {
          "output_type": "execute_result",
          "data": {
            "text/plain": [
              "0    1548.0\n",
              "1    1170.0\n",
              "2    1053.0\n",
              "dtype: float64"
            ]
          },
          "metadata": {
            "tags": []
          },
          "execution_count": 18
        }
      ]
    },
    {
      "cell_type": "code",
      "metadata": {
        "colab": {
          "base_uri": "https://localhost:8080/",
          "height": 195
        },
        "id": "UebG_Ikn-_8i",
        "outputId": "91639b7c-09e0-4b54-bd28-152b9560b42d"
      },
      "source": [
        "second = DataFrame(second,columns = ['second'])\n",
        "second.head()"
      ],
      "execution_count": 19,
      "outputs": [
        {
          "output_type": "execute_result",
          "data": {
            "text/html": [
              "<div>\n",
              "<style scoped>\n",
              "    .dataframe tbody tr th:only-of-type {\n",
              "        vertical-align: middle;\n",
              "    }\n",
              "\n",
              "    .dataframe tbody tr th {\n",
              "        vertical-align: top;\n",
              "    }\n",
              "\n",
              "    .dataframe thead th {\n",
              "        text-align: right;\n",
              "    }\n",
              "</style>\n",
              "<table border=\"1\" class=\"dataframe\">\n",
              "  <thead>\n",
              "    <tr style=\"text-align: right;\">\n",
              "      <th></th>\n",
              "      <th>second</th>\n",
              "    </tr>\n",
              "  </thead>\n",
              "  <tbody>\n",
              "    <tr>\n",
              "      <th>0</th>\n",
              "      <td>1548.0</td>\n",
              "    </tr>\n",
              "    <tr>\n",
              "      <th>1</th>\n",
              "      <td>1170.0</td>\n",
              "    </tr>\n",
              "    <tr>\n",
              "      <th>2</th>\n",
              "      <td>1053.0</td>\n",
              "    </tr>\n",
              "    <tr>\n",
              "      <th>3</th>\n",
              "      <td>2114.0</td>\n",
              "    </tr>\n",
              "    <tr>\n",
              "      <th>4</th>\n",
              "      <td>1434.0</td>\n",
              "    </tr>\n",
              "  </tbody>\n",
              "</table>\n",
              "</div>"
            ],
            "text/plain": [
              "   second\n",
              "0  1548.0\n",
              "1  1170.0\n",
              "2  1053.0\n",
              "3  2114.0\n",
              "4  1434.0"
            ]
          },
          "metadata": {
            "tags": []
          },
          "execution_count": 19
        }
      ]
    },
    {
      "cell_type": "code",
      "metadata": {
        "colab": {
          "base_uri": "https://localhost:8080/",
          "height": 531
        },
        "id": "a1hac3PnE2Rj",
        "outputId": "6fb581b7-97ee-4a1d-a92f-39e9841af2ae"
      },
      "source": [
        "df = pd.merge(delivery, second, left_index = True, right_index = True)\n",
        "df.head(10)"
      ],
      "execution_count": 21,
      "outputs": [
        {
          "output_type": "execute_result",
          "data": {
            "text/html": [
              "<div>\n",
              "<style scoped>\n",
              "    .dataframe tbody tr th:only-of-type {\n",
              "        vertical-align: middle;\n",
              "    }\n",
              "\n",
              "    .dataframe tbody tr th {\n",
              "        vertical-align: top;\n",
              "    }\n",
              "\n",
              "    .dataframe thead th {\n",
              "        text-align: right;\n",
              "    }\n",
              "</style>\n",
              "<table border=\"1\" class=\"dataframe\">\n",
              "  <thead>\n",
              "    <tr style=\"text-align: right;\">\n",
              "      <th></th>\n",
              "      <th>SERIAL_NUMBER</th>\n",
              "      <th>PROCESS_DT</th>\n",
              "      <th>DLVR_RQESTER_ID</th>\n",
              "      <th>DLVR_REQUST_STTUS_VALUE</th>\n",
              "      <th>DLVR_RCEPT_CMPNY_ID</th>\n",
              "      <th>DLVR_STORE_ID</th>\n",
              "      <th>DLVR_STORE_INDUTY_NM</th>\n",
              "      <th>DLVR_STORE_LEGALDONG_CODE</th>\n",
              "      <th>DLVR_STORE_SIDO</th>\n",
              "      <th>DLVR_STORE_SIGUNGU</th>\n",
              "      <th>DLVR_STORE_DONG</th>\n",
              "      <th>DLVR_STORE_RI</th>\n",
              "      <th>DLVR_STORE_ADSTRD_CODE</th>\n",
              "      <th>DLVR_STORE_RDNMADR_CODE</th>\n",
              "      <th>DLVR_DSTN_LEGALDONG_CODE</th>\n",
              "      <th>DLVR_DSTN_SIDO</th>\n",
              "      <th>DLVR_DSTN_SIGUNGU</th>\n",
              "      <th>DLVR_DSTN_DONG</th>\n",
              "      <th>DLVR_DSTN_RI</th>\n",
              "      <th>DLVR_DSTN_ADSTRD_CODE</th>\n",
              "      <th>DLVR_DSTN_RDNMADR_CODE</th>\n",
              "      <th>DLVR_MAN_ID</th>\n",
              "      <th>DLVR_AMOUNT</th>\n",
              "      <th>CALL_RLAY_FEE_AMOUNT</th>\n",
              "      <th>GOODS_AMOUNT</th>\n",
              "      <th>SETLE_KND_VALUE</th>\n",
              "      <th>SETLE_CARD_CN</th>\n",
              "      <th>DLVR_RCEPT_TIME</th>\n",
              "      <th>DLVR_CARALC_TIME</th>\n",
              "      <th>DLVR_COMPT_TIME</th>\n",
              "      <th>DLVR_CANCL_TIME</th>\n",
              "      <th>second</th>\n",
              "    </tr>\n",
              "  </thead>\n",
              "  <tbody>\n",
              "    <tr>\n",
              "      <th>0</th>\n",
              "      <td>4577985</td>\n",
              "      <td>2020-01-01</td>\n",
              "      <td>C000035</td>\n",
              "      <td>1</td>\n",
              "      <td>C000035</td>\n",
              "      <td>S0032342</td>\n",
              "      <td>치킨</td>\n",
              "      <td>4812710600</td>\n",
              "      <td>경상남도</td>\n",
              "      <td>창원시 마산회원구</td>\n",
              "      <td>합성동</td>\n",
              "      <td>NaN</td>\n",
              "      <td>4812759000</td>\n",
              "      <td>4.812748e+11</td>\n",
              "      <td>4.812710e+09</td>\n",
              "      <td>경상남도</td>\n",
              "      <td>창원시 마산회원구</td>\n",
              "      <td>석전동</td>\n",
              "      <td>NaN</td>\n",
              "      <td>4.812754e+09</td>\n",
              "      <td>4.812748e+11</td>\n",
              "      <td>D0005271</td>\n",
              "      <td>4290</td>\n",
              "      <td>300</td>\n",
              "      <td>25000</td>\n",
              "      <td>1</td>\n",
              "      <td>승인:비씨카드사</td>\n",
              "      <td>2020-01-01 00:15:49</td>\n",
              "      <td>2020-01-01 00:21:38</td>\n",
              "      <td>2020-01-01 00:41:37</td>\n",
              "      <td>NaN</td>\n",
              "      <td>1548.0</td>\n",
              "    </tr>\n",
              "    <tr>\n",
              "      <th>1</th>\n",
              "      <td>4577986</td>\n",
              "      <td>2020-01-01</td>\n",
              "      <td>C000237</td>\n",
              "      <td>1</td>\n",
              "      <td>C000237</td>\n",
              "      <td>S0021847</td>\n",
              "      <td>찜탕</td>\n",
              "      <td>4121010200</td>\n",
              "      <td>경기도</td>\n",
              "      <td>광명시</td>\n",
              "      <td>철산동</td>\n",
              "      <td>NaN</td>\n",
              "      <td>4121061000</td>\n",
              "      <td>4.121030e+11</td>\n",
              "      <td>1.154510e+09</td>\n",
              "      <td>서울특별시</td>\n",
              "      <td>금천구</td>\n",
              "      <td>가산동</td>\n",
              "      <td>NaN</td>\n",
              "      <td>1.154551e+09</td>\n",
              "      <td>1.154531e+11</td>\n",
              "      <td>D0003269</td>\n",
              "      <td>4800</td>\n",
              "      <td>200</td>\n",
              "      <td>49000</td>\n",
              "      <td>2</td>\n",
              "      <td>NaN</td>\n",
              "      <td>2020-01-01 01:12:14</td>\n",
              "      <td>2020-01-01 01:21:41</td>\n",
              "      <td>2020-01-01 01:31:44</td>\n",
              "      <td>NaN</td>\n",
              "      <td>1170.0</td>\n",
              "    </tr>\n",
              "    <tr>\n",
              "      <th>2</th>\n",
              "      <td>4577988</td>\n",
              "      <td>2020-01-01</td>\n",
              "      <td>C000129</td>\n",
              "      <td>1</td>\n",
              "      <td>C000129</td>\n",
              "      <td>S0025740</td>\n",
              "      <td>치킨</td>\n",
              "      <td>1138010400</td>\n",
              "      <td>서울특별시</td>\n",
              "      <td>은평구</td>\n",
              "      <td>갈현동</td>\n",
              "      <td>NaN</td>\n",
              "      <td>1138055100</td>\n",
              "      <td>1.138041e+11</td>\n",
              "      <td>1.138010e+09</td>\n",
              "      <td>서울특별시</td>\n",
              "      <td>은평구</td>\n",
              "      <td>갈현동</td>\n",
              "      <td>NaN</td>\n",
              "      <td>1.138055e+09</td>\n",
              "      <td>1.138041e+11</td>\n",
              "      <td>D0001536</td>\n",
              "      <td>3300</td>\n",
              "      <td>300</td>\n",
              "      <td>23000</td>\n",
              "      <td>3</td>\n",
              "      <td>승인:</td>\n",
              "      <td>2020-01-01 00:01:14</td>\n",
              "      <td>2020-01-01 00:01:47</td>\n",
              "      <td>2020-01-01 00:18:47</td>\n",
              "      <td>NaN</td>\n",
              "      <td>1053.0</td>\n",
              "    </tr>\n",
              "    <tr>\n",
              "      <th>3</th>\n",
              "      <td>4577989</td>\n",
              "      <td>2020-01-01</td>\n",
              "      <td>C000029</td>\n",
              "      <td>1</td>\n",
              "      <td>C000043</td>\n",
              "      <td>S0039634</td>\n",
              "      <td>한식</td>\n",
              "      <td>4115010100</td>\n",
              "      <td>경기도</td>\n",
              "      <td>의정부시</td>\n",
              "      <td>의정부동</td>\n",
              "      <td>NaN</td>\n",
              "      <td>4115051000</td>\n",
              "      <td>4.115043e+11</td>\n",
              "      <td>4.115010e+09</td>\n",
              "      <td>경기도</td>\n",
              "      <td>의정부시</td>\n",
              "      <td>의정부동</td>\n",
              "      <td>NaN</td>\n",
              "      <td>4.115051e+09</td>\n",
              "      <td>4.115043e+11</td>\n",
              "      <td>D0005061</td>\n",
              "      <td>4500</td>\n",
              "      <td>300</td>\n",
              "      <td>20000</td>\n",
              "      <td>2</td>\n",
              "      <td>NaN</td>\n",
              "      <td>2020-01-01 01:01:34</td>\n",
              "      <td>2020-01-01 01:28:06</td>\n",
              "      <td>2020-01-01 01:36:48</td>\n",
              "      <td>NaN</td>\n",
              "      <td>2114.0</td>\n",
              "    </tr>\n",
              "    <tr>\n",
              "      <th>4</th>\n",
              "      <td>4577991</td>\n",
              "      <td>2020-01-01</td>\n",
              "      <td>C000130</td>\n",
              "      <td>1</td>\n",
              "      <td>C000130</td>\n",
              "      <td>S0002237</td>\n",
              "      <td>한식</td>\n",
              "      <td>4128112800</td>\n",
              "      <td>경기도</td>\n",
              "      <td>고양시 덕양구</td>\n",
              "      <td>행신동</td>\n",
              "      <td>NaN</td>\n",
              "      <td>4128164000</td>\n",
              "      <td>4.128144e+11</td>\n",
              "      <td>4.128110e+09</td>\n",
              "      <td>경기도</td>\n",
              "      <td>고양시 덕양구</td>\n",
              "      <td>주교동</td>\n",
              "      <td>NaN</td>\n",
              "      <td>4.128151e+09</td>\n",
              "      <td>4.128144e+11</td>\n",
              "      <td>D0005215</td>\n",
              "      <td>6500</td>\n",
              "      <td>300</td>\n",
              "      <td>32000</td>\n",
              "      <td>2</td>\n",
              "      <td>NaN</td>\n",
              "      <td>2020-01-01 01:05:06</td>\n",
              "      <td>2020-01-01 01:08:01</td>\n",
              "      <td>2020-01-01 01:29:00</td>\n",
              "      <td>NaN</td>\n",
              "      <td>1434.0</td>\n",
              "    </tr>\n",
              "    <tr>\n",
              "      <th>5</th>\n",
              "      <td>4577993</td>\n",
              "      <td>2020-01-01</td>\n",
              "      <td>C000238</td>\n",
              "      <td>1</td>\n",
              "      <td>C000238</td>\n",
              "      <td>S0001485</td>\n",
              "      <td>족발/보쌈</td>\n",
              "      <td>4119010800</td>\n",
              "      <td>경기도</td>\n",
              "      <td>부천시</td>\n",
              "      <td>중동</td>\n",
              "      <td>NaN</td>\n",
              "      <td>4119074200</td>\n",
              "      <td>4.119044e+11</td>\n",
              "      <td>4.119010e+09</td>\n",
              "      <td>경기도</td>\n",
              "      <td>부천시</td>\n",
              "      <td>심곡동</td>\n",
              "      <td>NaN</td>\n",
              "      <td>4.119060e+09</td>\n",
              "      <td>4.119030e+11</td>\n",
              "      <td>D0004834</td>\n",
              "      <td>3500</td>\n",
              "      <td>200</td>\n",
              "      <td>37000</td>\n",
              "      <td>1</td>\n",
              "      <td>승인:비씨카드사</td>\n",
              "      <td>2020-01-01 00:59:31</td>\n",
              "      <td>2020-01-01 01:00:30</td>\n",
              "      <td>2020-01-01 01:25:41</td>\n",
              "      <td>NaN</td>\n",
              "      <td>1570.0</td>\n",
              "    </tr>\n",
              "    <tr>\n",
              "      <th>6</th>\n",
              "      <td>4577994</td>\n",
              "      <td>2020-01-01</td>\n",
              "      <td>C000049</td>\n",
              "      <td>1</td>\n",
              "      <td>C000049</td>\n",
              "      <td>S0022461</td>\n",
              "      <td>분식</td>\n",
              "      <td>1153010800</td>\n",
              "      <td>서울특별시</td>\n",
              "      <td>구로구</td>\n",
              "      <td>오류동</td>\n",
              "      <td>NaN</td>\n",
              "      <td>1153077000</td>\n",
              "      <td>1.153030e+11</td>\n",
              "      <td>1.153011e+09</td>\n",
              "      <td>서울특별시</td>\n",
              "      <td>구로구</td>\n",
              "      <td>궁동</td>\n",
              "      <td>NaN</td>\n",
              "      <td>1.153079e+09</td>\n",
              "      <td>1.153041e+11</td>\n",
              "      <td>D0004461</td>\n",
              "      <td>3800</td>\n",
              "      <td>300</td>\n",
              "      <td>28000</td>\n",
              "      <td>2</td>\n",
              "      <td>NaN</td>\n",
              "      <td>2020-01-01 01:27:00</td>\n",
              "      <td>2020-01-01 01:27:47</td>\n",
              "      <td>2020-01-01 01:41:45</td>\n",
              "      <td>NaN</td>\n",
              "      <td>885.0</td>\n",
              "    </tr>\n",
              "    <tr>\n",
              "      <th>7</th>\n",
              "      <td>4577995</td>\n",
              "      <td>2020-01-01</td>\n",
              "      <td>C000238</td>\n",
              "      <td>1</td>\n",
              "      <td>C000238</td>\n",
              "      <td>S0001037</td>\n",
              "      <td>야식</td>\n",
              "      <td>4119010200</td>\n",
              "      <td>경기도</td>\n",
              "      <td>부천시</td>\n",
              "      <td>심곡동</td>\n",
              "      <td>NaN</td>\n",
              "      <td>4119060300</td>\n",
              "      <td>4.119044e+11</td>\n",
              "      <td>4.119011e+09</td>\n",
              "      <td>경기도</td>\n",
              "      <td>부천시</td>\n",
              "      <td>송내동</td>\n",
              "      <td>NaN</td>\n",
              "      <td>4.119075e+09</td>\n",
              "      <td>4.119044e+11</td>\n",
              "      <td>D0004936</td>\n",
              "      <td>3500</td>\n",
              "      <td>200</td>\n",
              "      <td>28500</td>\n",
              "      <td>2</td>\n",
              "      <td>NaN</td>\n",
              "      <td>2020-01-01 00:09:40</td>\n",
              "      <td>2020-01-01 00:17:31</td>\n",
              "      <td>2020-01-01 00:32:24</td>\n",
              "      <td>NaN</td>\n",
              "      <td>1364.0</td>\n",
              "    </tr>\n",
              "    <tr>\n",
              "      <th>8</th>\n",
              "      <td>4577996</td>\n",
              "      <td>2020-01-01</td>\n",
              "      <td>C000104</td>\n",
              "      <td>1</td>\n",
              "      <td>C000101</td>\n",
              "      <td>S0021988</td>\n",
              "      <td>치킨</td>\n",
              "      <td>1156013300</td>\n",
              "      <td>서울특별시</td>\n",
              "      <td>영등포구</td>\n",
              "      <td>대림동</td>\n",
              "      <td>NaN</td>\n",
              "      <td>1156070000</td>\n",
              "      <td>1.156042e+11</td>\n",
              "      <td>1.156013e+09</td>\n",
              "      <td>서울특별시</td>\n",
              "      <td>영등포구</td>\n",
              "      <td>신길동</td>\n",
              "      <td>NaN</td>\n",
              "      <td>1.156052e+09</td>\n",
              "      <td>1.156031e+11</td>\n",
              "      <td>D0006259</td>\n",
              "      <td>4800</td>\n",
              "      <td>200</td>\n",
              "      <td>17000</td>\n",
              "      <td>1</td>\n",
              "      <td>승인:KB국민카드</td>\n",
              "      <td>2020-01-01 00:51:49</td>\n",
              "      <td>2020-01-01 00:52:12</td>\n",
              "      <td>2020-01-01 01:23:41</td>\n",
              "      <td>NaN</td>\n",
              "      <td>1912.0</td>\n",
              "    </tr>\n",
              "    <tr>\n",
              "      <th>9</th>\n",
              "      <td>4577997</td>\n",
              "      <td>2020-01-01</td>\n",
              "      <td>C000031</td>\n",
              "      <td>1</td>\n",
              "      <td>C000043</td>\n",
              "      <td>S0028777</td>\n",
              "      <td>야식</td>\n",
              "      <td>4115010600</td>\n",
              "      <td>경기도</td>\n",
              "      <td>의정부시</td>\n",
              "      <td>민락동</td>\n",
              "      <td>NaN</td>\n",
              "      <td>4115057800</td>\n",
              "      <td>4.115043e+11</td>\n",
              "      <td>4.115011e+09</td>\n",
              "      <td>경기도</td>\n",
              "      <td>의정부시</td>\n",
              "      <td>낙양동</td>\n",
              "      <td>NaN</td>\n",
              "      <td>4.115058e+09</td>\n",
              "      <td>4.115032e+11</td>\n",
              "      <td>D0000800</td>\n",
              "      <td>3500</td>\n",
              "      <td>300</td>\n",
              "      <td>22000</td>\n",
              "      <td>1</td>\n",
              "      <td>승인:신한카드</td>\n",
              "      <td>2020-01-01 00:10:34</td>\n",
              "      <td>2020-01-01 00:11:10</td>\n",
              "      <td>2020-01-01 00:26:04</td>\n",
              "      <td>NaN</td>\n",
              "      <td>930.0</td>\n",
              "    </tr>\n",
              "  </tbody>\n",
              "</table>\n",
              "</div>"
            ],
            "text/plain": [
              "   SERIAL_NUMBER PROCESS_DT  ... DLVR_CANCL_TIME  second\n",
              "0        4577985 2020-01-01  ...             NaN  1548.0\n",
              "1        4577986 2020-01-01  ...             NaN  1170.0\n",
              "2        4577988 2020-01-01  ...             NaN  1053.0\n",
              "3        4577989 2020-01-01  ...             NaN  2114.0\n",
              "4        4577991 2020-01-01  ...             NaN  1434.0\n",
              "5        4577993 2020-01-01  ...             NaN  1570.0\n",
              "6        4577994 2020-01-01  ...             NaN   885.0\n",
              "7        4577995 2020-01-01  ...             NaN  1364.0\n",
              "8        4577996 2020-01-01  ...             NaN  1912.0\n",
              "9        4577997 2020-01-01  ...             NaN   930.0\n",
              "\n",
              "[10 rows x 32 columns]"
            ]
          },
          "metadata": {
            "tags": []
          },
          "execution_count": 21
        }
      ]
    },
    {
      "cell_type": "code",
      "metadata": {
        "colab": {
          "base_uri": "https://localhost:8080/"
        },
        "id": "kmDafSwZA4m0",
        "outputId": "a364eb6c-72a9-47ab-98f7-3fada81b1f8d"
      },
      "source": [
        "group = df.groupby(['PROCESS_DT', 'DLVR_STORE_SIDO'])['second'].mean()\n",
        "group"
      ],
      "execution_count": 22,
      "outputs": [
        {
          "output_type": "execute_result",
          "data": {
            "text/plain": [
              "PROCESS_DT  DLVR_STORE_SIDO\n",
              "2020-01-01  강원도                2026.333333\n",
              "            경기도                1264.739420\n",
              "            경상남도               1051.631710\n",
              "            경상북도               1319.161616\n",
              "            광주광역시               881.095238\n",
              "                                  ...     \n",
              "2020-06-21  전라남도                938.386555\n",
              "            전라북도                970.993269\n",
              "            제주특별자치도             666.751527\n",
              "            충청남도                827.296770\n",
              "            충청북도               1057.130612\n",
              "Name: second, Length: 2473, dtype: float64"
            ]
          },
          "metadata": {
            "tags": []
          },
          "execution_count": 22
        }
      ]
    },
    {
      "cell_type": "code",
      "metadata": {
        "colab": {
          "base_uri": "https://localhost:8080/",
          "height": 297
        },
        "id": "BkJtJhKB_-1o",
        "outputId": "1522b116-a1b3-4936-f3e3-89d83dd228d7"
      },
      "source": [
        "complete = DataFrame(group[:,'서울특별시'])\n",
        "complete.plot()"
      ],
      "execution_count": 63,
      "outputs": [
        {
          "output_type": "execute_result",
          "data": {
            "text/plain": [
              "<matplotlib.axes._subplots.AxesSubplot at 0x7f70c00072d0>"
            ]
          },
          "metadata": {
            "tags": []
          },
          "execution_count": 63
        },
        {
          "output_type": "display_data",
          "data": {
            "image/png": "[encoded data removed]",
            "text/plain": [
              "<Figure size 432x288 with 1 Axes>"
            ]
          },
          "metadata": {
            "tags": [],
            "needs_background": "light"
          }
        }
      ]
    },
    {
      "cell_type": "code",
      "metadata": {
        "colab": {
          "base_uri": "https://localhost:8080/",
          "height": 297
        },
        "id": "Ns-rGyE7ARHb",
        "outputId": "2777eef8-6e86-4673-8bff-c8e41a3443c5"
      },
      "source": [
        "complete = DataFrame(group[:,'대구광역시'])\n",
        "complete.plot()"
      ],
      "execution_count": 65,
      "outputs": [
        {
          "output_type": "execute_result",
          "data": {
            "text/plain": [
              "<matplotlib.axes._subplots.AxesSubplot at 0x7f7029bb7550>"
            ]
          },
          "metadata": {
            "tags": []
          },
          "execution_count": 65
        },
        {
          "output_type": "display_data",
          "data": {
            "image/png": "[encoded data removed]",
            "text/plain": [
              "<Figure size 432x288 with 1 Axes>"
            ]
          },
          "metadata": {
            "tags": [],
            "needs_background": "light"
          }
        }
      ]
    },
    {
      "cell_type": "code",
      "metadata": {
        "colab": {
          "base_uri": "https://localhost:8080/",
          "height": 297
        },
        "id": "W43S0fC8AZna",
        "outputId": "4d3f7a12-546d-4c0c-85ef-c32b18f0d538"
      },
      "source": [
        "complete = DataFrame(group[:,'제주특별자치도'])\n",
        "complete.plot()"
      ],
      "execution_count": 68,
      "outputs": [
        {
          "output_type": "execute_result",
          "data": {
            "text/plain": [
              "<matplotlib.axes._subplots.AxesSubplot at 0x7f7029bb0850>"
            ]
          },
          "metadata": {
            "tags": []
          },
          "execution_count": 68
        },
        {
          "output_type": "display_data",
          "data": {
            "image/png": "[encoded data removed]",
            "text/plain": [
              "<Figure size 432x288 with 1 Axes>"
            ]
          },
          "metadata": {
            "tags": [],
            "needs_background": "light"
          }
        }
      ]
    },
    {
      "cell_type": "code",
      "metadata": {
        "colab": {
          "base_uri": "https://localhost:8080/",
          "height": 297
        },
        "id": "ysysaWQCAcC8",
        "outputId": "9a1f0406-28aa-4ea5-a6db-92eed0be78c7"
      },
      "source": [
        "complete = DataFrame(group[:,'광주광역시'])\n",
        "complete.plot()"
      ],
      "execution_count": 69,
      "outputs": [
        {
          "output_type": "execute_result",
          "data": {
            "text/plain": [
              "<matplotlib.axes._subplots.AxesSubplot at 0x7f7029b0a390>"
            ]
          },
          "metadata": {
            "tags": []
          },
          "execution_count": 69
        },
        {
          "output_type": "display_data",
          "data": {
            "image/png": "[encoded data removed]",
            "text/plain": [
              "<Figure size 432x288 with 1 Axes>"
            ]
          },
          "metadata": {
            "tags": [],
            "needs_background": "light"
          }
        }
      ]
    },
    {
      "cell_type": "code",
      "metadata": {
        "colab": {
          "base_uri": "https://localhost:8080/"
        },
        "id": "8wLDdH8MAxf3",
        "outputId": "a569e6ba-7930-4da5-a77c-753ffcecbdb7"
      },
      "source": [
        "group2 = df.groupby(['PROCESS_DT', 'DLVR_STORE_SIDO', 'DLVR_STORE_INDUTY_NM'])['SERIAL_NUMBER'].count()\n",
        "group2"
      ],
      "execution_count": 75,
      "outputs": [
        {
          "output_type": "execute_result",
          "data": {
            "text/plain": [
              "PROCESS_DT  DLVR_STORE_SIDO  DLVR_STORE_INDUTY_NM\n",
              "2020-01-01  강원도              카페/디저트                    88\n",
              "            경기도              도시락                      112\n",
              "                             돈까스/일식                  1015\n",
              "                             배달전문업체                   346\n",
              "                             분식                      1799\n",
              "                                                     ... \n",
              "2020-06-21  충청북도             치킨                       109\n",
              "                             카페/디저트                   222\n",
              "                             패스트푸드                     23\n",
              "                             한식                       211\n",
              "                             회                         35\n",
              "Name: SERIAL_NUMBER, Length: 25878, dtype: int64"
            ]
          },
          "metadata": {
            "tags": []
          },
          "execution_count": 75
        }
      ]
    },
    {
      "cell_type": "code",
      "metadata": {
        "colab": {
          "base_uri": "https://localhost:8080/",
          "height": 225
        },
        "id": "wxYFXg1wDM6i",
        "outputId": "353949ee-a40a-4224-94c1-3e441aa2e509"
      },
      "source": [
        "menu = DataFrame(group2[:,'서울특별시', '치킨'])\n",
        "menu.head()"
      ],
      "execution_count": 86,
      "outputs": [
        {
          "output_type": "execute_result",
          "data": {
            "text/html": [
              "<div>\n",
              "<style scoped>\n",
              "    .dataframe tbody tr th:only-of-type {\n",
              "        vertical-align: middle;\n",
              "    }\n",
              "\n",
              "    .dataframe tbody tr th {\n",
              "        vertical-align: top;\n",
              "    }\n",
              "\n",
              "    .dataframe thead th {\n",
              "        text-align: right;\n",
              "    }\n",
              "</style>\n",
              "<table border=\"1\" class=\"dataframe\">\n",
              "  <thead>\n",
              "    <tr style=\"text-align: right;\">\n",
              "      <th></th>\n",
              "      <th>SERIAL_NUMBER</th>\n",
              "    </tr>\n",
              "    <tr>\n",
              "      <th>PROCESS_DT</th>\n",
              "      <th></th>\n",
              "    </tr>\n",
              "  </thead>\n",
              "  <tbody>\n",
              "    <tr>\n",
              "      <th>2020-01-01</th>\n",
              "      <td>1552</td>\n",
              "    </tr>\n",
              "    <tr>\n",
              "      <th>2020-01-02</th>\n",
              "      <td>946</td>\n",
              "    </tr>\n",
              "    <tr>\n",
              "      <th>2020-01-03</th>\n",
              "      <td>1299</td>\n",
              "    </tr>\n",
              "    <tr>\n",
              "      <th>2020-01-04</th>\n",
              "      <td>1430</td>\n",
              "    </tr>\n",
              "    <tr>\n",
              "      <th>2020-01-05</th>\n",
              "      <td>1399</td>\n",
              "    </tr>\n",
              "  </tbody>\n",
              "</table>\n",
              "</div>"
            ],
            "text/plain": [
              "            SERIAL_NUMBER\n",
              "PROCESS_DT               \n",
              "2020-01-01           1552\n",
              "2020-01-02            946\n",
              "2020-01-03           1299\n",
              "2020-01-04           1430\n",
              "2020-01-05           1399"
            ]
          },
          "metadata": {
            "tags": []
          },
          "execution_count": 86
        }
      ]
    },
    {
      "cell_type": "code",
      "metadata": {
        "colab": {
          "base_uri": "https://localhost:8080/",
          "height": 297
        },
        "id": "SngarDs3DXk8",
        "outputId": "c933df3d-824b-4604-c9d7-3e91ea4fc27f"
      },
      "source": [
        "menu.plot()"
      ],
      "execution_count": 87,
      "outputs": [
        {
          "output_type": "execute_result",
          "data": {
            "text/plain": [
              "<matplotlib.axes._subplots.AxesSubplot at 0x7f70296c88d0>"
            ]
          },
          "metadata": {
            "tags": []
          },
          "execution_count": 87
        },
        {
          "output_type": "display_data",
          "data": {
            "image/png": "[encoded data removed]",
            "text/plain": [
              "<Figure size 432x288 with 1 Axes>"
            ]
          },
          "metadata": {
            "tags": [],
            "needs_background": "light"
          }
        }
      ]
    },
    {
      "cell_type": "code",
      "metadata": {
        "colab": {
          "base_uri": "https://localhost:8080/",
          "height": 297
        },
        "id": "j6s8jBq7HFqj",
        "outputId": "4c844460-c5f9-4334-c0fd-b0cf5571494f"
      },
      "source": [
        "menu = DataFrame(group2[:,'서울특별시', '패스트푸드'])\n",
        "menu.plot()"
      ],
      "execution_count": 89,
      "outputs": [
        {
          "output_type": "execute_result",
          "data": {
            "text/plain": [
              "<matplotlib.axes._subplots.AxesSubplot at 0x7f702923add0>"
            ]
          },
          "metadata": {
            "tags": []
          },
          "execution_count": 89
        },
        {
          "output_type": "display_data",
          "data": {
            "image/png": "[encoded data removed]",
            "text/plain": [
              "<Figure size 432x288 with 1 Axes>"
            ]
          },
          "metadata": {
            "tags": [],
            "needs_background": "light"
          }
        }
      ]
    },
    {
      "cell_type": "code",
      "metadata": {
        "colab": {
          "base_uri": "https://localhost:8080/",
          "height": 297
        },
        "id": "gN7BocW1RXlt",
        "outputId": "3e3ec1ce-4d09-4c90-b1fa-187520029058"
      },
      "source": [
        "menu = DataFrame(group2[:,'서울특별시', '중식'])\n",
        "menu.plot()"
      ],
      "execution_count": 90,
      "outputs": [
        {
          "output_type": "execute_result",
          "data": {
            "text/plain": [
              "<matplotlib.axes._subplots.AxesSubplot at 0x7f7029215f90>"
            ]
          },
          "metadata": {
            "tags": []
          },
          "execution_count": 90
        },
        {
          "output_type": "display_data",
          "data": {
            "image/png": "[encoded data removed]",
            "text/plain": [
              "<Figure size 432x288 with 1 Axes>"
            ]
          },
          "metadata": {
            "tags": [],
            "needs_background": "light"
          }
        }
      ]
    },
    {
      "cell_type": "code",
      "metadata": {
        "colab": {
          "base_uri": "https://localhost:8080/",
          "height": 298
        },
        "id": "bSz5IQdZRbOr",
        "outputId": "0fee4887-3bcb-4813-bdf7-4872c4cca692"
      },
      "source": [
        "menu = DataFrame(group2[:,'서울특별시', '한식'])\n",
        "menu.plot()"
      ],
      "execution_count": 91,
      "outputs": [
        {
          "output_type": "execute_result",
          "data": {
            "text/plain": [
              "<matplotlib.axes._subplots.AxesSubplot at 0x7f70296c8650>"
            ]
          },
          "metadata": {
            "tags": []
          },
          "execution_count": 91
        },
        {
          "output_type": "display_data",
          "data": {
            "image/png": "[encoded data removed]",
            "text/plain": [
              "<Figure size 432x288 with 1 Axes>"
            ]
          },
          "metadata": {
            "tags": [],
            "needs_background": "light"
          }
        }
      ]
    },
    {
      "cell_type": "code",
      "metadata": {
        "colab": {
          "base_uri": "https://localhost:8080/"
        },
        "id": "zPUC8Z0BC-k5",
        "outputId": "02d6925f-d610-49e6-86b6-3f2345b66906"
      },
      "source": [
        "import matplotlib.font_manager as fm\n",
        "import matplotlib.pyplot as plt\n",
        "import matplotlib as mpl\n",
        " \n",
        "!apt -qq -y install fonts-nanum\n",
        "\n",
        "fontpath = '/usr/share/fonts/truetype/nanum/NanumBarunGothic.ttf'\n",
        "font = fm.FontProperties(fname = fontpath, size = 7)\n",
        "mpl.font_manager._rebuild()\n",
        "%config InlineBackend.figure_format = 'retina'\n",
        "plt.rc('font', family = 'NanumBarunGothic')"
      ],
      "execution_count": 1,
      "outputs": [
        {
          "output_type": "stream",
          "text": [
            "fonts-nanum is already the newest version (20170925-1).\n",
            "0 upgraded, 0 newly installed, 0 to remove and 30 not upgraded.\n"
          ],
          "name": "stdout"
        }
      ]
    }
  ]
}